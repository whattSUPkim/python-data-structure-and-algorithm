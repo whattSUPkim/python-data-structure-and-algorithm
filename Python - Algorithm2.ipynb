{
 "cells": [
  {
   "cell_type": "markdown",
   "id": "286750ea",
   "metadata": {},
   "source": [
    ">'잔재미코딩' 파이썬 자료를 공부한 내용입니다."
   ]
  },
  {
   "cell_type": "markdown",
   "id": "addf32a8",
   "metadata": {},
   "source": [
    "# 파이썬 고급 알고리즘"
   ]
  },
  {
   "cell_type": "markdown",
   "id": "46a4f798",
   "metadata": {},
   "source": [
    "## 그래프 이해"
   ]
  },
  {
   "cell_type": "markdown",
   "id": "074a8f50",
   "metadata": {},
   "source": [
    "### 그래프(Graph)란?\n",
    "- 그래프는 실제 세계의 현상이나 사물을 정점(Vertex) 또는 노드(Node)와 간선(Edge)로 표현하기 위해 사용\n",
    "- 예)  \n",
    "<img src=\"https://www.fun-coding.org/00_Images/graph.png\" width=\"300\" height=\"200\"/>"
   ]
  },
  {
   "cell_type": "markdown",
   "id": "a6233572",
   "metadata": {},
   "source": [
    "### 그래프 관련 용어\n",
    "- 노드(Node) : 위치를 말함. 정점(Vertex)라고도 함\n",
    "- 간선(Edge) : 위치 간 관계를 표시한 선으로 노드를 역녈한 선으로 보면 됨(link 또는 branch 라고도 함)\n",
    "- 인접 정점(Adjacent Vertex) : 간선으로 직접 연결된 정점(또는 노드)\n",
    "- 참고 용어\n",
    "    - 정점의 차수(Degree) : 무방향 그래프에서 하나의 정점에 인접한 정점의 수\n",
    "    - 진입 차수(In-Degree) : 방향 그래프에서 외부에서 오는 간선의 수\n",
    "    - 진출 차수(Out-Degree) : 방향 그래프에서 외부로 향하는 간선의 수\n",
    "    - 경로 길이(Path Length) : 경로를 구성하기 위해 사용된 간선의 수\n",
    "    - 단순 경로(Simple Path) : 처음 정점과 끝 정점을 제외하고 중복된 정점이 없는 경로\n",
    "        - A - B - C\n",
    "    - 사이클(Cycle) : 단순 경로의 시작 정점과 종료 정점이 동일한 경우"
   ]
  },
  {
   "cell_type": "markdown",
   "id": "82f6b5f4",
   "metadata": {},
   "source": [
    "### 그래프 종류"
   ]
  },
  {
   "cell_type": "markdown",
   "id": "2d4ab106",
   "metadata": {},
   "source": [
    "- 무방향 그래프(Undirected G)\n",
    "    - 방향이 없는 그래프\n",
    "    - 간선을 통해, 노드는 양방향으로 갈 수 있음\n",
    "    - 보통 노드 A, B가 연결되어 있을 경우, (A, B) 또는 (B, A)로 표기\n",
    "    <img src=\"https://www.fun-coding.org/00_Images/undirectedgraph.png\" width=\"300\" height=\"200\"/>"
   ]
  },
  {
   "cell_type": "markdown",
   "id": "42c6ae30",
   "metadata": {},
   "source": [
    "- 방향 그래프(Directed G)\n",
    "    - 간선에 방향이 있는 그래프\n",
    "    - 보통 노드 A, B가 A->B로 가는 간선으로 연결되어 있을 경우, <A, B> 로 표기(<B, A>와는 다름)\n",
    "    <img src=\"https://www.fun-coding.org/00_Images/directedgraph.png\" width=\"300\" height=\"200\"/>"
   ]
  },
  {
   "cell_type": "markdown",
   "id": "d6e3b599",
   "metadata": {},
   "source": [
    "- 가중치 그래프(Weighted G)\n",
    "    - 간선에 비용 또는 가중치가 할당된 그래프\n",
    "<img src=\"https://www.fun-coding.org/00_Images/weightedgraph.png\" width=\"300\" height=\"200\"/>"
   ]
  },
  {
   "cell_type": "markdown",
   "id": "13316f6e",
   "metadata": {},
   "source": [
    "- 연결 그래프(Connected G)와 비연결 그래프(Disconnected G)\n",
    "    - 연결 그래프 : 무방향 그래프에 있는 모든 노드에 대해 항상 경로가 존재하는 경우\n",
    "    - 비연결 그래프 : 무방향 그래프에서 특정 노드에 대한 경로가 존재하지 않을 경우\n",
    "        - 비연결 그래프 : <img src=\"https://www.fun-coding.org/00_Images/disconnectedgraph.png\" width=\"300\" height=\"200\"/>"
   ]
  },
  {
   "cell_type": "markdown",
   "id": "12ff6b5f",
   "metadata": {},
   "source": [
    "- 사이클(Cycle)과 비순환 그래프(Acyclic G)\n",
    "    - 사이클 : 단순 경로의 시작 노드와 종료 노드가 동일한 경우\n",
    "    - 비순환 사이클 : 사이클이 없는 그래프\n",
    "        - 비순환 사이클 : <img src=\"https://www.fun-coding.org/00_Images/acyclicgraph.png\" width=\"300\" height=\"200\"/>"
   ]
  },
  {
   "attachments": {},
   "cell_type": "markdown",
   "id": "ceeb87fc",
   "metadata": {},
   "source": [
    "- 완전 그래프(Complete G)\n",
    "    - 그래프의 모든 노드가 서로 연결되어 있는 그래프\n",
    "        - 완전 그래프 : <img src=\"https://www.fun-coding.org/00_Images/completegraph.png\" width=\"200\" height=\"100\"/>"
   ]
  },
  {
   "cell_type": "markdown",
   "id": "2d3efc1a",
   "metadata": {},
   "source": [
    "### 그래프와 트리의 차이\n",
    "- 트리는 그래프 중에 속한 특별한 종류라고 볼 수 있음  \n",
    "|-|그래프|트리|\n",
    "|:--:|:--|:--|\n",
    "|정의|노드와 노드를 연결하는 간선으로 표현되는 자료구조|그래프의 한 종류, 방향성이 있는 비순환 그래프|\n",
    "|방향성|방향 그래프, 무방향 그래프 둘 다 존재|방향 그래프만 존재|\n",
    "|사이클|사이클 가능, 순환 및 비순환 그래프 모두 존재|비순환 그래프로 사이클이 존재하지 않음|\n",
    "|루트 노드|루트 노드는 존재하지 않음|루트 노드 존재함|\n",
    "|부모/자식 관계|부모 자식 개념이 존재하지 않음|부모 자식 관계가 존재함|"
   ]
  },
  {
   "cell_type": "markdown",
   "id": "1ba4c5d0",
   "metadata": {},
   "source": [
    "## 깊이 우선 탐색(DFS)"
   ]
  },
  {
   "cell_type": "markdown",
   "id": "c5d5b9b3",
   "metadata": {},
   "source": [
    "### BFS 와 DFS 란?\n",
    "- 대표적인 그래프 **탐색** 알고리즘\n",
    "    - 너비 우선 탐색(Breadth First Search) : 정점들과 같은 레벨에 있는 노드들(형제 노드들)을 먼저 탐색하는 방식\n",
    "    - 깊이 우선 탐색(Depth First Search) : 정점들의 자식들을 먼저 탐색하는 방식\n",
    "- 예시\n",
    "    - BFS : A - B - C - D - G - H - I - E - F- J\n",
    "        - 한 단계씩 내려가면서, 해당 노드와 같은 레벨에 있는 노드들을 먼저 순회\n",
    "    - DFS : A - B - D - E - F - C - G - H - I - J\n",
    "        - 한 노드의 자식을 타고 끝까지 순회한 후, 다시 돌아와서 다른 형제들의 자식을 타고 내려가며 순회\n",
    "        <img src=\"https://www.fun-coding.org/00_Images/BFSDFS.png\" width=\"400\" height=\"300\"/>"
   ]
  },
  {
   "cell_type": "markdown",
   "id": "2ca36530",
   "metadata": {},
   "source": [
    "### 파이썬으로 그래프를 표현하는 방법\n",
    "- 파이썬에서 제공하는 딕셔너리와 리스트 자료 구조를 활용하여 그래프를 표현할 수 있음  \n",
    "<img src = 'https://www.fun-coding.org/00_Images/dfsgraph.png' width = \"400\" height = \"300\"/>"
   ]
  },
  {
   "cell_type": "code",
   "execution_count": 27,
   "id": "58de5049",
   "metadata": {},
   "outputs": [],
   "source": [
    "graph = {}\n",
    "\n",
    "graph['A'] = ['B', 'C']\n",
    "graph['B'] = ['A', 'D']\n",
    "graph['C'] = ['A', 'G', 'H', 'I']\n",
    "graph['D'] = ['B', 'E', 'F']\n",
    "graph['E'] = ['D']\n",
    "graph['F'] = ['D']\n",
    "graph['G'] = ['C']\n",
    "graph['H'] = ['C']\n",
    "graph['I'] = ['C', 'J']\n",
    "graph['J'] = ['I']"
   ]
  },
  {
   "cell_type": "code",
   "execution_count": 28,
   "id": "b9c109cb",
   "metadata": {},
   "outputs": [
    {
     "data": {
      "text/plain": [
       "{'A': ['B', 'C'],\n",
       " 'B': ['A', 'D'],\n",
       " 'C': ['A', 'G', 'H', 'I'],\n",
       " 'D': ['B', 'E', 'F'],\n",
       " 'E': ['D'],\n",
       " 'F': ['D'],\n",
       " 'G': ['C'],\n",
       " 'H': ['C'],\n",
       " 'I': ['C', 'J'],\n",
       " 'J': ['I']}"
      ]
     },
     "execution_count": 28,
     "metadata": {},
     "output_type": "execute_result"
    }
   ],
   "source": [
    "graph"
   ]
  },
  {
   "cell_type": "markdown",
   "id": "0140446f",
   "metadata": {},
   "source": [
    "### DFS 알고리즘 구현\n",
    "- 자료구조 스텍과 큐를 활용\n",
    "    - need_visit 스택과 visited 큐, 두 개의 자료 구조를 생성\n",
    "    > **BFS자료구조는 두 개의 큐를 활용하는데 반해, DFS는 스택과 큐를 활용한다는 차이가 있음 !!**"
   ]
  },
  {
   "cell_type": "code",
   "execution_count": 29,
   "id": "1f5b00f7",
   "metadata": {},
   "outputs": [],
   "source": [
    "def dfs(graph, start_node):\n",
    "    visited, need_visit = list(), list()\n",
    "    need_visit.append(start_node) \n",
    "    \n",
    "    while need_visit:\n",
    "        node = need_visit.pop() # 스택 \n",
    "        if node not in visited: \n",
    "            visited.append(node)  \n",
    "            need_visit.extend(graph[node])  # 스택\n",
    "                                            # extend는 iterable 객체만 올 수 있음. 각 요소를 분리하여 끝에 삽입.\n",
    "                                            # append였다면, 각 요소를 분리하지 않고 iterable 객체를 그대로 넣었음(2차원 형태)\n",
    "    return visited"
   ]
  },
  {
   "cell_type": "code",
   "execution_count": 30,
   "id": "9b778e9f",
   "metadata": {},
   "outputs": [
    {
     "data": {
      "text/plain": [
       "['A', 'C', 'I', 'J', 'H', 'G', 'B', 'D', 'F', 'E']"
      ]
     },
     "execution_count": 30,
     "metadata": {},
     "output_type": "execute_result"
    }
   ],
   "source": [
    "dfs(graph, 'A')"
   ]
  },
  {
   "cell_type": "markdown",
   "id": "515af0b4",
   "metadata": {},
   "source": [
    "### 시간 복잡도\n",
    "- 일반적인 DFS 시간 복잡도\n",
    "    - 노드수 : V\n",
    "    - 간선 수 : E\n",
    "        - 위 코드에서 반복문은 V+E 만큼 수행함\n",
    "    - 시간복잡도: O(V+E)"
   ]
  },
  {
   "cell_type": "markdown",
   "id": "2fc6fc40",
   "metadata": {},
   "source": [
    "## 너비 우선 탐색(BFS)"
   ]
  },
  {
   "cell_type": "markdown",
   "id": "ed51089f",
   "metadata": {},
   "source": [
    "### BFS 와 DFS 란?\n",
    "- 대표적인 그래프 **탐색** 알고리즘\n",
    "    - 너비 우선 탐색(Breadth First Search) : 정점들과 같은 레벨에 있는 노드들(형제 노드들)을 먼저 탐색하는 방식\n",
    "    - 깊이 우선 탐색(Depth First Search) : 정점들의 자식들을 먼저 탐색하는 방식\n",
    "- 예시\n",
    "    - BFS : A - B - C - D - G - H - I - E - F- J\n",
    "        - 한 단계씩 내려가면서, 해당 노드와 같은 레벨에 있는 노드들을 먼저 순회\n",
    "    - DFS : A - B - D - E - F - C - G - H - I - J\n",
    "        - 한 노드의 자식을 타고 끝까지 순회한 후, 다시 돌아와서 다른 형제들의 자식을 타고 내려가며 순회\n",
    "        <img src=\"https://www.fun-coding.org/00_Images/BFSDFS.png\" width=\"400\" height=\"300\"/>"
   ]
  },
  {
   "cell_type": "markdown",
   "id": "54fdbffa",
   "metadata": {},
   "source": [
    "### 파이썬으로 그래프를 표현하는 방법\n",
    "- 파이썬에서 제공하는 딕셔너리와 리스트 자료구조를 활용해서 그래프를 표현할 수 있음  \n",
    "<img src=\"https://www.fun-coding.org/00_Images/bfsgraph.png\" width = \"400\" height = \"300\"/>"
   ]
  },
  {
   "cell_type": "code",
   "execution_count": 31,
   "id": "d972d922",
   "metadata": {},
   "outputs": [
    {
     "data": {
      "text/plain": [
       "{'A': ['B', 'C'],\n",
       " 'B': ['A', 'D'],\n",
       " 'C': ['A', 'G', 'H', 'I'],\n",
       " 'D': ['B', 'E', 'F'],\n",
       " 'E': ['D'],\n",
       " 'F': ['D'],\n",
       " 'G': ['C'],\n",
       " 'H': ['C'],\n",
       " 'I': ['C', 'J'],\n",
       " 'J': ['I']}"
      ]
     },
     "execution_count": 31,
     "metadata": {},
     "output_type": "execute_result"
    }
   ],
   "source": [
    "graph = {}\n",
    "\n",
    "graph['A'] = ['B', 'C']\n",
    "graph['B'] = ['A', 'D']\n",
    "graph['C'] = ['A', 'G', 'H', 'I']\n",
    "graph['D'] = ['B', 'E', 'F']\n",
    "graph['E'] = ['D']\n",
    "graph['F'] = ['D']\n",
    "graph['G'] = ['C']\n",
    "graph['H'] = ['C']\n",
    "graph['I'] = ['C', 'J']\n",
    "graph['J'] = ['I']\n",
    "\n",
    "graph"
   ]
  },
  {
   "cell_type": "markdown",
   "id": "745892fb",
   "metadata": {},
   "source": [
    "### BFS 알고리즘 구현\n",
    "- 자료구조 큐를 이용함\n",
    "    - need_visit 큐와 visited 큐, 두 개의 큐를 생성  \n",
    "    <img src= \"https://www.fun-coding.org/00_Images/bfsqueue.png\" width = 400 height = 300/>"
   ]
  },
  {
   "cell_type": "code",
   "execution_count": 32,
   "id": "4cb6684b",
   "metadata": {},
   "outputs": [],
   "source": [
    "def bfs(graph, start_node):\n",
    "    visited, need_visit = list(), list()\n",
    "    \n",
    "    need_visit.append(start_node)\n",
    "    \n",
    "    while need_visit:\n",
    "        node = need_visit.pop(0) # 큐.   IF 스택이면 DFS\n",
    "        if node not in visited:\n",
    "            visited.append(node)\n",
    "            need_visit.extend(graph[node])\n",
    "    \n",
    "    return visited"
   ]
  },
  {
   "cell_type": "code",
   "execution_count": 33,
   "id": "9926b16c",
   "metadata": {},
   "outputs": [
    {
     "data": {
      "text/plain": [
       "['A', 'B', 'C', 'D', 'G', 'H', 'I', 'E', 'F', 'J']"
      ]
     },
     "execution_count": 33,
     "metadata": {},
     "output_type": "execute_result"
    }
   ],
   "source": [
    "bfs(graph, 'A')"
   ]
  },
  {
   "cell_type": "markdown",
   "id": "27d43e3b",
   "metadata": {},
   "source": [
    "### 시간 복잡도\n",
    "- 일반적인 DFS 시간 복잡도\n",
    "    - 노드수 : V\n",
    "    - 간선 수 : E\n",
    "        - 위 코드에서 반복문은 V+E 만큼 수행함\n",
    "    - 시간복잡도: O(V+E)"
   ]
  },
  {
   "cell_type": "code",
   "execution_count": 35,
   "id": "ce520cfb",
   "metadata": {},
   "outputs": [],
   "source": [
    "# 시간복잡도\n",
    "def bfs(graph, start_node):\n",
    "    visited, need_visit = list(), list()\n",
    "    \n",
    "    need_visit.append(start_node)\n",
    "    count = 0\n",
    "    while need_visit:\n",
    "        count += 1  # 카운트\n",
    "        node = need_visit.pop(0) \n",
    "        if node not in visited:\n",
    "            visited.append(node)\n",
    "            need_visit.extend(graph[node])\n",
    "    \n",
    "    print(count)\n",
    "    return visited"
   ]
  },
  {
   "cell_type": "code",
   "execution_count": 36,
   "id": "3bb2fa24",
   "metadata": {},
   "outputs": [
    {
     "name": "stdout",
     "output_type": "stream",
     "text": [
      "19\n"
     ]
    },
    {
     "data": {
      "text/plain": [
       "['A', 'B', 'C', 'D', 'G', 'H', 'I', 'E', 'F', 'J']"
      ]
     },
     "execution_count": 36,
     "metadata": {},
     "output_type": "execute_result"
    }
   ],
   "source": [
    "bfs(graph, 'A')"
   ]
  },
  {
   "cell_type": "markdown",
   "id": "917a3f7c",
   "metadata": {},
   "source": [
    "## 탐욕 알고리즘의 이해"
   ]
  },
  {
   "cell_type": "markdown",
   "id": "b1a53399",
   "metadata": {},
   "source": [
    "### 탐욕 알고리즘이란?\n",
    "- Greedy algorithm\n",
    "- 최적의 해에 가까운 값을 구하기 ㅜ이해 사용됨\n",
    "- 여러 경우 중 하나를 결정해야 할 때마다, **매순간 최적이라고 생각되는 경우**를 선택하는 방식으로 진행"
   ]
  },
  {
   "cell_type": "markdown",
   "id": "fcc2e90f",
   "metadata": {},
   "source": [
    "### 탐욕 알고리즘 예"
   ]
  },
  {
   "cell_type": "markdown",
   "id": "91c23b00",
   "metadata": {},
   "source": [
    "문제1 : 동전 문제\n",
    "- 지불해야 하는 값이 4720원 일 때 1원, 50원, 100원, 500원 동전으로 동전의 수가 가장 적게 지불하시오\n",
    "    - 가장 큰 동전부터 최대한 지불해야 하는 값을 채우는 방식으로 구현 가능\n",
    "    - 탐욕 알고리즘으로 매순간 최적이라고 생각되는 경우를 선택하면 됨"
   ]
  },
  {
   "cell_type": "code",
   "execution_count": 39,
   "id": "4537cc67",
   "metadata": {},
   "outputs": [
    {
     "data": {
      "text/plain": [
       "[1, 50, 100, 500]"
      ]
     },
     "execution_count": 39,
     "metadata": {},
     "output_type": "execute_result"
    }
   ],
   "source": [
    "coin_list = [1, 50, 100, 500]\n",
    "coin_list"
   ]
  },
  {
   "cell_type": "code",
   "execution_count": 40,
   "id": "8d7baeca",
   "metadata": {},
   "outputs": [
    {
     "data": {
      "text/plain": [
       "[500, 100, 50, 1]"
      ]
     },
     "execution_count": 40,
     "metadata": {},
     "output_type": "execute_result"
    }
   ],
   "source": [
    "coin_list.sort(reverse = True)\n",
    "coin_list"
   ]
  },
  {
   "cell_type": "code",
   "execution_count": 47,
   "id": "1cac6d88",
   "metadata": {},
   "outputs": [],
   "source": [
    "def min_coin_count(value, coun_list):\n",
    "    total_coin_count = 0\n",
    "    details = list()\n",
    "    coin_list.sort(reverse = True)\n",
    "    for coin in coin_list:\n",
    "        coin_num = value // coin\n",
    "        total_coin_count += coin_num\n",
    "        value -= coin_num * coin\n",
    "        details.append([coin, coin_num])\n",
    "    return total_coin_count, details"
   ]
  },
  {
   "cell_type": "code",
   "execution_count": 48,
   "id": "42ea8407",
   "metadata": {},
   "outputs": [
    {
     "data": {
      "text/plain": [
       "(31, [[500, 9], [100, 2], [50, 0], [1, 20]])"
      ]
     },
     "execution_count": 48,
     "metadata": {},
     "output_type": "execute_result"
    }
   ],
   "source": [
    "coin_list = [1, 50, 100, 500]\n",
    "min_coin_count(4720, coin_list)"
   ]
  },
  {
   "cell_type": "markdown",
   "id": "0c8d0019",
   "metadata": {},
   "source": [
    "문제2 : 부분 배낭 문제\n",
    "- 무게 제한이 k인 배낭에 최대 가치를 가지도록 물건을 넣는 문제\n",
    "    - 각 물건은 무게(w)와 가치(v)로 표현될 수 있음\n",
    "    - 물건은 쪼갤 수 있으므로 물건의 일부분이 배낭에 넣어질 수 있음(Fractional Knapsack Problem)\n",
    "        - Fractional Knapsack Problem의 반대로 물건을 쪼개서 넣을 수 없는 배낭 문제도 존재함(0/1 Knapsack Problem으로 부름)\n",
    "    <img src = \"https://www.fun-coding.org/00_Images/knapsack.png\" width = '400' height = '300'/>\n",
    "        "
   ]
  },
  {
   "cell_type": "code",
   "execution_count": 152,
   "id": "fbfd94e0",
   "metadata": {},
   "outputs": [],
   "source": [
    "data_list = [[10, 10], [15, 12], [20, 10], [25, 8], [30, 5]]"
   ]
  },
  {
   "cell_type": "markdown",
   "id": "d16abf21",
   "metadata": {},
   "source": [
    "스스로 풀어보기"
   ]
  },
  {
   "cell_type": "code",
   "execution_count": 153,
   "id": "c07299a6",
   "metadata": {},
   "outputs": [],
   "source": [
    "def knapsack(k, data_list):\n",
    "    \n",
    "    total = {'물건1':'0개','물건2':'0개','물건3':'0개','물건4':'0개','물건5':'0개'}\n",
    "    \n",
    "    for i in range(len(data_list)):\n",
    "        if k == 0:\n",
    "            return total\n",
    "        elif k < data_list[i][0]:\n",
    "            trash = k / data_list[i][0]\n",
    "            total['물건' + str(i + 1)] = str(trash) + '개'\n",
    "            k = 0\n",
    "        else:\n",
    "            total['물건' + str(i + 1)] = '1개'\n",
    "            k -= data_list[i][0]"
   ]
  },
  {
   "cell_type": "code",
   "execution_count": 154,
   "id": "85719162",
   "metadata": {},
   "outputs": [
    {
     "name": "stdout",
     "output_type": "stream",
     "text": [
      "{'물건1': '1개', '물건2': '1개', '물건3': '0.25개', '물건4': '0개', '물건5': '0개'}\n"
     ]
    }
   ],
   "source": [
    "print(knapsack(30, data_list))"
   ]
  },
  {
   "cell_type": "markdown",
   "id": "bbad1545",
   "metadata": {},
   "source": [
    "잔재미 코딩's 답"
   ]
  },
  {
   "cell_type": "code",
   "execution_count": 161,
   "id": "4cb84c3a",
   "metadata": {},
   "outputs": [],
   "source": [
    "def get_max_value(data_list, capacity):\n",
    "    data_list = sorted(data_list, key = lambda x : x[1] / x[0], reverse = True)  # 개당 가치가 높은 순으로 정렬\n",
    "    total_value = 0\n",
    "    details = list()\n",
    "    \n",
    "    for data in data_list:\n",
    "        if capacity - data[0] >= 0:  # capacity = data[0]은 k\n",
    "            capacity -= data[0]\n",
    "            total_value += data[1]\n",
    "            details.append([data[0], data[1], 1])\n",
    "        else:\n",
    "            fraction = capacity / data[0]\n",
    "            total_value += data[1] * fraction\n",
    "            details.append([data[0], data[1], fraction])\n",
    "            break\n",
    "    return total_value, details"
   ]
  },
  {
   "cell_type": "code",
   "execution_count": 162,
   "id": "6ad311b2",
   "metadata": {},
   "outputs": [
    {
     "data": {
      "text/plain": [
       "(24.5, [[10, 10, 1], [15, 12, 1], [20, 10, 0.25]])"
      ]
     },
     "execution_count": 162,
     "metadata": {},
     "output_type": "execute_result"
    }
   ],
   "source": [
    "get_max_value(data_list, 30)"
   ]
  },
  {
   "cell_type": "markdown",
   "id": "dbbbbe3d",
   "metadata": {},
   "source": [
    "### 탐욕 알고리즘의 한계\n",
    "- 그리디 알고리즘은 동적프로그래밍(다이나믹, DP)에서 지나치게 많은 연산과정을 거치는 것을 보완하기 위해 나온 개념이지만 반드시 최적에 해를 구할 수 있는 것은 아님\n",
    "    - 탐욕 알고리즘은 근사치 추정에 활용\n",
    "- 최적의 해에 가까운 값을 구하는 방법 중 하나임"
   ]
  },
  {
   "cell_type": "markdown",
   "id": "b5db4b1d",
   "metadata": {},
   "source": [
    "- <img src = \"https://www.fun-coding.org/00_Images/greedy.png\" width = \"300\" height = \"200\"/>  \n",
    "- '시작' 노드에서 시작하여 가장 작은 값을 찾아 leaf node까지 가는 경로를 찾을 시에\n",
    "    - Greedy 알고리즘 적용시 시작 -> 7 -> 12를 선택하게 되므로 7 + 12 = 19가 됨\n",
    "    - 하지만 실제 가장 작은 값은 시작 -> 10 -> 5이며. 10+5 = 15가 답"
   ]
  },
  {
   "cell_type": "markdown",
   "id": "5fea8b17",
   "metadata": {},
   "source": [
    "## 최단 경로 알고리즘의 이해"
   ]
  },
  {
   "cell_type": "markdown",
   "id": "f0ba18aa",
   "metadata": {},
   "source": [
    "### 최단 경로 문제란?\n",
    "- 최단 경로 문제란 두 노드를 잇는 가장 짧은 경로를 찾는 무제임\n",
    "- 가중치 그래프(Weighted Graph)에서 간선(Edge)의 가중치 합이 최소가 되도록 하는 경로를 찾는 것이 목적\n"
   ]
  },
  {
   "cell_type": "markdown",
   "id": "05d78eb1",
   "metadata": {},
   "source": [
    "- 최단경로 문제 종류\n",
    "1. 단일 출발 및 단일 도착 최단 문제\n",
    "    - 그래프 내의 특정 노드 u에서 출발, 또 다른 특정 노드 v에 도착하는 가장 짧은 경로를 찾는 문제\n",
    "2. 단일 출발 최단 경로 문제\n",
    "    - 그래프 내의 특정 노드 u와 그래프 내 다른 모든 노드 각각의 가장 짧은 경로를 찾는 문제(u외 모든 각 노드와 u간 모든 경로를 구하여 가장 짧은 경로를 찾는 문제)\n",
    "3. 전체 쌍(all-pair) 최단경로: 그래프 내의 모든 노드 쌍(u, v)에 대한 최단 경로를 찾는 문제\n",
    "\n",
    "    "
   ]
  },
  {
   "cell_type": "markdown",
   "id": "48782ebc",
   "metadata": {},
   "source": [
    "### 최단 경로 알고리즘 - 다익스트라 알고리즘\n",
    "- 다익스트라 알고리즘은 위의 최단 경로 문제 종류 중, 2번에 해당\n",
    "    - 하나의 정점에서 다른 모든 덩점 간 각각 가장 짧은 거리를 구하는 문제"
   ]
  },
  {
   "cell_type": "markdown",
   "id": "4ddd94e0",
   "metadata": {},
   "source": [
    "다익스트라 알고리즘 로직\n",
    "- 첫 정점을 기준으로 연결되어 있는 정점들을 추가해가며, 최단 거리를 갱신하는 기법\n",
    "- 다익스트라 알고리즘은 너비우선탐색(BFS)와 유사\n",
    "    - 첫 정점부터 각 노드간의 거리를 저장하는 배열을 만든 후, 첫 정점의 인접 노드 간의 거리부터 먼저 계산하면서, 첫 정점부터 해당 노드 간의 가장짧은 거리를 해당 배열에 업데이트\n",
    "    > 다익스트라 알고리즘의 다양한 변형 로직이 있지만, 가장 개선된 우선순위 큐를 사용하는 방식에 집중해서 설명하기로 함\n",
    "- 우선순위 큐를 활용한 다익스트라 알고리즘\n",
    "    - 우선순위 큐는 MinHeap 방식을 활용해서 현재 가장 짧은 거리를 가진 노드 정보를 먼저 꺼내게 됨  \n",
    "    1. 첫 정점을 기준으로 배열을 선언하여 첫 정점에서 각 정점까지의 거리를 저장\n",
    "    - 초기에는 첫 정점의 거리는 0, 나머지는 무한대로 저장함(inf)\n",
    "    - 우선순위 큐에 (첫 정점, 거리 0)만 먼저 넣음  \n",
    "    2. 우선순위 큐에서 노드를 꺼냄\n",
    "    - 처음에는 첫 정점만 저장되어 있으므로, 첫 정점이 꺼내짐\n",
    "    - 첫 정점에서 인접한 노드들 각각에 대해, 첫 정점에서 각 노드로 가는 거리와 현재 배열에 저장되어 있는 첫 정점에서 각 정점까지의 거리를 비교\n",
    "    - 배열에 저장되어 있는 거리보다, 첫 정점에서 해당 노드로 가는 거리가 더 짧을 경우, 배열에 해당 노드의 거리를 업데이트\n",
    "    - 배열에 해당 노드의 거리가 업데이트된 경우, 우선순위 큐에 넣는다.\n",
    "        - 결과적으로 너비 우선 탐색 방식과 유사하게, 첫 정점에 인접한 노드들을 순차적으로 방문하게 됨\n",
    "        - 만약 배열에 기록된 현재까지 발견된 가장 짧은 거리보다, 더 긴 거리(루트)를 가진 경우에는 해당 노드와 인접한 노드간의 거리 계산을 하지 않음  \n",
    "    3. 2번의 과정을 우선순위 큐에 꺼낼 노드가 없을 때까지 반복"
   ]
  },
  {
   "cell_type": "markdown",
   "id": "e11f3958",
   "metadata": {},
   "source": [
    "### 예제로 이해하는 다익스트라 알고리즘(우선순위 큐 활용)\n",
    "<img src = 'https://www.fun-coding.org/00_Images/dijkstra.png' width = '300' height = '200'/>"
   ]
  },
  {
   "cell_type": "markdown",
   "id": "eaeb4193",
   "metadata": {},
   "source": [
    "1단계 : 초기화\n",
    "- 첫 정점을 기준으로 배열을 선언하여 첫 정점에서 각 정점까지의 거리를 저장\n",
    "    - 초기에는 첫 정점의 거리는 0, 나무지는 무한대로 저장함(inf)\n",
    "    - 우선순위 큐에 (첫 정점, 거리0)만 먼저 넣음\n",
    "<img src='https://www.fun-coding.org/00_Images/dijkstra_initial.png' width = '800' height = '400'/>"
   ]
  },
  {
   "cell_type": "markdown",
   "id": "2d96c49a",
   "metadata": {},
   "source": [
    "2단계 : 우선순위 큐에서 추출한(A, 0)[노드, 첫 노드와의 거리]를 기반으로 인접한 노드와의 거리 계산\n",
    "- 우선순위 큐에서 노드를 꺼냄\n",
    "    - 처음에는 첫 정점만 저장되어 있으므로, 첫 정점이 꺼내짐\n",
    "    - 첫 정점에서 인접한 노드들 각각에 대해, 첫 정점에서 각 노드로 가는 거리와 현재 배열에 저장되어 있는 첫 정점에서 각 정점까지의 거리를 비교\n",
    "    - 배열에 저장되어 있는 거리보다, 첫 정점에서 해당 노드로 가는 거리가 더 짧을 경우, 배열에 해당 노드의 거리를 업데이트\n",
    "    - 배열에 해당 노드의 거리가 업데이트된 경우, 우선순위 큐에 넣는다.\n",
    "        - 결과적으로 너비 우선 탐색 방식과 유사하게, 첫 정점에 인접한 노드들을 순차적으로 방문하게 됨\n",
    "        - 만약 배열에 기록된 현재까지 발견된 가장 짧은 거리보다, 더 긴 거리(루트)를 가진 경우에는 해당 노드와 인접한 노드간의 거리 계산을 하지 않음    \n",
    "> 첫 정점 이외에 모두 inf이므로, 첫 정점에 인접한 노드들은 모두 우선순위 큐에 들어가고, 첫 정점과 인접한 노드간 거리가 배열에 업데이트 됨  \n",
    "<img src='https://www.fun-coding.org/00_Images/dijkstra_1st.png' width = '600' height = '300'/>"
   ]
  },
  {
   "cell_type": "markdown",
   "id": "1b6b4fa5",
   "metadata": {},
   "source": [
    "3단계 : 우선순위 큐에서 (C,1)[노드, 첫 노드와의 거리]를 기반으로 인접한 노드와의 거리 계산\n",
    "- 우선순위 큐가 MinHeap(최소 힙) 방식이므로, 위 표에서 넣어진 (C,1), (D,2), (B,8)중 (C,1)이 먼저 추출됨(pop)\n",
    "- 위 표에서 보듯이 1단계까지의 A-B 최단 거리는 8인 상황임\n",
    "    - A-C 까지의 거리는 1, C에 인접한 B, D에서 C - B는 5, 즉 A - C - B는 1 + 5 = 6이므로, A-B 최단 거리 8보다 더 작은 거리를 발견, 이를 배열에 업데이트\n",
    "        - 배열에 업데이트 했으므로 B, 6(즉 A에서 B까지의 현재까지 발견한 최단 거리)값이 우선순위 큐에 넣어짐\n",
    "    - C-D의 거리는 2, 즉 A - C - D는 1 + 2 = 3이므로, A - D의 현재 최단 거리인 2보다 긴 거리, 그래서 D의 거리는 업데이트 되지 않음\n",
    "<img src = 'https://www.fun-coding.org/00_Images/dijkstra_2nd.png' width = '600' height = '300'/>"
   ]
  },
  {
   "cell_type": "markdown",
   "id": "793c8f14",
   "metadata": {},
   "source": [
    "4단계 : 우선순위 큐에서 (D, 2)[노드, 첫 노드와의 거리]를 기반으로 인접한 노드와의 거리 계산\n",
    "- 지금까지 접근하지 못했던 E와 F 거리가 계산됨\n",
    "    - A - D까지의 거리인 2에 D - E가 3이므로 이를 더해서 E, 5\n",
    "    - A - D까지의 거리인 2에 D - F가 5이므로 이를 더해서 F, 7\n",
    "<img src='https://www.fun-coding.org/00_Images/dijkstra_3rd.png' width = '600' height = '300'/>"
   ]
  },
  {
   "cell_type": "markdown",
   "id": "d2b9e42f",
   "metadata": {},
   "source": [
    "5단계 : 우선순위 큐에서 (E, 5)[노드, 첫 노드와의 거리]를 기반으로 인접한 노드와의 거리 계산\n",
    "- A - E거리가 5인 상태에서 E에 인접한 F를 가는 거리는 1, 즉 A-E-F는 5 + 1 = 6, 현재 배열에 A - F최단거리가 7로 기록되어 있으므로, F, 6으로 업데이트\n",
    "    - 우선순위 큐에 F, 6 추가\n",
    "<img src='https://www.fun-coding.org/00_Images/dijkstra_3-2th.png' width = '600' height = '300'/>"
   ]
  },
  {
   "cell_type": "markdown",
   "id": "3e3eb333",
   "metadata": {},
   "source": [
    "6단계 : 우선순위 큐에서 (B, 6), (F, 6)를 순차적으로 추출해 각 노드 기반으로 인접한 노드와의 거리 계산\n",
    "- 예제의 방향 그래프에서 B 노드는 다른 노드로 가는 루트가 없음\n",
    "- F노드는 A노드로 가는 루트가 있으나, 현재 A-A가 0인 반면에 A-F-A는 6 + 5 = 11, 즉 더 긴 거리이므로 업데이트 되지 않음\n",
    "<img src='https://www.fun-coding.org/00_Images/dijkstra_4th.png' width = '600' height = '300'/>"
   ]
  },
  {
   "cell_type": "markdown",
   "id": "c85e4812",
   "metadata": {},
   "source": [
    "6단계 : 우선순위 큐에서 (F, 7), (B, 8)를 순차적으로 추출해 각 노드 기반으로 인접한 노드와의 거리 계산\n",
    "- A-F로 가는 하나의 루트와 거리가 7인 상황이나, 배열에서 이미 A-F로 가는 현재의 최단 거리가 6인 루트의 값이 있는 상황이므로, 더 긴 거리인 F, 7 루트 기반 인접 노드까지의 거리는 계산할 필요가 없음. 그래서 계산없이 스킵함\n",
    "    - 계산하더라도 A-F거리가 6인 루트보다 무조건 더 긴 거리가 나올 수 밖에 없음\n",
    "- B, 8도 현재 A-B 거리가 6이므로, 인접 노드 거리 계산이 필요 없음\n",
    "> 우선순위 큐를 사용하면 불필요한 계산 과정을 줄일 수 있음  \n",
    "<img src='https://www.fun-coding.org/00_Images/dijkstra_5th.png' width = '600' height = '300'/>"
   ]
  },
  {
   "cell_type": "markdown",
   "id": "764889a4",
   "metadata": {},
   "source": [
    "우선순위 큐 사용 장점\n",
    "- 지금까지 발견된 가장 짧은 거리의 노드에 대해서 먼저 계산\n",
    "- 더 긴 거리로 계산된 루트에 대해서는 계산을 스킵할 수 있음"
   ]
  },
  {
   "cell_type": "markdown",
   "id": "8895655a",
   "metadata": {},
   "source": [
    "### 다익스트라 알고리즘 파이썬 구현(우선순위 큐 활용까지)\n",
    "- 참고: heapq 라이브러리 활용을 통해 우선순위 큐 사용하기\n",
    "    - 데이터가 리스트 형태일 경우, 0번 인덱스를 pop할수도, 우선순위가 낮은 순서대로 pop할 수도 있음"
   ]
  },
  {
   "cell_type": "markdown",
   "id": "7b3191ed",
   "metadata": {},
   "source": [
    "heapq 라이브러리"
   ]
  },
  {
   "cell_type": "code",
   "execution_count": 165,
   "id": "1a82a6d4",
   "metadata": {},
   "outputs": [
    {
     "name": "stdout",
     "output_type": "stream",
     "text": [
      "[[1, 'C'], [5, 'B'], [2, 'A'], [7, 'D']]\n",
      "[1, 'C']\n",
      "[2, 'A']\n",
      "[5, 'B']\n",
      "[7, 'D']\n"
     ]
    }
   ],
   "source": [
    "import heapq\n",
    "\n",
    "queue = []\n",
    "\n",
    "heapq.heappush(queue, [2, 'A'])\n",
    "heapq.heappush(queue, [5, 'B'])\n",
    "heapq.heappush(queue, [1, 'C'])\n",
    "heapq.heappush(queue, [7, 'D'])\n",
    "print(queue)\n",
    "for i in range(len(queue)):\n",
    "    print(heapq.heappop(queue))"
   ]
  },
  {
   "cell_type": "markdown",
   "id": "a58e30d9",
   "metadata": {},
   "source": [
    "다익스트라 알고리즘"
   ]
  },
  {
   "cell_type": "code",
   "execution_count": 167,
   "id": "37d7b270",
   "metadata": {},
   "outputs": [
    {
     "data": {
      "text/plain": [
       "{'A': {'B': 8, 'C': 1, 'D': 2},\n",
       " 'B': {},\n",
       " 'C': {'B': 5, 'D': 2},\n",
       " 'D': {'E': 3, 'F': 5},\n",
       " 'E': {'F': 1},\n",
       " 'F': {'A': 5}}"
      ]
     },
     "execution_count": 167,
     "metadata": {},
     "output_type": "execute_result"
    }
   ],
   "source": [
    "mygraph = {\n",
    "    'A' : {'B' : 8, 'C' : 1, 'D' : 2},\n",
    "    'B' : {},\n",
    "    'C' : {'B' : 5, 'D' : 2},\n",
    "    'D' : {'E' : 3, 'F' : 5},\n",
    "    'E' : {'F' : 1},\n",
    "    'F' : {'A' : 5}\n",
    "}\n",
    "mygraph"
   ]
  },
  {
   "cell_type": "code",
   "execution_count": 174,
   "id": "55938a5d",
   "metadata": {},
   "outputs": [],
   "source": [
    "import heapq\n",
    "\n",
    "def dijkstra(graph, start):\n",
    "    # 초기화()\n",
    "    distances = {node: float('inf') for node in graph}  # 배열\n",
    "    distances[start] = 0\n",
    "    queue = []\n",
    "    heapq.heappush(queue, [distances[start], start])  # 우선순위 큐\n",
    "    \n",
    "    while queue:\n",
    "        current_distance, current_node = heapq.heappop(queue) # 맨 처음엔 0, 'A'\n",
    "        \n",
    "        # 배열의 값보다 나온 값이 더 작을경우 스킵\n",
    "        if distances[current_node] < current_distance:\n",
    "            continue\n",
    "            \n",
    "        for adjacent, weight in graph[current_node].items():  # 현재 노드(힙큐에서 제일 작았던). 처음이 'A'면, {'B': 8, 'C': 1, 'D': 2}\n",
    "            distance = current_distance + weight  # 0 + A에서 거리(8) \n",
    "            \n",
    "            # 거리가 배열에 있는 'B'의 value보다 크면, (처음기준)\n",
    "            if distance < distances[adjacent]:\n",
    "                distances[adjacent] = distance  # 배열의 'B'에 거리를 넣음 (처음기준)\n",
    "                heapq.heappush(queue, [distance, adjacent])  # 힙큐에 ['8, B']이 추가됨 (처음기준)\n",
    "    \n",
    "    return distances"
   ]
  },
  {
   "cell_type": "markdown",
   "id": "54e0a521",
   "metadata": {},
   "source": [
    "  <img src='https://www.fun-coding.org/00_Images/dijkstra.png' width = '250' height = '250' />\n"
   ]
  },
  {
   "cell_type": "code",
   "execution_count": 176,
   "id": "59b44dd0",
   "metadata": {},
   "outputs": [
    {
     "data": {
      "text/plain": [
       "{'A': 0, 'B': 6, 'C': 1, 'D': 2, 'E': 5, 'F': 6}"
      ]
     },
     "execution_count": 176,
     "metadata": {},
     "output_type": "execute_result"
    }
   ],
   "source": [
    "dijkstra(mygraph, 'A')"
   ]
  },
  {
   "cell_type": "markdown",
   "id": "e8ccf5fa",
   "metadata": {},
   "source": [
    "### 시간 복잡도\n",
    "- 위 다익스트라 알고리즘은 크게 두 가지 과정을 거침\n",
    "    - 과정1: 각 노드마다 인접한 간선들을 모두 검사하는 과정\n",
    "    - 과정2: 우선순위 큐에 노드/거리 정보를 넣고 삭제(pop)하는 과정\n",
    "- 각 과정별 시간 복잡도\n",
    "    - 과정1: 각 노드는 최대 한 번씩 방문하므로, 그래프의 모든 간선은 최대 한 번씩 검사\n",
    "        - 즉, 각 노드마다 인접한 간선들을 모두 검사하는 과정은 O(E) 시간이 걸림(E = Edge)\n",
    "    - 과정2: 우선순위 큐에 가장 많은 노드, 거리 정보가 들어가는 경우, 우선순위 큐에 노드/거리 정보를 넣고, 삭제하는 과정이 최악의 시간이 걸림\n",
    "        - 우선순위 큐에 가장 많은 노드, 거리 정보가 들어가는 시나리오는 그래프의 모든 간선이 검사될 때마다, 배열의 최단 거리가 갱신되고, 우선순위 큐에 노드/거리가 추가되는 것임\n",
    "        -  이 때 추가는 각 간선마다 최대 한 번 일어날 수 있으므로, 최대 O(E)의 시간이 걸리고, O(E)개의 노드/거리 정보에 대해 우선순위 큐를 유지하는 작업은 O(ElogE)가 걸림  \n",
    "총 시간 복잡도 = $O(ElogE)$"
   ]
  },
  {
   "cell_type": "markdown",
   "id": "ed6f3f9e",
   "metadata": {},
   "source": [
    "- 참고: 힙 시간복잡도\n",
    "    - depth를 h라고 표기한다면,\n",
    "    - n개의 노드를 가지는 heap에 데이터 삽입 또는 삭제시, 최악의 경우 Root 노드에서 leaf 노드까지 비교해야 하므로 h = log<sub>2</sub>n에 가까움. 시간복잡도는 O(logn)\n",
    "         - 참고: 빅오 표기법에서 logn에서의 log 밑은 10이 아니라 2임 -> 한번 실행시 50%의 실행할 수도 있는 명령을 제거한다는 의미(50%의 실행시간을 단축)"
   ]
  },
  {
   "cell_type": "markdown",
   "id": "d8780245",
   "metadata": {},
   "source": [
    "## 최소 신장 트리(Kruskal Algorithm)"
   ]
  },
  {
   "cell_type": "markdown",
   "id": "fd58034f",
   "metadata": {},
   "source": [
    "### 신장 트리란?\n",
    "- Spanning Tree\n",
    "- 원래의 그래프와 모든 노드가 연결되어 있으면서 트리의 속성을 만족하는 그래프\n",
    "- 신장 트리의 조건\n",
    "    - 본래의 그래프의 모든 노드를 포함해야 함.\n",
    "    - 모든 노드가 서로 연결\n",
    "    - 트리의 속성을 만족시킴(사이클이 존재하지 않음)  \n",
    "<img src = 'https://www.fun-coding.org/00_Images/spanningtree.png' width = '600' height = '250' />"
   ]
  },
  {
   "cell_type": "markdown",
   "id": "8da98363",
   "metadata": {},
   "source": [
    "### 최소 신장 트리\n",
    "- Mininum Spanning Tree, MST\n",
    "- 가능한 Spanning Tree 중에서, 간선의 가중치 합이 최소인 Spanning Tree를 지칭\n",
    "<img src = 'https://www.fun-coding.org/00_Images/mst.png' width = '300' height = '300' />"
   ]
  },
  {
   "cell_type": "markdown",
   "id": "8fc83faf",
   "metadata": {},
   "source": [
    "### 최소 신장 트리 알고리즘\n",
    "- 그래프에서 최소 신장 트리를 찾을 수 있는 알고리즘이 존재함.\n",
    "- 대표적인 최소 신장 트리 알고리즘\n",
    "    - Kruskal's algorithm(크루스칼)\n",
    "    - Prim's algorithm(프림)"
   ]
  },
  {
   "cell_type": "markdown",
   "id": "0084e4e2",
   "metadata": {},
   "source": [
    "### 크루스칼 알고리즘(Kruskal's algorithm)\n",
    "1. 모든 정점을 독립적인 집합으로 만든다.\n",
    "2. 모든 간선을 비용을 기준으로 정렬하고, 비용이 작은 간선부터 양 끝의 두 정점을 비교한다.\n",
    "3. 두 정점의 최상위 정점을 확인하고, 서로 다를 경우 두 정점을 연결한다.(최소 신장 트리는 사이클이 없으므로, 사이클이 생기지 않도록 하는 것  \n",
    "> 탐욕 알고리즘을 기초로 하고 있음(당장 눈 앞의 최소비용을 선택해서, 결과적으로 최적의 솔루션을 찾음"
   ]
  },
  {
   "cell_type": "markdown",
   "id": "7de8a427",
   "metadata": {},
   "source": [
    "<img src = 'https://www.fun-coding.org/00_Images/kruscal_internal1.png' width = '600' height = '250' />  \n",
    "<img src = 'https://www.fun-coding.org/00_Images/kruscal_internal2.png' width = '600' height = '250' />"
   ]
  },
  {
   "cell_type": "markdown",
   "id": "97023d19",
   "metadata": {},
   "source": [
    "#### Union-Find 알고리즘\n",
    "- Disjoint Set을 표현할 때 사용하는 알고리즘으로 트리 구조를 활용하는 알고리즘\n",
    "- 간단하게, 노드 중 연결된 노드를 찾거나, 노드들을 서로 연결할 때 사용\n",
    "- Disjoint Set이란\n",
    "    - 서로 중복되지 않는 부분 집합들로 나눠진 원소들에 대한 정보를 저장하고 조작하는 자료구조\n",
    "    - 공통 원소가 없는 상호 베타적인 부분집합들로 나눠진 원소들에 대한 자료구조를 의미함.\n",
    "    - = 서로소 집합 자료구조"
   ]
  },
  {
   "cell_type": "markdown",
   "id": "b06acc38",
   "metadata": {},
   "source": [
    "1. 초기화\n",
    "    - n개의 원소가 개별 집합으로 이뤄지도록 초기화\n",
    "    <img src = 'https://www.fun-coding.org/00_Images/initial_findunion.png' width = '450' height = '250' />"
   ]
  },
  {
   "cell_type": "markdown",
   "id": "facc0019",
   "metadata": {},
   "source": [
    "2. Union\n",
    "    - 두 개별 집합을 하나의 집합으로 합침, 두 트리를 하나의 트리로 만듦\n",
    "    <img src = 'https://www.fun-coding.org/00_Images/union_findunion.png' width = '400' height = '250' />"
   ]
  },
  {
   "cell_type": "markdown",
   "id": "0476e23b",
   "metadata": {},
   "source": [
    "3. Find\n",
    "    - 여러 노드가 존재할 때, 두 개의 노드를 선택해서, 현재 두 노드가 서로 같은 그래프에 속하는지 판별하기 위해, 각 그룹의 최상단 원소(루트 노드)를 확인\n",
    "    <img src = 'https://www.fun-coding.org/00_Images/find_findunion.png' width = '400' height = '250' />"
   ]
  },
  {
   "cell_type": "markdown",
   "id": "c3fc01a4",
   "metadata": {},
   "source": [
    "Union-Find 알고리즘의 고려할 점\n",
    "- Union 순서에 따라서, 최악의 경우 링크드 리스트와 같은 형태가 될 수 있음\n",
    "- 이 땐 Find/Union시 계산량이 O(N)이 될 수 있으므로, 해당 문제를 해결하기 위해 union-by-rank, path compression 기법을 사용함\n",
    "<img src = 'https://www.fun-coding.org/00_Images/worst_findunion.png' width = '200' height = '200' />"
   ]
  },
  {
   "cell_type": "markdown",
   "id": "e6923d6a",
   "metadata": {},
   "source": [
    "- union-by-rank 기법\n",
    "    - 각 트리에 대해 높이(rank)를 기억해두고, \n",
    "    - union시 두 트리의 높이가 다르면, 높이가 작은 트리를 높이가 큰 트리에 붙임(즉, 높이가 큰 트리의 루트노드가 합친 집합의 루트노드가 되게 함)\n",
    "<img src = 'https://www.fun-coding.org/00_Images/unionbyrank_findunion.png' width = '500' height = '250' />\n",
    "    - 높이가 h-1인 두 개의 트리를 합칠 땐 한 쪽의 트리의 높이를 1 증가시켜주고, 다른 쪽의 트리를 해당 트리에 붙여줌\n",
    "<img src = 'https://www.fun-coding.org/00_Images/unionbyranksame_findunion.png' width = '500' height = '250' />\n",
    "    - 초기화시, 모든 원소는 높이(rank)가 0인 개별 집합인 상태에서, 하나씩 원소를 합칠 때, union-by-rank를 사용한다면,\n",
    "        - 높이가 h인 트리가 만들어지려면 높이가 h - 1인 두 개의 트리가 합쳐져야 함\n",
    "        - 높이가 h-1인 트리를 만들기 위해 최소 n개의 원소가 필요하다면, 높이가 h인 트리가 만들어지기 위해선 최소 2n개의 원소가 필요\n",
    "        - 따라서 union-by-rank 기법을 사용하면, union/find 연산의 시간복잡도는 O(N)이 아닌, O(logN)로 낮출 수 있음"
   ]
  },
  {
   "cell_type": "markdown",
   "id": "f63786c1",
   "metadata": {},
   "source": [
    "path compression\n",
    "- Find를 실행한 노드에서 거쳐간 노드를 루트에 다이렉트로 연결하는 기법\n",
    "- Find를 실행한 노드는 이후부터는 루트 노드를 한번에 알 수 있음\n",
    "<img src = 'https://www.fun-coding.org/00_Images/pathcompression_findunion.png' width = '400' height = '250' />"
   ]
  },
  {
   "cell_type": "markdown",
   "id": "f07a9ee3",
   "metadata": {},
   "source": [
    "#### 시간 복잡도\n",
    "- 크루스컬 알고리즘의 시간 복잡도는 O(E log E)"
   ]
  },
  {
   "cell_type": "markdown",
   "id": "46cb6047",
   "metadata": {},
   "source": [
    "### 프림 알고리즘\n",
    "- 시작 정점을 선택한 후, 정점에 인접한 간선중 최소 간선으로 연결된 정점을 선택하고, 해당 정점에서 다시 최소 간선으로 연결된 정점을 선택하는 방식으로 최소 신장 트리를 확장해나가는 방식\n",
    "- 크루스칼 알고리즘과 프림 알고리즘 비교\n",
    "    - 둘 다, 탐욕 알고리즘을 기초로 하고 있음\n",
    "    - 크루스칼 알고리즘은 가장 가중치가 작은 간선부터 선택하면서 MST를 구함\n",
    "    - 프림 알고리즘은 특정 정점에서 시작, 해당 정점에 연결된 가장 가중치가 작은 간선을 선택, 간선으로 연결된 정점들에 연결된 간선 중에서 가장 가중치가 작은 간선을 택하는 방식으로 MST를 구함"
   ]
  },
  {
   "cell_type": "markdown",
   "id": "eccb864d",
   "metadata": {},
   "source": [
    "1. 임의의 정점을 선택, '연결된 노드 집합'에 삽입\n",
    "2. 선택된 정점에 연결된 간선들을 간선 리스트에 삽입 \n",
    "3. 간선 리스트에서 최소 가중치를 가지는 간선부터 추출해서, \n",
    "    - 해당 간선에 연결된 인접 정점이 '연결된 노드 집합'에 이미 들어 있다면, 스킵(사이클을 막기 위해)\n",
    "    - 해당 간선에 연결된 인접 정점이 '연결된 노드 집합'에 들어있지 않으면, 해당 간선을 선택하고, 해당 간선 정보를 '최소 신장 트리에 삽입'\n",
    "4. 추출한 간선은 간선 리스트에서 제거\n",
    "5. 간선 리스트에 더 이상의 간선이 없을 때까지 3~4반복\n",
    "<img src = 'https://www.fun-coding.org/00_Images/prim1.png' width = '500' height = '250' />  \n",
    "<img src = 'https://www.fun-coding.org/00_Images/prim2.png' width = '500' height = '250' />  \n",
    "<img src = 'https://www.fun-coding.org/00_Images/prim3.png' width = '500' height = '250' />  \n"
   ]
  },
  {
   "cell_type": "markdown",
   "id": "acd5c7fe",
   "metadata": {},
   "source": [
    "#### 시간 복잡도\n",
    "- O(ElogV)"
   ]
  },
  {
   "cell_type": "markdown",
   "id": "4e9a84f6",
   "metadata": {},
   "source": [
    "## 백 트래킹 기법의 이해"
   ]
  },
  {
   "cell_type": "markdown",
   "id": "de1566ad",
   "metadata": {},
   "source": [
    "### 백 트래킹(backtracking)\n",
    "- 백 트래킹 또는 퇴각 검색\n",
    "- 제약 조건 만족 문제에서 해를 찾기 위한 전략\n",
    "    - 해를 찾기 위해, 후보군에 제약 조건을 점진적으로 체크하다가, 해당 후보군이 제약 조건을 만족할 수 없다고 판단되는 즉시 backtrack(다시는 이 후보군을 체크하지 않을 것을 표기)하고, 바로 다른 후보군으로 넘어가며, 결국 최적의 해를 찾는 방법\n",
    "- 실제 구현시, 고려할 수 있는 모든 경우의 수(후보군)를 상태공간트리(State Space Tree)를 통해 표현\n",
    "    - 각 후보군을 DFS방식으로 확인\n",
    "    - 상태 공간 트리를 탐색하면서, 제약이 맞지 않으면 해의 후보가 될 만한 곳으로 바로 넘어가서 탐색\n",
    "        - Promising : 해당 루트가 조건에 맞는지를 검사하는 기법\n",
    "        - Prunung(가지치기) : 조건에 맞지 않으면 포기하고 다른 루트로 바로 돌아서서, 탐색의 시간을 절약하는 기법  \n",
    "        \n",
    "> 즉, 백트래킹은 트리 구조를 기반으로 DFS로 깊이 탐색을 진행하면서 각 루트에 대해 조건이 부합하는지 체크(promising), 만약 해당 트리에서 조건이 맞지않는 노드는 더이상 DFS로 깊이 탐색을 진행하지 않고, 가지를 쳐버림(pruning)"
   ]
  },
  {
   "cell_type": "markdown",
   "id": "f8576a1c",
   "metadata": {},
   "source": [
    "상태 공간 트리\n",
    "- 문제 해결 과정의 중간 상태를 각각의 노드로 나타낸 트리\n",
    "<img src = 'https://www.fun-coding.org/00_Images/statespacetree.png' width = '300' height = '250' />"
   ]
  },
  {
   "cell_type": "markdown",
   "id": "fdbc3aef",
   "metadata": {},
   "source": [
    "N Queen 문제 이해\n",
    "- 대표적인 백트래킹 문제\n",
    "- N*N 크기의 체스판에 N개의 퀸을 서로 공격할 수 없도록 배치하는 무제\n",
    "- 퀸은 다음과 같이 이동할 수 있으므로, 배치된 퀸 간에 공격할 수 없는 위치로 배치해야 함\n",
    "<img src = 'https://www.fun-coding.org/00_Images/queen_move.png' width = '500' height = '250' />"
   ]
  },
  {
   "cell_type": "markdown",
   "id": "8e001273",
   "metadata": {},
   "source": [
    "Pruning(가지치기) for N Queen 문제\n",
    "- 한 행에는 하나의 퀸 밖에 위치할 수 없음(퀸은 수평 이동이 가능하므로)\n",
    "- 맨 위에 있는 행부터 퀸을 배치하고, 다음 행에 해당 퀸이 이동할 수 없는 위치를 찾아 퀸을 배치\n",
    "- 만약 앞선 행에 배치한 퀸으로 인해, 다음 행에 해당 퀸들이 이동할 수 없는 위치가 없을 경우(둘 곳이 없을 경우)에는 더 이상 퀸을 배치하지 않고, 이전 행의 퀸의 배치를 바꿈\n",
    "    - 즉, 맨 위의 행부터 전체 행까지 퀸의 배치가 가능한 수를 상태 공간 트리 형태로 만든 후, 각 경우를 맨 위의 행부터 DFS 방식으로 접근, 해당 경우가 진행이 어려울 경우, 더 이상 진행하지 않고, 다른 경우를 체크하는 방식\n",
    "    <img src = 'https://www.fun-coding.org/00_Images/backtracking.png' width = '500' height = '250' />"
   ]
  },
  {
   "cell_type": "markdown",
   "id": "022df374",
   "metadata": {},
   "source": [
    "Promising for N Queen 문제\n",
    "- 해당 루트가 조건에 맞는지를 검사하는 기법을 활용하여, \n",
    "- 현재까지 앞선 행에서 배치한 퀸이 이동할 수 없는 위치가 있는지를 다음과 같은 조건으로 확인\n",
    "    - 한 행에 어차피 하나의 퀸만 배치 가능하므로 수평 체크는 별도로 필요하지 않음\n",
    "    <img src = 'https://www.fun-coding.org/00_Images/nqueen.png' width = '500' height = '250' />"
   ]
  },
  {
   "cell_type": "code",
   "execution_count": null,
   "id": "b4eaf0b3",
   "metadata": {},
   "outputs": [],
   "source": []
  }
 ],
 "metadata": {
  "kernelspec": {
   "display_name": "Python 3",
   "language": "python",
   "name": "python3"
  },
  "language_info": {
   "codemirror_mode": {
    "name": "ipython",
    "version": 3
   },
   "file_extension": ".py",
   "mimetype": "text/x-python",
   "name": "python",
   "nbconvert_exporter": "python",
   "pygments_lexer": "ipython3",
   "version": "3.8.8"
  },
  "toc": {
   "base_numbering": 1,
   "nav_menu": {},
   "number_sections": true,
   "sideBar": true,
   "skip_h1_title": false,
   "title_cell": "Table of Contents",
   "title_sidebar": "Contents",
   "toc_cell": false,
   "toc_position": {},
   "toc_section_display": true,
   "toc_window_display": true
  }
 },
 "nbformat": 4,
 "nbformat_minor": 5
}
