{
 "cells": [
  {
   "cell_type": "markdown",
   "id": "60f0d4c7",
   "metadata": {},
   "source": [
    "- O(1) < O(logn) < O(n) < O(nlogn) < O(n2) < O(2n) < O(n!)"
   ]
  },
  {
   "cell_type": "markdown",
   "id": "3302103e",
   "metadata": {},
   "source": [
    "- 요구사항에 따라 적절한 알고리즘 설계하기(시간제한 1초 기준)\n",
    "    - N의 범위가 500인 경우: $O(N^3)$인 알고리즘을 설계하면 풀 수 있음\n",
    "    - N의 범위가 2,000인 경우: $O(N^2)$\n",
    "    - N의 범위가 100,000인 경우: $O(NlogN)$\n",
    "    - N의 범위가 10,000,000인 경우: $O(N)$\n",
    "    "
   ]
  },
  {
   "cell_type": "code",
   "execution_count": 3,
   "id": "28804508",
   "metadata": {},
   "outputs": [
    {
     "data": {
      "text/plain": [
       "[1, 2, 3, 4, 5]"
      ]
     },
     "execution_count": 3,
     "metadata": {},
     "output_type": "execute_result"
    }
   ],
   "source": [
    "# map()\n",
    "a = ['1', '2', '3', '4', '5']\n",
    "a_map = list(map(int, a))\n",
    "a_map"
   ]
  },
  {
   "cell_type": "markdown",
   "id": "7f28b115",
   "metadata": {},
   "source": [
    "# 자주 사용되는 표준 라이브러리"
   ]
  },
  {
   "cell_type": "markdown",
   "id": "1ac1d25f",
   "metadata": {},
   "source": [
    "- itertolls: 파이썬에서 반복되는 형태의 데이터를 처리하기 위한 유용한 기능들을 제공\n",
    "    - 순열(P)과 조합(C) 라이브러리는 코딩 테스트에서 자주 사용됨\n",
    "        - 순열: 서로 다른 n개에서 서로 다른 r개를 선택하여 일렬로 나열하는 것 $n$P$r$ \n",
    "            - $_9P_6 = \\frac{9!}{(9-6!)}$\n",
    "        - 조합: 서로 다른 n개에서 순서에 상관 없이 서로 다른 r개를 선택한는 것 $n$C$r$\n",
    "            - $_9C_6 = \\frac{_9P_6}{6!}$\n",
    "- heapq: 힙(heap) 자료구조를 제공\n",
    "    - 일반적으로 우선순위 큐 기능을 구현하기 위해 사용됨\n",
    "- bisect: 이진 탐색 기능을 제공\n",
    "- collections: 덱(deque), 카운터(counter) 등의 유용한 자료구조를 포함\n",
    "- math: 팩토리얼, 제곱근, 최대공약수, 삼각함수, 파이 등"
   ]
  },
  {
   "cell_type": "markdown",
   "id": "e8a13d18",
   "metadata": {},
   "source": [
    "## 자주 사용되는 내장함수"
   ]
  },
  {
   "cell_type": "markdown",
   "id": "d2220789",
   "metadata": {},
   "source": [
    "- eval()"
   ]
  },
  {
   "cell_type": "code",
   "execution_count": 1,
   "id": "fefe6b93",
   "metadata": {},
   "outputs": [
    {
     "data": {
      "text/plain": [
       "31"
      ]
     },
     "execution_count": 1,
     "metadata": {},
     "output_type": "execute_result"
    }
   ],
   "source": [
    "result =  eval(\"3 + 4 * 7\")\n",
    "result"
   ]
  },
  {
   "cell_type": "markdown",
   "id": "a0baf2be",
   "metadata": {},
   "source": [
    "- sorted() with key"
   ]
  },
  {
   "cell_type": "code",
   "execution_count": 5,
   "id": "99ec4da7",
   "metadata": {},
   "outputs": [
    {
     "name": "stdout",
     "output_type": "stream",
     "text": [
      "[['홍길동', 35], ['이순신', 75], ['아무개', 50]]\n",
      "[['이순신', 75], ['아무개', 50], ['홍길동', 35]]\n"
     ]
    }
   ],
   "source": [
    "l = [['홍길동', 35], ['이순신', 75], ['아무개', 50]]\n",
    "print(l)\n",
    "\n",
    "l.sort(key = lambda x: x[1], reverse = True)\n",
    "print(l)"
   ]
  },
  {
   "cell_type": "markdown",
   "id": "29164ed6",
   "metadata": {},
   "source": [
    "- 배열 2차원 배열 동시에 sort"
   ]
  },
  {
   "cell_type": "code",
   "execution_count": 5,
   "id": "1ab3ba3d",
   "metadata": {},
   "outputs": [
    {
     "name": "stdout",
     "output_type": "stream",
     "text": [
      "[['홍길동', 35], ['이순신', 75], ['아무개', 80]]\n",
      "[['아무개', 80], ['이순신', 75], ['홍길동', 35]]\n"
     ]
    }
   ],
   "source": [
    "l = [['홍길동', 35], ['이순신', 75], ['아무개', 80]]\n",
    "print(l)\n",
    "\n",
    "l.sort(key = lambda x: (x[0], x[1])) # 0번쨰 -> 1번째\n",
    "print(l)"
   ]
  },
  {
   "cell_type": "markdown",
   "id": "e7f61d54",
   "metadata": {},
   "source": [
    "## itertools"
   ]
  },
  {
   "cell_type": "markdown",
   "id": "60d264b2",
   "metadata": {},
   "source": [
    "- 순열, 조합"
   ]
  },
  {
   "cell_type": "code",
   "execution_count": 14,
   "id": "726b5266",
   "metadata": {},
   "outputs": [
    {
     "name": "stdout",
     "output_type": "stream",
     "text": [
      "[('a', 'b', 'c'), ('a', 'c', 'b'), ('b', 'a', 'c'), ('b', 'c', 'a'), ('c', 'a', 'b'), ('c', 'b', 'a')]\n"
     ]
    }
   ],
   "source": [
    "from itertools import permutations\n",
    "\n",
    "data = ['a', 'b', 'c']\n",
    "\n",
    "result = list(permutations(data, 3))    # 3개\n",
    "print(result)"
   ]
  },
  {
   "cell_type": "code",
   "execution_count": 10,
   "id": "f1de1729",
   "metadata": {},
   "outputs": [
    {
     "name": "stdout",
     "output_type": "stream",
     "text": [
      "[('a', 'b'), ('a', 'c'), ('b', 'c')]\n"
     ]
    }
   ],
   "source": [
    "from itertools import combinations\n",
    "\n",
    "data = ['a', 'b', 'c']\n",
    "\n",
    "result = list(combinations(data, 2))    # 2개\n",
    "print(result)"
   ]
  },
  {
   "cell_type": "markdown",
   "id": "49991888",
   "metadata": {},
   "source": [
    "- 중복 순열과 중복 조합"
   ]
  },
  {
   "cell_type": "code",
   "execution_count": 16,
   "id": "07a62f1a",
   "metadata": {},
   "outputs": [
    {
     "name": "stdout",
     "output_type": "stream",
     "text": [
      "[('a', 'a'), ('a', 'b'), ('a', 'c'), ('b', 'a'), ('b', 'b'), ('b', 'c'), ('c', 'a'), ('c', 'b'), ('c', 'c')]\n"
     ]
    }
   ],
   "source": [
    "from itertools import product\n",
    "\n",
    "data = ['a', 'b', 'c']\n",
    "\n",
    "result = list(product(data, repeat = 2))\n",
    "print(result)"
   ]
  },
  {
   "cell_type": "code",
   "execution_count": 17,
   "id": "d8758f47",
   "metadata": {},
   "outputs": [
    {
     "name": "stdout",
     "output_type": "stream",
     "text": [
      "[('a', 'a'), ('a', 'b'), ('a', 'c'), ('b', 'b'), ('b', 'c'), ('c', 'c')]\n"
     ]
    }
   ],
   "source": [
    "from itertools import combinations_with_replacement\n",
    "\n",
    "data = ['a', 'b', 'c']\n",
    "\n",
    "result = list(combinations_with_replacement(data, 2))\n",
    "print(result)"
   ]
  },
  {
   "cell_type": "markdown",
   "id": "4e5a7fa5",
   "metadata": {},
   "source": [
    "## collectios.Counter\n",
    "- 리스트와 같이 반복 가능한(iterable) 객체가 주어졌을 때 내부의 원소가 몇 번씩 등장하는지 알려줌"
   ]
  },
  {
   "cell_type": "code",
   "execution_count": 18,
   "id": "2ee6bbd7",
   "metadata": {},
   "outputs": [
    {
     "name": "stdout",
     "output_type": "stream",
     "text": [
      "2\n",
      "{'red': 2, 'blue': 3, 'green': 1}\n"
     ]
    }
   ],
   "source": [
    "from collections import Counter\n",
    "\n",
    "counter = Counter(['red', 'blue', 'red', 'green', 'blue', 'blue'])\n",
    "\n",
    "print(counter['red'])  # 'blue'가 등장한 횟수\n",
    "print(dict(counter))  # 사전 형태로 반환"
   ]
  },
  {
   "cell_type": "markdown",
   "id": "3686d386",
   "metadata": {},
   "source": [
    "## 최대 공약수와 최소 공배수\n",
    "- math 라이브러리의 gcd(): 최대 공약수 계산"
   ]
  },
  {
   "cell_type": "code",
   "execution_count": 22,
   "id": "f979aed0",
   "metadata": {},
   "outputs": [
    {
     "name": "stdout",
     "output_type": "stream",
     "text": [
      "7\n",
      "42\n"
     ]
    }
   ],
   "source": [
    "import math\n",
    "\n",
    "# 최소 공배수를 구하는 함수\n",
    "def lcm(a, b):\n",
    "    return a * b // math.gcd(a, b)\n",
    "\n",
    "print(math.gcd(21, 14))  # 최대 공약수(GCD)\n",
    "print(lcm(21, 14))  # 최소 공배수(LCM)"
   ]
  },
  {
   "cell_type": "markdown",
   "id": "85eafe41",
   "metadata": {},
   "source": [
    "## 리스트 \n",
    "- .remove(num)\n",
    "- .index(num)\n",
    "- del list\n",
    "- .insert(index, num)"
   ]
  },
  {
   "cell_type": "code",
   "execution_count": 1,
   "id": "9451133b",
   "metadata": {},
   "outputs": [
    {
     "name": "stdout",
     "output_type": "stream",
     "text": [
      "[2, 5, 6, 2, 3, 54, 6, 1]\n",
      "5\n",
      "[5, 6, 2, 3, 54, 6, 1]\n",
      "[5, 6, 999, 2, 3, 54, 6, 1]\n"
     ]
    }
   ],
   "source": [
    "a = [2, 5, 6, 78, 2, 3, 54, 6, 1]\n",
    "\n",
    "a.remove(78)\n",
    "print(a)\n",
    "\n",
    "print(a.index(54))\n",
    "\n",
    "del a[0]\n",
    "print(a)\n",
    "\n",
    "a.insert(2, 999)\n",
    "print(a)"
   ]
  },
  {
   "cell_type": "markdown",
   "id": "7f301271",
   "metadata": {},
   "source": [
    "## 세트\n",
    "- {} or set()\n",
    "- .add(x) : 세트에 요소를 추가\n",
    "- .remove(x) : 특정 요소를 삭제하고, 없으면 에러 발생시킴\n",
    "- .discard(x) : 특정 요소를 삭제하고, 없으면 그냥 넘어감\n",
    "- pop, clear, len, copy"
   ]
  },
  {
   "cell_type": "markdown",
   "id": "23290751",
   "metadata": {},
   "source": [
    "## 딕셔너리\n",
    "- .get(key, 대체) : key의 value를 가져온다. key가 존재하지 않을 경우 '대체'를 출력한다. "
   ]
  },
  {
   "cell_type": "code",
   "execution_count": 7,
   "id": "dc8dcb84",
   "metadata": {},
   "outputs": [
    {
     "data": {
      "text/plain": [
       "'ws'"
      ]
     },
     "execution_count": 7,
     "metadata": {},
     "output_type": "execute_result"
    }
   ],
   "source": [
    "a = dict()\n",
    "a.get('hello', 'ws')"
   ]
  },
  {
   "cell_type": "code",
   "execution_count": null,
   "id": "a6294b6b",
   "metadata": {},
   "outputs": [],
   "source": []
  },
  {
   "cell_type": "markdown",
   "id": "8c8b4841",
   "metadata": {},
   "source": [
    "# 그리디(greedy) 알고리즘"
   ]
  },
  {
   "cell_type": "markdown",
   "id": "e05efb4a",
   "metadata": {},
   "source": [
    "- 정당성 분석이 중요\n",
    "    - ex) 거스름 돈 문제 - 500원, 100원, 50원, 10원으로 가장 적은 동전수를 거슬러줘야 하는 문제\n",
    "        - 가지고 있는 동전 중에서는 큰 단위가 항상 작은 단위의 배수이므로 작은 단위의 동전들을 종합해 다른 해가 나올 수 없기 때문에 가능함.\n",
    "        - 만약, 800원을 거슬러 주는데 화폐 단위가 500원, 400원, 100원이었다면? --> 400원 * 2 가 최적의 해\n",
    "        - 시간 복잡도: 동전의 종류만큼 반복. 따라서 O(N)"
   ]
  },
  {
   "cell_type": "markdown",
   "id": "1088ffcc",
   "metadata": {},
   "source": [
    "# 구현(Implementation)\n",
    "- 구현이란 머릿속에 있는 알고리즘을 소스코드로 바꾸는 과정\n",
    "- 구형 유형 문제: 풀이를 떠올리는 것은 쉽지만 소스코드로 옮기기 어려운 문제(시뮬레이션 등)"
   ]
  },
  {
   "cell_type": "markdown",
   "id": "d916c6c0",
   "metadata": {},
   "source": [
    "- 시뮬레이션 및 완전 탐색 문제에서는 2차원 공간에서의 방향 벡터가 자주 활용됨"
   ]
  },
  {
   "cell_type": "code",
   "execution_count": 37,
   "id": "56afb062",
   "metadata": {},
   "outputs": [
    {
     "data": {
      "text/plain": [
       "[[[0, 0], [0, 1], [0, 2], [0, 3], [0, 4]],\n",
       " [[1, 0], [1, 1], [1, 2], [1, 3], [1, 4]],\n",
       " [[2, 0], [2, 1], [2, 2], [2, 3], [2, 4]],\n",
       " [[3, 0], [3, 1], [3, 2], [3, 3], [3, 4]],\n",
       " [[4, 0], [4, 1], [4, 2], [4, 3], [4, 4]]]"
      ]
     },
     "execution_count": 37,
     "metadata": {},
     "output_type": "execute_result"
    }
   ],
   "source": [
    "simul = list()\n",
    "for i in range(5):\n",
    "    simul.append([])\n",
    "    for j in range(5):\n",
    "        simul[i].append([i, j])\n",
    "        \n",
    "simul"
   ]
  },
  {
   "cell_type": "code",
   "execution_count": 26,
   "id": "32df42ce",
   "metadata": {},
   "outputs": [
    {
     "name": "stdout",
     "output_type": "stream",
     "text": [
      "2 3\n",
      "1 2\n",
      "2 1\n",
      "3 2\n"
     ]
    }
   ],
   "source": [
    "# 방향백터[동, 북, 서, 남] - 그래프가 아닌 행렬로 생각해야됨\n",
    "# 현재 위치가 (2, 2)일 때 - 행, 열\n",
    "x, y = 2, 2\n",
    "dx = [0, -1, 0, 1]\n",
    "dy = [1, 0, -1, 0]\n",
    "\n",
    "\n",
    "# 상, 하, 좌, 우를 다 살펴보고자 할 떄 로직\n",
    "for i in range(4):\n",
    "    nx = x + dx[i]\n",
    "    ny = y + dy[i]\n",
    "    print(nx, ny)"
   ]
  },
  {
   "cell_type": "markdown",
   "id": "81365211",
   "metadata": {},
   "source": [
    "# 그래프 탐색 알고리즘: DFS/BFS\n",
    "- 깊이 우선 탐색(DFS)과 너비 우선 탐색(BFS) 활용한 문제 유형/응용\n",
    "    1. 그래프의 모든 정점을 방문하는 것이 주요한 문제  \n",
    "        - 단순히 모든 정점을 방문하는 것이 중요한 문제의 경우 DFS, BFS 두 가지 방법 중 어느 것을 사용하셔도 상관없음\n",
    "\n",
    "    2. 경로의 특징을 저장해둬야 하는 문제\n",
    "        - 예를 들면 각 정점에 숫자가 적혀있고 a부터 b까지 가는 경로를 구하는데 경로에 같은 숫자가 있으면 안 된다는 문제 등, 각각의 경로마다 특징을 저장해둬야 할 때는 DFS를 사용함. (BFS는 경로의 특징을 가지지 못함)\n",
    "\n",
    "    3. 최단거리 구해야 하는 문제\n",
    "        - 미로 찾기 등 최단거리를 구해야 할 경우, BFS가 유리함.(깊이 우선 탐색으로 경로를 검색할 경우 처음으로 발견되는 해답이 최단거리가 아닐 수 있지만, 너비 우선 탐색으로 현재 노드에서 가까운 곳부터 찾기 때문에 경로를 탐색 시 먼저 찾아지는 해답이 곧 최단거리기 때문.\n",
    "\n",
    "    4. 이밖에도 \n",
    "        - 검색 대상 그래프가 정말 크다면 DFS를 고려\n",
    "        - 재귀 사용시 DFS\n",
    "        - 검색대상의 규모가 크지 않고, 검색 시작 지점으로부터 원하는 대상이 별로 멀지 않다면 BFS\n",
    "\n"
   ]
  },
  {
   "cell_type": "markdown",
   "id": "46428ed6",
   "metadata": {},
   "source": [
    "## 스택과 큐"
   ]
  },
  {
   "cell_type": "markdown",
   "id": "47d8ab69",
   "metadata": {},
   "source": [
    "### 스택\n",
    "- 입구와 출구가 동일한 형태\n",
    "    - 파이썬 list 사용\n",
    "    - list.append()\n",
    "        - 시간 복잡도 = O(1)\n",
    "    - list.pop()\n",
    "        - 시간 복잡도 = O(1)"
   ]
  },
  {
   "cell_type": "code",
   "execution_count": 44,
   "id": "29e98ec3",
   "metadata": {},
   "outputs": [
    {
     "data": {
      "text/plain": [
       "[5, 4, 2, 1]"
      ]
     },
     "execution_count": 44,
     "metadata": {},
     "output_type": "execute_result"
    }
   ],
   "source": [
    "stack = []\n",
    "stack.append(1)\n",
    "stack.append(2)\n",
    "stack.append(3)\n",
    "stack.pop()\n",
    "stack.append(4)\n",
    "stack.append(5)\n",
    "stack[::-1]"
   ]
  },
  {
   "cell_type": "markdown",
   "id": "82a6cf90",
   "metadata": {},
   "source": [
    "### 큐\n",
    "- 선입선출\n",
    "    - deque 라이브러리 사용"
   ]
  },
  {
   "cell_type": "code",
   "execution_count": 52,
   "id": "c810e15a",
   "metadata": {},
   "outputs": [
    {
     "name": "stdout",
     "output_type": "stream",
     "text": [
      "deque([2, 3, 4, 5])\n",
      "deque([5, 4, 3, 2])\n"
     ]
    }
   ],
   "source": [
    "from collections import deque\n",
    "\n",
    "queue = deque()\n",
    "queue.append(1)\n",
    "queue.append(2)\n",
    "queue.append(3)\n",
    "queue.popleft()\n",
    "queue.append(4)\n",
    "queue.append(5)\n",
    "print(queue)\n",
    "\n",
    "queue.reverse()  # 역순으로 바꾸기\n",
    "print(queue)\n"
   ]
  },
  {
   "cell_type": "markdown",
   "id": "9978823b",
   "metadata": {},
   "source": [
    "### 재귀함수\n",
    "- 자기 자신을 다시 호출(종료 조건 신경쓰기)\n",
    "- 파이썬에선 최대 깊이 제한이 있음\n",
    "- 모든 재귀 함수는 반복문을 이용하여 동일한 기능을 구현할 수 있음\n",
    "- 컴퓨터가 함수를 연속적으로 호출하면 컴퓨터 메모리 내부의 스택 프레임에 쌓임\n",
    "    - 이를 이용하여 스택 라이브러리 대신 재귀 함수를 이용하는 경우가 많음(DFS)"
   ]
  },
  {
   "cell_type": "markdown",
   "id": "08f23080",
   "metadata": {},
   "source": [
    "- 유클리드 호제법\n",
    "    - 두 자연수 A, B에 대하여(A > B)A를 B로 나눈 나머지를 R이라고 한다.\n",
    "    - 이때 A와 B의 최대공약수는 B와 R의 최대 공약수와 같다.\n",
    "|단계|A|B|\n",
    "|:--:|:--:|:--:|\n",
    "|1|192|162|\n",
    "|2|162|39|\n",
    "|3|30|12|\n",
    "|4|12|6|\n",
    "    - 192와 162의 최대 공약수는 12와 6의 최대공약수와 같다.\n",
    "        - 12는 6의 배수이기 때문에 6이 최대공약수"
   ]
  },
  {
   "cell_type": "code",
   "execution_count": null,
   "id": "2dc122ee",
   "metadata": {},
   "outputs": [],
   "source": []
  },
  {
   "cell_type": "markdown",
   "id": "8475f408",
   "metadata": {},
   "source": [
    "## DFS(깊이 우선 탐색)\n",
    "- DFS는 스택 자료구조(혹은 재귀함수)를 이용한다.\n",
    "- DFS 동작 과정\n",
    "    1. 탐색 시작 노드를 스택에 삽입하고 방문 처리를 한다.\n",
    "    2. 스택의 최상단 노드에 방문하지 않은 인접한 노드가 하나라도 있으면 그 노드를 스택에 넣고 방문처리한다. 방문하지 않은 인접 노드가 없으면 스택에서 최상단 노드를 꺼낸다.\n",
    "    3. 더 이상 2번의 과정을 수행할 수 없을 때까지 반복\n",
    "- <img src=\"https://www.fun-coding.org/00_Images/BFSDFS.png\" width=\"400\" height=\"300\"/>"
   ]
  },
  {
   "cell_type": "code",
   "execution_count": 64,
   "id": "8f99e806",
   "metadata": {},
   "outputs": [],
   "source": [
    "# 노드 정보\n",
    "graph = [\n",
    "    [], # 0번 인덱스는 비워둠\n",
    "    [2, 3, 8],  # 1번 노드\n",
    "    [1, 7],  # 2번 노드\n",
    "    [1, 4, 5],  # 3번 노드\n",
    "    [3, 5],\n",
    "    [3, 4],\n",
    "    [7],\n",
    "    [2, 6, 8],\n",
    "    [1, 7] # 8번 노드\n",
    "]\n",
    "\n",
    "visited = [False] * 9"
   ]
  },
  {
   "cell_type": "code",
   "execution_count": 56,
   "id": "263e6b0d",
   "metadata": {},
   "outputs": [],
   "source": [
    "# 반복\n",
    "def dfs1(graph, start_node):\n",
    "    visited, need_visit = list(), list()\n",
    "    need_visit.append(start_node) \n",
    "    \n",
    "    while need_visit:\n",
    "        node = need_visit.pop() # 스택 \n",
    "        if node not in visited: \n",
    "            visited.append(node)  \n",
    "            need_visit.extend(graph[node])  # 스택\n",
    "                                            # extend는 iterable 객체만 올 수 있음. 각 요소를 분리하여 끝에 삽입.\n",
    "                                            # append였다면, 각 요소를 분리하지 않고 iterable 객체를 그대로 넣었음(2차원 형태)\n",
    "    return visited"
   ]
  },
  {
   "cell_type": "code",
   "execution_count": 62,
   "id": "6f85dde7",
   "metadata": {},
   "outputs": [],
   "source": [
    "# 재귀\n",
    "def dfs2(graph, v, visited):\n",
    "    # 현재 노드 방문처리\n",
    "    visited[v] = True\n",
    "    print(v, end = ' ')\n",
    "    \n",
    "    for i in graph[v]:\n",
    "        if not visited[i]:\n",
    "            dfs2(graph, i, visited)\n",
    "    "
   ]
  },
  {
   "cell_type": "code",
   "execution_count": 65,
   "id": "ce9264c5",
   "metadata": {},
   "outputs": [
    {
     "name": "stdout",
     "output_type": "stream",
     "text": [
      "[1, 8, 7, 6, 2, 3, 5, 4]\n",
      "\n",
      "1 2 7 6 8 3 4 5 None\n"
     ]
    }
   ],
   "source": [
    "# 출력\n",
    "print(dfs1(graph, 1))\n",
    "print()\n",
    "print(dfs2(graph, 1, visited))"
   ]
  },
  {
   "cell_type": "markdown",
   "id": "5eea6a94",
   "metadata": {},
   "source": [
    "## BFS(너비 우선 탐색)\n",
    "- BFS는 큐 자료구조를 이용한다.\n",
    "- **시작 노드에서 가까운 노드들부터 방문**\n",
    "- 구체적인 동작 과정은 다음과 같다\n",
    "    1. 탐색 시작 노드를 큐에 삽입하고 방문 처리를 한다.\n",
    "    2. 큐에서 노드를 꺼낸 뒤에 해당 노드의 인접 노드 중 방문하지 않은 노드를 모두 큐에 삽입하고 방문처리한다.\n",
    "    3. 더 이상 2번의 과정을 수행할 수 없을 떄까지 반복\n",
    "- - <img src=\"https://www.fun-coding.org/00_Images/BFSDFS.png\" width=\"400\" height=\"300\"/>"
   ]
  },
  {
   "cell_type": "code",
   "execution_count": 112,
   "id": "d91030c6",
   "metadata": {},
   "outputs": [],
   "source": [
    "# 노드 정보\n",
    "graph = [\n",
    "    [], # 0번 인덱스는 비워둠\n",
    "    [2, 3, 8],  # 1번 노드\n",
    "    [1, 7],  # 2번 노드\n",
    "    [1, 4, 5],  # 3번 노드\n",
    "    [3, 5],\n",
    "    [3, 4],\n",
    "    [7],\n",
    "    [2, 6, 8],\n",
    "    [1, 7] # 8번 노드\n",
    "]\n",
    "\n",
    "visited = [False] * 9"
   ]
  },
  {
   "cell_type": "code",
   "execution_count": 113,
   "id": "e6708756",
   "metadata": {},
   "outputs": [],
   "source": [
    "#1\n",
    "def bfs1(graph, start_node):\n",
    "    visited, need_visit = list(), list()\n",
    "    \n",
    "    need_visit.append(start_node)\n",
    "    \n",
    "    while need_visit:\n",
    "        node = need_visit.pop(0) # 큐.   (스택이면 DFS)\n",
    "        if node not in visited:\n",
    "            visited.append(node)\n",
    "            need_visit.extend(graph[node])\n",
    "    \n",
    "    return visited"
   ]
  },
  {
   "cell_type": "code",
   "execution_count": 114,
   "id": "96d3c501",
   "metadata": {},
   "outputs": [],
   "source": [
    "#2\n",
    "from collections import deque\n",
    "\n",
    "def bfs2(graph, start, visited):\n",
    "    queue = deque([start])\n",
    "    visited[start] = True\n",
    "    \n",
    "    while queue:\n",
    "        v = queue.popleft()\n",
    "        print(v, end = ' ')\n",
    "        \n",
    "        for i in graph[v]:\n",
    "            if not visited[i]:\n",
    "                queue.append(i)\n",
    "                visited[i] = True"
   ]
  },
  {
   "cell_type": "code",
   "execution_count": 115,
   "id": "65aa1559",
   "metadata": {},
   "outputs": [],
   "source": [
    "def bfs(graph, start_node):\n",
    "    visited, need_visit = list(), list()\n",
    "    \n",
    "    need_visit.append(start_node)\n",
    "    \n",
    "    while need_visit:\n",
    "        node = need_visit.pop(0) # 큐.   IF 스택이면 DFS\n",
    "        if node not in visited:\n",
    "            visited.append(node)\n",
    "            need_visit.extend(graph[node])\n",
    "    \n",
    "    return visited"
   ]
  },
  {
   "cell_type": "code",
   "execution_count": 116,
   "id": "c24ec7b1",
   "metadata": {},
   "outputs": [
    {
     "name": "stdout",
     "output_type": "stream",
     "text": [
      "[1, 2, 3, 8, 7, 4, 5, 6]\n",
      "1 2 3 8 7 4 5 6 None\n"
     ]
    }
   ],
   "source": [
    "print(bfs1(graph, 1))\n",
    "print(bfs2(graph, 1, visited))"
   ]
  },
  {
   "cell_type": "markdown",
   "id": "eb9b256f",
   "metadata": {},
   "source": [
    "# 정렬 알고리즘\n",
    "- 정렬: 데이터를 특정한 기준에 따라 순서대로 나열하는 것\n",
    "- 일반적으로 문제 상황에 따라서 적절한 정렬 알고리즘이 공식처럼 사용됨  \n",
    "|정렬 알고리즘|평균 시간 복잡도|공간 복잡도|특징|\n",
    "|:--:|:--:|:--:|:--:|\n",
    "|선택 정렬|O(N<sup>2</sup>)|O(N)|아이디어가 매우 간단함 (,,)|\n",
    "|삽입 정렬|O(N<sup>2</sup>)|O(N)|데이터가 거의 정렬되어 있을 땐 가장 빠름|\n",
    "|퀵 정렬|O(NlogN)|O(N)|대부분의 경우에 가장 접합하며, 충분히 빠름|\n",
    "|계수 정렬|O(N+K)|O(N+K)|데이터의 크기가 한정되어 있는 경우에만 사용이 가능하지만 매우 빠르게 동작함|"
   ]
  },
  {
   "cell_type": "markdown",
   "id": "a9322af1",
   "metadata": {},
   "source": [
    "## 선택(Selection) 정렬\n",
    "- 처리되지 않은 데이터 중에서 가장 작은 데이터를 선택해 맨 앞에 있는 데이터와 바꾸는 것을 반복\n",
    "    - 탐색 범위는 반복할 때마다 1개씩 줄어듦\n",
    "    - 맨 마지막은 안 해도 됨\n",
    "- 시간복잡도: $O(N^2)$\n",
    "- <img src=\"https://upload.wikimedia.org/wikipedia/commons/9/94/Selection-Sort-Animation.gif\" width=\"50\" height=\"200\"/>"
   ]
  },
  {
   "cell_type": "code",
   "execution_count": 117,
   "id": "c69ca6f6",
   "metadata": {},
   "outputs": [
    {
     "name": "stdout",
     "output_type": "stream",
     "text": [
      "[0, 1, 2, 3, 4, 5, 6, 7, 8, 9]\n"
     ]
    }
   ],
   "source": [
    "array = [7, 5, 9, 0, 3, 1, 6, 2, 4, 8]\n",
    "\n",
    "for i in range(len(array)):\n",
    "    min_index = i\n",
    "    for j in range(i + 1, len(array)):\n",
    "        if array[min_index] > array[j]:\n",
    "            min_index = j\n",
    "    array[i], array[min_index] = array[min_index], array[i]  # 스왑\n",
    "\n",
    "print(array)"
   ]
  },
  {
   "cell_type": "markdown",
   "id": "67d799c3",
   "metadata": {},
   "source": [
    "## 삽입(Insert) 정렬\n",
    "- 처리되지 않은 데이터를 하나씩 골라 적절한 위치에 삽입\n",
    "- 선택 정렬에 비해 구현 난이도가 높은 편이지만, 일반적으로 더 효율적으로 동작함\n",
    "- 시간복잡도: $O(N^2)$\n",
    "    - 삽입 정렬은 현재 리스트의 데이터가 거의 정렬되어 있는 상태라면 매우 빠르게 동작합\n",
    "        - 최선의 경우(데이터가 다 정렬되어 있는 경우) $O(N)$\n",
    "- <img src=\"https://upload.wikimedia.org/wikipedia/commons/9/9c/Insertion-sort-example.gif\" width=\"300\" height=\"250\"/>"
   ]
  },
  {
   "cell_type": "code",
   "execution_count": 118,
   "id": "22dee411",
   "metadata": {},
   "outputs": [
    {
     "name": "stdout",
     "output_type": "stream",
     "text": [
      "[0, 1, 2, 3, 4, 5, 6, 7, 8, 9]\n"
     ]
    }
   ],
   "source": [
    "array = [7, 5, 9, 0, 3, 1, 6, 2, 4, 8]\n",
    "\n",
    "for i in range(1, len(array)):\n",
    "    for j in range(i, 0, -1): \n",
    "        if array[j] < array[j - 1]:\n",
    "            array[j], array[j - 1] = array[j - 1], array[j]\n",
    "        else:\n",
    "            break\n",
    "            \n",
    "print(array)"
   ]
  },
  {
   "cell_type": "markdown",
   "id": "48a02a55",
   "metadata": {},
   "source": [
    "## 퀵(Quick) 정렬\n",
    "- 기준 데이터를 설정하고 그 기준보다 큰 데이터와 작은 데이터의 위치를 바꾸는 방법\n",
    "- 일반적인 상황에서 가장 많이 사용되는 정렬 알고리즘 중 하나\n",
    "- 가장 기본적인 퀸 정렬은 첫 번째 데이터를 기준 데이터(Pivot)로 설정함\n",
    "- 시간복잡도: 퀵 정렬은 평균의 경우 $O(NlogN)$의 시간 복잡도를 가짐\n",
    "    - 최악의 경우 $O(N^2)$의 시간복잡도를 가짐(분할이 잘 안되는 경우, (이미 정렬된 배열에 대해 퀵 정렬))\n",
    "- 퀵 정렬 동작 예시\n",
    "    - 왼쪽으로부터 pivot보다 큰 값을 찾고, 오른쪽으로부터 pivot보다 작은 값을 찾아서 스왑\n",
    "    - 위치가 엇갈리는 경우 pivot과 왼쪽 데이터(오른쪽에서 오던)의 위치를 서로 변경\n",
    "    <img src=\"https://gmlwjd9405.github.io/images/algorithm-quick-sort/quick-sort2.png\" width=\"800\" height=\"500\"/>\n"
   ]
  },
  {
   "cell_type": "code",
   "execution_count": 120,
   "id": "746c2151",
   "metadata": {},
   "outputs": [
    {
     "data": {
      "text/plain": [
       "[0, 1, 2, 3, 4, 5, 6, 7, 8, 9]"
      ]
     },
     "execution_count": 120,
     "metadata": {},
     "output_type": "execute_result"
    }
   ],
   "source": [
    "array = [5, 7, 9, 0, 3, 1, 6, 2, 4, 8]\n",
    "\n",
    "def quick_sort(array, start, end):\n",
    "    if start >= end:  # 원소가 1개인 경우 종료\n",
    "        return\n",
    "    pivot = start # 피벗 설정\n",
    "    left = start + 1\n",
    "    right = end\n",
    "    \n",
    "    while(left <= right):\n",
    "        # 피벗보다 큰 데이터를 찾을 떄까지 반복\n",
    "        while(left <= end and array[left] <= array[pivot]):\n",
    "            left += 1\n",
    "        # 피벗보다 작은 데이터를 찾을 때까지 반복\n",
    "        while(right > start and array[right] >= array[pivot]):\n",
    "            right -= 1\n",
    "        # 엇갈렸다면, 작은 데이터와 피벗을 교체\n",
    "        if(left > right):\n",
    "            array[right], array[pivot] = array[pivot], array[right]\n",
    "        # 엇갈리지 않았다면 작은 데이터와 큰 데이터를 교체\n",
    "        else:\n",
    "            array[left], array[right] = array[right], array[left]\n",
    "    \n",
    "    # 분할 이후 왼쪽 부분과 오른쪽 부분에서 각각 정렬 수행\n",
    "    quick_sort(array, start, right-1)\n",
    "    quick_sort(array, right+1, end)\n",
    "\n",
    "quick_sort(array, 0, len(array)-1)\n",
    "array"
   ]
  },
  {
   "cell_type": "code",
   "execution_count": 122,
   "id": "58135e2c",
   "metadata": {},
   "outputs": [
    {
     "name": "stdout",
     "output_type": "stream",
     "text": [
      "[0, 1, 2, 3, 4, 5, 6, 7, 8, 9]\n"
     ]
    }
   ],
   "source": [
    "# ** 퀵 정렬2 - 파이썬의 장점을 살린 방식 **\n",
    "\n",
    "array = [5, 7, 9, 0, 3, 1, 6, 2, 4, 8]\n",
    "\n",
    "def quick_sort(array):\n",
    "    if len(array) <= 1:\n",
    "        return array\n",
    "    pivot = array[0]\n",
    "    not_pivot = array[1:]\n",
    "    \n",
    "    left_side = [x for x in not_pivot if x <= pivot]\n",
    "    right_side = [x for x in not_pivot if x > pivot]\n",
    "    \n",
    "    return quick_sort(left_side) + [pivot] + quick_sort(right_side)\n",
    "\n",
    "print(quick_sort(array))"
   ]
  },
  {
   "cell_type": "markdown",
   "id": "0f7fd41b",
   "metadata": {},
   "source": [
    "## 계수 정렬\n",
    "- 특정한 조건이 부합할 때만 사용할 수 있지만 매우 빠르게 동작하는 알고리즘\n",
    "    - 계수 정렬은 데이터의 크기 범위가 제한되어 정수 형태로 표현할 수 있을 때 사용 가능\n",
    "    - 계수 정렬ㅇ느 동일한 값을 가지는 데이터가 여러 개 등장할 때 효과적으로 사용할 수 있다.\n",
    "- 시간 복잡도: 최악의 경우에도 수행시간 O(N + K)를 보장\n",
    "- 계수 정렬은 때에 따라서 심각한 비효율성을 초래할 수 있음\n",
    "    - 데이터가 0과 999,999만 존재하는 경우(공간 복잡도 증가)\n",
    "- 계수 정렬 동작 예시\n",
    "    1. 가장 작은 데이터부터 가장 큰 데이터까지의 범위가 모두 담길 수 있도록 리스트를 초기화(0)\n",
    "    2. 데이터를 하나씩 확인하며 데이터의 값과 동일한 인덱스의 데이터를 1씩 증가시킴\n",
    "    3. 결과를 확인할 땐 리스트의 첫 번쨰 데이터부터 하나씩 그 값만큼 반복하여 인덱스를 출력"
   ]
  },
  {
   "cell_type": "code",
   "execution_count": 127,
   "id": "dbf56021",
   "metadata": {},
   "outputs": [
    {
     "name": "stdout",
     "output_type": "stream",
     "text": [
      "0 0 1 1 2 2 3 4 5 5 6 7 8 9 9 "
     ]
    }
   ],
   "source": [
    "array = [7, 5, 9, 0, 3, 1, 6, 2, 9, 1, 4, 8, 0, 5, 2]\n",
    "\n",
    "# 모든 범위를 포함하는 리스트 선언 및 초기화\n",
    "count = [0 for i in range(max(array) + 1)]\n",
    "# 카운트\n",
    "for i in range(len(array)):\n",
    "    count[array[i]] += 1\n",
    "\n",
    "# 출력\n",
    "for i in range(len(count)):  \n",
    "    for j in range(count[i]): # coubt[i]의 수만큼 반복\n",
    "        print(i, end = ' ')"
   ]
  },
  {
   "cell_type": "markdown",
   "id": "f1b6f0e2",
   "metadata": {},
   "source": [
    "# 이진 탐색 알고리즘\n",
    "- 순차 탐색: 리스트 안에 특정한 데이터를 찾기 위해 앞에서부터 데이터를 하나씩 확인하는 방법\n",
    "- 이진 탐색: **정렬되어 있는 리스트**에서 탐색 범위를 절반씩 좁혀가며 데이터를 탐색하는 기법\n",
    "    - 이진 탐색은 시작점, 끝점, 중간점을 이용하여 탐색 범위를 설정함|\n",
    "- 시간 복잡도: $O(logN)$\n",
    "- 큰 탐색 범위를 보면 가장 먼저 이진 탐색을 떠올려야 함"
   ]
  },
  {
   "cell_type": "code",
   "execution_count": 142,
   "id": "c48fa3da",
   "metadata": {},
   "outputs": [],
   "source": [
    "def binary_search(array, target, start, end):\n",
    "    if start > end:\n",
    "        return False\n",
    "    mid = (start + end) // 2\n",
    "    \n",
    "    if array[mid] == target:\n",
    "        return mid    \n",
    "    elif array[mid] > target:\n",
    "        return binary_search(array, target, start, mid - 1)\n",
    "    else:\n",
    "        return binary_search(array, target, mid + 1, end)"
   ]
  },
  {
   "cell_type": "code",
   "execution_count": 143,
   "id": "29c79eaa",
   "metadata": {},
   "outputs": [
    {
     "name": "stdout",
     "output_type": "stream",
     "text": [
      "6\n"
     ]
    }
   ],
   "source": [
    "array = [5, 7, 9, 0, 3, 1, 6, 2, 4, 8]\n",
    "array.sort()\n",
    "\n",
    "result = binary_search(array, 6, 0, len(array) - 1)\n",
    "print(result)"
   ]
  },
  {
   "cell_type": "markdown",
   "id": "f3165695",
   "metadata": {},
   "source": [
    "## 파이썬 이진 탐색 라이브러리(bisect)\n",
    "- bisect_left(a, x): 정렬된 순서를 유지하면서 배열 a에 x를 삽입할 가장 왼쪽 인덱스를 반환\n",
    "- bisect_right(a, x): 정렬된 순서를 유지하면서 배열 a에 x를 삽입할 가장 오른쪽 인덱스를 반환\n",
    "- 참고 : 값이 특정 범위에 속하는 데이터 개수 구할 때\n",
    "    - bisect_left결과와 bisect_left결과의 차이를 통해 할 수 있음"
   ]
  },
  {
   "cell_type": "code",
   "execution_count": 146,
   "id": "694e09c5",
   "metadata": {},
   "outputs": [
    {
     "name": "stdout",
     "output_type": "stream",
     "text": [
      "[1, 2, 4, 4, 8]\n",
      "2\n",
      "4\n"
     ]
    }
   ],
   "source": [
    "from bisect import bisect_left, bisect_right\n",
    "\n",
    "a = [1, 2, 4, 4, 8]\n",
    "x = 4\n",
    "\n",
    "print(a)\n",
    "print(bisect_left(a, x))  # 인덱스 반환\n",
    "print(bisect_right(a, x))  # 인덱스 반환"
   ]
  },
  {
   "cell_type": "markdown",
   "id": "67322698",
   "metadata": {},
   "source": [
    "## 파라메트릭 서치(Parametric Search)\n",
    "- 파라메트릭 서치란 최적화 문제를 결정 문제(예 혹은 아니오)로 바꾸어 해결하는 기법\n",
    "    - ex) 특정한 조건을 만족하는 가장 알맞은 값을 빠르게 찾는 최적화문제\n",
    "- 일반적으로 코딩 테스트에서 파라메트릭 서치 문제는 이진 탐색을 통해 해결할 수 있음.\n",
    "- 큰 탐색 범위를 보면 가장 먼저 이진 탐색을 떠올려야 함"
   ]
  },
  {
   "cell_type": "markdown",
   "id": "1265c2d4",
   "metadata": {},
   "source": [
    "# 다이나믹 프로그래밍(동적 계획법)\n",
    "- 다이나믹 프로그래밍은 메모리를 적절히 사용하여 수행 시간 효율성을 비약적으로 향상시키는 방법\n",
    "    - 이미 계산된 결과(작은 문제)는 별도의 메모리 영역에 저장하여 다시 계산하지 않도록 한다.\n",
    "- 다이나믹 프로그래밍의 구현은 일반적으로 두 가지 방식(탑 다운과 바텀 업)으로 구성됨\n",
    "- 다이나믹 프로그래밍의 조건\n",
    "    1. 최적 부분 구조(optimal substructure)\n",
    "        - 큰 문제를 작은 문제로 나눌 수 있으며 작은 문제의 답을 모아서 큰 문제를 해결할 수 있다.\n",
    "    2. 중복되는 부분 문제(overlapping subproblem)(여러 번 등장)\n",
    "        - 동일한 작은 문제를 반복적으로 해결해야 한다\n",
    "- 시간 복잡도\n",
    "    - 메모이제이션을 이용하는 경우: $O(N)$\n",
    "    "
   ]
  },
  {
   "cell_type": "markdown",
   "id": "25d7721c",
   "metadata": {},
   "source": [
    "## 피보나치 수열\n",
    "- 특정 k번째 피보나치 수는 앞 두 개의 피보나치 수를 더한 값임(1, 1, 2, 3, 5, 8, 13, 21, 34, ..., inf)\n",
    "- 점화식이란 인접한 항들 사이의 관계식을 의미함\n",
    "    - 피보나치 수열의 점화식 : a<sub>n</sub> = a<sub>n-1</sub> + a<sub>n-2</sub> |||| a<sub>1</sub> = 1, a<sub>2</sub> = 1\n",
    "    "
   ]
  },
  {
   "cell_type": "markdown",
   "id": "7255a410",
   "metadata": {},
   "source": [
    "### 피보나치 - 단순 재귀"
   ]
  },
  {
   "cell_type": "code",
   "execution_count": 148,
   "id": "e15bbad6",
   "metadata": {},
   "outputs": [
    {
     "data": {
      "text/plain": [
       "55"
      ]
     },
     "execution_count": 148,
     "metadata": {},
     "output_type": "execute_result"
    }
   ],
   "source": [
    "# 피보나치 - 단순 재귀\n",
    "def fibo(x):\n",
    "    if x == 1 or x == 2 : \n",
    "        return 1\n",
    "    return fibo(x - 1) + fibo(x - 2)\n",
    "\n",
    "fibo(10)"
   ]
  },
  {
   "cell_type": "markdown",
   "id": "db274f00",
   "metadata": {},
   "source": [
    "- <img src=\"https://shoark7.github.io/assets/img/algorithm/fibbonacci-recurisive.png\" width=\"800\" height=\"600\"/>\n",
    "- 재귀함수 피보나치의 비효율성\n",
    "    - 위 그림을 보면, 3번째 피보나치 수를 구하는 fibo(3)가 4번 발생한 것을 볼 수 있음 \n",
    "    - 시간 복잡도: O(2<sup>N</sup>)\n",
    "    - 빅오 표기법을 기준으로 fibo(30)을 계산하기 위해선 약 10억 가량의 연산을 수행해야 함"
   ]
  },
  {
   "cell_type": "markdown",
   "id": "17f85df7",
   "metadata": {},
   "source": [
    "### 피보나치의 효율적인 해법 : 다이나믹 프로그래밍\n",
    "- 다이나믹 프로그래밍의 사용 조건을 만족하는지 확인\n",
    "    1. 최적 부분 구조: 큰 문제를 작은 문제로 나눌 수 있다.\n",
    "        - fibo(4)를 구하려면 fibo(3)과 fibo(2)로 해결할 수 있음\n",
    "    2. 중복되는 부분문제: 동일한 작은 문제를 반복적으로 해결한다.\n",
    "        - 같은 fibo(n)이 여러번 사용됨\n",
    "        \n",
    ">피보나치는 다이나믹 프로그래밍의 사용 조건을 만족함"
   ]
  },
  {
   "cell_type": "markdown",
   "id": "49c7ce08",
   "metadata": {},
   "source": [
    "- 메모이제이션(하향식, 탑다운)\n",
    "    - 한 번 계산한 결과를 메모리 공간에 메모하는 기법\n",
    "        - 같은 문제를 다시 호출하면 메모했던 결과를 그대로 가져옴\n",
    "        - 값을 기록해 놓는다는 점에서 캐싱(caching)이라고도 함"
   ]
  },
  {
   "cell_type": "markdown",
   "id": "cf3884aa",
   "metadata": {},
   "source": [
    "### 탑다운(하향식) vs 바텀업(상향식)\n",
    "- 다이나믹 프로그래밍의 전형적인 형태는 바텀업 방식임(반복문)\n",
    "    - (결과 저장용 리스트는 DP테이블이라고 부름)\n",
    "- 엄밀히 말하면 메모이제이션은 이전에 계산된 결과를 일시적으로 기록해놓는 넓은 개념을 의미\n",
    "    - 따라서 메모이제이션은 다이나믹 프로그래밍에 국한된 개념은 아님\n",
    "    - 한 번 계산된 결과를 담아 놓기만 하고 다이나믹 프로그래밍을 위해 활용하지 않을 수도 있음"
   ]
  },
  {
   "cell_type": "code",
   "execution_count": 151,
   "id": "a8a49700",
   "metadata": {},
   "outputs": [
    {
     "name": "stdout",
     "output_type": "stream",
     "text": [
      "218922995834555169026\n"
     ]
    }
   ],
   "source": [
    "# 피보나치 - 탑다운 다이나믹 프로그래밍(재귀)\n",
    "\n",
    "# 한 번 계산된 결과를 메모이제이션 하기 위한 리스트 초기화 0 ~ 99\n",
    "d = [0] * 100\n",
    "\n",
    "# 피보나치 함수를 재귀함수로 구현(탑다운 다이나믹 프로그래밍)\n",
    "def fibo(x):\n",
    "    if x == 1 or x == 2:\n",
    "        return 1\n",
    "    \n",
    "    # 이미 계산한 적 있는 문제라면 그대로 반환(메모이제이션)\n",
    "    if d[x] != 0:\n",
    "        return d[x]\n",
    "    \n",
    "    # 계산하지 않은 문제는 점화식에 따라 피보나치 결과 반환\n",
    "    d[x] = fibo(x - 1) + fibo(x - 2)\n",
    "    return d[x]\n",
    "\n",
    "print(fibo(99))"
   ]
  },
  {
   "cell_type": "code",
   "execution_count": 152,
   "id": "4b631e64",
   "metadata": {},
   "outputs": [
    {
     "name": "stdout",
     "output_type": "stream",
     "text": [
      "218922995834555169026\n"
     ]
    }
   ],
   "source": [
    "# 피보나치 - 바텀업 다이나믹 프로그래밍(반복문)\n",
    "\n",
    "d = [0] * 100\n",
    "\n",
    "# 첫 번째 피보나치 수와 두 번쨰 피보나치 수는 1\n",
    "d[1], d[2] = 1, 1\n",
    "\n",
    "n = 99\n",
    "# 피보나치 함수 반복문으로 구현(바텀업 다이나믹 프로그래밍)\n",
    "for i in range(3, n + 1):\n",
    "    d[i] = d[i - 1] + d[i - 2]\n",
    "\n",
    "print(d[n])"
   ]
  },
  {
   "cell_type": "markdown",
   "id": "ad3f2c61",
   "metadata": {},
   "source": [
    "### 다이나믹 프로그래밍 VS 분할 정복\n",
    "- 분할 정복\n",
    "    - 문제를 나눌 수 없을 때까지 나누어서 각각을 풀면서 다시 합병하여 문제의 답을 얻는 알고리즘\n",
    "    - 하향식 접근법으로, 상위의 해답을 구하기 위해, 아래로 내려가면서 하위의 해답을 구하는 방식\n",
    "        - 일반적으로 재귀 함수로 구현\n",
    "    - 문제를 잘게 쪼갤 때, 부분 문제는 서로 중복되지 않음\n",
    "        - ex) 병합 정렬, 퀵 정렬 등\n",
    "        \n",
    "        \n",
    "- 다이나믹 프로그래밍과 분할 정복은 모두 최적 부분 구조를 가질 떄 사용할 수 있다.\n",
    "    - 큰 문제를 작은 무제로 나눌 수 있으며 작은 문제의 답을 모아서 큰 문제를 해결할 수 있는 상황\n",
    "- 다이나믹 프로그래밍과 분할 정복의 차이점은 **부분 문제의 중복**이다.\n",
    "    - 다이나믹 프로그래밍 문제에서는 각 부분 문제제들이 서로 영향을 미치며 부분 문제가 종복된다.\n",
    "    - 분할 정복 문제에서는 동일한 부분 문제가 반복적으로 계산되지 않는다\n"
   ]
  },
  {
   "cell_type": "markdown",
   "id": "eef1d3f1",
   "metadata": {},
   "source": [
    "### 다이나믹 프로그래밍 문제에 접근하는 방법\n",
    "- 주어진 문제가 다이나믹 프로그래밍 유형임을 파악하는 것이 중요\n",
    "- 가장 먼저 그리디, 구현, 완전 탐색 등의 아이디어로 문제를 해결할 수 있는지 검토\n",
    "    - 다른 알고리즘으로 풀이 방법이 떠오르지 않으면 다이나믹 프로그래밍을 고려\n",
    "- 일단 재귀 함수로 비효율적인 완전 탐색 프로그램을 작성한 뒤에(탑다운) 작은 문제에서 구한 답이 큰 문제에서 그대로 사용될 수 있으면, 코드를 개선하는 방법을 사용\n",
    "- 일반적인 코딩 테스트 수준에서는 기본 유형의 다이나믹 프로그래밍 문제가 출제되는 경우가 많음"
   ]
  },
  {
   "cell_type": "code",
   "execution_count": null,
   "id": "09086c23",
   "metadata": {},
   "outputs": [],
   "source": []
  }
 ],
 "metadata": {
  "kernelspec": {
   "display_name": "Python 3",
   "language": "python",
   "name": "python3"
  },
  "language_info": {
   "codemirror_mode": {
    "name": "ipython",
    "version": 3
   },
   "file_extension": ".py",
   "mimetype": "text/x-python",
   "name": "python",
   "nbconvert_exporter": "python",
   "pygments_lexer": "ipython3",
   "version": "3.8.8"
  },
  "toc": {
   "base_numbering": 1,
   "nav_menu": {},
   "number_sections": true,
   "sideBar": true,
   "skip_h1_title": false,
   "title_cell": "Table of Contents",
   "title_sidebar": "Contents",
   "toc_cell": false,
   "toc_position": {},
   "toc_section_display": true,
   "toc_window_display": true
  }
 },
 "nbformat": 4,
 "nbformat_minor": 5
}
