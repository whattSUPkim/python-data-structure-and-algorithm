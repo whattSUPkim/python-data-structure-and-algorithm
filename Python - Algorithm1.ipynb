{
 "cells": [
  {
   "cell_type": "markdown",
   "id": "286750ea",
   "metadata": {},
   "source": [
    ">'잔재미코딩' 파이썬 자료를 공부한 내용입니다."
   ]
  },
  {
   "cell_type": "markdown",
   "id": "d6508c12",
   "metadata": {},
   "source": [
    "# 파이썬 기본 알고리즘"
   ]
  },
  {
   "cell_type": "markdown",
   "id": "bef90cf8",
   "metadata": {},
   "source": [
    "## 알고리즘 복잡도 표현 방법"
   ]
  },
  {
   "cell_type": "markdown",
   "id": "33430535",
   "metadata": {},
   "source": [
    "### 알고리즘 복잡도 표현 방법\n",
    "- 프로그래밍에서 시간 복잡도에 가장 영향을 많이 미치는 요소는 반복문"
   ]
  },
  {
   "cell_type": "markdown",
   "id": "96ee8101",
   "metadata": {},
   "source": [
    "- 알고리즘 성능 표기법\n",
    "    - **Big O 표기법: O(N)**\n",
    "        - 알고리즘 최악의 실행 시간을 표기\n",
    "        - 일반적으로 많이 사용\n",
    "        - 아무리 최악의 상황이라도, 이정도의 성능은 보장한다는 의미이기 떄문\n",
    "    - $\\Omega$ 표기법: $\\Omega$(N)\n",
    "        - 오메가 표기법은 알고리즘 최상의 실행 시간을 표기\n",
    "    - $\\Theta$ 표기법: $\\Theta$(N)\n",
    "        - 세타 표기법은 알고리즘 평균 실행 시간을 표기\n",
    "    > 시간 복잡도 계산은 반복문이 핷미 요소임을 인지하고, Big O 표기법 중심으로 익히면 됨"
   ]
  },
  {
   "cell_type": "markdown",
   "id": "2a5afb0f",
   "metadata": {},
   "source": [
    "-  대문자 O 표기법\n",
    "    - **빅 오 표기법**\n",
    "    - O(입력)\n",
    "        - 입력 n에 따라 결정되는 시간 복잡도 함수\n",
    "        - O(1), O(logn), O(n), O(nlogn), O(n<sup>2</sup>), O(2<sup>n</sup>), O(n!) 등으로 표기\n",
    "        - 입력 n의 크기에 따라 기하급수적으로 시간 복잡도가 늘어날 수 있음\n",
    "            - O(1) < O(logn) < O(n) < O(nlogn) < O(n<sup>2</sup>) < O(2<sup>n</sup>) < O(n!)\n",
    "    - 단순하게 입력 n에 따라, 몇번 실행이 되는지를 계산하면 됨\n",
    "        - n이 1이든 100이든, 1000이든, 10000이든 실행을\n",
    "            - 무조건 2회(상수회) 실행한다: O(1)\n",
    "            - n에 따라 n번, n + 10번, 3n + 10번 등 실행한다: O(n)\n",
    "            - n에 따라, n<sup>2</sup>번, n<sup>2</sup> + 1000번, 또는 100n<sup>2</sup> - 100번 등 실행한다: O(n<sup>2</sup>)\n",
    "    - 빅 오 입력값 표기 방법\n",
    "        ex)\n",
    "        - 만약 시간 복잡도 함수가 2n<sup>2</sup> + 3n 이라면\n",
    "            - 가장 높은 차수는 2n<sup>2</sup>\n",
    "            - 상수는 실제 큰 영향이 없음\n",
    "            - 결국 빅 오 표기법으론 O(n<sup>2</sup>)\n",
    "            ![그림](https://he-s3.s3.amazonaws.com/media/uploads/814bea8.gif)\n",
    "    - 일반적으로 자주 사용하는것들중 몇개를 적으면 반복문이 한번이면 O(n), 중첩 반복문이면 O(n^2), 이분 탐색의 시간복잡도는 O(logn), 언어에 있는 정렬을 사용하면 O(nlogn) 등입니다."
   ]
  },
  {
   "cell_type": "code",
   "execution_count": 3,
   "id": "5c8e0aff",
   "metadata": {},
   "outputs": [
    {
     "data": {
      "text/plain": [
       "55"
      ]
     },
     "execution_count": 3,
     "metadata": {},
     "output_type": "execute_result"
    }
   ],
   "source": [
    "# 1\n",
    "def func1(n):\n",
    "    count = 0\n",
    "    for num in range(1, n + 1):\n",
    "        count += num\n",
    "    return count\n",
    "\n",
    "func1(10)"
   ]
  },
  {
   "cell_type": "markdown",
   "id": "d547ff4a",
   "metadata": {},
   "source": [
    "- 1번 알고리즘\n",
    "    - 입력 n에 따라 덧셈을 n번 해야 함(반복문)\n",
    "    - 빅 오 표기법으로 시간 복잡도는 O(n)"
   ]
  },
  {
   "cell_type": "code",
   "execution_count": 5,
   "id": "d5f1f66a",
   "metadata": {},
   "outputs": [
    {
     "data": {
      "text/plain": [
       "55"
      ]
     },
     "execution_count": 5,
     "metadata": {},
     "output_type": "execute_result"
    }
   ],
   "source": [
    "# 2\n",
    "def func2(n):\n",
    "    return int(n * (n + 1) / 2)\n",
    "func2(10)    "
   ]
  },
  {
   "cell_type": "markdown",
   "id": "3c99f676",
   "metadata": {},
   "source": [
    "- 2번 알고리즘\n",
    "    - 입력 n이 어떻든 간에, 곱셈, 덧셈, 나눗셈 하면 됨(반복문x)\n",
    "    - 빅 오 표기법으로 시간복잡도는 O(1)\n"
   ]
  },
  {
   "cell_type": "markdown",
   "id": "94721533",
   "metadata": {},
   "source": [
    "- 알고리즘 연습 방법\n",
    "1. 연습장과 펜\n",
    "2. 알고리즘 문제 읽고 분석\n",
    "3. 간단하게 테스트용으로 매우 간단한 경우부터 복잡한 경우 순서대로 생각해보면서, 연습장과 펜을 이용해 알고리즘 생각\n",
    "4. 가능한 알고리즘이 보이면, 구현할 알고리즘을 세부 항목으로 나누고, 문장으로 세부 항목을 나누어서 적어봄\n",
    "5. 코드화하기 위해 데이터 구조 또는 사용할 변수 정리\n",
    "6. 각 문장을 코드 레벨로 적기\n",
    "7. 데이터 구조 또는 사용할 변수가 코드에 따라 어떻게 변하는지를 손으로 적으면서, 임의 데이터로 코드가 정상 동작하는지를 연습장과 펜으로 검증\n"
   ]
  },
  {
   "cell_type": "markdown",
   "id": "503c326f",
   "metadata": {},
   "source": [
    "## 버블 정렬(bubble sort)"
   ]
  },
  {
   "cell_type": "markdown",
   "id": "3eed3149",
   "metadata": {},
   "source": [
    "### 버블 정렬(bubble sort)이란?\n",
    "- 두 인접한 데이터를 비교해서, 앞에있는 데이터가 뒤에 있는 데이터보다 크면, 자리를 바꾸는 정렬 알고리즘\n",
    "![그림](https://upload.wikimedia.org/wikipedia/commons/c/c8/Bubble-sort-example-300px.gif)"
   ]
  },
  {
   "cell_type": "markdown",
   "id": "0a4b585f",
   "metadata": {},
   "source": [
    "### 프로그래밍 연습\n",
    "- 데이터가 네 개일 때\n",
    "- ex) data  = [1, 6, 3, 2]\n",
    "- 첫 번째 로직\n",
    "    - 1과 6 비교, [1, 6, 3, 2]\n",
    "    - 6과 3 비교, [1. 3. 6. 2]\n",
    "    - 6과 2 비교, [1, 3, 2, 6]\n",
    "- 두 번째 로직\n",
    "    - 1과 3 비교, [1, 3, 2, 6]\n",
    "    - 3과 2 비교, [1, 2, 3, 6]\n",
    "    - 3과 6 비교, [1, 2, 3, 6]\n",
    "- 세 번쨰 로직\n",
    "    - 1과 2 비교, [1, 2, 3, 6]\n",
    "    - 2과 3 비교, [1, 2, 3, 6]\n",
    "    - 3과 6 비교, [1, 2, 3, 6]"
   ]
  },
  {
   "cell_type": "markdown",
   "id": "9e5ad57d",
   "metadata": {},
   "source": [
    "- 특이점 찾기\n",
    "    - n개의 리스트가 있는 경우 최대 n-1번의 로직을 적용\n",
    "    - 로직을 1번 적용할 때마다 가장 큰 숫자가 뒤에서부터 1개씩 결정됨\n",
    "    - 로직이 경우에 따라 일찍 끝날 수 있다. 따라서 로직을 적용할 때 할 번도 데이터가 교환된적이 없다면 이미 정렬된 상태이므로 반복 적용할 필요가 없음"
   ]
  },
  {
   "cell_type": "markdown",
   "id": "fcad9264",
   "metadata": {},
   "source": [
    "1. for num in range(len(data_list)) 반복 \n",
    "2. swap = 0 (교환이 되었는지 확인하는 변수)\n",
    "3. 반목문 안에서 for index in range(len(data_list) - num - 1)  # n-1번 반복해야 함\n",
    "4. 반복문 안의 반복문 안에서 if data_list[index] > data_list[index + 1]이면\n",
    "    - data_list[index], data_list[index + 1] = data_list[index+1], data_list[index]\n",
    "    - swap += 1\n",
    "5. 반목문 안에서 if swap == 0이면, break"
   ]
  },
  {
   "cell_type": "markdown",
   "id": "6e6c399d",
   "metadata": {},
   "source": [
    "### 알고리즘 구현"
   ]
  },
  {
   "cell_type": "code",
   "execution_count": 17,
   "id": "8f3dd604",
   "metadata": {},
   "outputs": [],
   "source": [
    "def bubble_sort(data):\n",
    "    for index in range(len(data)-1): \n",
    "        swap = 0\n",
    "        for index2 in range(len(data) - 1 -index): \n",
    "            if data[index2] > data[index2 + 1]:\n",
    "                data[index2], data[index2 + 1] = data[index2 + 1], data[index2]\n",
    "                swap += 1\n",
    "        if swap == 0:\n",
    "            break;\n",
    "            \n",
    "    return data"
   ]
  },
  {
   "cell_type": "code",
   "execution_count": 21,
   "id": "92c894bb",
   "metadata": {},
   "outputs": [
    {
     "data": {
      "text/plain": [
       "[1, 1, 2, 2, 3, 3, 3, 3, 5, 6, 10, 13, 14, 15, 18, 22, 42, 48, 60]"
      ]
     },
     "execution_count": 21,
     "metadata": {},
     "output_type": "execute_result"
    }
   ],
   "source": [
    "bubble_sort([1, 6, 3, 2, 5, 3, 2, 10, 14, 15, 13, 3, 18, 60, 3, 48, 22, 42, 1])"
   ]
  },
  {
   "cell_type": "markdown",
   "id": "60261aba",
   "metadata": {},
   "source": [
    "- 반목문이 두 개 O(n<sup>2</sup>)\n",
    "    - 최악의 경우, $\\frac{n * (n - 1)}{2}$\n",
    "- 완전 정렬이 되어 있는 상태라면 최선은 O(n)"
   ]
  },
  {
   "cell_type": "markdown",
   "id": "c2688813",
   "metadata": {},
   "source": [
    "## 삽입 정렬(insertion sort)"
   ]
  },
  {
   "cell_type": "markdown",
   "id": "35062185",
   "metadata": {},
   "source": [
    "### 삽입 정렬이란?\n",
    "- 삽입 정렬은 두 번째 인덱스부터 시작\n",
    "- 해당 인덱스(key) 앞에 있는 데이터(B)부터 비교해서 key 값이 더 작으면, B값을 뒤 인덱스로 복사\n",
    "- 이를 key 값이 더 큰 데이터를 만날 때까지 반복, 그리고 큰 데이터를 만난 위치 바로 뒤에 key 값을 이동\n",
    "![그림](https://upload.wikimedia.org/wikipedia/commons/9/9c/Insertion-sort-example.gif)"
   ]
  },
  {
   "cell_type": "markdown",
   "id": "0af32c74",
   "metadata": {},
   "source": [
    "### 프로그래밍 연습"
   ]
  },
  {
   "cell_type": "markdown",
   "id": "c6854703",
   "metadata": {},
   "source": [
    "- 데이터가 네 개일 때\n",
    "- ex) data = [9, 3, 2, 5]\n",
    "    - 처음 실행하면, key는 9, 인덱스(0-)1은 0보다 작으므로 종료[9, 3, 2, 5]\n",
    "    - 두 번째 실행하면, key는 3, 9보다 3이 작으므로 자리 바꾸고 종료[3, 9, 2, 5]\n",
    "    - 세 번째 실행하면, key는 2, 9보다 2가 작으므로 자리 바꾸고, 3보다 작으므로 다시 자리 바꾸고 종료[2, 3, 9, 5]\n",
    "    - 네 번쨰 실행하면, key는 5, 9보다 작으므로 자리 바꾸고, 3보단 크므로 종료[2, 3, 5, 9]"
   ]
  },
  {
   "cell_type": "markdown",
   "id": "7a68ba78",
   "metadata": {},
   "source": [
    "1. for i in range(len(data))로 반복\n",
    "2. key = data[i]\n",
    "3. for num in range(i, 0, -1) 반복\n",
    "    - 내부 반복문 안에서 data[i] < data[num - 1] 이면,\n",
    "        - data[num-1], data[num] = data[num], data[num-1]"
   ]
  },
  {
   "cell_type": "markdown",
   "id": "47b55334",
   "metadata": {},
   "source": [
    "### 알고리즘 구현"
   ]
  },
  {
   "cell_type": "code",
   "execution_count": 22,
   "id": "609ace3b",
   "metadata": {},
   "outputs": [],
   "source": [
    "def insertion_sort(data):\n",
    "    for i in range(len(data)):\n",
    "        key = data[i]\n",
    "        for num in range(i, 0, -1):\n",
    "            if key < data[num - 1]:\n",
    "                data[num-1], data[num] = data[num], data[num-1]\n",
    "            else:\n",
    "                break\n",
    "    return data"
   ]
  },
  {
   "cell_type": "code",
   "execution_count": 26,
   "id": "0e1e5a57",
   "metadata": {
    "scrolled": true
   },
   "outputs": [
    {
     "data": {
      "text/plain": [
       "[5, 8, 10, 21, 27, 33, 77, 80, 86, 94]"
      ]
     },
     "execution_count": 26,
     "metadata": {},
     "output_type": "execute_result"
    }
   ],
   "source": [
    "from random import *\n",
    "\n",
    "r_data = list()\n",
    "for n in range(10):\n",
    "    r_data.append(randint(1, 100))\n",
    "    \n",
    "insertion_sort(r_data)"
   ]
  },
  {
   "cell_type": "markdown",
   "id": "ca9ff9d5",
   "metadata": {},
   "source": [
    "- 반목문이 두 개 O(n<sup>2</sup>)\n",
    "    - 최악의 경우, $\\frac{n * (n - 1)}{2}$\n",
    "- 완전 정렬이 되어 있는 상태라면 최선은 O(n)"
   ]
  },
  {
   "cell_type": "markdown",
   "id": "a62821ff",
   "metadata": {},
   "source": [
    "## 선택 정렬(selection sort)"
   ]
  },
  {
   "cell_type": "markdown",
   "id": "b67f464b",
   "metadata": {},
   "source": [
    "### 선택 정렬이란?\n",
    "- 다음과 같은 순서를 반복하며 정렬하는 알고리즘\n",
    "    1. 주어진 데이터 중, 최소값을 찾음\n",
    "    2. 해당 최소값을 데이터 맨 앞에 위치한 값과 교체\n",
    "    3. 맨 앞의 위치를 뺸 데이터를 동일한 방법으로 반복\n",
    "    ![그림](https://upload.wikimedia.org/wikipedia/commons/9/94/Selection-Sort-Animation.gif)"
   ]
  },
  {
   "cell_type": "markdown",
   "id": "aced2f71",
   "metadata": {},
   "source": [
    "### 프로그래밍 연습"
   ]
  },
  {
   "cell_type": "markdown",
   "id": "e66e7dc8",
   "metadata": {},
   "source": [
    "- 데이터가 두 개 일때\n",
    "    - ex) data = [4, 1]\n",
    "    - [1]이 [0]보다 작으므로 두 값을 교환\n",
    "- 데이터가 세 개 일때\n",
    "    - ex) data = [4, 1, 3]\n",
    "    - 처음 한번 실행하면 1, 4, 3\n",
    "    - 두 번째 실행하면 1, 3, 4\n",
    "- 데이터가 네 개일떄\n",
    "    - ex) data = [9, 3, 2, 1]\n",
    "    - 처음 한번 실행하면, 1, 3, 2, 9\n",
    "    - 두 번째 실행하면 1, 2, 3, 9\n",
    "    - 세 번쨰 실행하면 변화 없음"
   ]
  },
  {
   "cell_type": "code",
   "execution_count": 32,
   "id": "df8eb823",
   "metadata": {},
   "outputs": [],
   "source": [
    "def sort3(data):\n",
    "    for i in range(len(data) - 1):\n",
    "        print(i)\n",
    "        lowest = i\n",
    "        for num in range(i, len(data)):\n",
    "            if data[lowest] > data[num]:\n",
    "                lowest = num\n",
    "        data[i], data[lowest] = data[lowest], data[i]\n",
    "        print(data)\n",
    "    return data"
   ]
  },
  {
   "cell_type": "code",
   "execution_count": 33,
   "id": "b77e7e2b",
   "metadata": {},
   "outputs": [
    {
     "name": "stdout",
     "output_type": "stream",
     "text": [
      "0\n",
      "[7, 44, 95, 22, 98, 88, 74, 46, 23, 51]\n",
      "1\n",
      "[7, 22, 95, 44, 98, 88, 74, 46, 23, 51]\n",
      "2\n",
      "[7, 22, 23, 44, 98, 88, 74, 46, 95, 51]\n",
      "3\n",
      "[7, 22, 23, 44, 98, 88, 74, 46, 95, 51]\n",
      "4\n",
      "[7, 22, 23, 44, 46, 88, 74, 98, 95, 51]\n",
      "5\n",
      "[7, 22, 23, 44, 46, 51, 74, 98, 95, 88]\n",
      "6\n",
      "[7, 22, 23, 44, 46, 51, 74, 98, 95, 88]\n",
      "7\n",
      "[7, 22, 23, 44, 46, 51, 74, 88, 95, 98]\n",
      "8\n",
      "[7, 22, 23, 44, 46, 51, 74, 88, 95, 98]\n"
     ]
    },
    {
     "data": {
      "text/plain": [
       "[7, 22, 23, 44, 46, 51, 74, 88, 95, 98]"
      ]
     },
     "execution_count": 33,
     "metadata": {},
     "output_type": "execute_result"
    }
   ],
   "source": [
    "import random\n",
    "\n",
    "data_list = random.sample(range(100), 10)\n",
    "sort3(data_list)"
   ]
  },
  {
   "cell_type": "markdown",
   "id": "5fcbec29",
   "metadata": {},
   "source": [
    "- 반목문이 두 개 O(n<sup>2</sup>)\n",
    "    - 실제로 상세하게 계산하면, $\\frac{n * (n - 1)}{2}$"
   ]
  },
  {
   "cell_type": "markdown",
   "id": "1215d4ad",
   "metadata": {},
   "source": [
    "## 재귀 용법(recursive call, 재귀 호출)\n",
    "> 고급 정렬 알고리즘을 위한 재귀 용법"
   ]
  },
  {
   "cell_type": "markdown",
   "id": "905e1e92",
   "metadata": {},
   "source": [
    "### 재귀 용법\n",
    "- 함수 안에서 동일한 함수를 호출하는 형태"
   ]
  },
  {
   "cell_type": "markdown",
   "id": "7610d906",
   "metadata": {},
   "source": [
    "### 재귀 용법 예 - 펙토리얼"
   ]
  },
  {
   "cell_type": "code",
   "execution_count": 39,
   "id": "e457d5d7",
   "metadata": {},
   "outputs": [
    {
     "data": {
      "text/plain": [
       "120"
      ]
     },
     "execution_count": 39,
     "metadata": {},
     "output_type": "execute_result"
    }
   ],
   "source": [
    "def factorial(n):\n",
    "    if n > 1:\n",
    "        return n * factorial(n-1)\n",
    "    else:\n",
    "        return n\n",
    "    \n",
    "factorial(5)"
   ]
  },
  {
   "cell_type": "markdown",
   "id": "0d66bb25",
   "metadata": {},
   "source": [
    "- factorial(n)은 n-1 번의 factorial() 함수를 호출해서, 곱셈을 함\n",
    "    - 일종의 n-1번 반목문을 호출할 것과 동일\n",
    "    - fatorial() 함수를 호출알 때마다, 지역변수 n이 생성됨\n",
    "- 시간 복잡도/공간 복잡도는 O(n-1)이므로 결국 둘 다 O(n)"
   ]
  },
  {
   "cell_type": "markdown",
   "id": "86358f65",
   "metadata": {},
   "source": [
    "- 재귀 호출은 스택의 전형적인 예\n",
    "    ![그림](https://blog.kakaocdn.net/dn/AQHqY/btq8HGFOVrK/ydLbrgJXi4ynqvHwtQVchK/img.png)"
   ]
  },
  {
   "cell_type": "code",
   "execution_count": 44,
   "id": "9b0352bf",
   "metadata": {},
   "outputs": [
    {
     "data": {
      "text/plain": [
       "120"
      ]
     },
     "execution_count": 44,
     "metadata": {},
     "output_type": "execute_result"
    }
   ],
   "source": [
    "# 프로그래밍 연습\n",
    "# 재귀 함수를 활용하여 1부터 num까지의 곱이 출력되게 만드시오.\n",
    "\n",
    "def mulNum(n):\n",
    "    if n > 1:\n",
    "        return n * mulNum(n-1)        \n",
    "    else:\n",
    "        return n\n",
    "\n",
    "mulNum(5)"
   ]
  },
  {
   "cell_type": "code",
   "execution_count": 63,
   "id": "4f706434",
   "metadata": {},
   "outputs": [
    {
     "data": {
      "text/plain": [
       "16"
      ]
     },
     "execution_count": 63,
     "metadata": {},
     "output_type": "execute_result"
    }
   ],
   "source": [
    "# 프로그래밍 연습\n",
    "# 숫자가 들어있는 리스트가 주어졌을 떄, 리스트의 합을 리턴하는 함수를 만드시오(재귀함수 활용)\n",
    "def list_sum(data):\n",
    "    if len(data) > 1:\n",
    "        pop = data.pop()\n",
    "        return pop + list_sum(data)\n",
    "    else:\n",
    "        return data[0]\n",
    "\n",
    "list_sum([1, 3, 5, 7])"
   ]
  },
  {
   "cell_type": "code",
   "execution_count": 57,
   "id": "cdc321da",
   "metadata": {},
   "outputs": [
    {
     "data": {
      "text/plain": [
       "int"
      ]
     },
     "execution_count": 57,
     "metadata": {},
     "output_type": "execute_result"
    }
   ],
   "source": [
    "a = [1, 2, 3]\n",
    "type(a.pop())"
   ]
  },
  {
   "cell_type": "markdown",
   "id": "8d3ac780",
   "metadata": {},
   "source": [
    "## 동적 계획법과 분할 정복"
   ]
  },
  {
   "cell_type": "markdown",
   "id": "15320494",
   "metadata": {},
   "source": [
    "### 동적 계획법(Dynamic Programming)과 분할 정복(Divide and Conquer)\n",
    "1. 정의\n",
    "    - 동적 계획법(DP)\n",
    "        - 입력 크기가 작은 부분 문제들을 해결한 후, 해당 부분 문제의 해를 활용해서, 보다 큰 크기의 부분문제를 해결, 최종적으로 전체 문제를 해결하는 알고리즘\n",
    "        - 상향식 접근법으로, 가장 최하단 해답을 구한 후, 이를 저장하고, 해당 결과값을 이용해서 상위 문제를 풀어가는 방식\n",
    "        - Memoization 기법을 사용함\n",
    "            - Memoization(메모이제이션): 프로그램 실행 시 이전에 계산한 값을 저장하여, 다시 계산하지 않도록 하여 전체 실행 속도를 빠르게 하는 기술\n",
    "        - 문제를 잘게 쪼갤 때, 부분 문제는 중복되어, 재활용 됨\n",
    "            - ex) 피보나치 수열\n",
    "    - 분할 정복\n",
    "        - 문제를 나눌 수 없을 때까지 나누어서 각각을 풀면서 다시 합병하여 문제의 답을 얻는 알고리즘\n",
    "        - 하향식 접근법으로, 상위의 해답을 구하기 위해, 아래로 내려가면서 하위의 해답을 구하는 방식\n",
    "            - 일반적으로 재귀 함수로 구현\n",
    "        - 문제를 잘게 쪼갤 때, 부분 문제는 서로 중복되지 않음\n",
    "            - ex) 병합 정렬, 퀵 정렬 등\n"
   ]
  },
  {
   "cell_type": "markdown",
   "id": "5050f764",
   "metadata": {},
   "source": [
    "2. 공통점과 차이점\n",
    "    - 공통점\n",
    "        - 문제를 잘게 쪼개서, 가장 작은 단위로 분할\n",
    "    - 차이점\n",
    "        - 동적 계획법\n",
    "            - 부분 문제는 중복되어, 상위 문제 해결 시 재활용 됨\n",
    "            - Memoization 기법 사용\n",
    "        - 분할 정복\n",
    "            - 부분 문제는 서로 중복되지 않음\n",
    "            - Memoization 기법 사용 안 함\n"
   ]
  },
  {
   "cell_type": "markdown",
   "id": "35c6847e",
   "metadata": {},
   "source": [
    "### 동적 계획법 알고리즘 이해"
   ]
  },
  {
   "cell_type": "markdown",
   "id": "afcf68b4",
   "metadata": {},
   "source": [
    "- 피보나치 수열이란?\n",
    "![그림](https://shoark7.github.io/assets/img/algorithm/fibonacci-example.png)"
   ]
  },
  {
   "cell_type": "markdown",
   "id": "3105205d",
   "metadata": {},
   "source": [
    "- fibo함수를 정의해보면\n",
    "![그림](https://t1.daumcdn.net/cfile/tistory/991C634C5BFAB36335)"
   ]
  },
  {
   "cell_type": "markdown",
   "id": "c735d0a2",
   "metadata": {},
   "source": [
    "- 재귀 용법의 비효율성\n",
    "![그림](https://shoark7.github.io/assets/img/algorithm/fibbonacci-recurisive.png)"
   ]
  },
  {
   "cell_type": "code",
   "execution_count": 7,
   "id": "130a1c80",
   "metadata": {},
   "outputs": [
    {
     "data": {
      "text/plain": [
       "0.3341217041015625"
      ]
     },
     "execution_count": 7,
     "metadata": {},
     "output_type": "execute_result"
    }
   ],
   "source": [
    "# 재귀 호출 활용\n",
    "import time\n",
    "\n",
    "def fibo(num):\n",
    "    if num <= 1:\n",
    "        return num\n",
    "    return fibo(num - 1) + fibo(num - 2)\n",
    "\n",
    "s = time.time()\n",
    "fibo(30)\n",
    "f = time.time()\n",
    "f - s\n"
   ]
  },
  {
   "cell_type": "code",
   "execution_count": 8,
   "id": "c3ebb480",
   "metadata": {},
   "outputs": [
    {
     "data": {
      "text/plain": [
       "0.00099945068359375"
      ]
     },
     "execution_count": 8,
     "metadata": {},
     "output_type": "execute_result"
    }
   ],
   "source": [
    "def fibo_dp(num):\n",
    "    cache = [0 for i in range(num + 1)]\n",
    "    cache[0] = 0\n",
    "    cache[1] = 1\n",
    "    \n",
    "    for index in range(2, num + 1):\n",
    "        cache[index] = cache[index - 1] + cache[index - 2]\n",
    "    return cache[num]\n",
    "\n",
    "s = time.time()\n",
    "fibo_dp(30)\n",
    "f = time.time()\n",
    "f - s"
   ]
  },
  {
   "cell_type": "markdown",
   "id": "1322dbdb",
   "metadata": {},
   "source": [
    "## 병합 정렬(merge sort)"
   ]
  },
  {
   "cell_type": "markdown",
   "id": "1f8730f6",
   "metadata": {},
   "source": [
    "### 병합 정렬(merge sort)\n",
    "- 재귀 용법을 활용한 정렬 알고리즘\n",
    "    1. 리스트를 절반으로 잘라 비슷한 크기의 두 부분 리스트로 나눔\n",
    "    2. 각 부분 리스트를 재귀적으로 합병 정렬을 이용해 정렬\n",
    "    3. 두 부분 리스트를 다시 하나의 정렬된 리스트로 합병\n",
    "![그림](https://upload.wikimedia.org/wikipedia/commons/c/cc/Merge-sort-example-300px.gif)"
   ]
  },
  {
   "cell_type": "markdown",
   "id": "5fa4863f",
   "metadata": {},
   "source": [
    "### 알고리즘 이해\n",
    "- 데이터가 네 개 일때\n",
    "    - ex) data_list = [1, 9, 3, 2]\n",
    "    - 먼저 [1, 9], [3, 2]로 나누고\n",
    "    - 다시 앞부분을 [1], [9]로 나누고\n",
    "    - 다시 정렬해서 합침 [1, 9]\n",
    "    - [3, 2]는 [3], [2]로 나누고\n",
    "    - 다시 정렬해서 합침[2, 3]\n",
    "    - 이제 [1, 9]와 [2, 3]을 합침\n",
    "        - 1 < 2 니까 [1]\n",
    "        - 9 > 2 니까 [1, 2]\n",
    "        - 9 > 3 니까 [1, 2, 3]\n",
    "        - 나머지 [1, 2, 3, 9]"
   ]
  },
  {
   "cell_type": "markdown",
   "id": "f2bf4979",
   "metadata": {},
   "source": [
    "### 알고리즘 구현\n",
    "- mergesplit 함수\n",
    "    - 만약 리스트 갯수가 한 개이면 해당 값 리턴\n",
    "    - 그렇지 않으면 리스트르 앞뒤 두 개로 나눔\n",
    "    - left = mergesplit(앞)\n",
    "    - right = mergesplit(뒤)\n",
    "    - merge(left, right)\n",
    "- merge 함수\n",
    "    - 리스트 변수 하나 만들기 (sorted)\n",
    "    - left_index, right_index = 0\n",
    "    - while left_index < len(left) or right_index < len(right)\n",
    "        - 만약 left_index나 right_index가 이미 left 또는 right를 순회했다면, 그 반대쪽 데이터를 그대로 넣고, 해당 인덱스 1 증가\n",
    "        - if left[left_index] < right[right_index]:\n",
    "            - sorted.append(left[left_index])\n",
    "            - left_index += 1\n",
    "        - else:\n",
    "            - sorted.append(right[right_index])\n",
    "            - right_index += 1"
   ]
  },
  {
   "cell_type": "code",
   "execution_count": 22,
   "id": "4a0c4959",
   "metadata": {},
   "outputs": [],
   "source": [
    "def mergesplit(data):\n",
    "    if len(data) <= 1:\n",
    "        return data\n",
    "    medium = int(len(data) // 2)\n",
    "    left = mergesplit(data[:medium])\n",
    "    right = mergesplit(data[medium:])\n",
    "    return merge(left, right)"
   ]
  },
  {
   "cell_type": "code",
   "execution_count": 27,
   "id": "eb186da2",
   "metadata": {},
   "outputs": [],
   "source": [
    "def merge(left, right):\n",
    "    merged = list()\n",
    "    left_point, right_point = 0, 0\n",
    "    \n",
    "    # 가장 작은 단위로 split 됐기 때문에 위치만 조건을 붙이면 됨\n",
    "    \n",
    "    # left/right 둘 다 있을 때\n",
    "    while len(left) > left_point and len(right) > right_point: # left, right의 길이가 left_point보다 클 때만 반복\n",
    "        if left[left_point] > right[right_point]: # 레프트 포인트 인덱스 값이 라이트 값보다 크면\n",
    "            merged.append(right[right_point]) # 라이트 값을 추가, right 포인트 옮김\n",
    "            right_point += 1\n",
    "        else:\n",
    "            merged.append(left[left_point]) # \n",
    "            left_point += 1\n",
    "            \n",
    "    # left 데이터가 없을 때\n",
    "    while len(left) > left_point:\n",
    "        merged.append(left[left_point])\n",
    "        left_point += 1\n",
    "    \n",
    "    # right 데이터가 없을 때\n",
    "    while len(right) > right_point:\n",
    "        merged.append(right[right_point])\n",
    "        right_point += 1\n",
    "    \n",
    "    return merged"
   ]
  },
  {
   "cell_type": "code",
   "execution_count": 28,
   "id": "09c08ac5",
   "metadata": {},
   "outputs": [
    {
     "data": {
      "text/plain": [
       "[0, 17, 28, 30, 35, 48, 50, 54, 62, 70]"
      ]
     },
     "execution_count": 28,
     "metadata": {},
     "output_type": "execute_result"
    }
   ],
   "source": [
    "import random\n",
    "\n",
    "data_list = random.sample(range(100), 10)\n",
    "mergesplit(data_list)"
   ]
  },
  {
   "cell_type": "markdown",
   "id": "85872a19",
   "metadata": {},
   "source": [
    "## **@퀵 정렬(quick sort)(정렬 알고리즘의 꽃)**"
   ]
  },
  {
   "cell_type": "markdown",
   "id": "273a27b5",
   "metadata": {},
   "source": [
    "### 퀵 정렬이란?\n",
    "- **정렬 알고리즘의 꽃**\n",
    "- 기준점(pivot)을 정해서, 기준점보다 작은 데이터는 왼쪽(left), 큰 데이터는 오른쪽(right)으로 모으는 함수를 작성함\n",
    "- 각 왼쪽(left), 오른쪽(right)은 재귀용법을 사용해서 다시 동일 함수를 호출하여 위 작업을 반복\n",
    "- 함수는 왼쪽(left) + 기준점(pivot) + 오른쪽(right)을 리턴"
   ]
  },
  {
   "cell_type": "markdown",
   "id": "cfb4126b",
   "metadata": {},
   "source": [
    "### 프로그래밍 연습"
   ]
  },
  {
   "cell_type": "code",
   "execution_count": 34,
   "id": "891f3047",
   "metadata": {},
   "outputs": [
    {
     "name": "stdout",
     "output_type": "stream",
     "text": [
      "[30, 65, 37, 23, 14, 22, 32, 21, 49, 80]\n",
      "[23, 14, 22, 21]\n",
      "30\n",
      "[65, 37, 32, 49, 80]\n"
     ]
    }
   ],
   "source": [
    "# 임의 길이인 list의 맨 앞 데이터를 기준으로 작은 데이터는 left 변수에, 그렇지 않은 데이터는 right 변수에 넣기\n",
    "import random\n",
    "data_list = random.sample(range(100), 10)\n",
    "\n",
    "left = list()\n",
    "right = list()\n",
    "pivot = data_list[0]\n",
    "\n",
    "for i in range(1, len(data_list)):\n",
    "    if pivot > data_list[i]:\n",
    "        left.append(data_list[i])\n",
    "    else:\n",
    "        right.append(data_list[i])\n",
    "print(data_list)\n",
    "print(left)\n",
    "print(pivot)\n",
    "print(right)"
   ]
  },
  {
   "cell_type": "markdown",
   "id": "daa5c388",
   "metadata": {},
   "source": [
    "### 알고리즘 구현\n",
    "- quicksort 함수\n",
    "    - 만약 리스트 갯수가 한개면 해당 리스트 리턴\n",
    "    - 그렇지 않으면, 리스트 맨 앞 데이터를 기준점(pivot)으로 놓기\n",
    "    - left, right 변수\n",
    "    - 맨 앞의 데이터를 뺸 나머지 데이터를 기준점과 비교\n",
    "        - 기준점보다 작으면 left\n",
    "        - 크면 right\n",
    "    - return quicksort(left) + pivot + quicksort(right)"
   ]
  },
  {
   "cell_type": "code",
   "execution_count": 72,
   "id": "66f533af",
   "metadata": {},
   "outputs": [],
   "source": [
    "def quicksort(data_list):    \n",
    "    if len(data_list) <= 1:\n",
    "        return data_list\n",
    "    else:\n",
    "        left = list()\n",
    "        right = list()\n",
    "        pivot = data_list[0]\n",
    "\n",
    "        for i in range(1, len(data_list)):\n",
    "            if pivot > data_list[i]:\n",
    "                left.append(data_list[i])\n",
    "            else:\n",
    "                right.append(data_list[i])\n",
    "        return quicksort(left) + [pivot] + quicksort(right) # left, right에 재귀"
   ]
  },
  {
   "cell_type": "code",
   "execution_count": 73,
   "id": "ba4fa6a9",
   "metadata": {},
   "outputs": [
    {
     "data": {
      "text/plain": [
       "[14, 21, 22, 23, 30, 32, 37, 49, 65, 80]"
      ]
     },
     "execution_count": 73,
     "metadata": {},
     "output_type": "execute_result"
    }
   ],
   "source": [
    "quicksort(data_list)"
   ]
  },
  {
   "cell_type": "code",
   "execution_count": 64,
   "id": "15931142",
   "metadata": {},
   "outputs": [],
   "source": [
    "# 위 코드를 list comprehension을 사용하여 표현\n",
    "def quicksort2(data_list):\n",
    "    if len(data_list) <= 1:\n",
    "        return data_list\n",
    "    pivot = data_list[0]\n",
    "    left, right = list(), list()\n",
    "    \n",
    "    left = [i for i in data_list[1:] if i <= pivot]\n",
    "    right = [i for i in data_list[1:] if i > pivot]\n",
    "    return quicksort2(left) + [pivot] + quicksort2(right)"
   ]
  },
  {
   "cell_type": "code",
   "execution_count": 65,
   "id": "c149c71f",
   "metadata": {},
   "outputs": [
    {
     "data": {
      "text/plain": [
       "[14, 21, 22, 23, 30, 32, 37, 49, 65, 80]"
      ]
     },
     "execution_count": 65,
     "metadata": {},
     "output_type": "execute_result"
    }
   ],
   "source": [
    "quicksort2(data_list)"
   ]
  },
  {
   "cell_type": "markdown",
   "id": "4b28b32e",
   "metadata": {},
   "source": [
    "### 알고리즘 분석\n",
    "- 병합정렬과 유사, 시간복잡도는 O(n log n)\n",
    "    - 단 최악의 경우\n",
    "        - 맨 처음 pivot이 가장 크거나, 가장 작으면\n",
    "        - 모든 데이터를 비교하는 상황이 나옴\n",
    "        - $O(n^2)$"
   ]
  },
  {
   "cell_type": "markdown",
   "id": "ecb0d620",
   "metadata": {},
   "source": [
    "-----"
   ]
  },
  {
   "cell_type": "markdown",
   "id": "29a96339",
   "metadata": {},
   "source": [
    "## 순차탐색(Sequential Search)"
   ]
  },
  {
   "cell_type": "markdown",
   "id": "e417e4ab",
   "metadata": {},
   "source": [
    "### 순차 탐색이란?\n",
    "- 탐색은 여러 데이터 중 원하는 데이터를 찾아내는 것을 의미\n",
    "- 데이터가 담겨있는 리스트를 앞에서부터 하나씩 비교해서 데이터를 찾는 방법"
   ]
  },
  {
   "cell_type": "code",
   "execution_count": 80,
   "id": "2900932d",
   "metadata": {},
   "outputs": [],
   "source": [
    "from random import*\n",
    "\n",
    "data_list = list()\n",
    "for i in range(10):\n",
    "    data_list.append(randint(1, 100))"
   ]
  },
  {
   "cell_type": "code",
   "execution_count": 85,
   "id": "cdca934e",
   "metadata": {},
   "outputs": [
    {
     "data": {
      "text/plain": [
       "[79, 36, 55, 19, 61, 52, 98, 90, 85, 52]"
      ]
     },
     "execution_count": 85,
     "metadata": {},
     "output_type": "execute_result"
    }
   ],
   "source": [
    "data_list"
   ]
  },
  {
   "cell_type": "code",
   "execution_count": 82,
   "id": "b38d262a",
   "metadata": {},
   "outputs": [],
   "source": [
    "def s_search(data_list, search):\n",
    "    for i in range(len(data_list)):\n",
    "        if data_list[i] == search:\n",
    "            return i\n",
    "    \n",
    "    return -1"
   ]
  },
  {
   "cell_type": "code",
   "execution_count": 86,
   "id": "975a07ea",
   "metadata": {},
   "outputs": [
    {
     "name": "stdout",
     "output_type": "stream",
     "text": [
      "-1\n",
      "3\n"
     ]
    }
   ],
   "source": [
    "print(s_search(data_list, 5))\n",
    "print(s_search(data_list, 19))"
   ]
  },
  {
   "cell_type": "markdown",
   "id": "4f46e22d",
   "metadata": {},
   "source": [
    "### 알고리즘 분석\n",
    "- 최악의 경우 리스트 길이가 n일 때 n번 비교해야 함\n",
    "    - O(n)"
   ]
  },
  {
   "cell_type": "markdown",
   "id": "a1a4fc77",
   "metadata": {},
   "source": [
    "## 이진 탐색(Binary Search)"
   ]
  },
  {
   "cell_type": "markdown",
   "id": "a1235667",
   "metadata": {},
   "source": [
    "### 이진 탐색이란?\n",
    "- 탐색할 자료를 둘로 나누어 해당 데이터가 있을만한 곳을 탐색하는 방법"
   ]
  },
  {
   "cell_type": "markdown",
   "id": "9886e0bb",
   "metadata": {},
   "source": [
    "- 다음 문제를 먼저 생각해보자\n",
    "    - 전화번호부 책에서 '심영래네 집 번호'를 찾으시오.\n",
    "    - 조건:\n",
    "        - 가장 적게 책을 펼쳐야 함.\n",
    "- 이진 탐색과 순차 탐색 비교\n",
    "![](https://blog.kakaocdn.net/dn/bJ5z1v/btqB1dv87yk/ZCi4TPFZ8KlmTTneI0FAs0/img.gif)"
   ]
  },
  {
   "cell_type": "markdown",
   "id": "0aa4c2fe",
   "metadata": {},
   "source": [
    "### 분할 정복 알고리즘과 이진 탐색\n",
    "- 분할 정복 알고리즘(Divide and Conquer)\n",
    "    - Divide: 문제를 하나 또는 둘 이상으로 나눔\n",
    "    - Conquer: 나눠진 문제가 충분히 작고, 해결이 가능하면 해결하고, 그렇지 않다면 다시 나눔\n",
    "- 이진 탐색\n",
    "    - Divide: 리스트를 두 개의 서브 리스트로 나눔\n",
    "    - Conquer\n",
    "        - 검색할 숫자(search) > 중간값 이면, 뒷 부분의 서브 리스트에서 검색할 숫자를 찾음.\n",
    "        - 검색할 숫자(search) < 중간값 이면, 앞 부분의 서브 리스트에서 검색할 숫자를 찾음."
   ]
  },
  {
   "cell_type": "markdown",
   "id": "18709049",
   "metadata": {},
   "source": [
    "### 어떻게 코드로 만들까?\n",
    "- 이진 탐색은 데이터가 정렬되어 있는 상태에서 진행\n",
    "- ex)데이터가 [20, 30, 8, 12, 20]일 때\n",
    "    - b_search(data_list, search) 함수 생성\n",
    "        - data_list는 리스트, search는 숫자\n",
    "        - data_list의 중간값을 search와 비교\n",
    "            - search < data_list이면 -> 맨 앞부터 중간까지 다시 검색(재귀)\n",
    "            - search > data_list이면 -> 중간부터 맨 뒤까지 다시 검색(재귀)\n",
    "            - 둘 다 아니라면 data_list의 중간값이 search인 경우임"
   ]
  },
  {
   "cell_type": "markdown",
   "id": "8bc6dfe3",
   "metadata": {},
   "source": [
    "### 알고리즘 구현"
   ]
  },
  {
   "cell_type": "code",
   "execution_count": 99,
   "id": "486ac767",
   "metadata": {},
   "outputs": [],
   "source": [
    "def b_search(data, search):\n",
    "    print(data)\n",
    "    if len(data) == 1:\n",
    "        if data[0] == search:\n",
    "            return True\n",
    "        else: return False\n",
    "    \n",
    "    if len(data) == 0:\n",
    "        return False\n",
    "    \n",
    "    medium = len(data) // 2\n",
    "    if search == data[medium]:\n",
    "        return True\n",
    "    if search > data[medium]:\n",
    "        return b_search(data[medium:], search)\n",
    "    else:\n",
    "        return b_search(data[:medium], search)"
   ]
  },
  {
   "cell_type": "code",
   "execution_count": 102,
   "id": "9337ef37",
   "metadata": {},
   "outputs": [],
   "source": [
    "data_list.sort()"
   ]
  },
  {
   "cell_type": "code",
   "execution_count": 103,
   "id": "b97bae23",
   "metadata": {},
   "outputs": [
    {
     "data": {
      "text/plain": [
       "[19, 36, 52, 52, 55, 61, 79, 85, 90, 98]"
      ]
     },
     "execution_count": 103,
     "metadata": {},
     "output_type": "execute_result"
    }
   ],
   "source": [
    "data_list"
   ]
  },
  {
   "cell_type": "code",
   "execution_count": 105,
   "id": "46870f16",
   "metadata": {},
   "outputs": [
    {
     "name": "stdout",
     "output_type": "stream",
     "text": [
      "[19, 36, 52, 52, 55, 61, 79, 85, 90, 98]\n",
      "[61, 79, 85, 90, 98]\n"
     ]
    },
    {
     "data": {
      "text/plain": [
       "True"
      ]
     },
     "execution_count": 105,
     "metadata": {},
     "output_type": "execute_result"
    }
   ],
   "source": [
    "b_search(data_list, 85)"
   ]
  },
  {
   "cell_type": "markdown",
   "id": "c962a13b",
   "metadata": {},
   "source": [
    "### 알고리즘 분석"
   ]
  },
  {
   "cell_type": "markdown",
   "id": "386fcab8",
   "metadata": {},
   "source": [
    "- n개의 리스트로 매번 2번 나누어 1이 될 때까지 비교 연산을 k회 진행\n",
    "    - $n * \\frac{1^k}{2} = 1$\n",
    "    - $n = 2^k = log_2n = log_22^k$\n",
    "    - $log_2n = k$\n",
    "    - 빅 오 표기법으로는 k + 1이 결국 최종 시간 복잡도임(1이 되었을 때도, 비교연산을 한 번 수행)\n",
    "        - 결국 $O(log_2n + 1)$이고, 2와 1, 상수는 삭제되므로, $O(logn)$"
   ]
  },
  {
   "cell_type": "markdown",
   "id": "5a67e3a9",
   "metadata": {},
   "source": [
    "## 이진 트리 탐색(Binary Tree Search)"
   ]
  },
  {
   "cell_type": "markdown",
   "id": "332d6f9a",
   "metadata": {},
   "source": [
    "### 트리 구조\n",
    "- 트리: Node와 Branch를 이용해서 사이클을 이루지 않도록 구성한 데이터 구조\n",
    "- 실제로 어디에 많이 사용되나?\n",
    "    - 트리 중 이진 트리(Binary Tree)형태의 구조로, 탐색(검색) 아고리즘 구현을 위해 많이 사용됨"
   ]
  },
  {
   "cell_type": "markdown",
   "id": "4647e5af",
   "metadata": {},
   "source": [
    "### 알아둘 용어\n",
    "- Node: 트리에서 데이터를 저장하는 기본 요소(데이터와 다른 연결된 노드에 대한 Branch 정보 포함)\n",
    "- Root Node: 트리 맨 위에 있는 노드\n",
    "- Level: 최상위 노드를 Level 0으로 하였을 때, 하위 Branch로 연결된 노드의 깊이를 나타냄\n",
    "- Parent Node: 어떤 노드의 다음 레벨에 연결된 노드\n",
    "- Child Node: 어떤 노드의 상위 레벨에 연결된 노드\n",
    "- Leaf Node(Terminal Node): Chile Node가 하나도 없는 노드\n",
    "- Sibling(Brother Node): 동일한 Parent Node를 가진 노드\n",
    "- Depth: 트리에서 Node가 가질 수 있는 최대 Level\n",
    "![그림](https://img1.daumcdn.net/thumb/R1280x0/?scode=mtistory2&fname=https%3A%2F%2Fblog.kakaocdn.net%2Fdn%2FdFGjNw%2Fbtrat1CPn7S%2F1RZDWszc1RfF9FE09V4a7K%2Fimg.png)"
   ]
  },
  {
   "cell_type": "markdown",
   "id": "02c9b5db",
   "metadata": {},
   "source": [
    "### 이진 트리와 이진 탐색 트리(Binary Search Tree)\n",
    "- 이진 트리: 노드의 최대 Branch가 2인 트리\n",
    "- 이진 탐색 트리(BST): 이진 트리에 다음과 같은 추가적인 조건이 있는 트리\n",
    "    - 왼쪽 노드는 해당 노드보다 작은 값, 오른쪽 노드는 해당 노드보다 큰 값을 가지고 있음\n",
    "    ![그림](https://blog.penjee.com/wp-content/uploads/2015/11/binary-search-tree-insertion-animation.gif)"
   ]
  },
  {
   "cell_type": "markdown",
   "id": "3b3102a5",
   "metadata": {},
   "source": [
    "### 자료구조 이진 탐색 트리의 장점과 주요 용도\n",
    "- 장점: 탐색 속도를 개선할 수 있음\n",
    "- 주요 용도: 데이터 검색(탐색)  \n",
    "- 이진트리 vs 배열(sorted)\n",
    "![그림](https://blog.penjee.com/wp-content/uploads/2015/11/binary-search-tree-sorted-array-animation.gif)"
   ]
  },
  {
   "cell_type": "markdown",
   "id": "24c918fb",
   "metadata": {},
   "source": [
    "### 파이썬 트리 구현"
   ]
  },
  {
   "cell_type": "code",
   "execution_count": 107,
   "id": "77d38a37",
   "metadata": {},
   "outputs": [],
   "source": [
    "# 노드 클래스\n",
    "class Node:\n",
    "    def __init__(self, value):\n",
    "        self.value = value\n",
    "        self.left, self.right = None, None\n"
   ]
  },
  {
   "cell_type": "code",
   "execution_count": 108,
   "id": "74af94d8",
   "metadata": {},
   "outputs": [],
   "source": [
    "# 이진 탐색 트리에 데이터 넣기\n",
    "class NodeMgmt:\n",
    "    def __init__(self, head):\n",
    "        self.head = head # head 노드를 인수로 받아 저장\n",
    "    \n",
    "    def insert(self, value):\n",
    "        self.current_node = self.head # Root 부터 시작\n",
    "        while True:\n",
    "            # 입력된 value가 현재 value보다 클 떄(오른쪽 노드로 갈 때)\n",
    "            if value < self.current_node.value: \n",
    "                # 현재 left가 있으면, 해당 노드로 이동\n",
    "                # 없으면, left에 새로운 노드 생성(인수로 받음 value가 들어간.)\n",
    "                if self.current_node.left != None: \n",
    "                    self.current_node = self.current_node.left\n",
    "                else:\n",
    "                    self.current_node.left = Node(value)\n",
    "                    break\n",
    "            # 왼쪽을 갈 때\n",
    "            else:\n",
    "                if self.current_node.right != None:\n",
    "                    self.current_node = self.current_node.right\n",
    "                else:\n",
    "                    self.current_node.right = Node(value)\n",
    "                    break"
   ]
  },
  {
   "cell_type": "code",
   "execution_count": 109,
   "id": "97d741a4",
   "metadata": {},
   "outputs": [],
   "source": [
    "# 노드 만들고\n",
    "head = Node(1)\n",
    "binary_tree = NodeMgmt(head)"
   ]
  },
  {
   "cell_type": "code",
   "execution_count": 110,
   "id": "431bf8ad",
   "metadata": {},
   "outputs": [],
   "source": [
    "# 데이터 넣자\n",
    "binary_tree.insert(2)"
   ]
  },
  {
   "cell_type": "code",
   "execution_count": 111,
   "id": "ba0c9b64",
   "metadata": {},
   "outputs": [],
   "source": [
    "# 이진 탐색 트리 탐색하기\n",
    "# 이진 탐색 트리에 데이터 넣기\n",
    "class NodeMgmt:\n",
    "    def __init__(self, head):\n",
    "        self.head = head # head 노드를 인수로 받아 저장\n",
    "    \n",
    "    def insert(self, value):\n",
    "        self.current_node = self.head # Root 부터 시작\n",
    "        while True:\n",
    "            # 입력된 value가 현재 value보다 클 떄(오른쪽 노드로 갈 때)\n",
    "            if value < self.current_node.value: \n",
    "                # 현재 left가 있으면, 해당 노드로 이동\n",
    "                # 없으면, left에 새로운 노드 생성(인수로 받음 value가 들어간.)\n",
    "                if self.current_node.left != None: \n",
    "                    self.current_node = self.current_node.left\n",
    "                else:\n",
    "                    self.current_node.left = Node(value)\n",
    "                    break\n",
    "            # 왼쪽을 갈 때\n",
    "            else:\n",
    "                if self.current_node.right != None:\n",
    "                    self.current_node = self.current_node.right\n",
    "                else:\n",
    "                    self.current_node.right = Node(value)\n",
    "                    break\n",
    "                    \n",
    "    def search(self, value):\n",
    "        self.current_node = self.head # Root부터 시작\n",
    "        while self.current_node:\n",
    "            # 현재 value가 입력된 value면 True 리턴\n",
    "            # 현재 value가 더 크면 오른쪽 노드로 이동\n",
    "            # 현재 value가 더 작으면 왼쪽 노드로 이동\n",
    "            if self.current_node.value == value:\n",
    "                return True\n",
    "            elif value < self.current_node.value:\n",
    "                self.current_node = self.current_node.left\n",
    "            else:\n",
    "                self.current_node = self.current_node.right\n",
    "        return False # 없으면 False 리턴"
   ]
  },
  {
   "cell_type": "code",
   "execution_count": 112,
   "id": "cca89884",
   "metadata": {},
   "outputs": [],
   "source": [
    "# 노드 만들고\n",
    "head = Node(1)\n",
    "binary_tree = NodeMgmt(head)\n",
    "# 데이터 넣자\n",
    "binary_tree.insert(2)\n",
    "binary_tree.insert(1)\n",
    "binary_tree.insert(5)\n",
    "binary_tree.insert(-3)\n",
    "binary_tree.insert(9)"
   ]
  },
  {
   "cell_type": "code",
   "execution_count": 113,
   "id": "227113fa",
   "metadata": {},
   "outputs": [
    {
     "data": {
      "text/plain": [
       "True"
      ]
     },
     "execution_count": 113,
     "metadata": {},
     "output_type": "execute_result"
    }
   ],
   "source": [
    "binary_tree.search(-3)"
   ]
  },
  {
   "cell_type": "markdown",
   "id": "b8f70939",
   "metadata": {},
   "source": [
    "#### 이진 탐색 트리 삭제\n",
    "- 매우 복잡함. 경우를 나눠서 이해해보자"
   ]
  },
  {
   "cell_type": "markdown",
   "id": "9251a96a",
   "metadata": {},
   "source": [
    "1. Leaf Node 삭제\n",
    "- Leaf Node: Child Node가 없는 Node\n",
    "- 삭제할 Node의 Parent Node가 삭제할 Node를 가르키지 않도록 한다.\n",
    "![그림](https://img1.daumcdn.net/thumb/R1280x0/?scode=mtistory2&fname=https%3A%2F%2Fblog.kakaocdn.net%2Fdn%2FcC69ao%2FbtraCkHC3Ax%2FoYkoakpROzmRDutK9e9MTK%2Fimg.png)"
   ]
  },
  {
   "cell_type": "markdown",
   "id": "f5af0263",
   "metadata": {},
   "source": [
    "2. Chile Node가 하나인 Node 삭제\n",
    "- 삭제할 Node의 Parent Node가 삭제할 Node의 Child Node를 가리키도록 한다.\n",
    "![그림](https://img1.daumcdn.net/thumb/R1280x0/?scode=mtistory2&fname=https%3A%2F%2Fblog.kakaocdn.net%2Fdn%2F2Mg7N%2Fbtrax8g5FvJ%2FdHUltRUr28qJoZALoVkvbk%2Fimg.png)"
   ]
  },
  {
   "cell_type": "markdown",
   "id": "dc1b3b1e",
   "metadata": {},
   "source": [
    "3. Chile Node가 두 개인 Node 삭제\n",
    "    1. 삭제할 Node의 오른쪽 자식 중, 가장 작은 값을 삭제할 Node의 Parent Node가 가리키도록 한다.\n",
    "    2. 삭제할 Node의 왼쪽 자식 중, 가장 큰 값을 삭제할 Node의 Parent Node가 가리키도록 한다.\n",
    "    ![그림](https://img1.daumcdn.net/thumb/R1280x0/?scode=mtistory2&fname=https%3A%2F%2Fblog.kakaocdn.net%2Fdn%2Fef7U05%2Fbtq9kRgo73D%2FkofVkv1BketHB79L73I7BK%2Fimg.png)"
   ]
  },
  {
   "cell_type": "markdown",
   "id": "899cc466",
   "metadata": {},
   "source": [
    "#### 파이썬 트리 삭제 구현"
   ]
  },
  {
   "cell_type": "code",
   "execution_count": 183,
   "id": "38cbce4c",
   "metadata": {},
   "outputs": [],
   "source": [
    "# NodeMgmt\n",
    "# 참고만\n",
    "class NodeMgmt:\n",
    "    def __init__(self, head):\n",
    "        self.head = head # head 노드를 인수로 받아 저장\n",
    "    \n",
    "    def insert(self, value):\n",
    "        self.current_node = self.head # Root 부터 시작\n",
    "        while True:\n",
    "            # 입력된 value가 현재 value보다 클 떄(오른쪽 노드로 갈 때)\n",
    "            if value < self.current_node.value: \n",
    "                # 현재 left가 있으면, 해당 노드로 이동\n",
    "                # 없으면, left에 새로운 노드 생성(인수로 받음 value가 들어간.)\n",
    "                if self.current_node.left != None: \n",
    "                    self.current_node = self.current_node.left\n",
    "                else:\n",
    "                    self.current_node.left = Node(value)\n",
    "                    break\n",
    "            # 왼쪽을 갈 때\n",
    "            else:\n",
    "                if self.current_node.right != None:\n",
    "                    self.current_node = self.current_node.right\n",
    "                else:\n",
    "                    self.current_node.right = Node(value)\n",
    "                    break\n",
    "                    \n",
    "    def search(self, value):\n",
    "        self.current_node = self.head # Root부터 시작\n",
    "        while self.current_node:\n",
    "            # 현재 value가 입력된 value면 True 리턴\n",
    "            # 현재 value가 더 크면 오른쪽 노드로 이동\n",
    "            # 현재 value가 더 작으면 왼쪽 노드로 이동\n",
    "            if self.current_node.value == value:\n",
    "                return True\n",
    "            elif value < self.current_node.value:\n",
    "                self.current_node = self.current_node.left\n",
    "            else:\n",
    "                self.current_node = self.current_node.right\n",
    "        return False # 없으면 False 리턴\n",
    "    \n",
    "    \n",
    "    def delete(self, value):\n",
    "        # 0. 삭제할 Node가 없는 경우 False를 리턴 후 함수 종료\n",
    "        searched = False\n",
    "        self.current_node, self.parent = self.head, self.head\n",
    "\n",
    "        while self.current_node:\n",
    "            if self.current_node.value == value:\n",
    "                searched = True\n",
    "                break\n",
    "            elif value < self.current_node.value:\n",
    "                self.parent = self.current_node\n",
    "                self.current_node = self.current_node.left # 왼쪽 노드로 이동\n",
    "            else:\n",
    "                self.parent = self.current_node\n",
    "                self.current_node = self.current_node.right # 오른쪽 노드로 이동\n",
    "        \n",
    "        if searched == False:\n",
    "            return False\n",
    "        \n",
    "        # case1. 삭제할 Node가 Leaf Node인 경우\n",
    "        if self.current_node.left == None & self.current_node.right == None:\n",
    "            # 현재 value가 parent 노드의 value보다 작으면 parent 노드의 left 를 삭제\n",
    "            if value < self.parent.value:\n",
    "                self.parent.left = None\n",
    "            else:\n",
    "                self.parent.right = None\n",
    "                \n",
    "        # case2. 삭제할 Node가 Child Node를 한 개 가지고 있을 경우\n",
    "        # left\n",
    "        elif self.current_node.left != None & self.current_node.right == None:\n",
    "            if value < self.parent.value:\n",
    "                self.parent.left = self.cuurent_node.left\n",
    "            else: \n",
    "                self.parent.right = self.cuurent_node.left\n",
    "        # right\n",
    "        elif self.current_node.left == None & self.current_node.right != None:\n",
    "            if value < self.parent.value:\n",
    "                self.parent.left = self.cuurent_node.right\n",
    "            else: \n",
    "                self.parent.right = self.cuurent_node.right\n",
    "                \n",
    "        # case3. 삭제할 Node가 Child Node를 두 개 가지고 있을 경우\n",
    "        elif self.current_node.left != None & self.current_node.right != None:\n",
    "        \n",
    "        # case3.1: 삭제할 Node의 오른쪽 자식 중 가장 작은 값을 삭제할 Node의 Parent Node가 가리키도록 한다\n",
    "            if value < self.parent.value: \n",
    "                self.change_node = self.current_node.right \n",
    "                self.change_node_parent = self.current_node.right \n",
    "                while self.change_node.left != None:\n",
    "                    self.change_node_parent = self.change_node \n",
    "                    self.change_node = self.change_node.left \n",
    "                if self.change_node.right != None:\n",
    "                    self.change_node_parent.left = self.change_node.right \n",
    "                else:\n",
    "                    self.change_node_parent.left = None\n",
    "                self.parent.left = self.change_node\n",
    "                self.change_node.right = self.current_node.right\n",
    "                self.change_node.left = self.change_node.left\n",
    "        \n",
    "        # case3.2: 삭제할 Node의 왼쪽 자식 중, 가장 큰 값을 삭제할 Node의 Parent Node가 가리키도록 한다.\n",
    "            else: \n",
    "                self.change_node = self.current_node.right \n",
    "                self.change_node_parent = self.current_node.right \n",
    "                while self.change_node.left != None:\n",
    "                    self.change_node_parent = self.change_node \n",
    "                    self.change_node = self.change_node.left \n",
    "                if self.change_node.right != None:\n",
    "                    self.change_node_parent.left = self.change_node.right\n",
    "                else:\n",
    "                    self.change_node_parent.left = None\n",
    "                    self.parent.right = self.change_node \n",
    "                    self.change_node.right = self.current_node.right \n",
    "                    self.change_node.left = self.current_node.left \n",
    "                    \n",
    "        return True            "
   ]
  },
  {
   "cell_type": "markdown",
   "id": "9fa8b2f5",
   "metadata": {},
   "source": [
    "### 이진 탐색 트리의 시간복잡도와 단점"
   ]
  },
  {
   "cell_type": "markdown",
   "id": "1bb93768",
   "metadata": {},
   "source": [
    "1. 시간복잡도(탐색시)\n",
    "- depth를 h라고 표기한다면, O(h)\n",
    "- n개의 노드를 가진다면 h = log<sub>2</sub>n에 개까우므로, 시간 복잡도는 O(logn)\n",
    "    - 참고: 빅오 표기법에서 logn에서의 log 밑은 10이 아니라 2임 -> 한번 실행시 50%의 실행할 수도 있는 명령을 제거한다는 의미(50%의 실행시간을 단축)"
   ]
  },
  {
   "cell_type": "markdown",
   "id": "cb309e2f",
   "metadata": {},
   "source": [
    "2. 단점\n",
    "- 평균 시간 복잡도는 O(logn) 이지만 ,\n",
    "- 이는 트리가 균형잡혀 있을 때의 평균 시간 복잡도이며, \n",
    "- 다음 사진과 같이 구성되어 있을 경우, 최악의 경우 링크드 리스트 등과 동일한 성능을 보여줌(O(n))  \n",
    "![그림](https://img1.daumcdn.net/thumb/R1280x0/?scode=mtistory2&fname=https%3A%2F%2Fblog.kakaocdn.net%2Fdn%2FHLi3D%2FbtraEfeW7PE%2FQmpZJ0WvDxluonwKwqvbR0%2Fimg.png)"
   ]
  },
  {
   "cell_type": "code",
   "execution_count": null,
   "id": "5306eaf1",
   "metadata": {},
   "outputs": [],
   "source": []
  }
 ],
 "metadata": {
  "kernelspec": {
   "display_name": "Python 3",
   "language": "python",
   "name": "python3"
  },
  "language_info": {
   "codemirror_mode": {
    "name": "ipython",
    "version": 3
   },
   "file_extension": ".py",
   "mimetype": "text/x-python",
   "name": "python",
   "nbconvert_exporter": "python",
   "pygments_lexer": "ipython3",
   "version": "3.8.8"
  },
  "toc": {
   "base_numbering": 1,
   "nav_menu": {},
   "number_sections": true,
   "sideBar": true,
   "skip_h1_title": false,
   "title_cell": "Table of Contents",
   "title_sidebar": "Contents",
   "toc_cell": false,
   "toc_position": {
    "height": "calc(100% - 180px)",
    "left": "10px",
    "top": "150px",
    "width": "303.837px"
   },
   "toc_section_display": true,
   "toc_window_display": true
  }
 },
 "nbformat": 4,
 "nbformat_minor": 5
}
