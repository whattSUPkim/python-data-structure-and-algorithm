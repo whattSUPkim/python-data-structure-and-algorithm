{
 "cells": [
  {
   "cell_type": "markdown",
   "id": "79fb0f31",
   "metadata": {},
   "source": [
    ">'잔재미코딩' 파이썬 자료를 공부한 내용입니다."
   ]
  },
  {
   "cell_type": "markdown",
   "id": "275cb735",
   "metadata": {},
   "source": [
    "# 파이썬 자료구조"
   ]
  },
  {
   "cell_type": "markdown",
   "id": "dd5e5fc7",
   "metadata": {},
   "source": [
    "## 데이터 구조와 알고리즘이란?"
   ]
  },
  {
   "cell_type": "markdown",
   "id": "1010ad86",
   "metadata": {},
   "source": [
    "### 데이터 구조"
   ]
  },
  {
   "cell_type": "markdown",
   "id": "d06e0330",
   "metadata": {},
   "source": [
    "- 대량 데이터를 효율적으로 관리할 수 있는 데이터 구조(= 자료구조)\n",
    "- 효율적인 데이터 처리를 위해 데이터의 특성에 따라 체계적으로 데이터를 구조화하는 것\n",
    "    - ex)\n",
    "        - 우편번호: 5자리 우편번호에서 앞 3자리는 시, 군, 자치구를 표기, 뒤 2자리는 일련번호로 구성\n",
    "        - 학생관리: 학년, 반, 번호를 학생에게 부여해서 학생부를 관리"
   ]
  },
  {
   "cell_type": "markdown",
   "id": "f3f43c5b",
   "metadata": {},
   "source": [
    "### 알고리즘 이란?"
   ]
  },
  {
   "cell_type": "markdown",
   "id": "cfd82e4b",
   "metadata": {},
   "source": [
    "- 알고리즘: 어떤 문제를 풀기 위한 절차/방법\n",
    "- 어떤 문제에 대해 특정한 '입력'을 넣으면 원하는 '출력'을 얻을 수 있도록 만드는 프로그래밍"
   ]
  },
  {
   "cell_type": "markdown",
   "id": "f8e368a6",
   "metadata": {},
   "source": [
    "## 알고리즘 복잡도 표현 방법"
   ]
  },
  {
   "cell_type": "markdown",
   "id": "68cbadb9",
   "metadata": {},
   "source": [
    "1. 알고리즘 복잡도 계산이 필요한 이유 : 하나의 문제를 푸는 알고리즘은 다양할 수 있음\n",
    "    - 정수의 절대값 구하기\n",
    "        - 방법 1. 정수값을 제곱한 값에 다시 루트를 씌우기\n",
    "        - 방법 2. 정수가 음수인지 확인해서 음수일 때만 -1을 곱하기\n",
    "        > 더 좋은 알고리즘을 활용하기 위해 복잡도를 정의하고 계산함\n",
    "        \n",
    "2. 알고리즘 복잡도 계산 항목\n",
    "    1. 시간 복잡도: 알고리즘 실행 속도(중요!)\n",
    "        - 주요 요소: 반복문\n",
    "        - 입력의 크기가 커질수록 반복문이 알고리즘 수행 시간을 지배함\n",
    "    2. 공간 복잡도: 알고리즘이 사용하는 메모리 사이즈    "
   ]
  },
  {
   "cell_type": "markdown",
   "id": "016e3c65",
   "metadata": {},
   "source": [
    "- 알고리즘 성능 표기법\n",
    "    - **Big O 표기법: O(N)**\n",
    "        - 알고리즘 최악의 실행 시간을 표기\n",
    "        - 일반적으로 많이 사용\n",
    "        - 아무리 최악의 상황이라도, 이정도의 성능은 보장한다는 의미이기 떄문\n",
    "    - $\\Omega$ 표기법: $\\Omega$(N)\n",
    "        - 오메가 표기법은 알고리즘 최상의 실행 시간을 표기\n",
    "    - $\\Theta$ 표기법: $\\Theta$(N)\n",
    "        - 세타 표기법은 알고리즘 평균 실행 시간을 표기\n",
    "    > 시간 복잡도 계산은 반복문이 핷미 요소임을 인지하고, Big O 표기법 중심으로 익히면 됨"
   ]
  },
  {
   "cell_type": "markdown",
   "id": "2a5afb0f",
   "metadata": {},
   "source": [
    "3. 대문자 O 표기법\n",
    "    - 빅 오 표기법\n",
    "    - O(입력)\n",
    "        - 입력 n에 따라 결정되는 시간 복잡도 함수\n",
    "        - O(1), O(logn), O(n), O(nlogn), O(n<sup>2</sup>), O(2<sup>n</sup>), O(n!) 등으로 표기\n",
    "        - 입력 n의 크기에 따라 기하급수적으로 시간 복잡도가 늘어날 수 있음\n",
    "            - O(1) < O(logn) < O(n) < O(nlogn) < O(n<sup>2</sup>) < O(2<sup>n</sup>) < O(n!)\n",
    "    - 단순하게 입력 n에 따라, 몇번 실행이 되는지를 계산하면 됨\n",
    "        - n이 1이든 100이든, 1000이든, 10000이든 실행을\n",
    "            - 무조건 2회(상수회) 실행한다: O(1)\n",
    "            - n에 따라 n번, n + 10번, 3n + 10번 등 실행한다: O(n)\n",
    "            - n에 따라, n<sup>2</sup>번, n<sup>2</sup> + 1000번, 또는 100n<sup>2</sup> - 100번 등 실행한다: O(n<sup>2</sup>)\n",
    "    - 빅 오 입력값 표기 방법\n",
    "        ex)\n",
    "        - 만약 시간 복잡도 함수가 2n<sup>2</sup> + 3n 이라면\n",
    "            - 가장 높은 차수는 2n<sup>2</sup>\n",
    "            - 상수는 실제 큰 영향이 없음\n",
    "            - 결국 빅 오 표기법으론 O(n<sup>2</sup>)"
   ]
  },
  {
   "cell_type": "markdown",
   "id": "c9a96082",
   "metadata": {},
   "source": [
    "4. 실제 알고리즘으로 시간 복잡도와 빅 오 표기법 알아보기\n",
    "> 연습: 1부터 n까지의 합을 구하는 알고리즘 작성1"
   ]
  },
  {
   "cell_type": "code",
   "execution_count": 1,
   "id": "164ad6ea",
   "metadata": {},
   "outputs": [],
   "source": [
    "def sum_all(n):\n",
    "    total = 0\n",
    "    for num in range(1, n + 1):\n",
    "        total += num\n",
    "    return total"
   ]
  },
  {
   "cell_type": "code",
   "execution_count": 6,
   "id": "be156edc",
   "metadata": {},
   "outputs": [
    {
     "data": {
      "text/plain": [
       "1275.0"
      ]
     },
     "execution_count": 6,
     "metadata": {},
     "output_type": "execute_result"
    }
   ],
   "source": [
    "sum_all(50)"
   ]
  },
  {
   "cell_type": "markdown",
   "id": "6cfab98e",
   "metadata": {},
   "source": [
    "- 시간복잡도\n",
    "    - 입력 n에 따라 덧셈을 n번 해야 함(반복문!)\n",
    "    - 시간 복잡도: n, 빅오 표기법으로는 O(n)"
   ]
  },
  {
   "cell_type": "markdown",
   "id": "f4b212f5",
   "metadata": {},
   "source": [
    "> 연습: 1부터 n까지의 합을 구하는 알고리즘 작성2"
   ]
  },
  {
   "cell_type": "code",
   "execution_count": 3,
   "id": "f13438d9",
   "metadata": {},
   "outputs": [],
   "source": [
    "def sum_all(n):\n",
    "    return n * (n + 1) / 2"
   ]
  },
  {
   "cell_type": "code",
   "execution_count": 7,
   "id": "466a4b1d",
   "metadata": {},
   "outputs": [
    {
     "data": {
      "text/plain": [
       "1275.0"
      ]
     },
     "execution_count": 7,
     "metadata": {},
     "output_type": "execute_result"
    }
   ],
   "source": [
    "sum_all(50)"
   ]
  },
  {
   "cell_type": "markdown",
   "id": "f0501e45",
   "metadata": {},
   "source": [
    "- 시간복잡도\n",
    "    - 입력 n이 어떻든 간에, 곱셈/덧셈/나눗셈 하면 됨(반복문이 없음!)\n",
    "    - 시간 복잡도: 1, 빅오 표기법으로는 O(1)"
   ]
  },
  {
   "cell_type": "markdown",
   "id": "e2e66d68",
   "metadata": {},
   "source": [
    "## 배열(Array)\n",
    "- 데이터를 나열하고, 각 데이터를 인덱스에 대응하도록 구성한 데이터 구조\n",
    "- list"
   ]
  },
  {
   "cell_type": "markdown",
   "id": "b7c78ad3",
   "metadata": {},
   "source": [
    "1. 배열이 왜 필요할까?\n",
    "    - 장점\n",
    "        1. 같은 종류의 데이터를 순차적으로 저장\n",
    "        2. 빠른 접근 가능\n",
    "    - 단점\n",
    "        1. 추가/삭제가 쉽지 않음\n",
    "        2. 미리 최대 길이를 지정해야 함"
   ]
  },
  {
   "cell_type": "markdown",
   "id": "964c3e1c",
   "metadata": {},
   "source": [
    "2. 파이썬과 배열\n",
    "    - 파이썬 리스트 활용"
   ]
  },
  {
   "cell_type": "code",
   "execution_count": 11,
   "id": "4f583e45",
   "metadata": {},
   "outputs": [
    {
     "name": "stdout",
     "output_type": "stream",
     "text": [
      "[1, 2, 3, 4, 5]\n",
      "1\n"
     ]
    }
   ],
   "source": [
    "# 1차원 배열\n",
    "data = [1, 2, 3, 4, 5]\n",
    "print(data)\n",
    "print(data[0])"
   ]
  },
  {
   "cell_type": "code",
   "execution_count": 14,
   "id": "baa1410b",
   "metadata": {},
   "outputs": [
    {
     "name": "stdout",
     "output_type": "stream",
     "text": [
      "[[1, 2, 3], [4, 5, 6], [7, 8, 9]]\n",
      "[1, 2, 3]\n",
      "6\n"
     ]
    }
   ],
   "source": [
    "# 2차원 배열\n",
    "data = [[1, 2, 3], [4, 5, 6], [7, 8, 9]]\n",
    "print(data)\n",
    "print(data[0])\n",
    "print(data[1][2])"
   ]
  },
  {
   "cell_type": "markdown",
   "id": "798edc87",
   "metadata": {},
   "source": [
    "##  큐(Queue)"
   ]
  },
  {
   "cell_type": "markdown",
   "id": "0852b7a9",
   "metadata": {},
   "source": [
    "1. 큐 구조\n",
    "    - 줄을 서는 행위와 유사\n",
    "    - 가장 먼저 넣은 데이터를 가장 먼저 꺼낼 수 있는 구조(선입선출)\n",
    "    - 스택과 꺼내는 순서가 반대"
   ]
  },
  {
   "cell_type": "markdown",
   "id": "003c0419",
   "metadata": {},
   "source": [
    "2. 용어\n",
    "    1. Enqueue: 큐에 데이터를 넣는 것(맨 뒤로)\n",
    "    2. Dequeue: 큐에서 데이터를 꺼내는 것(맨 앞에서부터)"
   ]
  },
  {
   "cell_type": "markdown",
   "id": "861e6af1",
   "metadata": {},
   "source": [
    "3. 파이썬 queue 라이브러리 활용하여 큐 자료구조 사용하기\n",
    "    - queue 라이브러리에는 다양한 큐 구조로 `Queue()`, `LifoQueue()`, `PriorityQueue()` 제공\n",
    "        - Queue(): 가장 일반적인 큐 자료구조\n",
    "        - LifoQueue(): 나중에 입력된 데이터가 먼저 출력되는 구조(스택 구조라고 보면 됨)\n",
    "        - PriorityQueue(): 데이터마다 우선순위를 넣어서, 우선순위가 높은 순으로 데이터 출력"
   ]
  },
  {
   "cell_type": "code",
   "execution_count": 27,
   "id": "4ca2c525",
   "metadata": {},
   "outputs": [],
   "source": [
    "# Queue()\n",
    "import queue\n",
    "\n",
    "data = queue.Queue()"
   ]
  },
  {
   "cell_type": "code",
   "execution_count": 38,
   "id": "3802f61c",
   "metadata": {},
   "outputs": [],
   "source": [
    "data.put('Kim')\n",
    "data.put(100)"
   ]
  },
  {
   "cell_type": "code",
   "execution_count": 39,
   "id": "3794155c",
   "metadata": {},
   "outputs": [
    {
     "data": {
      "text/plain": [
       "2"
      ]
     },
     "execution_count": 39,
     "metadata": {},
     "output_type": "execute_result"
    }
   ],
   "source": [
    "data.qsize()"
   ]
  },
  {
   "cell_type": "code",
   "execution_count": 40,
   "id": "2692388f",
   "metadata": {},
   "outputs": [
    {
     "data": {
      "text/plain": [
       "'Kim'"
      ]
     },
     "execution_count": 40,
     "metadata": {},
     "output_type": "execute_result"
    }
   ],
   "source": [
    "data.get()"
   ]
  },
  {
   "cell_type": "code",
   "execution_count": 41,
   "id": "381f6d4b",
   "metadata": {},
   "outputs": [
    {
     "data": {
      "text/plain": [
       "1"
      ]
     },
     "execution_count": 41,
     "metadata": {},
     "output_type": "execute_result"
    }
   ],
   "source": [
    "data.qsize() # 하나 뺴 감"
   ]
  },
  {
   "cell_type": "code",
   "execution_count": 42,
   "id": "77c68434",
   "metadata": {},
   "outputs": [
    {
     "data": {
      "text/plain": [
       "100"
      ]
     },
     "execution_count": 42,
     "metadata": {},
     "output_type": "execute_result"
    }
   ],
   "source": [
    "data.get()"
   ]
  },
  {
   "cell_type": "code",
   "execution_count": 43,
   "id": "e45d8206",
   "metadata": {},
   "outputs": [],
   "source": [
    "# LifoQueue()\n",
    "import queue\n",
    "data = queue.LifoQueue()\n",
    "data.put('Kim')\n",
    "data.put(100)"
   ]
  },
  {
   "cell_type": "code",
   "execution_count": 44,
   "id": "4119b182",
   "metadata": {},
   "outputs": [
    {
     "data": {
      "text/plain": [
       "2"
      ]
     },
     "execution_count": 44,
     "metadata": {},
     "output_type": "execute_result"
    }
   ],
   "source": [
    "data.qsize()"
   ]
  },
  {
   "cell_type": "code",
   "execution_count": 45,
   "id": "cb852b78",
   "metadata": {},
   "outputs": [
    {
     "data": {
      "text/plain": [
       "100"
      ]
     },
     "execution_count": 45,
     "metadata": {},
     "output_type": "execute_result"
    }
   ],
   "source": [
    "data.get()"
   ]
  },
  {
   "cell_type": "code",
   "execution_count": 46,
   "id": "a9a2af39",
   "metadata": {},
   "outputs": [
    {
     "data": {
      "text/plain": [
       "'Kim'"
      ]
     },
     "execution_count": 46,
     "metadata": {},
     "output_type": "execute_result"
    }
   ],
   "source": [
    "data.get()"
   ]
  },
  {
   "cell_type": "code",
   "execution_count": 51,
   "id": "cb456ca7",
   "metadata": {},
   "outputs": [],
   "source": [
    "# PriorityQueue()\n",
    "import queue\n",
    "\n",
    "data = queue.PriorityQueue()\n",
    "data.put((10, 'korea'))\n",
    "data.put((5, '100'))\n",
    "data.put((15, 'china'))"
   ]
  },
  {
   "cell_type": "code",
   "execution_count": 52,
   "id": "d2687423",
   "metadata": {},
   "outputs": [
    {
     "data": {
      "text/plain": [
       "3"
      ]
     },
     "execution_count": 52,
     "metadata": {},
     "output_type": "execute_result"
    }
   ],
   "source": [
    "data.qsize()"
   ]
  },
  {
   "cell_type": "code",
   "execution_count": 53,
   "id": "4fe8fbe7",
   "metadata": {},
   "outputs": [
    {
     "data": {
      "text/plain": [
       "(5, '100')"
      ]
     },
     "execution_count": 53,
     "metadata": {},
     "output_type": "execute_result"
    }
   ],
   "source": [
    "data.get()"
   ]
  },
  {
   "cell_type": "code",
   "execution_count": 54,
   "id": "728721f1",
   "metadata": {},
   "outputs": [
    {
     "data": {
      "text/plain": [
       "(10, 'korea')"
      ]
     },
     "execution_count": 54,
     "metadata": {},
     "output_type": "execute_result"
    }
   ],
   "source": [
    "data.get()"
   ]
  },
  {
   "cell_type": "code",
   "execution_count": 55,
   "id": "eae89d7d",
   "metadata": {},
   "outputs": [
    {
     "data": {
      "text/plain": [
       "(15, 'china')"
      ]
     },
     "execution_count": 55,
     "metadata": {},
     "output_type": "execute_result"
    }
   ],
   "source": [
    "data.get()"
   ]
  },
  {
   "cell_type": "markdown",
   "id": "5b3d00dc",
   "metadata": {},
   "source": [
    "참고: 어디에 큐가 많이 쓰일까?\n",
    "- 멀티 태스킹을 위한 프로세스 스케쥴링 방식을 구현하기 위해 많이 사용됨(운영체제)"
   ]
  },
  {
   "cell_type": "markdown",
   "id": "c8433b97",
   "metadata": {},
   "source": [
    "##  스택(Stack)"
   ]
  },
  {
   "cell_type": "markdown",
   "id": "5b267d86",
   "metadata": {},
   "source": [
    "1. 스택 구조\n",
    "    - 데이터를 제한적으로 접근할 수 있는 구조\n",
    "        - 한쪽 끝에서만 자료를 넣거나 뺄 수 있는 구조\n",
    "    - 가장 나중에 쌓은 데이터를 가장 먼저 빼낼 수 있는 데이터 구조\n",
    "        - 선입후출, 후입선출\n",
    "    - 대표적인 스택의 활용\n",
    "        - 컴퓨터 내부의 프로세스 구조의 함수 구동 방식\n",
    "    - 주요기능\n",
    "      - push(): 데이터를 스택에 넣기\n",
    "      - pop(): 데이터를 스택에서 꺼내기"
   ]
  },
  {
   "cell_type": "markdown",
   "id": "af29fdff",
   "metadata": {},
   "source": [
    "2. 스택 구조와 프로세스 스택\n",
    "    - 스택 구조는 프로세스 실행 구조의 가장 기본\n",
    "        - 함수 호출시 프로세스 실행 구조를 스택과 비교해서 이해 필요"
   ]
  },
  {
   "cell_type": "code",
   "execution_count": 56,
   "id": "3e713f67",
   "metadata": {},
   "outputs": [],
   "source": [
    "# 재귀 함수\n",
    "def recursive(data):\n",
    "    if data < 0:\n",
    "        print('ended')\n",
    "    else:\n",
    "        print(data)\n",
    "        recursive(data-1)\n",
    "        print('returned', data)"
   ]
  },
  {
   "cell_type": "code",
   "execution_count": 58,
   "id": "ff44f041",
   "metadata": {},
   "outputs": [
    {
     "name": "stdout",
     "output_type": "stream",
     "text": [
      "3\n",
      "2\n",
      "1\n",
      "0\n",
      "ended\n",
      "returned 0\n",
      "returned 1\n",
      "returned 2\n",
      "returned 3\n"
     ]
    }
   ],
   "source": [
    "recursive(3) # 바깥 쪽으로 트리가 생성되고, 트리 바깥 부분부터 처리해서 올라옴"
   ]
  },
  {
   "cell_type": "markdown",
   "id": "4c7c6c1d",
   "metadata": {},
   "source": [
    "3. 자료 구조 스택의 장단점\n",
    "    - 장점\n",
    "        - 구조가 단순해서, 구현이 쉽다.\n",
    "        - 데이터 저장/읽기 속도가 빠르다\n",
    "    - 단점(일반적인 스택 구현시)\n",
    "        - 데이터 최대 갯수를 미리 정해야 한다.\n",
    "            - 파이썬의 경우 재귀 함수는 1000번 까지만 호출 가능함\n",
    "        - 저장 공간의 낭비가 발생할 수 있음\n",
    "            - 미리 최대 갯수만큼 저장공간을 확보해야 함  \n",
    "            \n",
    "> 스택은 단순하고 빠른 성능을 위해 사용되므로, 보통 배열 구조를 활용해서 구현하는 것이 일반적임. "
   ]
  },
  {
   "cell_type": "markdown",
   "id": "b8249b30",
   "metadata": {},
   "source": [
    "4. 파이썬 리스트로 스택 사용해보기\n",
    "    - append, pop"
   ]
  },
  {
   "cell_type": "code",
   "execution_count": 59,
   "id": "3cb689a5",
   "metadata": {},
   "outputs": [],
   "source": [
    "data = list()\n",
    "data.append(1)\n",
    "data.append(2)\n",
    "data.append(3)"
   ]
  },
  {
   "cell_type": "code",
   "execution_count": 60,
   "id": "1e3c9b19",
   "metadata": {},
   "outputs": [
    {
     "data": {
      "text/plain": [
       "[1, 2, 3]"
      ]
     },
     "execution_count": 60,
     "metadata": {},
     "output_type": "execute_result"
    }
   ],
   "source": [
    "data"
   ]
  },
  {
   "cell_type": "code",
   "execution_count": 61,
   "id": "f6168626",
   "metadata": {},
   "outputs": [
    {
     "data": {
      "text/plain": [
       "3"
      ]
     },
     "execution_count": 61,
     "metadata": {},
     "output_type": "execute_result"
    }
   ],
   "source": [
    "data.pop()"
   ]
  },
  {
   "cell_type": "code",
   "execution_count": 62,
   "id": "cae1b93c",
   "metadata": {},
   "outputs": [
    {
     "data": {
      "text/plain": [
       "2"
      ]
     },
     "execution_count": 62,
     "metadata": {},
     "output_type": "execute_result"
    }
   ],
   "source": [
    "data.pop()"
   ]
  },
  {
   "cell_type": "code",
   "execution_count": 63,
   "id": "3b2aa220",
   "metadata": {},
   "outputs": [
    {
     "data": {
      "text/plain": [
       "1"
      ]
     },
     "execution_count": 63,
     "metadata": {},
     "output_type": "execute_result"
    }
   ],
   "source": [
    "data.pop()"
   ]
  },
  {
   "cell_type": "code",
   "execution_count": 64,
   "id": "35df48ac",
   "metadata": {},
   "outputs": [
    {
     "data": {
      "text/plain": [
       "[]"
      ]
     },
     "execution_count": 64,
     "metadata": {},
     "output_type": "execute_result"
    }
   ],
   "source": [
    "data"
   ]
  },
  {
   "cell_type": "markdown",
   "id": "499d242e",
   "metadata": {},
   "source": [
    "## 링크드 리스트(Linked List)"
   ]
  },
  {
   "cell_type": "markdown",
   "id": "9e2f4a71",
   "metadata": {},
   "source": [
    "### 링크드 리스트 구조 \n",
    "    - 연결 리스트라고도 함\n",
    "    - 배열은 순차적으로 연결된 공간에 데이터를 나열하는 데이터구조\n",
    "    - 링크드 리스트는 떨어진 곳에 존재하는 데이터를 화살표로 연결해서 관리하는 데이터 구조\n",
    "        - c언어에서는 중요한 데이터 구조이지만, 파이썬은 리스트 타입이 링크드 리스트의 기능을 모두 지원\n",
    "    - 링크드 리스트 기본 구조와 용어\n",
    "        - 노드: 데이터 저장 단위(데이터 값, 포인터)로 구성\n",
    "        - 포인터: 각 노드 안에서 다음이나 이전 노드와의 연결 정보를 가지고 있는 공간  \n",
    "        \n",
    "![그림](https://img1.daumcdn.net/thumb/R1280x0/?scode=mtistory2&fname=https%3A%2F%2Fblog.kakaocdn.net%2Fdn%2FPePGx%2FbtqyzcNBw94%2FVeTyAKugKfD74KR8ZSbW4k%2Fimg.png)"
   ]
  },
  {
   "cell_type": "markdown",
   "id": "a603059c",
   "metadata": {},
   "source": [
    "### 간단한 링크드 리스트 예  \n",
    "Node 구현\n",
    "    - 보통 파이썬에서 링크드 리스트 구현시, 파이썬 클래스를 활용"
   ]
  },
  {
   "cell_type": "code",
   "execution_count": 136,
   "id": "722ff673",
   "metadata": {},
   "outputs": [],
   "source": [
    "class Node:\n",
    "    def __init__(self, data, next = None):  \n",
    "        self.data = data\n",
    "        self.next = next"
   ]
  },
  {
   "cell_type": "code",
   "execution_count": 137,
   "id": "64924341",
   "metadata": {},
   "outputs": [],
   "source": [
    "# Node와 Node 연결 (next는 포인터 -> 다음 node로 향함)\n",
    "node1 = Node(1)\n",
    "node2 = Node(2)\n",
    "node1.next = node2\n",
    "head = node1"
   ]
  },
  {
   "cell_type": "code",
   "execution_count": 138,
   "id": "fc4c1290",
   "metadata": {},
   "outputs": [],
   "source": [
    "####"
   ]
  },
  {
   "cell_type": "code",
   "execution_count": 139,
   "id": "731cddce",
   "metadata": {},
   "outputs": [],
   "source": [
    "# 링크드 리스트로 데이터 추가하기\n",
    "class Node:\n",
    "    def __init__(self, data, next = None):  \n",
    "        self.data = data\n",
    "        self.next = next # 값이 안 들어오면 self.next = None으로 초기화\n",
    "\n",
    "# 추가 함수\n",
    "def add(data): \n",
    "    node = head # 생성한 노드 객체\n",
    "    while node.next: # 노드 객체.next 가 None이 아닐 때까지 반복(node.next가 있을 때만 반복)\n",
    "        node = node.next \n",
    "    node.next = Node(data) # 인수로 받은 data로 새로운 객체를 next에 넣어줌"
   ]
  },
  {
   "cell_type": "code",
   "execution_count": 140,
   "id": "146c0906",
   "metadata": {},
   "outputs": [],
   "source": [
    "node1 = Node(1)\n",
    "head = node1 \n",
    "for index in range(2, 10):\n",
    "    add(index)"
   ]
  },
  {
   "cell_type": "code",
   "execution_count": 141,
   "id": "883eb2a3",
   "metadata": {},
   "outputs": [
    {
     "name": "stdout",
     "output_type": "stream",
     "text": [
      "1\n",
      "2\n",
      "3\n",
      "4\n",
      "5\n",
      "6\n",
      "7\n",
      "8\n",
      "9\n"
     ]
    }
   ],
   "source": [
    "# 링크드 데이터 출력(검색)\n",
    "node = head\n",
    "while node.next: # node.next가 있을 때만 반복\n",
    "    print(node.data) # 데이터 출력\n",
    "    node = node.next # node1 -> node2 -> node3 .... node9\n",
    "print(node.data) # 출력 안 된 9번쨰 노드의 데이터를 출력"
   ]
  },
  {
   "cell_type": "markdown",
   "id": "cf63254a",
   "metadata": {},
   "source": [
    "### 링크드 리스트의 장단점\n",
    "    - 장점\n",
    "        - 삽입과 삭제가 O(1)에 이루어진다.\n",
    "        - 삽입과 삭제를 할 때마다 동적으로 링크드 리스트의 크기가 결정되므로 전통적인 배열(Array)에 비해 처음부터 큰 공간을 할당할 필요가 없어짐\n",
    "        - 메모리 관리가 용이하다\n",
    "    - 단점\n",
    "        - 연결 정보를 찾는 시간이 필요하므로 접근 속도가 느림(인덱스를 통한 탐색 불가)\n",
    "        - 탐색 시 O(N)이 걸린다(head ~ tail까지 모두 탐색 시)\n",
    "        - 중간 데이터 삭제시 앞뒤 데이터의 연결을 재구성해야 하는 부가적인 작업 필요\n",
    "        - 파이썬에서 링크드 리스트는 의미가 크게 없는 게, 그냥 리스트 쓰면 된다. C++의 STL vector보다도 훨씬 쓰기 간편하며, 어떠한 타입의 데이터도(심지어 튜플이나 리스트마저) 넣을 수 있고 동적으로 메모리 관리가 되기 때문에, 링크드 리스트의 의미가 크게 퇴색된다.\n",
    "    "
   ]
  },
  {
   "cell_type": "markdown",
   "id": "78e94007",
   "metadata": {},
   "source": [
    "### 링크드 리스트의 복잡한 기능 1 : 링크드 리스트 데이터 사이에 데이터를 추가\n",
    "     - 링크드 리스트는 유지 관리에 부가적인 구현이 필요함  \n",
    "![출처: 위키패디아, 링크드리스트](https://upload.wikimedia.org/wikipedia/commons/4/4b/CPT-LinkedLists-addingnode.svg)"
   ]
  },
  {
   "cell_type": "code",
   "execution_count": 147,
   "id": "9e3debda",
   "metadata": {},
   "outputs": [
    {
     "name": "stdout",
     "output_type": "stream",
     "text": [
      "1\n",
      "2\n",
      "3\n",
      "4\n",
      "5\n",
      "6\n",
      "7\n",
      "8\n",
      "9\n"
     ]
    }
   ],
   "source": [
    "node1 = Node(1)\n",
    "head = node1 \n",
    "for index in range(2, 10):\n",
    "    add(index)\n",
    "# 링크드 데이터 출력(검색)\n",
    "node = head\n",
    "while node.next: # node.next가 있을 때만 반복\n",
    "    print(node.data) # 데이터 출력\n",
    "    node = node.next # node1 -> node2 -> node3 .... node9\n",
    "print(node.data) # 출력 안 된 9번쨰 노드의 데이터를 출력"
   ]
  },
  {
   "cell_type": "code",
   "execution_count": 148,
   "id": "17596345",
   "metadata": {},
   "outputs": [],
   "source": [
    "node3 = Node(1.5)"
   ]
  },
  {
   "cell_type": "code",
   "execution_count": 149,
   "id": "5c5a7249",
   "metadata": {},
   "outputs": [],
   "source": [
    "node = head\n",
    "search = True\n",
    "while search: # search 가 True일 떄 반복\n",
    "    if node.data == 1: # node.data가 1이면 반복문 빠져나감\n",
    "        search = False\n",
    "    else:\n",
    "        node = node.next # 아니면 다음 노드로\n",
    "\n",
    "node_next = node.next # node_next에 node.data가 1인 노드의 next 노드를 할당(data가 2인 노드)\n",
    "node.next = node3  # 현재노드(data가 1인 노드)의 다음노드를 node3으로 할당\n",
    "node3.next = node_next # node3의 next를 data가 2인 노드로 할당"
   ]
  },
  {
   "cell_type": "code",
   "execution_count": 150,
   "id": "50bbd28c",
   "metadata": {},
   "outputs": [
    {
     "name": "stdout",
     "output_type": "stream",
     "text": [
      "1\n",
      "1.5\n",
      "2\n",
      "3\n",
      "4\n",
      "5\n",
      "6\n",
      "7\n",
      "8\n",
      "9\n"
     ]
    }
   ],
   "source": [
    "node = head\n",
    "while node.next: \n",
    "    print(node.data) \n",
    "    node = node.next \n",
    "print(node.data) "
   ]
  },
  {
   "cell_type": "markdown",
   "id": "6df2ae91",
   "metadata": {},
   "source": [
    "#### 파이썬 객체지향 프로그래밍으로 링크드 리스트 구현하기"
   ]
  },
  {
   "cell_type": "code",
   "execution_count": 158,
   "id": "ac9721bd",
   "metadata": {},
   "outputs": [],
   "source": [
    "class Node:\n",
    "    def __init__(self, data, next = None):\n",
    "        self.data = data\n",
    "        self.next = next\n",
    "\n",
    "class NodeMgmt:\n",
    "    def __init__(self, data):\n",
    "        self.head = Node(data) # head 노드 생성\n",
    "\n",
    "    def add(self, data):\n",
    "        if self.head == '': # head가 없으면 head 노드 생성\n",
    "            self.head = Node(data)\n",
    "        else:\n",
    "            node = self.head # node 는 head 노드\n",
    "            while node.next: # node.next가 None이 아니면 반복\n",
    "                node = node.next # None이 아니면 다음 노드로 이동 ! \n",
    "            node.next = Node(data) # 다음 노드가 없으면(None)이면 새로운 노드객체 생성\n",
    "    \n",
    "    def desc(self):\n",
    "        node = self.head # node는 head 노드\n",
    "        while node: # \n",
    "            print(node.data)\n",
    "            node = node.next # 마지막 노드에서 node.next가 None이 되면서 반복문 탈출"
   ]
  },
  {
   "cell_type": "code",
   "execution_count": 156,
   "id": "c272bcde",
   "metadata": {},
   "outputs": [
    {
     "name": "stdout",
     "output_type": "stream",
     "text": [
      "0\n"
     ]
    }
   ],
   "source": [
    "l_list1 = NodeMgmt(0)\n",
    "l_list1.desc()"
   ]
  },
  {
   "cell_type": "code",
   "execution_count": 157,
   "id": "f9f813d3",
   "metadata": {},
   "outputs": [
    {
     "name": "stdout",
     "output_type": "stream",
     "text": [
      "0\n",
      "1\n",
      "2\n",
      "3\n",
      "4\n",
      "5\n",
      "6\n",
      "7\n",
      "8\n",
      "9\n"
     ]
    }
   ],
   "source": [
    "for data in range(1, 10):\n",
    "    l_list1.add(data)\n",
    "l_list1.desc()"
   ]
  },
  {
   "cell_type": "markdown",
   "id": "add2c279",
   "metadata": {},
   "source": [
    "### 링크드 리스트의 복잡한 기능 2 : 특정 노드를 삭제"
   ]
  },
  {
   "cell_type": "code",
   "execution_count": 167,
   "id": "dd2271d5",
   "metadata": {},
   "outputs": [],
   "source": [
    "# 위 코드에서 delete 메서드 추가\n",
    "class Node:\n",
    "    def __init__(self, data, next = None):\n",
    "        self.data = data\n",
    "        self.next = next\n",
    "\n",
    "class NodeMgmt:\n",
    "    def __init__(self, data):\n",
    "        self.head = Node(data) # head 노드 생성\n",
    "\n",
    "    def add(self, data):\n",
    "        if self.head == '': # head가 없으면 head 노드 생성\n",
    "            self.head = Node(data)\n",
    "        else:\n",
    "            node = self.head # node 는 head 노드\n",
    "            while node.next: # node.next가 None이 아니면 반복\n",
    "                node = node.next # None이 아니면 다음 노드로 이동 ! \n",
    "            node.next = Node(data) # 다음 노드가 없으면(None)이면 새로운 노드객체 생성\n",
    "    \n",
    "    def desc(self):\n",
    "        node = self.head # node는 head 노드\n",
    "        while node: # \n",
    "            print(node.data)\n",
    "            node = node.next # 마지막 노드에서 node.next가 None이 되면서 반복문 탈출\n",
    "            \n",
    "    def delete(self, data):\n",
    "        if self.head == '': # head가 없으면\n",
    "            print('해당 값을 가진 노드가 없습니다.')\n",
    "            return # 빠져나오고\n",
    "        \n",
    "        if self.head.data == data: # head.data가 입력된 data와 같으면\n",
    "            temp = self.head # temp에 head노드 할당\n",
    "            self.head = self.head.next # head는 다음 노드로 이동(.next)\n",
    "            del temp # temp변수는 메모리에서 삭제\n",
    "        \n",
    "        else:\n",
    "            node = self.head # node에 head 노드 할당\n",
    "            while node.next:\n",
    "                if node.next.data == data: # 다음 노드의 데이터가 입력된 데이터면 삭제하고, 다다음 노드로 할당\n",
    "                    temp = node.next\n",
    "                    node.next = node.next.next\n",
    "                    del temp\n",
    "                    return\n",
    "                else:\n",
    "                    node = node.next # 반복문이 지속 될 동안 다음 노드로 계속 이동"
   ]
  },
  {
   "cell_type": "code",
   "execution_count": 168,
   "id": "c2f97c13",
   "metadata": {},
   "outputs": [
    {
     "name": "stdout",
     "output_type": "stream",
     "text": [
      "0\n"
     ]
    }
   ],
   "source": [
    "l_list1 = NodeMgmt(0)\n",
    "l_list1.desc() "
   ]
  },
  {
   "cell_type": "code",
   "execution_count": 169,
   "id": "ccd21790",
   "metadata": {},
   "outputs": [
    {
     "data": {
      "text/plain": [
       "<__main__.Node at 0x252cefd9a60>"
      ]
     },
     "execution_count": 169,
     "metadata": {},
     "output_type": "execute_result"
    }
   ],
   "source": [
    "l_list1.head # head가 있음"
   ]
  },
  {
   "cell_type": "code",
   "execution_count": 170,
   "id": "0f24f930",
   "metadata": {},
   "outputs": [],
   "source": [
    "l_list1.delete(0) \n",
    "l_list1.desc() # 정상적으로 삭제됨"
   ]
  },
  {
   "cell_type": "code",
   "execution_count": 174,
   "id": "8bf9ff2e",
   "metadata": {},
   "outputs": [
    {
     "name": "stdout",
     "output_type": "stream",
     "text": [
      "0\n",
      "1\n",
      "2\n",
      "3\n",
      "4\n",
      "5\n",
      "6\n",
      "7\n",
      "8\n",
      "9\n"
     ]
    }
   ],
   "source": [
    "# 새로운 링크드리스트 생성\n",
    "l_list1 = NodeMgmt(0)\n",
    "for data in range(1, 10):\n",
    "    l_list1.add(data)\n",
    "l_list1.desc()"
   ]
  },
  {
   "cell_type": "code",
   "execution_count": 175,
   "id": "448455dc",
   "metadata": {},
   "outputs": [],
   "source": [
    "l_list1.delete(7)"
   ]
  },
  {
   "cell_type": "code",
   "execution_count": 177,
   "id": "e21c4e57",
   "metadata": {},
   "outputs": [
    {
     "name": "stdout",
     "output_type": "stream",
     "text": [
      "0\n",
      "1\n",
      "2\n",
      "3\n",
      "4\n",
      "5\n",
      "6\n",
      "8\n",
      "9\n"
     ]
    }
   ],
   "source": [
    "l_list1.desc() # 특정 노드 삭제됨"
   ]
  },
  {
   "cell_type": "markdown",
   "id": "62d4b809",
   "metadata": {},
   "source": [
    "### 다양한 링크드 리스트 구조\n",
    "- 더블 링크드 리스트(Doubly linked list) 기본 구조\n",
    "    - 이중 연결 리스트라고도 함\n",
    "    - 장점: 양방향으로 연결되어 있어서 노드 탐색이 양쪽으로 모두 가능\n",
    "![출처: 위키패디아, 링크드리스트](https://upload.wikimedia.org/wikipedia/commons/5/5e/Doubly-linked-list.svg)"
   ]
  },
  {
   "cell_type": "code",
   "execution_count": 179,
   "id": "c732f4c5",
   "metadata": {},
   "outputs": [],
   "source": [
    "class Node:\n",
    "    def __init__(self, data, prev = None, next = None):\n",
    "        self.data = data\n",
    "        self.prev = prev\n",
    "        self.next = next\n",
    "        \n",
    "class NodeMgmt:\n",
    "    def __init__(self, data):\n",
    "        self.head = Node(data) # head 노드 지정\n",
    "        self.tail = self.head # 아직 1개이므로 head == tail\n",
    "        \n",
    "    def insert(self, data):\n",
    "        if self.head == None: # head가 없을경우 head 노드 지정\n",
    "            self.head = Node(data)\n",
    "            self.tail = self.head\n",
    "            \n",
    "        else: \n",
    "            node = self.head   \n",
    "            while node.next: # node.next가 None이 아닐 때까지 반복 (뭔가 있을 떄만 반복)\n",
    "                node = node.next # 즉, 맨 마지막 노드로 이동\n",
    "            new = Node(data) # new에 새로운 노드 할당\n",
    "            node.next = new # 다음 노드에 새로운 노드(new) 할당\n",
    "            new.prev = node # 새로운 노드의 prev(None)에 현재 node 할당\n",
    "            self.tail = new # tail을 new로 할당(맨 마지막)\n",
    "            \n",
    "    def desc(self):\n",
    "        node = self.head\n",
    "        while node:\n",
    "            print(node.data)\n",
    "            node = node.next"
   ]
  },
  {
   "cell_type": "code",
   "execution_count": 180,
   "id": "b79740db",
   "metadata": {},
   "outputs": [
    {
     "name": "stdout",
     "output_type": "stream",
     "text": [
      "0\n",
      "1\n",
      "2\n",
      "3\n",
      "4\n",
      "5\n",
      "6\n",
      "7\n",
      "8\n",
      "9\n"
     ]
    }
   ],
   "source": [
    "d_link = NodeMgmt(0)\n",
    "for data in range(1, 10):\n",
    "    d_link.insert(data)\n",
    "d_link.desc()"
   ]
  },
  {
   "cell_type": "markdown",
   "id": "4ca40194",
   "metadata": {},
   "source": [
    "## 해쉬 테이블(Hash Table)"
   ]
  },
  {
   "cell_type": "markdown",
   "id": "e02026e6",
   "metadata": {},
   "source": [
    "### 해쉬 구조\n",
    "- Hash Table: 키(key)에 데이터(value)를 저장하는 데이터 구조\n",
    "    - key를 통해 바로 데이터를 받을 수 있어, 속도가 획기적으로 빨라짐\n",
    "    - 보통 배열로 미리 Hash Table 사이즈만큼 생성 후에 사용(공간과 탐색 시간을 맞바꾸는 기법)\n",
    "    - 파이썬에선 딕셔너리(Dictionaty) 타입"
   ]
  },
  {
   "cell_type": "markdown",
   "id": "e624d6ad",
   "metadata": {},
   "source": [
    "### 알아둘 용어\n",
    "    - 해쉬(Hash): 임의 값을 고정 길이로 변환하는 것\n",
    "    - 해쉬 테이블: 키 값의 연산에 의해 직접 접근이 가능한 데이터 구조\n",
    "    - 해싱 함수: Key에 대해 산술 연산을 이용해 데이터 위치를 찾을 수 있는 함수\n",
    "    - 해쉬 값(Hash Value) 또는 해쉬 주소(Hash Address): Key를 해싱 함수로 연산해서 해쉬 값을 알아내고, 이를 기반으로 해쉬 테이블에서 해당 Key에 대한 데이터 위치를 일관성 있게 찾을 수 있음\n",
    "    - 슬롯(slot): 한 개의 데이터를 저장할 수 있는 공간\n",
    "    - 저장할 데이터에 대해 Key를 추출할 수 있는 별도 함수도 존재할 수 있음"
   ]
  },
  {
   "cell_type": "markdown",
   "id": "3333dc42",
   "metadata": {},
   "source": [
    "### 간단한 해쉬 예"
   ]
  },
  {
   "cell_type": "code",
   "execution_count": 36,
   "id": "a7b4f3cc",
   "metadata": {},
   "outputs": [
    {
     "data": {
      "text/plain": [
       "[0, 0, 0, 0, 0, 0, 0, 0, 0, 0]"
      ]
     },
     "execution_count": 36,
     "metadata": {},
     "output_type": "execute_result"
    }
   ],
   "source": [
    "# hash table 만들기\n",
    "hash_table = list([0 for i in range(10)])\n",
    "hash_table"
   ]
  },
  {
   "cell_type": "code",
   "execution_count": 37,
   "id": "44ef39dd",
   "metadata": {},
   "outputs": [],
   "source": [
    "# 간단한 해쉬 함수 생성\n",
    "def hash_func(key):\n",
    "    return key % 5"
   ]
  },
  {
   "cell_type": "code",
   "execution_count": 73,
   "id": "83fbacec",
   "metadata": {},
   "outputs": [],
   "source": [
    "# 해쉬 테이블에 저장\n",
    "d1 = 'Kim'\n",
    "d2 = 'Lee'\n",
    "d3 = 'Jung'\n",
    "d4 = 'Park'\n",
    "\n",
    "def storage_data(data, value):\n",
    "    key = ord(data[0]) # ord() : 문자의 아스키코드 리턴\n",
    "    hash_address = hash_func(key)\n",
    "    hash_table[hash_address] = value\n",
    "    \n",
    "storage_data(d1, '1111')\n",
    "storage_data(d2, '2222')\n",
    "storage_data(d3, '3333')\n",
    "storage_data(d4, '4444')"
   ]
  },
  {
   "cell_type": "code",
   "execution_count": 47,
   "id": "93d8ebf3",
   "metadata": {},
   "outputs": [
    {
     "data": {
      "text/plain": [
       "('4444', '2222')"
      ]
     },
     "execution_count": 47,
     "metadata": {},
     "output_type": "execute_result"
    }
   ],
   "source": [
    "# 데이터 읽기\n",
    "def get_data(data):\n",
    "    key = ord(data[0])\n",
    "    hash_address = hash_func(key)\n",
    "    return hash_table[hash_address]\n",
    "\n",
    "get_data(d1), get_data(d2)"
   ]
  },
  {
   "cell_type": "code",
   "execution_count": 48,
   "id": "ab206a30",
   "metadata": {},
   "outputs": [
    {
     "name": "stdout",
     "output_type": "stream",
     "text": [
      "4444, 2222, 0, 0, 3333, 0, 0, 0, 0, 0, "
     ]
    }
   ],
   "source": [
    "# 해쉬 테이블 출력해보기\n",
    "for i in hash_table:\n",
    "    print(i, end = ', ') \n",
    "# --> 'A'가 같음 => 충돌"
   ]
  },
  {
   "cell_type": "markdown",
   "id": "430fcb25",
   "metadata": {},
   "source": [
    "### 자료구조 해쉬 테이블의 장단점과 주요 용도"
   ]
  },
  {
   "cell_type": "markdown",
   "id": "247ee2fc",
   "metadata": {},
   "source": [
    "- 장점\n",
    "    - 데이터 저장/읽기 속도가 빠름(검색 속도가 빠름)\n",
    "    - 키에 대해 중복 확인이 쉬움(중복 불허)\n",
    "- 단점\n",
    "    - 일반적으로 저장공간이 좀 더 많이 필요(보통 배열로 미리 Hash Table 사이즈만큼 생성 후에 사용(공간과 탐색 시간을 맞바꾸는 기법)\n",
    "    - 여러 키에 해당하는 주소가 동일할 경우 충돌을 해결하기 위한 별도 자료구조가 필요\n",
    "- 주요 용도\n",
    "    - 검색이 많이 필요한 경우\n",
    "    - 저장, 삭제, 읽기가 빈번한 경우\n",
    "    - 캐쉬 구현시(중복 확인이 용이)"
   ]
  },
  {
   "cell_type": "markdown",
   "id": "6dd43e3b",
   "metadata": {},
   "source": [
    "### 충돌 해결 알고리즘(좋은 해쉬 함수 사용하기)  \n",
    "충돌 혹은 해쉬충돌"
   ]
  },
  {
   "cell_type": "markdown",
   "id": "eb050147",
   "metadata": {},
   "source": [
    "1. Chaining 기법\n",
    "    - 개방 해슁 또는 Open Hashing 기법 중 하나: 해쉬 테이블 저장공간 외의 공간을 활용하는 기법\n",
    "    - 충돌이 일어나면, 링크드 리스트를 사용하여 데이터를 추가로 뒤에 연결시켜서 저장하는 기법"
   ]
  },
  {
   "cell_type": "code",
   "execution_count": 137,
   "id": "35c643d6",
   "metadata": {},
   "outputs": [],
   "source": [
    "# Chaining예시\n",
    "hash_table = list([0 for i in range(8)])\n",
    "\n",
    "def get_key(data):\n",
    "    return hash(data) # hash(): 해쉬 키 생성\n",
    "\n",
    "def hash_function(key):\n",
    "    return key % 8\n",
    "\n",
    "def save_data(data, value): # 데이터 저장시 else가 먼저오게 됨(처음부터 충돌 x)\n",
    "    index_key = get_key(data) # 충돌시 구분하기 위한 용도\n",
    "    hash_address = hash_function(index_key)\n",
    "    # 2. 충돌이 있다면\n",
    "    if hash_table[hash_address] != 0:  \n",
    "        for index in range(len(hash_table[hash_address])): # 2. 해당 key의 value 길이만큼 반복\n",
    "            # 들어온 데이터와 들어있는 데이터의 key가 같으면, \n",
    "            # value를 새로 들어온 데이터로 덮어쓰기, \n",
    "            if hash_table[hash_address][index][0] == index_key:\n",
    "                hash_table[hash_address][index][1] = value # \n",
    "                return\n",
    "        # (다차원 리스트형태)중복 key를 가진 리스트 뒤로 새로운 리스트 추가\n",
    "        hash_table[hash_address].append([index_key, value])\n",
    "    else:\n",
    "        hash_table[hash_address] = [[index_key, value]] # 1. 충돌이 없다면 해당 key 값에 데이터를 다차원 리스트로 저장\n",
    "                                                        # 이때 충돌시 구분하기 위해 만든 get_key를 key로, value를 value로 저장\n",
    "        \n",
    "def read_data(data):\n",
    "    index_key = get_key(data) \n",
    "    hash_address = hash_function(index_key)\n",
    "    # \n",
    "    if hash_table[hash_address] !=0:\n",
    "        for index in range(len(hash_table[hash_address])):\n",
    "            if hash_table[hash_address][index][0] == index_key:\n",
    "                return hash_table[hash_address][index][1]\n",
    "        return None\n",
    "    else:\n",
    "        return None\n",
    "        "
   ]
  },
  {
   "cell_type": "code",
   "execution_count": 138,
   "id": "2ee742a2",
   "metadata": {},
   "outputs": [
    {
     "data": {
      "text/plain": [
       "('123123', '456456')"
      ]
     },
     "execution_count": 138,
     "metadata": {},
     "output_type": "execute_result"
    }
   ],
   "source": [
    "save_data('Dd', '123123')\n",
    "save_data('Dc', '456456')\n",
    "\n",
    "read_data('Dd'), read_data('Dc')"
   ]
  },
  {
   "cell_type": "code",
   "execution_count": 139,
   "id": "f429238f",
   "metadata": {},
   "outputs": [
    {
     "data": {
      "text/plain": [
       "[0,\n",
       " 0,\n",
       " 0,\n",
       " 0,\n",
       " 0,\n",
       " 0,\n",
       " 0,\n",
       " [[2898998306947667287, '123123'], [-7245990823696102505, '456456']]]"
      ]
     },
     "execution_count": 139,
     "metadata": {},
     "output_type": "execute_result"
    }
   ],
   "source": [
    "hash_table"
   ]
  },
  {
   "cell_type": "markdown",
   "id": "f1b8b9e2",
   "metadata": {},
   "source": [
    "2. Linear Probing 기법\n",
    "- 폐쇄 해슁 또는 Close Hashing 기법 중 하나: 해쉬 테이블 저장공간 안에서 충돌 문제를 해결하는 기법\n",
    "- 춛돌이 일어나면 해당 hash address의 다음 address부터 맨 처음 나오는 빈 공간에 저장하는 기법\n",
    "    - 저장공간 활용도를 높일 수 있음"
   ]
  },
  {
   "cell_type": "code",
   "execution_count": 155,
   "id": "479ed5a3",
   "metadata": {},
   "outputs": [],
   "source": [
    "# Linear Probing 예시\n",
    "hash_table = list([0 for i in range(8)])\n",
    "\n",
    "def get_key(data):\n",
    "    return hash(data) \n",
    "\n",
    "def hash_function(key):\n",
    "    return key % 8\n",
    "\n",
    "def save_data(data, value): # 데이터 저장시 else가 먼저오게 됨(처음부터 충돌 x)\n",
    "    index_key = get_key(data) # 충돌시 구분하기 위한 용도\n",
    "    hash_address = hash_function(index_key)\n",
    "    # 충돌이 있다면\n",
    "    if hash_table[hash_address] != 0:  \n",
    "        for index in range(hash_address, len(hash_table)): # 현재 ~ 총 길이까지 반복\n",
    "            # 비어있으면 데이터 저장\n",
    "            if hash_table[index] == 0: \n",
    "                hash_table[index] = [index_key, value]\n",
    "                return\n",
    "            # 덮어쓰기\n",
    "            elif hash_table[index][0] == index_key:\n",
    "                hash_table[index][1] = value\n",
    "                return\n",
    "    # 충돌이 없다면 데이터 저장(2차원)\n",
    "    else:\n",
    "        hash_table[hash_address] = [index_key, value]                        \n",
    "            \n",
    "def read_data(data):\n",
    "    index_key = get_key(data) \n",
    "    hash_address = hash_function(index_key)\n",
    "    \n",
    "    if hash_table[hash_address] !=0:\n",
    "         for index in range(hash_address, len(hash_table)):\n",
    "            if hash_table[index] == 0:\n",
    "                return None\n",
    "            elif hash_table[index][0] == index_key:\n",
    "                return hash_table[index][1]\n",
    "    else:\n",
    "        return None"
   ]
  },
  {
   "cell_type": "code",
   "execution_count": 156,
   "id": "b49e7f5c",
   "metadata": {},
   "outputs": [
    {
     "data": {
      "text/plain": [
       "('123123', '456456')"
      ]
     },
     "execution_count": 156,
     "metadata": {},
     "output_type": "execute_result"
    }
   ],
   "source": [
    "save_data('a', '123123')\n",
    "save_data('ac', '456456')\n",
    "\n",
    "read_data('a'), read_data('ac')"
   ]
  },
  {
   "cell_type": "code",
   "execution_count": 157,
   "id": "512b4912",
   "metadata": {},
   "outputs": [
    {
     "data": {
      "text/plain": [
       "[0,\n",
       " 0,\n",
       " [7529712385726969714, '123123'],\n",
       " [8622881162257811426, '456456'],\n",
       " 0,\n",
       " 0,\n",
       " 0,\n",
       " 0]"
      ]
     },
     "execution_count": 157,
     "metadata": {},
     "output_type": "execute_result"
    }
   ],
   "source": [
    "hash_table"
   ]
  },
  {
   "cell_type": "markdown",
   "id": "c82746af",
   "metadata": {},
   "source": [
    "3. 빈번한 충돌을 개선하는 방법\n",
    "    - 해쉬 함수를 재정의 및 해쉬 테이블 저장공간을 확대\n",
    "    - 참고: 해쉬 함수와 키 생성 함수\n",
    "        - 파이썬의 hash()함수는 실행할 때마다 값이 달라질 수 있음\n",
    "        - 유명한 해쉬 함수들: SHA-1(Secure Hash Algorithm)\n",
    "            - 어떤 데이터도 유일한 고정된 크기의 고정값을 리턴"
   ]
  },
  {
   "cell_type": "code",
   "execution_count": 161,
   "id": "35091252",
   "metadata": {},
   "outputs": [
    {
     "data": {
      "text/plain": [
       "'a94a8fe5ccb19ba61c4c0873d391e987982fbbd3'"
      ]
     },
     "execution_count": 161,
     "metadata": {},
     "output_type": "execute_result"
    }
   ],
   "source": [
    "# SHA-1\n",
    "import hashlib\n",
    "\n",
    "data = 'test'.encode() # str객체를 byte객체로 인코딩\n",
    "hash_object = hashlib.sha1() # 어떤 해쉬 알고리즘?\n",
    "hash_object.update(data) # 어떤 값을 해슁?\n",
    "hex_dig = hash_object.hexdigest() # 16진수로 해쉬값을 리턴\n",
    "hex_dig"
   ]
  },
  {
   "cell_type": "code",
   "execution_count": 163,
   "id": "c021dae3",
   "metadata": {},
   "outputs": [
    {
     "data": {
      "text/plain": [
       "'9f86d081884c7d659a2feaa0c55ad015a3bf4f1b2b0b822cd15d6c15b0f00a08'"
      ]
     },
     "execution_count": 163,
     "metadata": {},
     "output_type": "execute_result"
    }
   ],
   "source": [
    "# SHA-256\n",
    "import hashlib\n",
    "\n",
    "data = 'test'.encode() \n",
    "hash_object = hashlib.sha256()\n",
    "hash_object.update(data)\n",
    "hex_dig = hash_object.hexdigest()\n",
    "hex_dig"
   ]
  },
  {
   "cell_type": "markdown",
   "id": "fd55b65f",
   "metadata": {},
   "source": [
    "### 시간복잡도"
   ]
  },
  {
   "cell_type": "markdown",
   "id": "9e3a3123",
   "metadata": {},
   "source": [
    "- 일반적인 경우(충돌x): O(1)\n",
    "- 최악의 경우(충돌이 모두 발생): O(n)\n",
    "> 해쉬테이블의 경우, 일반적인 경우를 기대하고 만들기 때문에 시간복잡도는 O(1)이라고 말할 수 있음  "
   ]
  },
  {
   "cell_type": "markdown",
   "id": "8418da19",
   "metadata": {},
   "source": [
    "검색에서 해쉬 테이블의 시간복잡도 예시\n",
    "- 16개의 배열에 데이터를 저장하고, 검색 = O(n)\n",
    "- 16개의 해쉬 테이블에 데이터를 저장하고, 검색 = O(1)"
   ]
  },
  {
   "cell_type": "markdown",
   "id": "c9fdb37e",
   "metadata": {},
   "source": [
    "## 트리(Tree)"
   ]
  },
  {
   "cell_type": "markdown",
   "id": "332d6f9a",
   "metadata": {},
   "source": [
    "### 트리 구조\n",
    "- 트리: Node와 Branch를 이용해서 사이클을 이루지 않도록 구성한 데이터 구조\n",
    "- 실제로 어디에 많이 사용되나?\n",
    "    - 트리 중 이진 트리(Binary Tree)형태의 구조로, 탐색(검색) 아고리즘 구현을 위해 많이 사용됨"
   ]
  },
  {
   "cell_type": "markdown",
   "id": "4647e5af",
   "metadata": {},
   "source": [
    "### 알아둘 용어\n",
    "- Node: 트리에서 데이터를 저장하는 기본 요소(데이터와 다른 연결된 노드에 대한 Branch 정보 포함)\n",
    "- Root Node: 트리 맨 위에 있는 노드\n",
    "- Level: 최상위 노드를 Level 0으로 하였을 때, 하위 Branch로 연결된 노드의 깊이를 나타냄\n",
    "- Parent Node: 어떤 노드의 다음 레벨에 연결된 노드\n",
    "- Child Node: 어떤 노드의 상위 레벨에 연결된 노드\n",
    "- Leaf Node(Terminal Node): Chile Node가 하나도 없는 노드\n",
    "- Sibling(Brother Node): 동일한 Parent Node를 가진 노드\n",
    "- Depth: 트리에서 Node가 가질 수 있는 최대 Level\n",
    "![그림](https://img1.daumcdn.net/thumb/R1280x0/?scode=mtistory2&fname=https%3A%2F%2Fblog.kakaocdn.net%2Fdn%2FdFGjNw%2Fbtrat1CPn7S%2F1RZDWszc1RfF9FE09V4a7K%2Fimg.png)"
   ]
  },
  {
   "cell_type": "markdown",
   "id": "02c9b5db",
   "metadata": {},
   "source": [
    "### 이진 트리와 이진 탐색 트리(Binary Search Tree)\n",
    "- 이진 트리: 노드의 최대 Branch가 2인 트리\n",
    "- 이진 탐색 트리(BST): 이진 트리에 다음과 같은 추가적인 조건이 있는 트리\n",
    "    - 왼쪽 노드는 해당 노드보다 작은 값, 오른쪽 노드는 해당 노드보다 큰 값을 가지고 있음\n",
    "    ![그림](https://blog.penjee.com/wp-content/uploads/2015/11/binary-search-tree-insertion-animation.gif)"
   ]
  },
  {
   "cell_type": "markdown",
   "id": "3b3102a5",
   "metadata": {},
   "source": [
    "### 자료구조 이진 탐색 트리의 장점과 주요 용도\n",
    "- 장점: 탐색 속도를 개선할 수 있음\n",
    "- 주요 용도: 데이터 검색(탐색)  \n",
    "- 이진트리 vs 배열(sorted)\n",
    "![그림](https://blog.penjee.com/wp-content/uploads/2015/11/binary-search-tree-sorted-array-animation.gif)"
   ]
  },
  {
   "cell_type": "markdown",
   "id": "24c918fb",
   "metadata": {},
   "source": [
    "### 파이썬 트리 구현"
   ]
  },
  {
   "cell_type": "code",
   "execution_count": 168,
   "id": "77d38a37",
   "metadata": {},
   "outputs": [],
   "source": [
    "# 노드 클래스\n",
    "class Node:\n",
    "    def __init__(self, value):\n",
    "        self.value = value\n",
    "        self.left, self.right = None, None\n"
   ]
  },
  {
   "cell_type": "code",
   "execution_count": 172,
   "id": "74af94d8",
   "metadata": {},
   "outputs": [],
   "source": [
    "# 이진 탐색 트리에 데이터 넣기\n",
    "class NodeMgmt:\n",
    "    def __init__(self, head):\n",
    "        self.head = head # head 노드를 인수로 받아 저장\n",
    "    \n",
    "    def insert(self, value):\n",
    "        self.current_node = self.head # Root 부터 시작\n",
    "        while True:\n",
    "            # 입력된 value가 현재 value보다 클 떄(오른쪽 노드로 갈 때)\n",
    "            if value < self.current_node.value: \n",
    "                # 현재 left가 있으면, 해당 노드로 이동\n",
    "                # 없으면, left에 새로운 노드 생성(인수로 받음 value가 들어간.)\n",
    "                if self.current_node.left != None: \n",
    "                    self.current_node = self.current_node.left\n",
    "                else:\n",
    "                    self.current_node.left = Node(value)\n",
    "                    break\n",
    "            # 왼쪽을 갈 때\n",
    "            else:\n",
    "                if self.current_node.right != None:\n",
    "                    self.current_node = self.current_node.right\n",
    "                else:\n",
    "                    self.current_node.right = Node(value)\n",
    "                    break"
   ]
  },
  {
   "cell_type": "code",
   "execution_count": 173,
   "id": "97d741a4",
   "metadata": {},
   "outputs": [],
   "source": [
    "# 노드 만들고\n",
    "head = Node(1)\n",
    "binary_tree = NodeMgmt(head)"
   ]
  },
  {
   "cell_type": "code",
   "execution_count": 171,
   "id": "431bf8ad",
   "metadata": {},
   "outputs": [],
   "source": [
    "# 데이터 넣자\n",
    "binary_tree.insert(2)"
   ]
  },
  {
   "cell_type": "code",
   "execution_count": 175,
   "id": "ba0c9b64",
   "metadata": {},
   "outputs": [],
   "source": [
    "# 이진 탐색 트리 탐색하기\n",
    "# 이진 탐색 트리에 데이터 넣기\n",
    "class NodeMgmt:\n",
    "    def __init__(self, head):\n",
    "        self.head = head # head 노드를 인수로 받아 저장\n",
    "    \n",
    "    def insert(self, value):\n",
    "        self.current_node = self.head # Root 부터 시작\n",
    "        while True:\n",
    "            # 입력된 value가 현재 value보다 클 떄(오른쪽 노드로 갈 때)\n",
    "            if value < self.current_node.value: \n",
    "                # 현재 left가 있으면, 해당 노드로 이동\n",
    "                # 없으면, left에 새로운 노드 생성(인수로 받음 value가 들어간.)\n",
    "                if self.current_node.left != None: \n",
    "                    self.current_node = self.current_node.left\n",
    "                else:\n",
    "                    self.current_node.left = Node(value)\n",
    "                    break\n",
    "            # 왼쪽을 갈 때\n",
    "            else:\n",
    "                if self.current_node.right != None:\n",
    "                    self.current_node = self.current_node.right\n",
    "                else:\n",
    "                    self.current_node.right = Node(value)\n",
    "                    break\n",
    "                    \n",
    "    def search(self, value):\n",
    "        self.current_node = self.head # Root부터 시작\n",
    "        while self.current_node:\n",
    "            # 현재 value가 입력된 value면 True 리턴\n",
    "            # 현재 value가 더 크면 오른쪽 노드로 이동\n",
    "            # 현재 value가 더 작으면 왼쪽 노드로 이동\n",
    "            if self.current_node.value == value:\n",
    "                return True\n",
    "            elif value < self.current_node.value:\n",
    "                self.current_node = self.current_node.left\n",
    "            else:\n",
    "                self.current_node = self.current_node.right\n",
    "        return False # 없으면 False 리턴"
   ]
  },
  {
   "cell_type": "code",
   "execution_count": 176,
   "id": "cca89884",
   "metadata": {},
   "outputs": [],
   "source": [
    "# 노드 만들고\n",
    "head = Node(1)\n",
    "binary_tree = NodeMgmt(head)\n",
    "# 데이터 넣자\n",
    "binary_tree.insert(2)\n",
    "binary_tree.insert(1)\n",
    "binary_tree.insert(5)\n",
    "binary_tree.insert(-3)\n",
    "binary_tree.insert(9)"
   ]
  },
  {
   "cell_type": "code",
   "execution_count": 177,
   "id": "227113fa",
   "metadata": {},
   "outputs": [
    {
     "data": {
      "text/plain": [
       "True"
      ]
     },
     "execution_count": 177,
     "metadata": {},
     "output_type": "execute_result"
    }
   ],
   "source": [
    "binary_tree.search(-3)"
   ]
  },
  {
   "cell_type": "markdown",
   "id": "b8f70939",
   "metadata": {},
   "source": [
    "#### 이진 탐색 트리 삭제\n",
    "- 매우 복잡함. 경우를 나눠서 이해해보자"
   ]
  },
  {
   "cell_type": "markdown",
   "id": "9251a96a",
   "metadata": {},
   "source": [
    "1. Leaf Node 삭제\n",
    "- Leaf Node: Child Node가 없는 Node\n",
    "- 삭제할 Node의 Parent Node가 삭제할 Node를 가르키지 않도록 한다.\n",
    "![그림](https://img1.daumcdn.net/thumb/R1280x0/?scode=mtistory2&fname=https%3A%2F%2Fblog.kakaocdn.net%2Fdn%2Fef7U05%2Fbtq9kRgo73D%2FkofVkv1BketHB79L73I7BK%2Fimg.png)"
   ]
  },
  {
   "cell_type": "markdown",
   "id": "f5af0263",
   "metadata": {},
   "source": [
    "2. Chile Node가 하나인 Node 삭제\n",
    "- 삭제할 Node의 Parent Node가 삭제할 Node의 Child Node를 가리키도록 한다.\n",
    "![그림](https://img1.daumcdn.net/thumb/R1280x0/?scode=mtistory2&fname=https%3A%2F%2Fblog.kakaocdn.net%2Fdn%2F2Mg7N%2Fbtrax8g5FvJ%2FdHUltRUr28qJoZALoVkvbk%2Fimg.png)"
   ]
  },
  {
   "cell_type": "markdown",
   "id": "dc1b3b1e",
   "metadata": {},
   "source": [
    "3. Chile Node가 두 개인 Node 삭제\n",
    "    1. 삭제할 Node의 오른쪽 자식 중, 가장 작은 값을 삭제할 Node의 Parent Node가 가리키도록 한다.\n",
    "    2. 삭제할 Node의 왼쪽 자식 중, 가장 큰 값을 삭제할 Node의 Parent Node가 가리키도록 한다.\n",
    "    ![그림](https://img1.daumcdn.net/thumb/R1280x0/?scode=mtistory2&fname=https%3A%2F%2Fblog.kakaocdn.net%2Fdn%2FYHihi%2FbtraBd92t9C%2FBuB1vJ3peadd9em20qQxv0%2Fimg.png)"
   ]
  },
  {
   "cell_type": "markdown",
   "id": "899cc466",
   "metadata": {},
   "source": [
    "#### 파이썬 트리 삭제 구현"
   ]
  },
  {
   "cell_type": "code",
   "execution_count": 183,
   "id": "38cbce4c",
   "metadata": {},
   "outputs": [],
   "source": [
    "# NodeMgmt\n",
    "# 참고만\n",
    "class NodeMgmt:\n",
    "    def __init__(self, head):\n",
    "        self.head = head # head 노드를 인수로 받아 저장\n",
    "    \n",
    "    def insert(self, value):\n",
    "        self.current_node = self.head # Root 부터 시작\n",
    "        while True:\n",
    "            # 입력된 value가 현재 value보다 클 떄(오른쪽 노드로 갈 때)\n",
    "            if value < self.current_node.value: \n",
    "                # 현재 left가 있으면, 해당 노드로 이동\n",
    "                # 없으면, left에 새로운 노드 생성(인수로 받음 value가 들어간.)\n",
    "                if self.current_node.left != None: \n",
    "                    self.current_node = self.current_node.left\n",
    "                else:\n",
    "                    self.current_node.left = Node(value)\n",
    "                    break\n",
    "            # 왼쪽을 갈 때\n",
    "            else:\n",
    "                if self.current_node.right != None:\n",
    "                    self.current_node = self.current_node.right\n",
    "                else:\n",
    "                    self.current_node.right = Node(value)\n",
    "                    break\n",
    "                    \n",
    "    def search(self, value):\n",
    "        self.current_node = self.head # Root부터 시작\n",
    "        while self.current_node:\n",
    "            # 현재 value가 입력된 value면 True 리턴\n",
    "            # 현재 value가 더 크면 오른쪽 노드로 이동\n",
    "            # 현재 value가 더 작으면 왼쪽 노드로 이동\n",
    "            if self.current_node.value == value:\n",
    "                return True\n",
    "            elif value < self.current_node.value:\n",
    "                self.current_node = self.current_node.left\n",
    "            else:\n",
    "                self.current_node = self.current_node.right\n",
    "        return False # 없으면 False 리턴\n",
    "    \n",
    "    \n",
    "    def delete(self, value):\n",
    "        # 0. 삭제할 Node가 없는 경우 False를 리턴 후 함수 종료\n",
    "        searched = False\n",
    "        self.current_node, self.parent = self.head, self.head\n",
    "\n",
    "        while self.current_node:\n",
    "            if self.current_node.value == value:\n",
    "                searched = True\n",
    "                break\n",
    "            elif value < self.current_node.value:\n",
    "                self.parent = self.current_node\n",
    "                self.current_node = self.current_node.left # 왼쪽 노드로 이동\n",
    "            else:\n",
    "                self.parent = self.current_node\n",
    "                self.current_node = self.current_node.right # 오른쪽 노드로 이동\n",
    "        \n",
    "        if searched == False:\n",
    "            return False\n",
    "        \n",
    "        # case1. 삭제할 Node가 Leaf Node인 경우\n",
    "        if self.current_node.left == None & self.current_node.right == None:\n",
    "            # 현재 value가 parent 노드의 value보다 작으면 parent 노드의 left 를 삭제\n",
    "            if value < self.parent.value:\n",
    "                self.parent.left = None\n",
    "            else:\n",
    "                self.parent.right = None\n",
    "                \n",
    "        # case2. 삭제할 Node가 Child Node를 한 개 가지고 있을 경우\n",
    "        # left\n",
    "        elif self.current_node.left != None & self.current_node.right == None:\n",
    "            if value < self.parent.value:\n",
    "                self.parent.left = self.cuurent_node.left\n",
    "            else: \n",
    "                self.parent.right = self.cuurent_node.left\n",
    "        # right\n",
    "        elif self.current_node.left == None & self.current_node.right != None:\n",
    "            if value < self.parent.value:\n",
    "                self.parent.left = self.cuurent_node.right\n",
    "            else: \n",
    "                self.parent.right = self.cuurent_node.right\n",
    "                \n",
    "        # case3. 삭제할 Node가 Child Node를 두 개 가지고 있을 경우\n",
    "        elif self.current_node.left != None & self.current_node.right != None:\n",
    "        \n",
    "        # case3.1: 삭제할 Node의 오른쪽 자식 중 가장 작은 값을 삭제할 Node의 Parent Node가 가리키도록 한다\n",
    "            if value < self.parent.value: \n",
    "                self.change_node = self.current_node.right \n",
    "                self.change_node_parent = self.current_node.right \n",
    "                while self.change_node.left != None:\n",
    "                    self.change_node_parent = self.change_node \n",
    "                    self.change_node = self.change_node.left \n",
    "                if self.change_node.right != None:\n",
    "                    self.change_node_parent.left = self.change_node.right \n",
    "                else:\n",
    "                    self.change_node_parent.left = None\n",
    "                self.parent.left = self.change_node\n",
    "                self.change_node.right = self.current_node.right\n",
    "                self.change_node.left = self.change_node.left\n",
    "        \n",
    "        # case3.2: 삭제할 Node의 왼쪽 자식 중, 가장 큰 값을 삭제할 Node의 Parent Node가 가리키도록 한다.\n",
    "            else: \n",
    "                self.change_node = self.current_node.right \n",
    "                self.change_node_parent = self.current_node.right \n",
    "                while self.change_node.left != None:\n",
    "                    self.change_node_parent = self.change_node \n",
    "                    self.change_node = self.change_node.left \n",
    "                if self.change_node.right != None:\n",
    "                    self.change_node_parent.left = self.change_node.right\n",
    "                else:\n",
    "                    self.change_node_parent.left = None\n",
    "                    self.parent.right = self.change_node \n",
    "                    self.change_node.right = self.current_node.right \n",
    "                    self.change_node.left = self.current_node.left \n",
    "                    \n",
    "        return True            "
   ]
  },
  {
   "cell_type": "markdown",
   "id": "9fa8b2f5",
   "metadata": {},
   "source": [
    "### 이진 탐색 트리의 시간복잡도와 단점"
   ]
  },
  {
   "cell_type": "markdown",
   "id": "1bb93768",
   "metadata": {},
   "source": [
    "1. 시간복잡도(탐색시)\n",
    "- depth를 h라고 표기한다면, O(h)\n",
    "- n개의 노드를 가진다면 h = log<sub>2</sub>n에 개까우므로, 시간 복잡도는 O(logn)\n",
    "    - 참고: 빅오 표기법에서 logn에서의 log 밑은 10이 아니라 2임 -> 한번 실행시 50%의 실행할 수도 있는 명령을 제거한다는 의미(50%의 실행시간을 단축)"
   ]
  },
  {
   "cell_type": "markdown",
   "id": "cb309e2f",
   "metadata": {},
   "source": [
    "2. 단점\n",
    "- 평균 시간 복잡도는 O(logn) 이지만 ,\n",
    "- 이는 트리가 균형잡혀 있을 때의 평균 시간 복잡도이며, \n",
    "- 다음 사진과 같이 구성되어 있을 경우, 최악의 경우 링크드 리스트 등과 동일한 성능을 보여줌(O(n))  \n",
    "![그림](https://img1.daumcdn.net/thumb/R1280x0/?scode=mtistory2&fname=https%3A%2F%2Fblog.kakaocdn.net%2Fdn%2FHLi3D%2FbtraEfeW7PE%2FQmpZJ0WvDxluonwKwqvbR0%2Fimg.png)"
   ]
  },
  {
   "cell_type": "markdown",
   "id": "a0da2958",
   "metadata": {},
   "source": [
    "## 힙(Heap)"
   ]
  },
  {
   "cell_type": "markdown",
   "id": "727a4d2c",
   "metadata": {},
   "source": [
    "### 힙 이란?\n",
    "- 힙: 데이터에서 최대값과 치소값을 빠르게 찾기 위해 고안된 완전 이진 트리(Complete Binary Tree)\n",
    "    - 완전 이진 트리: 노드를 삽입할 때 최하단 왼쪽 노드부터 차례대로 삽입하는 트리\n",
    "    ![그림](https://img1.daumcdn.net/thumb/R1280x0/?scode=mtistory2&fname=https%3A%2F%2Fblog.kakaocdn.net%2Fdn%2FcJ9BMD%2Fbtrat3giOBN%2FnPJDhzEvxeBLGxnPxNxrC0%2Fimg.png)\n",
    "    - 힙을 사용하는 이유\n",
    "        - 배열에 데이터를 넣고, 최대값과 최소값을 찾으려면 O(n)이 걸림\n",
    "        - 이에 반해, 힙에 데이터를 넣고, 최대값과 최소값을 찾으면 O(logn)이 걸림\n",
    "        - 우선순위 큐와 같이 최대값 또는 최소값을 빠르게 찾아야 하는 자료구조 및 알고리즘 구현 등에 활용됨"
   ]
  },
  {
   "cell_type": "markdown",
   "id": "3bb95570",
   "metadata": {},
   "source": [
    "### 힙 구조\n",
    "- 힙은 최대값을 구하기 위한 구조(최대 힙, Max Heap)와, 최소값을 구하기 위한 구조(최소 힙, Min Heap)로 분류할 수 있음\n",
    "- 힙은 다름과 같이 두 가지 조건을 가지고 있는 자료구조임\n",
    "    1. 각 노드의 값은 해당 노드의 자식 노드가 가진 값보다 크거나 같다(최대 힙의 경우) <-> 최소 힙\n",
    "    2. 완전 이진 트리 형태를 가짐\n",
    "- 힙과 이진 탐색 트리의 공통점과 차이점\n",
    "    - 공통점: 힙과 이진 탐색 트리 모두 이진 트리임\n",
    "    - 차이점:\n",
    "        - 힙은 각 노드의 값이 자식 노드보다 크거나 같음(최대 힙의 경우) <-> 최소 힙\n",
    "        - 이진 탐색 트리는 왼쪽 자식 노드의 값이 가장 작고, 그 다음 부모 노드, 그 다음 오른쪽 자식 노드 값 순서\n",
    "        - 힙은 이진 탐색 트리의 조건인 자식 노드에서 작은 값은 왼쪽, 큰 값은 오른쪾이라는 조건은 없음\n",
    "            - 힙의 왼쪽 및 오른쪽 자식 노드의 값은 오른쪽이 클 수도 있고, 왼쪽이 클 수도 있음\n",
    "        - **이진 탐색 트리는 탐색을 위한 구조, 힙은 최대/최소값 검색을 위한 구조라고 이해하면 됨**\n",
    "        ![그림](https://img1.daumcdn.net/thumb/R1280x0/?scode=mtistory2&fname=https%3A%2F%2Fblog.kakaocdn.net%2Fdn%2FtQ8iu%2FbtraEe8bu5I%2FwnbrrmSXLeS8gmJBgEMKM1%2Fimg.png)"
   ]
  },
  {
   "cell_type": "markdown",
   "id": "5fdbdd00",
   "metadata": {},
   "source": [
    "### 힙 동작\n",
    "- 다음 그림들은 데이터를 힙 구조에 삽입, 삭제하는 과정임"
   ]
  },
  {
   "cell_type": "markdown",
   "id": "caf3ec0a",
   "metadata": {},
   "source": [
    "힘에 데이터 삽입하기 - 기본 동작\n",
    "- 힙은 완전 이진 트리이므로, 삽일할 노드는 기본적으로 왼쪽 최하단부 노드부터 채워지는 형태로 삽입\n",
    "![그림](https://img1.daumcdn.net/thumb/R1280x0/?scode=mtistory2&fname=https%3A%2F%2Fblog.kakaocdn.net%2Fdn%2FkKXcI%2Fbtrat2BHFYC%2FesFhpr8EYEsqTIfyZCL5EK%2Fimg.png)"
   ]
  },
  {
   "cell_type": "markdown",
   "id": "806b7324",
   "metadata": {},
   "source": [
    "힙에 데이터 삽입 - 삽입할 데이터가 힙의 데이터보다 클 경우(Max Heap)\n",
    "- 먼저 삽입된 데이터는 완전 이진 트리의 구조에 맞추어 최하단부 왼쪽 노드부터 채워짐\n",
    "- 채워진 노드 위치에서 부모 노드보다 값이 클 경우, 부모 노드와 위치를 바꿔주는 작업을 반복\n",
    "![그림](https://img1.daumcdn.net/thumb/R1280x0/?scode=mtistory2&fname=https%3A%2F%2Fblog.kakaocdn.net%2Fdn%2FbMlYCy%2FbtrawCoL2zN%2FgTeOAEtje3wg3Flrn0XsU1%2Fimg.png)"
   ]
  },
  {
   "cell_type": "markdown",
   "id": "7da48ecf",
   "metadata": {},
   "source": [
    "힙의 데이터 삭제 - (Max Heap)\n",
    "- 보통 삭제는 Root 노드를 삭제하는 것이 일반적임\n",
    "    - 힙의 용도는 최대값 or 최소값을 Root 노드에 놓아서, 최대값과 최소값을 바로 꺼내 쓸 수 있도록 하는 것\n",
    "- 상단의 데이터 삭제 후, 가장 최하단부 왼쪽에 위치한 노드(일반적으로 가장 마지막에 추가한 노드)를 Root노드로 이동\n",
    "- Root 노드의 값이 Child 노드보다 작을 경우, Root 노드와 Child 노드 중 가장 큰 값을 가진 노드와 Root 노드 위치를 바꿔주는 작업을 반복함(swap)\n",
    "![그림](https://www.fun-coding.org/00_Images/heap_remove.png)"
   ]
  },
  {
   "cell_type": "markdown",
   "id": "bf57e7bf",
   "metadata": {},
   "source": [
    "### 힙 구현\n",
    "- 일반적으로 힙 구현시 배열 자료구조를 활용함\n",
    "- 배열은 인덱스가 0번부터 시작하지만, 힙 구현의 편의를 위해 Root 노드 인덱스 번호를 1로 지정하면 좀 더 편함\n",
    "    - 부모 노드 인덱스 번화 = 자식 노드 인덱스 번호 // 2\n",
    "    - 왼쪽 자식 노드 인덱스 번호 = 부모 노드 인덱스 번호 * 2\n",
    "    - 오른쪽 자식 노드 인덱스 번호 = 부모 노드 인덱스 번호 * 2 + 1\n",
    "    ![그림](https://img1.daumcdn.net/thumb/R1280x0/?scode=mtistory2&fname=https%3A%2F%2Fblog.kakaocdn.net%2Fdn%2FnbMcj%2FbtraqruzgOd%2F4qKQKOZaYWSjFXJBoSM6YK%2Fimg.png)"
   ]
  },
  {
   "cell_type": "code",
   "execution_count": 186,
   "id": "34d3ea5c",
   "metadata": {},
   "outputs": [],
   "source": [
    "# 힙 클래스 구현1\n",
    "class Heap:\n",
    "    def __init__(self, data):\n",
    "        self.heap_array = list()\n",
    "        self.heap_array.append(None) # 0번째 인덱스 비워줌\n",
    "        self.heap_array.append(data)"
   ]
  },
  {
   "cell_type": "code",
   "execution_count": 187,
   "id": "6fc2aecc",
   "metadata": {},
   "outputs": [
    {
     "data": {
      "text/plain": [
       "[None, 1]"
      ]
     },
     "execution_count": 187,
     "metadata": {},
     "output_type": "execute_result"
    }
   ],
   "source": [
    "heap = Heap(1)\n",
    "heap.heap_array"
   ]
  },
  {
   "cell_type": "code",
   "execution_count": 188,
   "id": "35ecd8d6",
   "metadata": {},
   "outputs": [],
   "source": [
    "# 힙 클래스 구현2 - insert1\n",
    "class Heap:\n",
    "    def __init__(self, data):\n",
    "        self.heap_array = list()\n",
    "        self.heap_array.append(None) # 0번째 인덱스 비워줌\n",
    "        self.heap_array.append(data)\n",
    "        \n",
    "    def insert(self, data):\n",
    "        if len(self.heap_array) == 1:\n",
    "            self.heap_array.append(data)\n",
    "            return True\n",
    "        \n",
    "        self.heap.array.append(data)\n",
    "        return True"
   ]
  },
  {
   "cell_type": "markdown",
   "id": "a90eeaa5",
   "metadata": {},
   "source": [
    "힙 클래스 구현3 - insert2  \n",
    "- 삽입한 노드가 부모 노드의 값보다 클 경우, 부모 노드와 삽입한 노드의 위치를 바꿈\n",
    "- 삽입한 노드가 루트 노드가 되거나 부모 노드보다 값이 작거나 같을 경우까지 반복"
   ]
  },
  {
   "cell_type": "code",
   "execution_count": 195,
   "id": "179f4077",
   "metadata": {},
   "outputs": [],
   "source": [
    "# 힙 클래스 구현3 - insert2\n",
    "class Heap:\n",
    "    def __init__(self, data):\n",
    "        self.heap_array = list()\n",
    "        self.heap_array.append(None) # 0번째 인덱스 비워줌\n",
    "        self.heap_array.append(data)\n",
    "    \n",
    "    def move_up(self, inserted_idx):\n",
    "        if inserted_idx <= 1:\n",
    "            return False\n",
    "        parent_idx = inserted_idx // 2\n",
    "        # 인수로 받은 인덱스의 값이 부모 인덱스 값보다 클 경우, True 반환(위치 바꿀 대상)\n",
    "        if self.heap_array[inserted_idx] > self.heap_array[parent_idx]:\n",
    "            return True\n",
    "        else:\n",
    "            return False\n",
    "    \n",
    "    def insert(self, data):\n",
    "        if len(self.heap_array) == 1:\n",
    "            self.heap_array.append(data)\n",
    "            return True\n",
    "        \n",
    "        self.heap_array.append(data) # 맨 뒤에(맨 왼쪽 아래)데이터 추가\n",
    "        inserted_idx = len(self.heap_array) - 1 \n",
    "        \n",
    "        # inserted_idx가 부모 인덱스 값보다 클경우 스왑 반복\n",
    "        while self.move_up(inserted_idx):\n",
    "            parent_idx = inserted_idx // 2\n",
    "            # 바꿔주기(스왑)\n",
    "            self.heap_array[inserted_idx], self.heap_array[parent_idx] = self.heap_array[parent_idx], self.heap_array[inserted_idx]\n",
    "            inserted_idx = parent_idx\n",
    "        return True"
   ]
  },
  {
   "cell_type": "code",
   "execution_count": 196,
   "id": "6ba5c827",
   "metadata": {},
   "outputs": [
    {
     "data": {
      "text/plain": [
       "[None, 15, 8, 7, 3, 2, 5]"
      ]
     },
     "execution_count": 196,
     "metadata": {},
     "output_type": "execute_result"
    }
   ],
   "source": [
    "heap = Heap(15)\n",
    "heap.insert(8)\n",
    "heap.insert(5)\n",
    "heap.insert(3)\n",
    "heap.insert(2)\n",
    "heap.insert(7)\n",
    "heap.heap_array"
   ]
  },
  {
   "cell_type": "markdown",
   "id": "1353f951",
   "metadata": {},
   "source": [
    "힙 클래스 구현4 - delete1"
   ]
  },
  {
   "cell_type": "code",
   "execution_count": 197,
   "id": "27e12445",
   "metadata": {},
   "outputs": [],
   "source": [
    "# 힙 클래스 구현4 - delete1\n",
    "class Heap:\n",
    "    def __init__(self, data):\n",
    "        self.heap_array = list()\n",
    "        self.heap_array.append(None) # 0번째 인덱스 비워줌\n",
    "        self.heap_array.append(data)\n",
    "        \n",
    "    # 일반적으로 Root를 삭제함    \n",
    "    def pop(self):\n",
    "        if len(self.heap_array) <= 1:\n",
    "            return None\n",
    "        \n",
    "        returned_data = self.heap_array[1]\n",
    "        return returned_data"
   ]
  },
  {
   "cell_type": "markdown",
   "id": "090f8e06",
   "metadata": {},
   "source": [
    "힙 클래스 구현5 - delete2"
   ]
  },
  {
   "cell_type": "code",
   "execution_count": 211,
   "id": "add3b275",
   "metadata": {},
   "outputs": [],
   "source": [
    "# 힙 클래스 구현5 - delete2\n",
    "class Heap:\n",
    "    def __init__(self, data):\n",
    "        self.heap_array = list()\n",
    "        self.heap_array.append(None) # 0번째 인덱스 비워줌\n",
    "        self.heap_array.append(data)\n",
    "    \n",
    "    ### 추가된 코드 ###\n",
    "    def move_down(self, popped_idx):\n",
    "        left_child_popped_idx = popped_idx * 2\n",
    "        right_child_popped_idx = popped_idx * 2 + 1\n",
    "        if left_child_popped_idx >= len(self.heap_array):\n",
    "            return False\n",
    "        elif right_child_popped_idx >= len(self.heap_array):\n",
    "            if self.heap_array[popped_idx] < self.heap_array[left_child_popped_idx]:\n",
    "                return True\n",
    "            else:\n",
    "                return False\n",
    "        else:\n",
    "            if self.heap_array[left_child_popped_idx] > self.heap_array[right_child_popped_idx]:\n",
    "                if self.heap_array[popped_idx] < self.heap_array[left_child_popped_idx]:\n",
    "                    return True\n",
    "                else:\n",
    "                    return False\n",
    "            else:\n",
    "                if self.heap_array[popped_idx] < self.heap_array[right_child_popped_idx]:\n",
    "                    return True\n",
    "                else:\n",
    "                    return False\n",
    "    \n",
    "    def pop(self):\n",
    "        if len(self.heap_array) <= 1:\n",
    "            return None\n",
    "        \n",
    "        returned_data = self.heap_array[1]\n",
    "        self.heap_array[1] = self.heap_array[-1]\n",
    "        del self.heap_array[-1]\n",
    "        popped_idx = 1\n",
    "        \n",
    "        while self.move_down(popped_idx):\n",
    "            left_child_popped_idx = popped_idx * 2\n",
    "            right_child_popped_idx = popped_idx * 2 + 1\n",
    "            if right_child_popped_idx >= len(self.heap_array):\n",
    "                self.heap_array[popped_idx], self.heap_array[left_child_popped_idx] = self.heap_array[left_child_popped_idx], self.heap_array[popped_idx]\n",
    "                popped_idx = left_child_popped_idx\n",
    "            else:\n",
    "                if self.heap_array[left_child_popped_idx] > self.heap_array[right_child_popped_idx]:\n",
    "                    self.heap_array[popped_idx], self.heap_array[left_child_popped_idx] = self.heap_array[left_child_popped_idx], self.heap_array[popped_idx]\n",
    "                else:\n",
    "                    self.heap_array[popped_idx], self.heap_array[right_child_popped_idx] = self.heap_array[right_child_popped_idx], self.heap_array[popped_idx]\n",
    "                    popped_idx = right_child_popped_idx\n",
    "                    \n",
    "        return returned_data\n",
    "    \n",
    "    \n",
    "    ### 기존 코드 ###\n",
    "    def move_up(self, inserted_idx):\n",
    "        if inserted_idx <= 1:\n",
    "            return False\n",
    "        parent_idx = inserted_idx // 2\n",
    "        # 인수로 받은 인덱스의 값이 부모 인덱스 값보다 클 경우, True 반환(위치 바꿀 대상)\n",
    "        if self.heap_array[inserted_idx] > self.heap_array[parent_idx]:\n",
    "            return True\n",
    "        else:\n",
    "            return False\n",
    "    \n",
    "    def insert(self, data):\n",
    "        if len(self.heap_array) == 1:\n",
    "            self.heap_array.append(data)\n",
    "            return True\n",
    "        \n",
    "        self.heap_array.append(data) # 맨 뒤에(맨 왼쪽 아래)데이터 추가\n",
    "        inserted_idx = len(self.heap_array) - 1 \n",
    "        \n",
    "        # inserted_idx가 부모 인덱스 값보다 클경우 스왑 반복\n",
    "        while self.move_up(inserted_idx):\n",
    "            parent_idx = inserted_idx // 2\n",
    "            # 바꿔주기(스왑)\n",
    "            self.heap_array[inserted_idx], self.heap_array[parent_idx] = self.heap_array[parent_idx], self.heap_array[inserted_idx]\n",
    "            inserted_idx = parent_idx\n",
    "        return True"
   ]
  },
  {
   "cell_type": "code",
   "execution_count": 212,
   "id": "e7e2e4f2",
   "metadata": {},
   "outputs": [
    {
     "data": {
      "text/plain": [
       "[None, 15, 8, 7, 3, 2, 5]"
      ]
     },
     "execution_count": 212,
     "metadata": {},
     "output_type": "execute_result"
    }
   ],
   "source": [
    "heap = Heap(15)\n",
    "heap.insert(8)\n",
    "heap.insert(5)\n",
    "heap.insert(3)\n",
    "heap.insert(2)\n",
    "heap.insert(7)\n",
    "heap.heap_array"
   ]
  },
  {
   "cell_type": "code",
   "execution_count": 213,
   "id": "02e7a511",
   "metadata": {},
   "outputs": [
    {
     "data": {
      "text/plain": [
       "15"
      ]
     },
     "execution_count": 213,
     "metadata": {},
     "output_type": "execute_result"
    }
   ],
   "source": [
    "heap.pop()"
   ]
  },
  {
   "cell_type": "code",
   "execution_count": 214,
   "id": "13b41bc7",
   "metadata": {},
   "outputs": [
    {
     "data": {
      "text/plain": [
       "[None, 8, 5, 7, 3, 2]"
      ]
     },
     "execution_count": 214,
     "metadata": {},
     "output_type": "execute_result"
    }
   ],
   "source": [
    "heap.heap_array"
   ]
  },
  {
   "cell_type": "markdown",
   "id": "ed6f3f9e",
   "metadata": {},
   "source": [
    "### 힙 시간복잡도\n",
    "- depth를 h라고 표기한다면,\n",
    "- n개의 노드를 가지는 heap에 데이터 삽입 또는 삭제시, 최악의 경우 Root 노드에서 leaf 노드까지 비교해야 하므로 h = log<sub>2</sub>n에 가까움. 시간복잡도는 O(logn)\n",
    "     - 참고: 빅오 표기법에서 logn에서의 log 밑은 10이 아니라 2임 -> 한번 실행시 50%의 실행할 수도 있는 명령을 제거한다는 의미(50%의 실행시간을 단축)"
   ]
  },
  {
   "cell_type": "markdown",
   "id": "396e3b4f",
   "metadata": {},
   "source": [
    "## 알고리즘 복잡도(공간 복잡도)"
   ]
  },
  {
   "cell_type": "markdown",
   "id": "7396b0f8",
   "metadata": {},
   "source": [
    "- 알고리즘 계산 복잡도는 다음 두 가지 척도로 표현됨\n",
    "    - 시간 복잡도: 얼마나 빠르게 실행되는지\n",
    "    - 공간 복잡도: 얼마나 많은 저장 공간이 필요한지\n",
    "> 좋은 알고리즘은 실행 시간도 짧고, 저장 공간도 적게 쓰는 알고리즘\n",
    "\n",
    "- 그러나 통상 둘 다를 만족시키기는 어려움\n",
    "    - 시간과 공간은 반비례적 경향이 있음\n",
    "    - 최근 대용량 시스템이 보편화되면서, 공간 복잡도보다는 시간 복잡도가 우선\n",
    "    - 따라서 알고리즘은 시간 복잡도가 중심\n",
    "\n",
    "- 공간 복잡도 대략적인 계산은 필요함\n",
    "    - 기존 알고리즘 문제는 예전에 공간 복잡도도 고려되어야 할 때 만들어진 경우가 많음\n",
    "        - 공간 복잡도 제약 사항이 있는 경우가 있음\n",
    "    - 면접시에도 공간 복잡도를 묻는 경우가 있음\n",
    "\n",
    "- Complexity:\n",
    "    - expected worst-case time complexity: O(N)\n",
    "    - expected worst-case space complexity: O(N)\n",
    ">.현업에서 최근 빅데이터를 다룰 떈 저장 공간을 고려해서 구현하는 경우도 있음"
   ]
  },
  {
   "cell_type": "markdown",
   "id": "d1c76e23",
   "metadata": {},
   "source": [
    "#### 공간 복잡도\n",
    "- 프로그램을 실행 및 완료하는 데 필요한 저장공간의 양\n",
    "- 총 필요 저장공간\n",
    "    - 고정 공간(알고리즘과 무관): 코드 저장 공간, 단순 변수 및 상수\n",
    "    - 가변 공간: 실행 중 동적으로 핑효한 공간\n",
    "    - S(P) = c + S<sub>p</sub>(n)\n",
    "        - c: 고정공간\n",
    "        - S<sub>p</sub>(n): 가변공간"
   ]
  },
  {
   "cell_type": "code",
   "execution_count": null,
   "id": "ec4310a1",
   "metadata": {},
   "outputs": [],
   "source": []
  }
 ],
 "metadata": {
  "kernelspec": {
   "display_name": "Python 3",
   "language": "python",
   "name": "python3"
  },
  "language_info": {
   "codemirror_mode": {
    "name": "ipython",
    "version": 3
   },
   "file_extension": ".py",
   "mimetype": "text/x-python",
   "name": "python",
   "nbconvert_exporter": "python",
   "pygments_lexer": "ipython3",
   "version": "3.8.8"
  },
  "toc": {
   "base_numbering": 1,
   "nav_menu": {},
   "number_sections": true,
   "sideBar": true,
   "skip_h1_title": false,
   "title_cell": "Table of Contents",
   "title_sidebar": "Contents",
   "toc_cell": false,
   "toc_position": {},
   "toc_section_display": true,
   "toc_window_display": true
  }
 },
 "nbformat": 4,
 "nbformat_minor": 5
}
