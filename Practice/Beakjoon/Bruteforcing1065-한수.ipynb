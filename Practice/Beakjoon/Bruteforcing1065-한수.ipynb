{
 "cells": [
  {
   "cell_type": "markdown",
   "id": "1bd278d3",
   "metadata": {},
   "source": [
    "https://www.acmicpc.net/problem/1065"
   ]
  },
  {
   "cell_type": "code",
   "execution_count": 10,
   "id": "64eb7a6d",
   "metadata": {},
   "outputs": [
    {
     "name": "stdout",
     "output_type": "stream",
     "text": [
      "500\n",
      "119\n"
     ]
    }
   ],
   "source": [
    "import sys\n",
    "#input = sys.stdin.readline\n",
    "\n",
    "n = int(input())\n",
    "\n",
    "if n < 100:\n",
    "    print(n)\n",
    "\n",
    "elif n == 1000:\n",
    "    print(144)\n",
    "    \n",
    "else:\n",
    "    hansu = 99\n",
    "    for i in range(100, n + 1):\n",
    "        temp = list(map(int, str(i)))\n",
    "        if temp[0] - temp[1] == temp[1] - temp[2]:\n",
    "            hansu += 1\n",
    "            \n",
    "    print(hansu)"
   ]
  },
  {
   "cell_type": "code",
   "execution_count": null,
   "id": "ed71a3b5",
   "metadata": {},
   "outputs": [],
   "source": []
  }
 ],
 "metadata": {
  "kernelspec": {
   "display_name": "Python 3",
   "language": "python",
   "name": "python3"
  },
  "language_info": {
   "codemirror_mode": {
    "name": "ipython",
    "version": 3
   },
   "file_extension": ".py",
   "mimetype": "text/x-python",
   "name": "python",
   "nbconvert_exporter": "python",
   "pygments_lexer": "ipython3",
   "version": "3.8.8"
  },
  "toc": {
   "base_numbering": 1,
   "nav_menu": {},
   "number_sections": true,
   "sideBar": true,
   "skip_h1_title": false,
   "title_cell": "Table of Contents",
   "title_sidebar": "Contents",
   "toc_cell": false,
   "toc_position": {},
   "toc_section_display": true,
   "toc_window_display": false
  }
 },
 "nbformat": 4,
 "nbformat_minor": 5
}
