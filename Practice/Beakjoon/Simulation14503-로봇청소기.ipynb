{
 "cells": [
  {
   "cell_type": "markdown",
   "metadata": {},
   "source": [
    "https://www.acmicpc.net/problem/14503"
   ]
  },
  {
   "cell_type": "code",
   "execution_count": 54,
   "metadata": {},
   "outputs": [
    {
     "name": "stdout",
     "output_type": "stream",
     "text": [
      "11 10\n",
      "7 4 0\n",
      "1 1 1 1 1 1 1 1 1 1\n",
      "1 0 0 0 0 0 0 0 0 1\n",
      "1 0 0 0 1 1 1 1 0 1\n",
      "1 0 0 1 1 0 0 0 0 1\n",
      "1 0 1 1 0 0 0 0 0 1\n",
      "1 0 0 0 0 0 0 0 0 1\n",
      "1 0 0 0 0 0 0 1 0 1\n",
      "1 0 0 0 0 0 1 1 0 1\n",
      "1 0 0 0 0 0 1 1 0 1\n",
      "1 0 0 0 0 0 0 0 0 1\n",
      "1 1 1 1 1 1 1 1 1 1\n",
      "57\n"
     ]
    }
   ],
   "source": [
    "n, m = map(int, input().split())  # row, col\n",
    "now_r, now_c, d = map(int, input().split())\n",
    "\n",
    "minimap = list()\n",
    "for i in range(n):\n",
    "    minimap.append(list(map(int,input().split())))\n",
    "\n",
    "# 북(0) 동(1) 남(2) 서(3)  (-> 갈수록 왼 방향)\n",
    "dr = [-1, 0, 1, 0]\n",
    "dc = [0, 1, 0, -1]\n",
    "d_sup = d\n",
    "\n",
    "minimap[now_r][now_c] = 2\n",
    "count = 1\n",
    "no_work = 0\n",
    "while True:\n",
    "    no_work = 0\n",
    "    for i in range(4):\n",
    "        d_sup -= 1\n",
    "        d = d_sup % 4\n",
    "        next_r = now_r + dr[d]\n",
    "        next_c = now_c + dc[d]\n",
    "        if minimap[next_r][next_c] == 1 or minimap[next_r][next_c] == 2:\n",
    "            no_work += 1\n",
    "            continue\n",
    "        if minimap[next_r][next_c] == 0:\n",
    "            now_r = next_r\n",
    "            now_c = next_c\n",
    "            minimap[now_r][now_c] = 2\n",
    "            count += 1\n",
    "            break\n",
    "    \n",
    "    if no_work == 4:    \n",
    "        now_r += dr[(d_sup - 2) % 4]\n",
    "        now_c += dc[(d_sup - 2) % 4]\n",
    "        \n",
    "        if minimap[now_r][now_c] == 1:\n",
    "            break\n",
    "        \n",
    "print(count)"
   ]
  },
  {
   "cell_type": "code",
   "execution_count": null,
   "metadata": {},
   "outputs": [],
   "source": []
  }
 ],
 "metadata": {
  "kernelspec": {
   "display_name": "Python 3",
   "language": "python",
   "name": "python3"
  },
  "language_info": {
   "codemirror_mode": {
    "name": "ipython",
    "version": 3
   },
   "file_extension": ".py",
   "mimetype": "text/x-python",
   "name": "python",
   "nbconvert_exporter": "python",
   "pygments_lexer": "ipython3",
   "version": "3.8.8"
  },
  "toc": {
   "base_numbering": 1,
   "nav_menu": {},
   "number_sections": true,
   "sideBar": true,
   "skip_h1_title": false,
   "title_cell": "Table of Contents",
   "title_sidebar": "Contents",
   "toc_cell": false,
   "toc_position": {},
   "toc_section_display": true,
   "toc_window_display": false
  }
 },
 "nbformat": 4,
 "nbformat_minor": 4
}
