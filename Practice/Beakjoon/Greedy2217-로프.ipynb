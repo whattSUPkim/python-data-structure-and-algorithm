{
 "cells": [
  {
   "cell_type": "markdown",
   "id": "f29effdb",
   "metadata": {},
   "source": [
    "https://www.acmicpc.net/problem/2217"
   ]
  },
  {
   "cell_type": "markdown",
   "id": "d68f0a20",
   "metadata": {},
   "source": [
    "- 문제\n",
    "    - w인물체를 k개로 들어올릴 수 있음\n",
    "    - 임의로 몇 개의 로프를 골라서 사용해도 됨\n",
    "    - 최대 중량을 구해내는 프로그램 작성"
   ]
  },
  {
   "cell_type": "code",
   "execution_count": 38,
   "id": "1c40fd36",
   "metadata": {},
   "outputs": [
    {
     "name": "stdout",
     "output_type": "stream",
     "text": [
      "2\n",
      "10\n",
      "15\n",
      "20\n"
     ]
    }
   ],
   "source": [
    "n = int(input())\n",
    "n_list = list()\n",
    "for i in range(n):\n",
    "    n_list.append(int(input()))\n",
    "n_list.sort(reverse= True)  # 내림차순\n",
    "\n",
    "cal_list = list()\n",
    "\n",
    "while n_list:\n",
    "    temp = len(n_list)\n",
    "    cal = n_list.pop() * temp\n",
    "    cal_list.append(cal)\n",
    "\n",
    "print(max(cal_list))\n"
   ]
  },
  {
   "cell_type": "code",
   "execution_count": null,
   "id": "60905c46",
   "metadata": {},
   "outputs": [],
   "source": []
  }
 ],
 "metadata": {
  "kernelspec": {
   "display_name": "Python 3",
   "language": "python",
   "name": "python3"
  },
  "language_info": {
   "codemirror_mode": {
    "name": "ipython",
    "version": 3
   },
   "file_extension": ".py",
   "mimetype": "text/x-python",
   "name": "python",
   "nbconvert_exporter": "python",
   "pygments_lexer": "ipython3",
   "version": "3.8.8"
  },
  "toc": {
   "base_numbering": 1,
   "nav_menu": {},
   "number_sections": true,
   "sideBar": true,
   "skip_h1_title": false,
   "title_cell": "Table of Contents",
   "title_sidebar": "Contents",
   "toc_cell": false,
   "toc_position": {},
   "toc_section_display": true,
   "toc_window_display": false
  }
 },
 "nbformat": 4,
 "nbformat_minor": 5
}
