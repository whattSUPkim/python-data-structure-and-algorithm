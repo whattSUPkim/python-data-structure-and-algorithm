{
 "cells": [
  {
   "cell_type": "markdown",
   "id": "8d271c1c",
   "metadata": {},
   "source": [
    "https://www.acmicpc.net/problem/1463"
   ]
  },
  {
   "cell_type": "markdown",
   "id": "d31b92ac",
   "metadata": {},
   "source": [
    "- 문제 \n",
    "    - 가능 연산\n",
    "        - x가 3으로 나누어 떨어지면 3으로 나누거나\n",
    "        - 2는 2로 나누거나\n",
    "        - 1을 뺄 수 있음\n",
    "    - 정수 n을 1로 만드는 데 필요한 연산의 최소값 출력\n",
    "- 접근\n",
    "    - dp?\n",
    "        - 10 - 5 - 4 - 2\n",
    "        - 10 - 9 - 3 - 1\n",
    "        - 10 - 9 - 8 - 4\n",
    "        - 부분 문제가 중복됨 -> dp !\n",
    "    - 점화식 \n",
    "        - x = min(\n",
    "        - (x - 3) -> 3으로 나누어 떨어지는 경우\n",
    "        - (x - 2) -> 2로 나누어 떨어지는 경우\n",
    "        - (x - 1) -> 그 외\n",
    "        - ) + 1\n",
    "        - 의 역순"
   ]
  },
  {
   "cell_type": "code",
   "execution_count": 23,
   "id": "f1982381",
   "metadata": {},
   "outputs": [
    {
     "name": "stdout",
     "output_type": "stream",
     "text": [
      "24\n",
      "4\n"
     ]
    }
   ],
   "source": [
    "x = int(input())\n",
    "cache = [0 for _ in range(x + 1)]\n",
    "cache[1] = 0  # 1은 그냥 0번\n",
    "for i in range(2, x + 1):  \n",
    "    cache[i] = cache[i - 1] + 1  # -1 식은 모두에 적용\n",
    "    if not i % 2 and cache[i] >= cache[i // 2] + 1:  # -2 식\n",
    "        cache[i] = cache[i // 2] + 1\n",
    "    if not i % 3 and cache[i] >= cache[i // 3] + 1:  # -3 식\n",
    "        cache[i] = cache[i // 3] + 1                 # i가 3까진 인덱스 범위 안\n",
    "print(cache[x])\n",
    "        \n"
   ]
  },
  {
   "cell_type": "markdown",
   "id": "99ee69a6",
   "metadata": {},
   "source": [
    "- 다른사람 풀이\n",
    "    - 탑 다운 dp가 훨씬 더 빠르다,,"
   ]
  },
  {
   "cell_type": "code",
   "execution_count": null,
   "id": "b4f2d9c5",
   "metadata": {},
   "outputs": [],
   "source": [
    "# dp\n",
    "def dp(n):\n",
    "    if n in memo:\n",
    "        return memo[n]\n",
    "    \n",
    "    m = 1 + min(dp(n // 2) + n % 2, dp(n // 3) + n % 3)\n",
    "    memo[n] = m\n",
    "    return m\n",
    "\n",
    "\n",
    "memo = {1: 0, 2: 1}\n",
    "n = int(input())\n",
    "print(dp(n))"
   ]
  }
 ],
 "metadata": {
  "kernelspec": {
   "display_name": "Python 3",
   "language": "python",
   "name": "python3"
  },
  "language_info": {
   "codemirror_mode": {
    "name": "ipython",
    "version": 3
   },
   "file_extension": ".py",
   "mimetype": "text/x-python",
   "name": "python",
   "nbconvert_exporter": "python",
   "pygments_lexer": "ipython3",
   "version": "3.8.8"
  },
  "toc": {
   "base_numbering": 1,
   "nav_menu": {},
   "number_sections": true,
   "sideBar": true,
   "skip_h1_title": false,
   "title_cell": "Table of Contents",
   "title_sidebar": "Contents",
   "toc_cell": false,
   "toc_position": {},
   "toc_section_display": true,
   "toc_window_display": false
  }
 },
 "nbformat": 4,
 "nbformat_minor": 5
}
