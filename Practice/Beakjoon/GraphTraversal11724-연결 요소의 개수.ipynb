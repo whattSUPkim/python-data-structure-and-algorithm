{
 "cells": [
  {
   "cell_type": "markdown",
   "id": "d54db264",
   "metadata": {},
   "source": [
    "https://www.acmicpc.net/problem/11724"
   ]
  },
  {
   "cell_type": "code",
   "execution_count": null,
   "id": "3d25d010",
   "metadata": {},
   "outputs": [],
   "source": [
    "#1\n",
    "from collections import deque\n",
    "import sys\n",
    "input = sys.stdin.readline\n",
    "\n",
    "def bfs(node):\n",
    "    need_visit = deque()\n",
    "    need_visit.append(node)\n",
    "    visited = set()\n",
    "    while need_visit:\n",
    "        now = need_visit.popleft()\n",
    "        if now not in visited:\n",
    "            visited.add(now)\n",
    "            need_visit.extend(graph[now])\n",
    "            not_visit.discard(now)\n",
    "    return 1\n",
    "\n",
    "n, m = map(int, input().split())\n",
    "graph = [[] for _ in range(n + 1)]\n",
    "for i in range(m):\n",
    "    a, b = map(int, input().split())\n",
    "    graph[a].append(b)\n",
    "    graph[b].append(a)\n",
    "not_visit = {i for i in range(1, n + 1)}\n",
    "count = 0\n",
    "while not_visit:\n",
    "    count += bfs(not_visit.pop())\n",
    "\n",
    "print(count)"
   ]
  },
  {
   "cell_type": "code",
   "execution_count": 31,
   "id": "a2aa0fd3",
   "metadata": {},
   "outputs": [
    {
     "name": "stdout",
     "output_type": "stream",
     "text": [
      "6 5\n",
      "1 2\n",
      "2 5\n",
      "5 1\n",
      "3 4\n",
      "4 6\n",
      "2\n"
     ]
    }
   ],
   "source": [
    "#2 visited 체크하는 방법으로 시간 더 단축해보기(얼마 차이 안 남)\n",
    "from collections import deque\n",
    "import sys\n",
    "input = sys.stdin.readline\n",
    "\n",
    "def bfs(node):\n",
    "    need_visit = deque()\n",
    "    need_visit.append(node)\n",
    "    visited = [False for _ in range(n + 1)]\n",
    "    while need_visit:\n",
    "        now = need_visit.popleft()\n",
    "        if not visited[now]:\n",
    "            visited[now] = True\n",
    "            need_visit.extend(graph[now])\n",
    "            not_visit.discard(now)\n",
    "    return 1\n",
    "\n",
    "n, m = map(int, input().split())\n",
    "graph = [[] for _ in range(n + 1)]\n",
    "for i in range(m):\n",
    "    a, b = map(int, input().split())\n",
    "    graph[a].append(b)\n",
    "    graph[b].append(a)\n",
    "not_visit = {i for i in range(1, n + 1)}\n",
    "count = 0\n",
    "while not_visit:\n",
    "    count += bfs(not_visit.pop())\n",
    "\n",
    "print(count)"
   ]
  },
  {
   "cell_type": "code",
   "execution_count": null,
   "id": "cf1adb2c",
   "metadata": {},
   "outputs": [],
   "source": []
  }
 ],
 "metadata": {
  "kernelspec": {
   "display_name": "Python 3",
   "language": "python",
   "name": "python3"
  },
  "language_info": {
   "codemirror_mode": {
    "name": "ipython",
    "version": 3
   },
   "file_extension": ".py",
   "mimetype": "text/x-python",
   "name": "python",
   "nbconvert_exporter": "python",
   "pygments_lexer": "ipython3",
   "version": "3.8.8"
  },
  "toc": {
   "base_numbering": 1,
   "nav_menu": {},
   "number_sections": true,
   "sideBar": true,
   "skip_h1_title": false,
   "title_cell": "Table of Contents",
   "title_sidebar": "Contents",
   "toc_cell": false,
   "toc_position": {},
   "toc_section_display": true,
   "toc_window_display": false
  }
 },
 "nbformat": 4,
 "nbformat_minor": 5
}
