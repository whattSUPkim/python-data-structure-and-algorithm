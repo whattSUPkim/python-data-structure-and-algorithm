{
 "cells": [
  {
   "cell_type": "markdown",
   "id": "f2a14f36",
   "metadata": {},
   "source": [
    "https://www.acmicpc.net/problem/3190"
   ]
  },
  {
   "cell_type": "code",
   "execution_count": 95,
   "id": "bc896269",
   "metadata": {},
   "outputs": [
    {
     "name": "stdout",
     "output_type": "stream",
     "text": [
      "6\n",
      "3\n",
      "3 4\n",
      "2 5\n",
      "5 3\n",
      "3\n",
      "3 D\n",
      "15 L\n",
      "17 D\n",
      "9\n"
     ]
    }
   ],
   "source": [
    "import sys\n",
    "from collections import deque\n",
    "#input = sys.stdin.readline\n",
    "\n",
    "n = int(input())\n",
    "minimap = [[0 for i in range(n)] for j in range(n)]\n",
    "k = int(input())\n",
    "for i in range(k):\n",
    "    t1, t2 = map(int, input().split())\n",
    "    minimap[t1 - 1][t2 - 1] = 1\n",
    "l = int(input())\n",
    "l_list = list()\n",
    "for i in range(l):\n",
    "    t1, t2 = input().split()\n",
    "    l_list.append([int(t1), str(t2)])\n",
    "l_index = 0\n",
    "\n",
    "# 위오아왼\n",
    "dr = [-1, 0, 1, 0]\n",
    "dc = [0, 1, 0, -1] \n",
    "d_now = 1  # 머리 방향\n",
    "now_h, now_t = [0, 0], [0, 0]\n",
    "minimap[0][0] = 3  # 첫 위치 표시\n",
    "queue = deque()  # 꼬리 이동용\n",
    "\n",
    "seconds = 0\n",
    "while True:\n",
    "    seconds += 1\n",
    "    minimap[now_h[0]][now_h[1]] = 3\n",
    "    now_h[0] += dr[d_now % 4]\n",
    "    now_h[1] += dc[d_now % 4]\n",
    "    queue.append([now_h[0], now_h[1]])\n",
    "    # 종료 조건\n",
    "    if now_h[0] < 0 or now_h[1] < 0 or now_h[0] > n - 1 or now_h[1] > n - 1:\n",
    "        break\n",
    "    if minimap[now_h[0]][now_h[1]] == 3:\n",
    "        break\n",
    "    # 길이 조절\n",
    "    if minimap[now_h[0]][now_h[1]] == 1:  # 사과 o\n",
    "        minimap[now_h[0]][now_h[1]] = 2\n",
    "    if minimap[now_h[0]][now_h[1]] == 0:  # 사과 x\n",
    "        minimap[now_t[0]][now_t[1]] = 0        \n",
    "        now_t = queue.popleft()\n",
    "        \n",
    "    # 방향 조절\n",
    "    if l_index >= l:\n",
    "        continue\n",
    "    if l_list[l_index][0] == seconds :\n",
    "        if l_list[l_index][1] == 'L':\n",
    "            d_now -= 1\n",
    "        if l_list[l_index][1] == 'D':\n",
    "            d_now += 1\n",
    "        l_index += 1\n",
    "    \n",
    "print(seconds)\n"
   ]
  },
  {
   "cell_type": "markdown",
   "id": "be064c92",
   "metadata": {},
   "source": [
    "-  배운점\n",
    "    - (아래 코드)반복문 속에서 append 할 때 주소가 now_h 객체를 가르키기 때문에 queue에 있는 모든 값들이 다 함께 변경 됨.\n",
    "    ```python\n",
    "        now_h[0] += dr[d_now % 4]\n",
    "        now_h[1] += dc[d_now % 4]\n",
    "        queue.append(now_h)\n",
    "    ```\n",
    "    - 아래 코드처럼 해야 제대로된 queue가 뙴\n",
    "    ```python\n",
    "        now_h[0] += dr[d_now % 4]\n",
    "        now_h[1] += dc[d_now % 4]\n",
    "        queue.append([now_h[0], now_h[1]])\n",
    "    ```"
   ]
  },
  {
   "cell_type": "code",
   "execution_count": 99,
   "id": "c8b239f9",
   "metadata": {},
   "outputs": [
    {
     "data": {
      "text/plain": [
       "[[1, 5, 3], [1, 5, 3], [1, 5, 3]]"
      ]
     },
     "execution_count": 99,
     "metadata": {},
     "output_type": "execute_result"
    }
   ],
   "source": [
    "a = [1, 2, 3]\n",
    "b = list()\n",
    "for i in range(3):\n",
    "    b.append(a)\n",
    "    a[1] += 1\n",
    "b"
   ]
  },
  {
   "cell_type": "code",
   "execution_count": 100,
   "id": "9f25313f",
   "metadata": {},
   "outputs": [
    {
     "data": {
      "text/plain": [
       "[[1, 2, 3], [1, 3, 3], [1, 4, 3]]"
      ]
     },
     "execution_count": 100,
     "metadata": {},
     "output_type": "execute_result"
    }
   ],
   "source": [
    "a = [1, 2, 3]\n",
    "b = list()\n",
    "for i in range(3):\n",
    "    b.append([a[0], a[1], a[2]])\n",
    "    a[1] += 1\n",
    "b"
   ]
  },
  {
   "cell_type": "code",
   "execution_count": 101,
   "id": "0d7ba470",
   "metadata": {},
   "outputs": [
    {
     "data": {
      "text/plain": [
       "[[1, 2, 3], [1, 3, 3], [1, 4, 3]]"
      ]
     },
     "execution_count": 101,
     "metadata": {},
     "output_type": "execute_result"
    }
   ],
   "source": [
    "# 얕은 복사 사용\n",
    "a = [1, 2, 3]\n",
    "b = list()\n",
    "for i in range(3):\n",
    "    b.append(a.copy())\n",
    "    a[1] += 1\n",
    "b"
   ]
  },
  {
   "cell_type": "code",
   "execution_count": null,
   "id": "ca468b7e",
   "metadata": {},
   "outputs": [],
   "source": []
  }
 ],
 "metadata": {
  "kernelspec": {
   "display_name": "Python 3",
   "language": "python",
   "name": "python3"
  },
  "language_info": {
   "codemirror_mode": {
    "name": "ipython",
    "version": 3
   },
   "file_extension": ".py",
   "mimetype": "text/x-python",
   "name": "python",
   "nbconvert_exporter": "python",
   "pygments_lexer": "ipython3",
   "version": "3.8.8"
  },
  "toc": {
   "base_numbering": 1,
   "nav_menu": {},
   "number_sections": true,
   "sideBar": true,
   "skip_h1_title": false,
   "title_cell": "Table of Contents",
   "title_sidebar": "Contents",
   "toc_cell": false,
   "toc_position": {},
   "toc_section_display": true,
   "toc_window_display": false
  }
 },
 "nbformat": 4,
 "nbformat_minor": 5
}
