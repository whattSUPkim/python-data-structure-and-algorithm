{
 "cells": [
  {
   "cell_type": "markdown",
   "metadata": {},
   "source": [
    "https://www.acmicpc.net/problem/7576"
   ]
  },
  {
   "cell_type": "code",
   "execution_count": 11,
   "metadata": {},
   "outputs": [
    {
     "name": "stdout",
     "output_type": "stream",
     "text": [
      "6 4\n",
      "0 -1 0 0 0 0\n",
      "-1 0 0 0 0 0\n",
      "0 0 0 0 0 0\n",
      "0 0 0 0 0 1\n",
      "-1\n"
     ]
    }
   ],
   "source": [
    "m, n = map(int, input().split())\n",
    "minimap = list()\n",
    "from collections import deque\n",
    "to_one = deque()\n",
    "for i in range(n):\n",
    "    minimap.append(list(map(int, input().split())))\n",
    "    for j in range(m):\n",
    "        if minimap[i][j] == 1:\n",
    "            to_one.append([i, j])\n",
    "\n",
    "def semi_bfs(r, c):\n",
    "    mr = [-1, 1, 0, 0]\n",
    "    mc = [0, 0, -1, 1]\n",
    "    for i in range(4):\n",
    "        nr = mr[i] + r\n",
    "        nc = mc[i] + c\n",
    "        if nr < 0 or nc < 0 or nr > n - 1 or nc > m - 1:\n",
    "            continue\n",
    "        if minimap[nr][nc] == -1:\n",
    "            continue\n",
    "        if minimap[nr][nc] == 0:\n",
    "            minimap[nr][nc] = 1\n",
    "            to_one.append([nr, nc])\n",
    "            \n",
    "def not_zero():\n",
    "    for i in range(n):\n",
    "        for j in range(m):\n",
    "            if minimap[i][j] == 0:\n",
    "                return True\n",
    "            \n",
    "    return False\n",
    "\n",
    "count = -1\n",
    "while to_one:\n",
    "    count += 1\n",
    "    for i in range(len(to_one)):\n",
    "        t1, t2 = to_one.popleft()\n",
    "        semi_bfs(t1, t2)    \n",
    "    if not to_one:\n",
    "        if not_zero():\n",
    "            count = -1\n",
    "            break\n",
    "print(count)    \n"
   ]
  },
  {
   "cell_type": "code",
   "execution_count": null,
   "metadata": {},
   "outputs": [],
   "source": []
  }
 ],
 "metadata": {
  "kernelspec": {
   "display_name": "Python 3",
   "language": "python",
   "name": "python3"
  },
  "language_info": {
   "codemirror_mode": {
    "name": "ipython",
    "version": 3
   },
   "file_extension": ".py",
   "mimetype": "text/x-python",
   "name": "python",
   "nbconvert_exporter": "python",
   "pygments_lexer": "ipython3",
   "version": "3.8.5"
  },
  "toc": {
   "base_numbering": 1,
   "nav_menu": {},
   "number_sections": true,
   "sideBar": true,
   "skip_h1_title": false,
   "title_cell": "Table of Contents",
   "title_sidebar": "Contents",
   "toc_cell": false,
   "toc_position": {},
   "toc_section_display": true,
   "toc_window_display": false
  }
 },
 "nbformat": 4,
 "nbformat_minor": 4
}
