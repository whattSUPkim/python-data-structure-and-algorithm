{
 "cells": [
  {
   "cell_type": "markdown",
   "id": "978898e8",
   "metadata": {},
   "source": [
    "https://www.acmicpc.net/problem/1541"
   ]
  },
  {
   "cell_type": "markdown",
   "id": "28f68583",
   "metadata": {},
   "source": [
    "- 문제\n",
    "    - 0~9, =, -  로 이루어짐\n",
    "    - 가장 처음과 마지막 문자는 숫자\n",
    "    - 연속해서 두 개 이상의 연산자가 나타나지 않고, 5자리보다 많이 연속되는 순자는 없음\n",
    "    - 수는 0으로 시작할 수 있음\n",
    "    - 괄호를 넣어서 최소값 출력\n",
    "- 접근\n",
    "    - 출력은 eval사용\n",
    "    - -를 만나면 ( 열고, 다시 -를 만나기 전에 ), -뒤에 다시 ( ) 반복"
   ]
  },
  {
   "cell_type": "code",
   "execution_count": 101,
   "id": "81855d1b",
   "metadata": {},
   "outputs": [
    {
     "name": "stdout",
     "output_type": "stream",
     "text": [
      "2929+330-0001+3434-3019-3928\n",
      "2929+330-(1+3434)-(3019)-(3928)\n",
      "-7123\n"
     ]
    },
    {
     "data": {
      "text/plain": [
       "12034"
      ]
     },
     "execution_count": 101,
     "metadata": {},
     "output_type": "execute_result"
    }
   ],
   "source": [
    "input_num = list(input())\n",
    "## 0 처리\n",
    "cal = list()\n",
    "tt = str()\n",
    "while input_num:\n",
    "    t = input_num.pop(0)\n",
    "    if t == '-' or t == '+':\n",
    "        cal.append(str(int(tt)))\n",
    "        cal.append(t)\n",
    "        tt = str()\n",
    "    else:\n",
    "        tt += t\n",
    "        if not input_num:\n",
    "            cal.append(str(int(tt)))\n",
    "\n",
    "## ()처리\n",
    "index = 0\n",
    "temp = 0\n",
    "len_cal = len(cal)\n",
    "while len_cal:\n",
    "    if len_cal == 1 and temp == 1:\n",
    "        cal.append(')')    \n",
    "    if cal[index] == '-' and temp == 0 :\n",
    "        cal.insert(index + 1, '(')\n",
    "        index += 1\n",
    "        temp += 1\n",
    "    if cal[index] == '-' and temp == 1 :\n",
    "        cal.insert(index, ')')\n",
    "        temp -= 1\n",
    "        len_cal += 1\n",
    "        \n",
    "    len_cal -= 1\n",
    "    index += 1\n",
    "\n",
    "result = str()\n",
    "for i in cal:\n",
    "    result += i\n",
    "\n",
    "print(eval(result))"
   ]
  },
  {
   "cell_type": "markdown",
   "id": "e323df22",
   "metadata": {},
   "source": [
    "- 다른사람 풀이\n",
    "    - 다 탐색하는 것이 아닌 +와 -를 생각하며 깔끔하게 품"
   ]
  },
  {
   "cell_type": "code",
   "execution_count": 133,
   "id": "d48e1e5f",
   "metadata": {},
   "outputs": [
    {
     "name": "stdout",
     "output_type": "stream",
     "text": [
      "-50\n"
     ]
    }
   ],
   "source": [
    "x = a.split(\"-\")\n",
    "d = []\n",
    "\n",
    "for i in x:\n",
    "    k = 0\n",
    "    try:\n",
    "        k = eval(i)\n",
    "    except:\n",
    "        tmp = i.split(\"+\")\n",
    "        for x in tmp:\n",
    "            k += int(x)\n",
    "    finally:\n",
    "        d.append(k)\n",
    "    \n",
    "r = d[0]\n",
    "e = d[1:]\n",
    "\n",
    "for j in e:\n",
    "    r -= j\n",
    "\n",
    "print(r)"
   ]
  },
  {
   "cell_type": "code",
   "execution_count": null,
   "id": "ed691a12",
   "metadata": {},
   "outputs": [],
   "source": []
  }
 ],
 "metadata": {
  "kernelspec": {
   "display_name": "Python 3",
   "language": "python",
   "name": "python3"
  },
  "language_info": {
   "codemirror_mode": {
    "name": "ipython",
    "version": 3
   },
   "file_extension": ".py",
   "mimetype": "text/x-python",
   "name": "python",
   "nbconvert_exporter": "python",
   "pygments_lexer": "ipython3",
   "version": "3.8.8"
  },
  "toc": {
   "base_numbering": 1,
   "nav_menu": {},
   "number_sections": true,
   "sideBar": true,
   "skip_h1_title": false,
   "title_cell": "Table of Contents",
   "title_sidebar": "Contents",
   "toc_cell": false,
   "toc_position": {},
   "toc_section_display": true,
   "toc_window_display": false
  }
 },
 "nbformat": 4,
 "nbformat_minor": 5
}
