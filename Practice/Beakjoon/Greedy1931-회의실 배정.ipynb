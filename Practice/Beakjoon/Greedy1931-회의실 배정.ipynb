{
 "cells": [
  {
   "cell_type": "markdown",
   "id": "b8ba20a1",
   "metadata": {},
   "source": [
    "https://www.acmicpc.net/problem/1931"
   ]
  },
  {
   "cell_type": "markdown",
   "id": "ef0eabf6",
   "metadata": {},
   "source": [
    "- 문제\n",
    "    - 최대 할 수 있는 회의의 최대 개수 출력\n",
    "- 접근\n",
    "    - 끝나는 시간이 젤 짧은 순서대로\n",
    "        - (끝나는 시간, 시작하는 시간) 순서로 정렬\n",
    "    - 끝나는 시간이 시작하는 시간보다 크거나 같은 리스트가 다음 차례가 됨(반복)"
   ]
  },
  {
   "cell_type": "code",
   "execution_count": 15,
   "id": "ac474a32",
   "metadata": {},
   "outputs": [
    {
     "name": "stdout",
     "output_type": "stream",
     "text": [
      "11\n",
      "1 4\n",
      "3 5\n",
      "0 6\n",
      "5 7\n",
      "3 8\n",
      "5 9\n",
      "6 10\n",
      "8 11\n",
      "8 12\n",
      "2 13\n",
      "12 14\n",
      "4\n"
     ]
    }
   ],
   "source": [
    "# 1트-틀림\n",
    "n = int(input())\n",
    "time_list = [[] for _ in range(n)]\n",
    "for i in range(n):\n",
    "    s, e = map(int, input().split())\n",
    "    time_list[i].append(s)\n",
    "    time_list[i].append(e)\n",
    "time_list.sort(key = lambda x : (x[1], x[0]))\n",
    "\n",
    "finish = time_list[0][1]\n",
    "result = 1\n",
    "for start, end in time_list:\n",
    "    if start >= finish:\n",
    "        result += 1\n",
    "        finish = end\n",
    "\n",
    "print(result)\n",
    "\n"
   ]
  },
  {
   "cell_type": "markdown",
   "id": "67c22787",
   "metadata": {},
   "source": [
    "- 틀린이유\n",
    "    - finish를 리스트[0][1]로 주고 result가 1인 상태로 시작하면, 첫 반복에서 시작시간과 끝나는 시간이 같을 때, 한 번 더 더함 \n",
    "    - ex)\n",
    "    ```python\n",
    "    2\n",
    "    0 0\n",
    "    0 0\n",
    "    ## -> 2가 아닌 3 출력\n",
    "    ```\n",
    "    "
   ]
  },
  {
   "cell_type": "code",
   "execution_count": null,
   "id": "2824e3c3",
   "metadata": {},
   "outputs": [],
   "source": [
    "# 2트-성공\n",
    "n = int(input())\n",
    "time_list = [[] for _ in range(n)]\n",
    "for i in range(n):\n",
    "    s, e = map(int, input().split())\n",
    "    time_list[i].append(s)\n",
    "    time_list[i].append(e)\n",
    "time_list.sort(key = lambda x : (x[1], x[0]))\n",
    "\n",
    "finish = 0  # 수정\n",
    "result = 0  # 수정\n",
    "for start, end in time_list:\n",
    "    if start >= finish:\n",
    "        result += 1\n",
    "        finish = end\n",
    "\n",
    "print(result)\n"
   ]
  },
  {
   "cell_type": "code",
   "execution_count": null,
   "id": "c6907689",
   "metadata": {},
   "outputs": [],
   "source": []
  }
 ],
 "metadata": {
  "kernelspec": {
   "display_name": "Python 3",
   "language": "python",
   "name": "python3"
  },
  "language_info": {
   "codemirror_mode": {
    "name": "ipython",
    "version": 3
   },
   "file_extension": ".py",
   "mimetype": "text/x-python",
   "name": "python",
   "nbconvert_exporter": "python",
   "pygments_lexer": "ipython3",
   "version": "3.8.8"
  },
  "toc": {
   "base_numbering": 1,
   "nav_menu": {},
   "number_sections": true,
   "sideBar": true,
   "skip_h1_title": false,
   "title_cell": "Table of Contents",
   "title_sidebar": "Contents",
   "toc_cell": false,
   "toc_position": {},
   "toc_section_display": true,
   "toc_window_display": false
  }
 },
 "nbformat": 4,
 "nbformat_minor": 5
}
