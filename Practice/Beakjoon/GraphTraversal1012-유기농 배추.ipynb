{
 "cells": [
  {
   "cell_type": "markdown",
   "id": "aefafbe1",
   "metadata": {},
   "source": [
    "https://www.acmicpc.net/problem/1012"
   ]
  },
  {
   "cell_type": "markdown",
   "id": "047cf19b",
   "metadata": {},
   "source": [
    "- 접근\n",
    "    - bfs()가 몇 군데에서 돌아갔는지 확인해보자"
   ]
  },
  {
   "cell_type": "code",
   "execution_count": 51,
   "id": "88f1e6f7",
   "metadata": {},
   "outputs": [
    {
     "data": {
      "text/plain": [
       "[[1, 0, 0, 0, 0, 0, 0, 0],\n",
       " [1, 1, 0, 0, 0, 0, 0, 0],\n",
       " [0, 0, 0, 0, 1, 0, 0, 0],\n",
       " [0, 0, 0, 0, 0, 0, 0, 0],\n",
       " [0, 0, 1, 1, 0, 1, 0, 0],\n",
       " [0, 0, 0, 0, 0, 0, 0, 0],\n",
       " [0, 0, 0, 0, 0, 0, 0, 0],\n",
       " [0, 0, 0, 0, 1, 1, 1, 0],\n",
       " [0, 0, 0, 0, 1, 1, 1, 0],\n",
       " [0, 0, 0, 0, 1, 1, 1, 0]]"
      ]
     },
     "execution_count": 51,
     "metadata": {},
     "output_type": "execute_result"
    }
   ],
   "source": [
    "minimap"
   ]
  },
  {
   "cell_type": "code",
   "execution_count": 75,
   "id": "251e268e",
   "metadata": {},
   "outputs": [
    {
     "name": "stdout",
     "output_type": "stream",
     "text": [
      "2\n",
      "10 8 17\n",
      "0 0\n",
      "1 0\n",
      "1 1\n",
      "4 2\n",
      "4 3\n",
      "4 5\n",
      "2 4\n",
      "3 4\n",
      "7 4\n",
      "8 4\n",
      "9 4\n",
      "7 5\n",
      "8 5\n",
      "9 5\n",
      "7 6\n",
      "8 6\n",
      "9 6\n",
      "10 10 1\n",
      "5 5\n",
      "5\n",
      "1\n"
     ]
    }
   ],
   "source": [
    "def test():\n",
    "    def bfs(r, c):\n",
    "        dr = [-1, 1, 0, 0]\n",
    "        dc = [0, 0, -1, 1]\n",
    "\n",
    "        from collections import deque\n",
    "        need_visit = deque()\n",
    "        need_visit.append([r, c])\n",
    "        visited = [[r, c]]\n",
    "        while need_visit:\n",
    "            now_r, now_c = need_visit.popleft()\n",
    "            for i in range(4):\n",
    "                next_r = now_r + dr[i]\n",
    "                next_c = now_c + dc[i]\n",
    "                if next_r < 0 or next_c < 0 or next_r > m - 1 or next_c > n - 1:\n",
    "                    continue\n",
    "                if minimap[next_r][next_c] == 0:\n",
    "                    continue\n",
    "                if minimap[next_r][next_c] == 1 and [next_r, next_c] not in visited:\n",
    "                    need_visit.append([next_r, next_c])\n",
    "                    visited.append([next_r, next_c])\n",
    "                    minimap[next_r][next_c] = 0\n",
    "\n",
    "    # minimap, m, x\n",
    "    m, n, q = map(int,input().split())\n",
    "    q_list = list()\n",
    "    minimap = list()\n",
    "    for i in range(q):\n",
    "        q_list.append(list(map(int,input().split())))\n",
    "    for i in range(m):\n",
    "        minimap.append([0 for _ in range(n)])\n",
    "    for i, j in q_list:\n",
    "        minimap[i][j] = 1    \n",
    "\n",
    "    count = 0\n",
    "    for i in range(m):\n",
    "        for j in range(n):\n",
    "            if minimap[i][j] == 1:\n",
    "                bfs(i, j)\n",
    "                count += 1\n",
    "    return count\n",
    "\n",
    "t = int(input())\n",
    "answer = list()\n",
    "for i in range(t):\n",
    "    answer.append(test())\n",
    "for i in range(t):\n",
    "    print(answer[i])"
   ]
  },
  {
   "cell_type": "code",
   "execution_count": null,
   "id": "0365dadd",
   "metadata": {},
   "outputs": [],
   "source": []
  }
 ],
 "metadata": {
  "kernelspec": {
   "display_name": "Python 3",
   "language": "python",
   "name": "python3"
  },
  "language_info": {
   "codemirror_mode": {
    "name": "ipython",
    "version": 3
   },
   "file_extension": ".py",
   "mimetype": "text/x-python",
   "name": "python",
   "nbconvert_exporter": "python",
   "pygments_lexer": "ipython3",
   "version": "3.8.8"
  },
  "toc": {
   "base_numbering": 1,
   "nav_menu": {},
   "number_sections": true,
   "sideBar": true,
   "skip_h1_title": false,
   "title_cell": "Table of Contents",
   "title_sidebar": "Contents",
   "toc_cell": false,
   "toc_position": {},
   "toc_section_display": true,
   "toc_window_display": false
  }
 },
 "nbformat": 4,
 "nbformat_minor": 5
}
