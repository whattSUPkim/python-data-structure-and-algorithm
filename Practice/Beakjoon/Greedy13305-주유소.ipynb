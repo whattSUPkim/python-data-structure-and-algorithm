{
 "cells": [
  {
   "cell_type": "markdown",
   "id": "4dfcfbcf",
   "metadata": {},
   "source": [
    "https://www.acmicpc.net/problem/13305"
   ]
  },
  {
   "cell_type": "code",
   "execution_count": 22,
   "id": "a8e42cae",
   "metadata": {},
   "outputs": [
    {
     "name": "stdout",
     "output_type": "stream",
     "text": [
      "4\n",
      "3 3 4\n",
      "1 1 1 1\n",
      "10\n"
     ]
    }
   ],
   "source": [
    "import sys\n",
    "# input = sys.stdin.readline\n",
    "\n",
    "city = int(input())\n",
    "road = list(map(int, input().split()))\n",
    "price = list(map(int, input().split()))\n",
    "\n",
    "station = [0]  # 주유해야 할 곳\n",
    "now = price[0]\n",
    "for i in range(1, len(price)):  # 마지막 주유소는 제외\n",
    "    if now > price[i]:\n",
    "        now = price[i]\n",
    "        station.append(i)\n",
    "station.append(len(price) - 1) # 마지막 정류장의 인덱스 \n",
    "\n",
    "low_price = list()\n",
    "now_i = station[0]\n",
    "for i in station[1:]:\n",
    "    low_price.append(price[now_i] * sum(road[now_i : i]))  # 각 구간 가격\n",
    "    now_i = i\n",
    "    \n",
    "answer = sum(low_price)\n",
    "print(answer)\n",
    "    "
   ]
  },
  {
   "cell_type": "code",
   "execution_count": null,
   "id": "e031fad3",
   "metadata": {},
   "outputs": [],
   "source": []
  }
 ],
 "metadata": {
  "kernelspec": {
   "display_name": "Python 3",
   "language": "python",
   "name": "python3"
  },
  "language_info": {
   "codemirror_mode": {
    "name": "ipython",
    "version": 3
   },
   "file_extension": ".py",
   "mimetype": "text/x-python",
   "name": "python",
   "nbconvert_exporter": "python",
   "pygments_lexer": "ipython3",
   "version": "3.8.8"
  },
  "toc": {
   "base_numbering": 1,
   "nav_menu": {},
   "number_sections": true,
   "sideBar": true,
   "skip_h1_title": false,
   "title_cell": "Table of Contents",
   "title_sidebar": "Contents",
   "toc_cell": false,
   "toc_position": {},
   "toc_section_display": true,
   "toc_window_display": false
  }
 },
 "nbformat": 4,
 "nbformat_minor": 5
}
