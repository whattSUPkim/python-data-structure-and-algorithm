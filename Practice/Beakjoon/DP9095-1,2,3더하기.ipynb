{
 "cells": [
  {
   "cell_type": "markdown",
   "id": "7db64540",
   "metadata": {},
   "source": [
    "https://www.acmicpc.net/problem/9095"
   ]
  },
  {
   "cell_type": "markdown",
   "id": "3723f150",
   "metadata": {},
   "source": [
    "- 문제    \n",
    "    - 1, 2, 3의 합으로 나타내는 방법의 수를 구하자\n",
    "    - n은 11보다 작은 양수\n",
    "    - t개의 양수의 방법의 수를 출력\n",
    "- 접근    \n",
    "    - 1 - 1 (1)\n",
    "    - 2  - 11, 2 (2)\n",
    "    - 3 - 111, 12, 21, 3 (4)\n",
    "    - 4 - 1111, 112, 121, 211, 22, 13, 31 (7)\n",
    "    - 5 - 11111, 1112, 1121, 1211, 2111, 221, 212, 122, 113, 131, 311, 23, 32, (13)\n",
    "    - 점화식 : n = (n-1) + (n-2) + (n-3)"
   ]
  },
  {
   "cell_type": "code",
   "execution_count": 25,
   "id": "df4af1c2",
   "metadata": {},
   "outputs": [
    {
     "name": "stdout",
     "output_type": "stream",
     "text": [
      "3\n",
      "4\n",
      "7\n",
      "10\n",
      "7\n",
      "44\n",
      "274\n"
     ]
    }
   ],
   "source": [
    "t = int(input())\n",
    "n_list = []\n",
    "for i in range(t):\n",
    "    n_list.append(int(input()))\n",
    "\n",
    "cache = [0 for _ in range(11)]\n",
    "cache[1] = 1\n",
    "cache[2] = 2\n",
    "cache[3] = 4\n",
    "\n",
    "for i in range(4, 11):\n",
    "    cache[i] = cache[i-1] + cache[i-2] + cache[i-3]\n",
    "\n",
    "for i in n_list:\n",
    "    print(cache[i])\n",
    "    "
   ]
  },
  {
   "cell_type": "code",
   "execution_count": null,
   "id": "131e455a",
   "metadata": {},
   "outputs": [],
   "source": []
  }
 ],
 "metadata": {
  "kernelspec": {
   "display_name": "Python 3",
   "language": "python",
   "name": "python3"
  },
  "language_info": {
   "codemirror_mode": {
    "name": "ipython",
    "version": 3
   },
   "file_extension": ".py",
   "mimetype": "text/x-python",
   "name": "python",
   "nbconvert_exporter": "python",
   "pygments_lexer": "ipython3",
   "version": "3.8.8"
  },
  "toc": {
   "base_numbering": 1,
   "nav_menu": {},
   "number_sections": true,
   "sideBar": true,
   "skip_h1_title": false,
   "title_cell": "Table of Contents",
   "title_sidebar": "Contents",
   "toc_cell": false,
   "toc_position": {},
   "toc_section_display": true,
   "toc_window_display": false
  }
 },
 "nbformat": 4,
 "nbformat_minor": 5
}
