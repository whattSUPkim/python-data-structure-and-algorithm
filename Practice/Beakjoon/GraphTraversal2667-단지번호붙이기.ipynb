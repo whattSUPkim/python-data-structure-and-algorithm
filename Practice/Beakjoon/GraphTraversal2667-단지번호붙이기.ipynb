{
 "cells": [
  {
   "cell_type": "markdown",
   "id": "ec43dcc1",
   "metadata": {},
   "source": [
    "- 문제\n",
    "    - 단지수 출력, 각 단지별 집의 수를 오름차순으로 정렬하여 출력"
   ]
  },
  {
   "cell_type": "code",
   "execution_count": 169,
   "id": "deebb4d0",
   "metadata": {},
   "outputs": [
    {
     "name": "stdout",
     "output_type": "stream",
     "text": [
      "7\n",
      "0110100\n",
      "0110101\n",
      "1110101\n",
      "0000111\n",
      "0100000\n",
      "0111110\n",
      "0111000\n",
      "3\n",
      "7\n",
      "8\n",
      "9\n"
     ]
    }
   ],
   "source": [
    "n = int(input())\n",
    "house = []\n",
    "for i in range(n):\n",
    "    house.append(list(map(int, input())))\n",
    "\n",
    "# 상하좌우\n",
    "dr = [-1, 1, 0, 0]\n",
    "dc = [0, 0, -1, 1]\n",
    "\n",
    "from collections import deque\n",
    "def bfs(r, c):\n",
    "    need_visit = deque()\n",
    "    need_visit.append([r, c])\n",
    "    visited = [[r, c]]\n",
    "    count = 1  # 처음 1\n",
    "    while need_visit:\n",
    "        now_r, now_c = need_visit.popleft()\n",
    "        for i in range(4):\n",
    "            next_r = dr[i] + now_r\n",
    "            next_c = dc[i] + now_c\n",
    "            if next_r < 0 or next_c < 0 or next_r > n - 1 or next_c > n - 1:\n",
    "                continue\n",
    "            if house[next_r][next_c] == 0:\n",
    "                continue\n",
    "            if house[next_r][next_c] == 1 and [next_r, next_c] not in visited:\n",
    "                need_visit.append([next_r, next_c])\n",
    "                visited.append([next_r, next_c])\n",
    "                house[next_r][next_c] += 1\n",
    "                count += 1\n",
    "    return count\n",
    "result = []\n",
    "\n",
    "for i in range(n):\n",
    "    for j in range(n):\n",
    "        if house[i][j] == 1:\n",
    "            result.append(bfs(i, j))\n",
    "            \n",
    "print(len(result))\n",
    "result.sort()\n",
    "for i in result:\n",
    "    print(i)\n",
    "        \n",
    "    "
   ]
  },
  {
   "cell_type": "code",
   "execution_count": null,
   "id": "cd662e11",
   "metadata": {},
   "outputs": [],
   "source": []
  }
 ],
 "metadata": {
  "kernelspec": {
   "display_name": "Python 3",
   "language": "python",
   "name": "python3"
  },
  "language_info": {
   "codemirror_mode": {
    "name": "ipython",
    "version": 3
   },
   "file_extension": ".py",
   "mimetype": "text/x-python",
   "name": "python",
   "nbconvert_exporter": "python",
   "pygments_lexer": "ipython3",
   "version": "3.8.8"
  },
  "toc": {
   "base_numbering": 1,
   "nav_menu": {},
   "number_sections": true,
   "sideBar": true,
   "skip_h1_title": false,
   "title_cell": "Table of Contents",
   "title_sidebar": "Contents",
   "toc_cell": false,
   "toc_position": {},
   "toc_section_display": true,
   "toc_window_display": false
  }
 },
 "nbformat": 4,
 "nbformat_minor": 5
}
