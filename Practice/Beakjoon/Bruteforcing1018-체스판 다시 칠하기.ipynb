{
 "cells": [
  {
   "cell_type": "markdown",
   "id": "d7e47926",
   "metadata": {},
   "source": [
    "https://www.acmicpc.net/problem/1018"
   ]
  },
  {
   "cell_type": "markdown",
   "id": "16481b59",
   "metadata": {},
   "source": [
    "- 문제 꼼꼼히 읽어보자"
   ]
  },
  {
   "cell_type": "code",
   "execution_count": 105,
   "id": "3dab6483",
   "metadata": {},
   "outputs": [
    {
     "name": "stdout",
     "output_type": "stream",
     "text": [
      "8 8\n",
      "WBWBWBWB\n",
      "BWBWBWBW\n",
      "WBWBWBWB\n",
      "BWBBBWBW\n",
      "WBWBWBWB\n",
      "BWBWBWBW\n",
      "WBWBWWWB\n",
      "BWBWBWBW\n",
      "2\n"
     ]
    }
   ],
   "source": [
    "import sys\n",
    "#input = sys.stdin.readline\n",
    "\n",
    "r, c = map(int, input().split())\n",
    "board = list()\n",
    "for i in range(r):\n",
    "    board.append(list(input().strip()))\n",
    "\n",
    "wb = list('WBWBWBWB')\n",
    "bw = list('BWBWBWBW')\n",
    "answer_w = [wb, bw, wb, bw, wb, bw, wb, bw]\n",
    "answer_b = [bw, wb, bw, wb, bw, wb, bw, wb]\n",
    "def h_m_times(m):\n",
    "    count_w = 0\n",
    "    count_b = 0\n",
    "    for i in range(len(m)):\n",
    "        for j in range(len(m)):\n",
    "            if m[i][j] != answer_w[i][j]:\n",
    "                count_w += 1\n",
    "            if m[i][j] != answer_b[i][j]:\n",
    "                count_b += 1\n",
    "    return min(count_w, count_b)\n",
    "\n",
    "idx_r = 0\n",
    "best = 100000\n",
    "while True:\n",
    "    idx_c = 0\n",
    "    while True:\n",
    "        miniboard = [i[idx_c : idx_c + 8] for i in board[idx_r : idx_r + 8]]\n",
    "        temp = h_m_times(miniboard)\n",
    "        best = min(best, temp)\n",
    "        idx_c += 1\n",
    "        if idx_c + 8 > c :\n",
    "            break\n",
    "    idx_r += 1\n",
    "    if idx_r + 8 > r:\n",
    "            break\n",
    "\n",
    "print(best) "
   ]
  },
  {
   "cell_type": "code",
   "execution_count": null,
   "id": "bd75d157",
   "metadata": {},
   "outputs": [],
   "source": []
  }
 ],
 "metadata": {
  "kernelspec": {
   "display_name": "Python 3",
   "language": "python",
   "name": "python3"
  },
  "language_info": {
   "codemirror_mode": {
    "name": "ipython",
    "version": 3
   },
   "file_extension": ".py",
   "mimetype": "text/x-python",
   "name": "python",
   "nbconvert_exporter": "python",
   "pygments_lexer": "ipython3",
   "version": "3.8.8"
  },
  "toc": {
   "base_numbering": 1,
   "nav_menu": {},
   "number_sections": true,
   "sideBar": true,
   "skip_h1_title": false,
   "title_cell": "Table of Contents",
   "title_sidebar": "Contents",
   "toc_cell": false,
   "toc_position": {},
   "toc_section_display": true,
   "toc_window_display": false
  }
 },
 "nbformat": 4,
 "nbformat_minor": 5
}
