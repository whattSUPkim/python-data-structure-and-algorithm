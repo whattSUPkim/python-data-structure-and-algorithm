{
 "cells": [
  {
   "cell_type": "markdown",
   "id": "d4e4537a",
   "metadata": {},
   "source": [
    "https://www.acmicpc.net/problem/7568"
   ]
  },
  {
   "cell_type": "code",
   "execution_count": 62,
   "id": "d5802806",
   "metadata": {},
   "outputs": [
    {
     "name": "stdout",
     "output_type": "stream",
     "text": [
      "5\n",
      "55 185\n",
      "58 183\n",
      "88 186\n",
      "60 175\n",
      "46 155\n",
      "2 2 1 2 5 "
     ]
    }
   ],
   "source": [
    "import sys\n",
    "input = sys.stdin.readline\n",
    "\n",
    "n = int(input())\n",
    "mans = list()\n",
    "for i in range(n):\n",
    "    mans.append(list(map(int, input().split())))\n",
    "\n",
    "answer = [0 for _ in range(n)]\n",
    "rank = 1\n",
    "for i in range(n):\n",
    "    now = mans[i]\n",
    "    for j in range(n):\n",
    "        if j == now:\n",
    "            continue\n",
    "        if now[0] < mans[j][0] and now[1] < mans[j][1]:\n",
    "            rank += 1\n",
    "    answer[i] = rank\n",
    "    rank = 1\n",
    "\n",
    "for i in answer:\n",
    "    print(i, end = ' ')\n",
    "        "
   ]
  },
  {
   "cell_type": "code",
   "execution_count": null,
   "id": "5a38a345",
   "metadata": {},
   "outputs": [],
   "source": []
  }
 ],
 "metadata": {
  "kernelspec": {
   "display_name": "Python 3",
   "language": "python",
   "name": "python3"
  },
  "language_info": {
   "codemirror_mode": {
    "name": "ipython",
    "version": 3
   },
   "file_extension": ".py",
   "mimetype": "text/x-python",
   "name": "python",
   "nbconvert_exporter": "python",
   "pygments_lexer": "ipython3",
   "version": "3.8.8"
  },
  "toc": {
   "base_numbering": 1,
   "nav_menu": {},
   "number_sections": true,
   "sideBar": true,
   "skip_h1_title": false,
   "title_cell": "Table of Contents",
   "title_sidebar": "Contents",
   "toc_cell": false,
   "toc_position": {},
   "toc_section_display": true,
   "toc_window_display": false
  }
 },
 "nbformat": 4,
 "nbformat_minor": 5
}
