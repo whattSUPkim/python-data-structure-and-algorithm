{
 "cells": [
  {
   "cell_type": "markdown",
   "id": "7fc5b614",
   "metadata": {},
   "source": [
    "https://www.acmicpc.net/problem/2748"
   ]
  },
  {
   "cell_type": "markdown",
   "id": "c220caa8",
   "metadata": {},
   "source": [
    "- 2번째 피보나치 = 바로 앞 두 피보나치 수의 합\n",
    "- 점화식\n",
    "    - n = (n-1) + (n-2)"
   ]
  },
  {
   "cell_type": "code",
   "execution_count": 15,
   "id": "338c7e24",
   "metadata": {},
   "outputs": [
    {
     "name": "stdout",
     "output_type": "stream",
     "text": [
      "17\n",
      "1597\n"
     ]
    }
   ],
   "source": [
    "n = int(input())\n",
    "\n",
    "cache = [0, 1]\n",
    "for i in range(2, n + 1):\n",
    "    cache.append(cache[i - 2] + cache[i - 1])\n",
    "\n",
    "print(cache[n])"
   ]
  },
  {
   "cell_type": "code",
   "execution_count": null,
   "id": "12367d0d",
   "metadata": {},
   "outputs": [],
   "source": []
  }
 ],
 "metadata": {
  "kernelspec": {
   "display_name": "Python 3",
   "language": "python",
   "name": "python3"
  },
  "language_info": {
   "codemirror_mode": {
    "name": "ipython",
    "version": 3
   },
   "file_extension": ".py",
   "mimetype": "text/x-python",
   "name": "python",
   "nbconvert_exporter": "python",
   "pygments_lexer": "ipython3",
   "version": "3.8.8"
  },
  "toc": {
   "base_numbering": 1,
   "nav_menu": {},
   "number_sections": true,
   "sideBar": true,
   "skip_h1_title": false,
   "title_cell": "Table of Contents",
   "title_sidebar": "Contents",
   "toc_cell": false,
   "toc_position": {},
   "toc_section_display": true,
   "toc_window_display": false
  }
 },
 "nbformat": 4,
 "nbformat_minor": 5
}
