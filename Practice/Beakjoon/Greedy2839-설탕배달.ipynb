{
 "cells": [
  {
   "cell_type": "markdown",
   "id": "e9f024c1",
   "metadata": {},
   "source": [
    "https://www.acmicpc.net/problem/2839"
   ]
  },
  {
   "cell_type": "code",
   "execution_count": 81,
   "id": "0f1753c2",
   "metadata": {},
   "outputs": [
    {
     "name": "stdout",
     "output_type": "stream",
     "text": [
      "11\n",
      "3\n"
     ]
    }
   ],
   "source": [
    "kg = int(input())\n",
    "\n",
    "sum_sugar1 = 0\n",
    "semi_sugar = kg // 3\n",
    "if kg % 3 == 0:\n",
    "    sum_sugar1 += semi_sugar\n",
    "\n",
    "sum_sugar2 = 0\n",
    "semi_sugar = kg // 5\n",
    "trash = kg % 5\n",
    "while semi_sugar:\n",
    "    if trash % 3 != 0:\n",
    "        semi_sugar -= 1\n",
    "        trash += 5\n",
    "    else:\n",
    "        sum_sugar2 += semi_sugar\n",
    "        sum_sugar2 += (trash // 3)\n",
    "        break\n",
    "if sum_sugar1 == 0 and sum_sugar2 == 0:\n",
    "    print(-1)\n",
    "elif sum_sugar1 == 0:\n",
    "    print(sum_sugar2)\n",
    "elif sum_sugar2 == 0:\n",
    "    print(sum_sugar1)\n",
    "elif sum_sugar1 > sum_sugar2:\n",
    "    print(sum_sugar2)\n",
    "else: \n",
    "    print(sum_sugar1)"
   ]
  },
  {
   "cell_type": "markdown",
   "id": "36d30581",
   "metadata": {},
   "source": [
    "- 다른사람 코딩"
   ]
  },
  {
   "cell_type": "code",
   "execution_count": 83,
   "id": "71d0426c",
   "metadata": {},
   "outputs": [
    {
     "name": "stdout",
     "output_type": "stream",
     "text": [
      "6\n",
      "2\n"
     ]
    }
   ],
   "source": [
    "n = int(input())\n",
    "\n",
    "a = n//5\n",
    "b = n%5\n",
    "c = 0\n",
    "\n",
    "while a>=0:\n",
    "    if b%3 == 0:\n",
    "        c = b//3\n",
    "        \n",
    "        break\n",
    "    a -= 1\n",
    "    b += 5\n",
    "        \n",
    "if b%3 == 0:\n",
    "    print(a+c)\n",
    "else:\n",
    "    print(-1)"
   ]
  },
  {
   "cell_type": "code",
   "execution_count": 5,
   "id": "fd6ef6b2",
   "metadata": {},
   "outputs": [
    {
     "name": "stdout",
     "output_type": "stream",
     "text": [
      "0\n",
      "1\n",
      "2\n",
      "3\n",
      "4\n",
      "5\n",
      "6\n",
      "7\n",
      "8\n",
      "9\n"
     ]
    }
   ],
   "source": [
    "for _ in range(10):\n",
    "    print(_)"
   ]
  },
  {
   "cell_type": "code",
   "execution_count": null,
   "id": "421ce9ec",
   "metadata": {},
   "outputs": [],
   "source": [
    "4\n",
    "1 3 1 5 \n",
    "\n",
    "8\n",
    "\n",
    "\n",
    "df 1 3\n",
    "\n"
   ]
  },
  {
   "cell_type": "code",
   "execution_count": 21,
   "id": "5ce24d15",
   "metadata": {},
   "outputs": [
    {
     "data": {
      "text/plain": [
       "[1, 3, 0, 0]"
      ]
     },
     "execution_count": 21,
     "metadata": {},
     "output_type": "execute_result"
    }
   ],
   "source": [
    "a = [1, 3, 0, 0]\n",
    "\n",
    "a"
   ]
  },
  {
   "cell_type": "code",
   "execution_count": 22,
   "id": "56ab97f1",
   "metadata": {},
   "outputs": [],
   "source": [
    "a[2] = max(a[1], a[0] + 1)"
   ]
  },
  {
   "cell_type": "code",
   "execution_count": 24,
   "id": "ec979157",
   "metadata": {},
   "outputs": [],
   "source": [
    "a[3] = max(a[2], a[1] + 5)"
   ]
  },
  {
   "cell_type": "code",
   "execution_count": 23,
   "id": "64d9052c",
   "metadata": {},
   "outputs": [
    {
     "data": {
      "text/plain": [
       "[1, 3, 3, 0]"
      ]
     },
     "execution_count": 23,
     "metadata": {},
     "output_type": "execute_result"
    }
   ],
   "source": [
    "a"
   ]
  },
  {
   "cell_type": "code",
   "execution_count": 25,
   "id": "9a7b13fd",
   "metadata": {},
   "outputs": [
    {
     "data": {
      "text/plain": [
       "[1, 3, 3, 8]"
      ]
     },
     "execution_count": 25,
     "metadata": {},
     "output_type": "execute_result"
    }
   ],
   "source": [
    "a"
   ]
  },
  {
   "cell_type": "code",
   "execution_count": null,
   "id": "1d82bd2f",
   "metadata": {},
   "outputs": [],
   "source": []
  }
 ],
 "metadata": {
  "kernelspec": {
   "display_name": "Python 3",
   "language": "python",
   "name": "python3"
  },
  "language_info": {
   "codemirror_mode": {
    "name": "ipython",
    "version": 3
   },
   "file_extension": ".py",
   "mimetype": "text/x-python",
   "name": "python",
   "nbconvert_exporter": "python",
   "pygments_lexer": "ipython3",
   "version": "3.8.8"
  },
  "toc": {
   "base_numbering": 1,
   "nav_menu": {},
   "number_sections": true,
   "sideBar": true,
   "skip_h1_title": false,
   "title_cell": "Table of Contents",
   "title_sidebar": "Contents",
   "toc_cell": false,
   "toc_position": {},
   "toc_section_display": true,
   "toc_window_display": false
  }
 },
 "nbformat": 4,
 "nbformat_minor": 5
}
