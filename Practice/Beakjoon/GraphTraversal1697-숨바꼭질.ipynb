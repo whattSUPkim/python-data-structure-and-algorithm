{
 "cells": [
  {
   "cell_type": "markdown",
   "id": "84928f7f",
   "metadata": {},
   "source": [
    "https://www.acmicpc.net/problem/1697"
   ]
  },
  {
   "cell_type": "code",
   "execution_count": 42,
   "id": "e740c6bc",
   "metadata": {},
   "outputs": [
    {
     "name": "stdout",
     "output_type": "stream",
     "text": [
      "5 17\n",
      "4\n"
     ]
    }
   ],
   "source": [
    "from collections import deque\n",
    "\n",
    "n, k = map(int, input().split())\n",
    "need_visit = deque()\n",
    "need_visit.append(n)\n",
    "visited = [0 for _ in range(100001)]\n",
    "\n",
    "while need_visit:\n",
    "    now = need_visit.popleft()\n",
    "    if now == k:\n",
    "        break\n",
    "    for nxt in [now - 1, now + 1, now * 2]:\n",
    "        if nxt < 0 or nxt > 100000:\n",
    "            continue\n",
    "        if visited[nxt] != 0:\n",
    "            continue\n",
    "        need_visit.append(nxt)\n",
    "        visited[nxt] = visited[now] + 1\n",
    "\n",
    "print(visited[k])"
   ]
  },
  {
   "cell_type": "code",
   "execution_count": null,
   "id": "167512a3",
   "metadata": {},
   "outputs": [],
   "source": []
  }
 ],
 "metadata": {
  "kernelspec": {
   "display_name": "Python 3",
   "language": "python",
   "name": "python3"
  },
  "language_info": {
   "codemirror_mode": {
    "name": "ipython",
    "version": 3
   },
   "file_extension": ".py",
   "mimetype": "text/x-python",
   "name": "python",
   "nbconvert_exporter": "python",
   "pygments_lexer": "ipython3",
   "version": "3.8.8"
  },
  "toc": {
   "base_numbering": 1,
   "nav_menu": {},
   "number_sections": true,
   "sideBar": true,
   "skip_h1_title": false,
   "title_cell": "Table of Contents",
   "title_sidebar": "Contents",
   "toc_cell": false,
   "toc_position": {},
   "toc_section_display": true,
   "toc_window_display": false
  }
 },
 "nbformat": 4,
 "nbformat_minor": 5
}
