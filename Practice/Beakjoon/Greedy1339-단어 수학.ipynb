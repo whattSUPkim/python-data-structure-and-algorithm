{
 "cells": [
  {
   "cell_type": "markdown",
   "id": "80b418d8",
   "metadata": {},
   "source": [
    "https://www.acmicpc.net/problem/1339"
   ]
  },
  {
   "cell_type": "code",
   "execution_count": 89,
   "id": "75048aff",
   "metadata": {},
   "outputs": [
    {
     "name": "stdout",
     "output_type": "stream",
     "text": [
      "2\n",
      "abc\n",
      "bca\n",
      "1875\n"
     ]
    }
   ],
   "source": [
    "import sys\n",
    "# input = sys.stdin.readline\n",
    "\n",
    "n = int(input().strip())\n",
    "word = list()\n",
    "for i in range(n):\n",
    "    word.append(list(input().strip()))\n",
    "\n",
    "importance_word = dict()\n",
    "for i in word:\n",
    "    weight = 10 ** len(i)\n",
    "    for j in i:\n",
    "        importance_word[j] = importance_word.get(j, 0) + weight\n",
    "        weight *= 0.1\n",
    "\n",
    "word_weight = dict()\n",
    "weight = 9\n",
    "while importance_word:\n",
    "    key = max(importance_word, key = importance_word.get)\n",
    "    importance_word.pop(key)\n",
    "    word_weight[key] = weight\n",
    "    weight -= 1\n",
    "\n",
    "answer = 0\n",
    "for i in word:\n",
    "    temp = ''\n",
    "    for j in i:\n",
    "        temp += str(word_weight[j])\n",
    "    answer += int(temp)\n",
    "\n",
    "print(answer)\n"
   ]
  },
  {
   "cell_type": "code",
   "execution_count": null,
   "id": "56ac212e",
   "metadata": {},
   "outputs": [],
   "source": []
  },
  {
   "cell_type": "code",
   "execution_count": null,
   "id": "2909ad11",
   "metadata": {},
   "outputs": [],
   "source": []
  },
  {
   "cell_type": "code",
   "execution_count": null,
   "id": "5d6018ac",
   "metadata": {},
   "outputs": [],
   "source": []
  }
 ],
 "metadata": {
  "kernelspec": {
   "display_name": "Python 3",
   "language": "python",
   "name": "python3"
  },
  "language_info": {
   "codemirror_mode": {
    "name": "ipython",
    "version": 3
   },
   "file_extension": ".py",
   "mimetype": "text/x-python",
   "name": "python",
   "nbconvert_exporter": "python",
   "pygments_lexer": "ipython3",
   "version": "3.8.8"
  },
  "toc": {
   "base_numbering": 1,
   "nav_menu": {},
   "number_sections": true,
   "sideBar": true,
   "skip_h1_title": false,
   "title_cell": "Table of Contents",
   "title_sidebar": "Contents",
   "toc_cell": false,
   "toc_position": {},
   "toc_section_display": true,
   "toc_window_display": false
  }
 },
 "nbformat": 4,
 "nbformat_minor": 5
}
