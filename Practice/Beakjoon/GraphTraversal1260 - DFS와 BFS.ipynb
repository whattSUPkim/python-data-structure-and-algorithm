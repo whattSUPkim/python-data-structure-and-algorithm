{
 "cells": [
  {
   "cell_type": "markdown",
   "id": "89a7b468",
   "metadata": {},
   "source": [
    "https://www.acmicpc.net/problem/1260"
   ]
  },
  {
   "cell_type": "markdown",
   "id": "cb8e9542",
   "metadata": {},
   "source": [
    "- 문제\n",
    "    - DFS, BFS 결과를 출력\n",
    "    - 방문할 수 있는 정점이 여러 개인 경우, 정점 번호가 작은 것을 먼저 방문함\n",
    "    - 더 이상 방문할 수 있는 점이 없을 경우 종료\n",
    "    - 점 : 1 ~ N"
   ]
  },
  {
   "cell_type": "code",
   "execution_count": 128,
   "id": "32291834",
   "metadata": {},
   "outputs": [
    {
     "name": "stdout",
     "output_type": "stream",
     "text": [
      "5 5 3\n",
      "5 4\n",
      "5 2\n",
      "1 2\n",
      "3 4\n",
      "3 1\n",
      "3 1 2 5 4 \n",
      "3 1 4 2 5 Wall time: 27.8 s\n"
     ]
    }
   ],
   "source": [
    "%%time\n",
    "n, m, v = list(map(int, input().split()))\n",
    "graph = [[] for _ in range(n + 1)]\n",
    "for i in range(m):\n",
    "    a, b = list(map(int, input().split()))\n",
    "    graph[a].append(b)\n",
    "    graph[b].append(a)\n",
    "\n",
    "# dfs\n",
    "need_visit = list()\n",
    "visited = list()\n",
    "need_visit.append(v)\n",
    "while need_visit:\n",
    "    node = need_visit.pop()\n",
    "    if node not in visited:\n",
    "        visited.append(node)\n",
    "        need_visit.extend(sorted(graph[node], reverse = True))\n",
    "for i in visited:\n",
    "    print(i, end = ' ')\n",
    "\n",
    "# bfs\n",
    "need_visit = list()\n",
    "visited = list()\n",
    "need_visit.append(v)\n",
    "while need_visit:\n",
    "    node = need_visit.pop(0)\n",
    "    if node not in visited:\n",
    "        visited.append(node)\n",
    "        need_visit.extend(sorted(graph[node]))\n",
    "print()\n",
    "for i in visited:\n",
    "    print(i, end = ' ')"
   ]
  },
  {
   "cell_type": "markdown",
   "id": "8df62a2f",
   "metadata": {},
   "source": [
    "리뷰\n",
    "- 맞았지만, 시간이 너무 많이 걸림\n",
    "- sys.stdin.readline 고려해보자.\n",
    "    - 반복문이 들어간 input에 효과적"
   ]
  },
  {
   "cell_type": "code",
   "execution_count": null,
   "id": "eb98bc31",
   "metadata": {},
   "outputs": [],
   "source": []
  }
 ],
 "metadata": {
  "kernelspec": {
   "display_name": "Python 3",
   "language": "python",
   "name": "python3"
  },
  "language_info": {
   "codemirror_mode": {
    "name": "ipython",
    "version": 3
   },
   "file_extension": ".py",
   "mimetype": "text/x-python",
   "name": "python",
   "nbconvert_exporter": "python",
   "pygments_lexer": "ipython3",
   "version": "3.8.8"
  },
  "toc": {
   "base_numbering": 1,
   "nav_menu": {},
   "number_sections": true,
   "sideBar": true,
   "skip_h1_title": false,
   "title_cell": "Table of Contents",
   "title_sidebar": "Contents",
   "toc_cell": false,
   "toc_position": {},
   "toc_section_display": true,
   "toc_window_display": false
  }
 },
 "nbformat": 4,
 "nbformat_minor": 5
}
