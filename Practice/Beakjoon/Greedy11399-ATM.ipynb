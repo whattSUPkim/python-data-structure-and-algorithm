{
 "cells": [
  {
   "cell_type": "markdown",
   "id": "8dfc7ded",
   "metadata": {},
   "source": [
    "https://www.acmicpc.net/problem/11399"
   ]
  },
  {
   "cell_type": "markdown",
   "id": "77b4906b",
   "metadata": {},
   "source": [
    "- 내 코딩"
   ]
  },
  {
   "cell_type": "code",
   "execution_count": 59,
   "id": "44ba2cc3",
   "metadata": {},
   "outputs": [
    {
     "name": "stdout",
     "output_type": "stream",
     "text": [
      "5\n",
      "3 1 2 3 4\n",
      "32\n"
     ]
    }
   ],
   "source": [
    "# 가장 빠른방법 : 순서 = 시간 오름차순\n",
    "n = int(input())\n",
    "p = list(map(int, input().split()))\n",
    "p_sorted = sorted(p)\n",
    "\n",
    "if n == 1:\n",
    "    print(p[0])\n",
    "else:\n",
    "    d = [0] * n\n",
    "    d[0], d[1] = p_sorted[0], p_sorted[0] + p_sorted[1]\n",
    "    for i in range(2, n):\n",
    "        d[i] = d[i - 1] + p_sorted[i]\n",
    "    print(sum(d))"
   ]
  },
  {
   "cell_type": "markdown",
   "id": "8151ef5a",
   "metadata": {},
   "source": [
    "- 다른사람 코딩(런타임 짧음)"
   ]
  },
  {
   "cell_type": "code",
   "execution_count": 60,
   "id": "3f2157c5",
   "metadata": {},
   "outputs": [
    {
     "name": "stdout",
     "output_type": "stream",
     "text": [
      "4\n",
      "3 1 2 3 4\n",
      "32\n"
     ]
    }
   ],
   "source": [
    "a = int(input())\n",
    "l = []\n",
    "total = 0\n",
    "cur = 0\n",
    "l = list(map(int, input().split()))\n",
    "\n",
    "l.sort()\n",
    "for x in l:\n",
    "    cur += x  # x사람까지 걸린 시간\n",
    "    total += cur  # 총 시간에 추가\n",
    "print(total)"
   ]
  },
  {
   "cell_type": "code",
   "execution_count": null,
   "id": "7e66076b",
   "metadata": {},
   "outputs": [],
   "source": []
  }
 ],
 "metadata": {
  "kernelspec": {
   "display_name": "Python 3",
   "language": "python",
   "name": "python3"
  },
  "language_info": {
   "codemirror_mode": {
    "name": "ipython",
    "version": 3
   },
   "file_extension": ".py",
   "mimetype": "text/x-python",
   "name": "python",
   "nbconvert_exporter": "python",
   "pygments_lexer": "ipython3",
   "version": "3.8.8"
  },
  "toc": {
   "base_numbering": 1,
   "nav_menu": {},
   "number_sections": true,
   "sideBar": true,
   "skip_h1_title": false,
   "title_cell": "Table of Contents",
   "title_sidebar": "Contents",
   "toc_cell": false,
   "toc_position": {},
   "toc_section_display": true,
   "toc_window_display": false
  }
 },
 "nbformat": 4,
 "nbformat_minor": 5
}
