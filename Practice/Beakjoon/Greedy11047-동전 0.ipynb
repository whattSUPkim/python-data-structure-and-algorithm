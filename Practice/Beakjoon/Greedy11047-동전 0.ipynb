{
 "cells": [
  {
   "cell_type": "markdown",
   "id": "8d8d1ac2",
   "metadata": {},
   "source": [
    "https://www.acmicpc.net/problem/11047"
   ]
  },
  {
   "cell_type": "markdown",
   "id": "646da854",
   "metadata": {},
   "source": [
    "- 문제\n",
    "    - N종류 동전 -> 가치의 합을 k로\n",
    "    - 최소 개수\n",
    "    - 1 <= N <= 10, 1 <= K <= 100,000,000\n",
    "    - 동전의 가치 1 <= A(I) <= 1,000,000(2보다 크거나 같으면 그 수의 배수가 들어옴)\n",
    "- 접근\n",
    "    - 동전들은 처음 동전의 배수임(dp x)\n",
    "    - k보다 크기가 작은 동전 리스트만 남김\n",
    "    - 동전 종류가 들어있는 리스트 k의 -1번째부터 나누기"
   ]
  },
  {
   "cell_type": "code",
   "execution_count": 22,
   "id": "2f6e04ba",
   "metadata": {},
   "outputs": [
    {
     "name": "stdout",
     "output_type": "stream",
     "text": [
      "10 4790\n",
      "1\n",
      "5\n",
      "10\n",
      "50\n",
      "100\n",
      "500\n",
      "1000\n",
      "5000\n",
      "10000\n",
      "50000\n",
      "12\n"
     ]
    }
   ],
   "source": [
    "n, k = list(map(int, input().split()))\n",
    "n_list = list()\n",
    "for i in range(n):\n",
    "    temp = int(input())\n",
    "    if temp <= k:\n",
    "        n_list.append(temp)\n",
    "    \n",
    "result = 0\n",
    "while n_list:\n",
    "    n_pop = n_list.pop()\n",
    "    result += k // n_pop\n",
    "    k -= ((k // n_pop) * n_pop)\n",
    "\n",
    "print(result)"
   ]
  },
  {
   "cell_type": "markdown",
   "id": "3f2fd4cb",
   "metadata": {},
   "source": [
    "- 다른사람 코딩"
   ]
  },
  {
   "cell_type": "code",
   "execution_count": 24,
   "id": "6bb16e8f",
   "metadata": {},
   "outputs": [
    {
     "name": "stdout",
     "output_type": "stream",
     "text": [
      "10 4790\n",
      "1\n",
      "5\n",
      "10\n",
      "50\n",
      "100\n",
      "500\n",
      "1000\n",
      "5000\n",
      "10000\n",
      "50000\n",
      "12\n"
     ]
    }
   ],
   "source": [
    "N, K = map(int, input().split())\n",
    "\n",
    "Coins = []\n",
    "for i in range(N) : Coins.append(int(input()))\n",
    "\n",
    "\n",
    "ans = 0\n",
    "while K > 0 :\n",
    "    coin = Coins.pop()\n",
    "    ans += K // coin\n",
    "    K %= coin\n",
    "\n",
    "print(ans)"
   ]
  },
  {
   "cell_type": "markdown",
   "id": "1f473a44",
   "metadata": {},
   "source": [
    "내 코드 리뷰\n",
    "- 쓸 데 없는 코딩이 들어감\n",
    "- (n_list 생성하는 데 조건식을 줄 필요가 없었음)"
   ]
  },
  {
   "cell_type": "code",
   "execution_count": null,
   "id": "bd2cde85",
   "metadata": {},
   "outputs": [],
   "source": []
  }
 ],
 "metadata": {
  "kernelspec": {
   "display_name": "Python 3",
   "language": "python",
   "name": "python3"
  },
  "language_info": {
   "codemirror_mode": {
    "name": "ipython",
    "version": 3
   },
   "file_extension": ".py",
   "mimetype": "text/x-python",
   "name": "python",
   "nbconvert_exporter": "python",
   "pygments_lexer": "ipython3",
   "version": "3.8.8"
  },
  "toc": {
   "base_numbering": 1,
   "nav_menu": {},
   "number_sections": true,
   "sideBar": true,
   "skip_h1_title": false,
   "title_cell": "Table of Contents",
   "title_sidebar": "Contents",
   "toc_cell": false,
   "toc_position": {},
   "toc_section_display": true,
   "toc_window_display": false
  }
 },
 "nbformat": 4,
 "nbformat_minor": 5
}
