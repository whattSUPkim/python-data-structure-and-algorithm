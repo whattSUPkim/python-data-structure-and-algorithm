{
 "cells": [
  {
   "cell_type": "markdown",
   "metadata": {},
   "source": [
    "https://www.acmicpc.net/problem/2178"
   ]
  },
  {
   "cell_type": "code",
   "execution_count": 72,
   "metadata": {},
   "outputs": [
    {
     "name": "stdout",
     "output_type": "stream",
     "text": [
      "4 6\n",
      "101111\n",
      "101010\n",
      "101011\n",
      "111011\n",
      "15\n",
      "Wall time: 7.15 s\n"
     ]
    }
   ],
   "source": [
    "%%timeit\n",
    "n, m = map(int, input().split())\n",
    "maze = list()\n",
    "for i in range(n):\n",
    "    maze.append(list(map(int, input())))\n",
    "\n",
    "# 상하좌우\n",
    "mr = [-1, 1, 0, 0]\n",
    "mc = [0, 0, -1, 1]\n",
    "\n",
    "from collections import deque\n",
    "def bfs(r, c):\n",
    "    need_visit = deque()\n",
    "    need_visit.append([r, c])\n",
    "    while need_visit:\n",
    "        now = need_visit.popleft()\n",
    "        for i in range(4):\n",
    "            nr = now[0] + mr[i]\n",
    "            nc = now[1] + mc[i]\n",
    "            if nr < 0 or nc < 0 or nr > n - 1  or nc > m - 1 :\n",
    "                continue\n",
    "            if maze[nr][nc] == 0:\n",
    "                continue\n",
    "            if maze[nr][nc] == 1:\n",
    "                need_visit.append([nr, nc])\n",
    "                maze[nr][nc] = maze[now[0]][now[1]] + 1\n",
    "    return maze[n - 1][m - 1]\n",
    "\n",
    "print(bfs(0, 0))"
   ]
  },
  {
   "cell_type": "code",
   "execution_count": null,
   "metadata": {},
   "outputs": [],
   "source": []
  }
 ],
 "metadata": {
  "kernelspec": {
   "display_name": "Python 3",
   "language": "python",
   "name": "python3"
  },
  "language_info": {
   "codemirror_mode": {
    "name": "ipython",
    "version": 3
   },
   "file_extension": ".py",
   "mimetype": "text/x-python",
   "name": "python",
   "nbconvert_exporter": "python",
   "pygments_lexer": "ipython3",
   "version": "3.8.8"
  },
  "toc": {
   "base_numbering": 1,
   "nav_menu": {},
   "number_sections": true,
   "sideBar": true,
   "skip_h1_title": false,
   "title_cell": "Table of Contents",
   "title_sidebar": "Contents",
   "toc_cell": false,
   "toc_position": {},
   "toc_section_display": true,
   "toc_window_display": false
  }
 },
 "nbformat": 4,
 "nbformat_minor": 4
}
