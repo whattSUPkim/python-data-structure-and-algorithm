{
 "cells": [
  {
   "cell_type": "markdown",
   "id": "8b71863d",
   "metadata": {},
   "source": [
    "https://www.acmicpc.net/problem/4963"
   ]
  },
  {
   "cell_type": "code",
   "execution_count": null,
   "id": "6c5c3578",
   "metadata": {},
   "outputs": [],
   "source": [
    "from collections import deque\n",
    "import sys\n",
    "input = sys.stdin.readline\n",
    "\n",
    "dr = [-1, 1, 0, 0, -1, -1, 1, 1]\n",
    "dc = [0, 0, -1, 1, -1, 1, -1, 1]\n",
    "answer = list()\n",
    "while True:\n",
    "    size = list(map(int, input().split()))\n",
    "    if size[0] == 0 and size[1] == 0:\n",
    "        break\n",
    "    \n",
    "    minimap = list()\n",
    "    for i in range(size[1]):\n",
    "        minimap.append(list(map(int, input().split())))\n",
    "    \n",
    "    count = 0\n",
    "    for i in range(size[1]):\n",
    "        for j in range(size[0]):\n",
    "            if minimap[i][j] == 1:\n",
    "                count += 1\n",
    "                need_visit = deque()\n",
    "                need_visit.append((i, j))\n",
    "                while need_visit:\n",
    "                    now_r, now_c = need_visit.popleft()\n",
    "                    for k in range(8):\n",
    "                        next_r = now_r + dr[k]\n",
    "                        next_c = now_c + dc[k]\n",
    "                        if next_r < 0 or next_c < 0 or next_r > size[1] - 1 or next_c > size[0] - 1:\n",
    "                            continue\n",
    "                        if minimap[next_r][next_c] == 0:\n",
    "                            continue\n",
    "                        if minimap[next_r][next_c] == 1:\n",
    "                            need_visit.append((next_r, next_c))\n",
    "                            minimap[next_r][next_c] = 0\n",
    "    answer.append(count)\n",
    "\n",
    "for i in answer:\n",
    "    print(i)   "
   ]
  },
  {
   "cell_type": "markdown",
   "id": "9f711b71",
   "metadata": {},
   "source": [
    "### 주의\n",
    "- 들린 곳을 체크할 땐 꼭 need_visit에 append 하는 곳에서 할 것(시간 초과 방지)"
   ]
  },
  {
   "cell_type": "code",
   "execution_count": null,
   "id": "00d4c2ca",
   "metadata": {},
   "outputs": [],
   "source": []
  }
 ],
 "metadata": {
  "kernelspec": {
   "display_name": "Python 3",
   "language": "python",
   "name": "python3"
  },
  "language_info": {
   "codemirror_mode": {
    "name": "ipython",
    "version": 3
   },
   "file_extension": ".py",
   "mimetype": "text/x-python",
   "name": "python",
   "nbconvert_exporter": "python",
   "pygments_lexer": "ipython3",
   "version": "3.8.8"
  },
  "toc": {
   "base_numbering": 1,
   "nav_menu": {},
   "number_sections": true,
   "sideBar": true,
   "skip_h1_title": false,
   "title_cell": "Table of Contents",
   "title_sidebar": "Contents",
   "toc_cell": false,
   "toc_position": {},
   "toc_section_display": true,
   "toc_window_display": false
  }
 },
 "nbformat": 4,
 "nbformat_minor": 5
}
