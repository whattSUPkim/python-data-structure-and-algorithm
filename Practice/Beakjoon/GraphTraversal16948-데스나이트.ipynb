{
 "cells": [
  {
   "cell_type": "markdown",
   "id": "9a5dee10",
   "metadata": {},
   "source": [
    "https://www.acmicpc.net/problem/16948"
   ]
  },
  {
   "cell_type": "code",
   "execution_count": 16,
   "id": "3e1d2206",
   "metadata": {},
   "outputs": [
    {
     "name": "stdout",
     "output_type": "stream",
     "text": [
      "7\n",
      "6 6 0 1\n",
      "4\n"
     ]
    }
   ],
   "source": [
    "import sys\n",
    "from collections import deque\n",
    "\n",
    "def bfs(start_point, destination, minimap):\n",
    "    need_visit = deque()\n",
    "    need_visit.append(start_point)\n",
    "    count = 0\n",
    "    while need_visit:\n",
    "        count += 1\n",
    "        for i in range(len(need_visit)):\n",
    "            now = need_visit.popleft()\n",
    "            for i in range(len(dr)):\n",
    "                nr, nc = now[0] + dr[i], now[1] + dc[i]\n",
    "                if [nr, nc] == destination:\n",
    "                    return count\n",
    "\n",
    "                if nr < 0 or nc < 0 or nr > n - 1 or nc > n -1:\n",
    "                    continue\n",
    "                if minimap[nr][nc] == 1:\n",
    "                    continue\n",
    "                minimap[nr][nc] = 1\n",
    "                need_visit.append([nr, nc])\n",
    "    \n",
    "    return -1\n",
    "\n",
    "#input = sys.stdin.readline\n",
    "n = int(input())\n",
    "rcrc = list(map(int, input().split()))\n",
    "\n",
    "minimap = [[0 for _ in range(n)] for __ in range(n)]\n",
    "start_point, destination = rcrc[:2], rcrc[2:]\n",
    "\n",
    "# (r-2, c-1), (r-2, c+1), (r, c-2), (r, c+2), (r+2, c-1), (r+2, c+1)\n",
    "dr = [-2, -2, 0, 0, 2, 2]\n",
    "dc = [-1, 1, -2, 2, -1, 1]\n",
    "\n",
    "print(bfs(start_point, destination, minimap))"
   ]
  },
  {
   "cell_type": "code",
   "execution_count": null,
   "id": "ad17f016",
   "metadata": {},
   "outputs": [],
   "source": []
  }
 ],
 "metadata": {
  "kernelspec": {
   "display_name": "Python 3",
   "language": "python",
   "name": "python3"
  },
  "language_info": {
   "codemirror_mode": {
    "name": "ipython",
    "version": 3
   },
   "file_extension": ".py",
   "mimetype": "text/x-python",
   "name": "python",
   "nbconvert_exporter": "python",
   "pygments_lexer": "ipython3",
   "version": "3.8.8"
  },
  "toc": {
   "base_numbering": 1,
   "nav_menu": {},
   "number_sections": true,
   "sideBar": true,
   "skip_h1_title": false,
   "title_cell": "Table of Contents",
   "title_sidebar": "Contents",
   "toc_cell": false,
   "toc_position": {},
   "toc_section_display": true,
   "toc_window_display": false
  }
 },
 "nbformat": 4,
 "nbformat_minor": 5
}
