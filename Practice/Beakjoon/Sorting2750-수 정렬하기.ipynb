{
 "cells": [
  {
   "cell_type": "markdown",
   "id": "8bc63ef4",
   "metadata": {},
   "source": [
    "- n개의 수가 주어졌을때 이를 오름차순으로 정렬"
   ]
  },
  {
   "cell_type": "code",
   "execution_count": 5,
   "id": "8ce251a0",
   "metadata": {},
   "outputs": [
    {
     "name": "stdout",
     "output_type": "stream",
     "text": [
      "5\n",
      "5\n",
      "2\n",
      "3\n",
      "4\n",
      "1\n",
      "1\n",
      "2\n",
      "3\n",
      "4\n",
      "5\n"
     ]
    }
   ],
   "source": [
    "#1 - 내장함수 사용\n",
    "n = int(input())\n",
    "nums = list()\n",
    "for i in range(n):\n",
    "    nums.append(int(input()))\n",
    "    \n",
    "nums.sort()\n",
    "for i in nums:\n",
    "    print(i)\n"
   ]
  },
  {
   "cell_type": "code",
   "execution_count": 33,
   "id": "2c928179",
   "metadata": {},
   "outputs": [
    {
     "name": "stdout",
     "output_type": "stream",
     "text": [
      "5\n",
      "3\n",
      "4\n",
      "5\n",
      "2\n",
      "1\n",
      "1\n",
      "2\n",
      "3\n",
      "4\n",
      "5\n"
     ]
    }
   ],
   "source": [
    "#2 - 유사 퀵 정렬 구현(시간 초과,,)\n",
    "n = int(input())\n",
    "nums = list()\n",
    "for i in range(n):\n",
    "    nums.append(int(input()))\n",
    "    \n",
    "def quick_sort(num_list):\n",
    "    if len(num_list) <= 1:\n",
    "        return num_list\n",
    "    \n",
    "    left, right = list(), list()\n",
    "    pivot = num_list[0]\n",
    "    for i in num_list[1:]:\n",
    "        if i <= pivot:\n",
    "            left.append(i)\n",
    "        else:\n",
    "            right.append(i)\n",
    "    \n",
    "    return quick_sort(left) + [pivot] + quick_sort(right)\n",
    "    \n",
    "for i in quick_sort(nums):\n",
    "    print(i)"
   ]
  },
  {
   "cell_type": "code",
   "execution_count": null,
   "id": "c0574eec",
   "metadata": {},
   "outputs": [],
   "source": []
  }
 ],
 "metadata": {
  "kernelspec": {
   "display_name": "Python 3",
   "language": "python",
   "name": "python3"
  },
  "language_info": {
   "codemirror_mode": {
    "name": "ipython",
    "version": 3
   },
   "file_extension": ".py",
   "mimetype": "text/x-python",
   "name": "python",
   "nbconvert_exporter": "python",
   "pygments_lexer": "ipython3",
   "version": "3.8.8"
  },
  "toc": {
   "base_numbering": 1,
   "nav_menu": {},
   "number_sections": true,
   "sideBar": true,
   "skip_h1_title": false,
   "title_cell": "Table of Contents",
   "title_sidebar": "Contents",
   "toc_cell": false,
   "toc_position": {},
   "toc_section_display": true,
   "toc_window_display": false
  }
 },
 "nbformat": 4,
 "nbformat_minor": 5
}
