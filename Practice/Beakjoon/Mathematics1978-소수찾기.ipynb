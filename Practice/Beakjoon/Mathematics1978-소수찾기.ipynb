{
 "cells": [
  {
   "cell_type": "markdown",
   "id": "2f6b0d45",
   "metadata": {},
   "source": [
    "https://www.acmicpc.net/problem/1978"
   ]
  },
  {
   "cell_type": "code",
   "execution_count": 4,
   "id": "dff5492b",
   "metadata": {},
   "outputs": [
    {
     "name": "stdout",
     "output_type": "stream",
     "text": [
      "4\n",
      "1 3 5 7\n",
      "3\n"
     ]
    }
   ],
   "source": [
    "import sys\n",
    "#input = sys.stdin.readline\n",
    "\n",
    "n = int(input())\n",
    "nums = list(map(int,input().split()))\n",
    "answer = n\n",
    "for num in nums:\n",
    "    if num == 1:\n",
    "        answer -= 1\n",
    "        continue\n",
    "    for i in range(2, num):\n",
    "        if num % i == 0:\n",
    "            answer -= 1\n",
    "            break\n",
    "\n",
    "print(answer)\n",
    "    "
   ]
  },
  {
   "cell_type": "code",
   "execution_count": null,
   "id": "899a01b1",
   "metadata": {},
   "outputs": [],
   "source": []
  },
  {
   "cell_type": "code",
   "execution_count": null,
   "id": "bb6cf1fe",
   "metadata": {},
   "outputs": [],
   "source": []
  }
 ],
 "metadata": {
  "kernelspec": {
   "display_name": "Python 3",
   "language": "python",
   "name": "python3"
  },
  "language_info": {
   "codemirror_mode": {
    "name": "ipython",
    "version": 3
   },
   "file_extension": ".py",
   "mimetype": "text/x-python",
   "name": "python",
   "nbconvert_exporter": "python",
   "pygments_lexer": "ipython3",
   "version": "3.8.8"
  },
  "toc": {
   "base_numbering": 1,
   "nav_menu": {},
   "number_sections": true,
   "sideBar": true,
   "skip_h1_title": false,
   "title_cell": "Table of Contents",
   "title_sidebar": "Contents",
   "toc_cell": false,
   "toc_position": {},
   "toc_section_display": true,
   "toc_window_display": false
  }
 },
 "nbformat": 4,
 "nbformat_minor": 5
}
