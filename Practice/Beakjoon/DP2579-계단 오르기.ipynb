{
 "cells": [
  {
   "cell_type": "markdown",
   "id": "7c4b46d1",
   "metadata": {},
   "source": [
    "https://www.acmicpc.net/problem/2579"
   ]
  },
  {
   "cell_type": "markdown",
   "id": "13ac0b88",
   "metadata": {},
   "source": [
    "- 계단오르기\n",
    "- 점화식\n",
    "    - max(\n",
    "    - k(n) + cache[n-2]\n",
    "    - k(n) + cache[n-1] - k[n-2]\n",
    "    - )"
   ]
  },
  {
   "cell_type": "code",
   "execution_count": 23,
   "id": "60712404",
   "metadata": {},
   "outputs": [
    {
     "name": "stdout",
     "output_type": "stream",
     "text": [
      "6\n",
      "10\n",
      "20\n",
      "15\n",
      "25\n",
      "10\n",
      "20\n",
      "75\n"
     ]
    }
   ],
   "source": [
    "n = int(input())\n",
    "stair = [0]  # cache랑 순서 맞춰주기 위해\n",
    "for i in range(n):\n",
    "    stair.append(int(input()))\n",
    "\n",
    "cache = [0 for _ in range(n + 1)]\n",
    "cache[1] = stair[1]\n",
    "\n",
    "for i in range(2, len(cache)):\n",
    "    temp1 = stair[i] + cache[i-2]\n",
    "    temp2 = stair[i] + stair[i-1] + cache[i-3]\n",
    "    cache[i] = max(temp1, temp2)\n",
    "print(cache[n])"
   ]
  },
  {
   "cell_type": "code",
   "execution_count": null,
   "id": "9059b167",
   "metadata": {},
   "outputs": [],
   "source": []
  }
 ],
 "metadata": {
  "kernelspec": {
   "display_name": "Python 3",
   "language": "python",
   "name": "python3"
  },
  "language_info": {
   "codemirror_mode": {
    "name": "ipython",
    "version": 3
   },
   "file_extension": ".py",
   "mimetype": "text/x-python",
   "name": "python",
   "nbconvert_exporter": "python",
   "pygments_lexer": "ipython3",
   "version": "3.8.8"
  },
  "toc": {
   "base_numbering": 1,
   "nav_menu": {},
   "number_sections": true,
   "sideBar": true,
   "skip_h1_title": false,
   "title_cell": "Table of Contents",
   "title_sidebar": "Contents",
   "toc_cell": false,
   "toc_position": {},
   "toc_section_display": true,
   "toc_window_display": false
  }
 },
 "nbformat": 4,
 "nbformat_minor": 5
}
