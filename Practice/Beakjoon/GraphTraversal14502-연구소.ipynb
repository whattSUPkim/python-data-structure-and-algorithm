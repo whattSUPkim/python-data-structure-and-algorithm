{
 "cells": [
  {
   "cell_type": "markdown",
   "id": "1cfc41ac",
   "metadata": {},
   "source": [
    "https://www.acmicpc.net/problem/14502"
   ]
  },
  {
   "cell_type": "markdown",
   "id": "aefea463",
   "metadata": {},
   "source": [
    "- 푸는데 시간이 너무 오래 걸림 ....\n",
    "5300 vs "
   ]
  },
  {
   "cell_type": "code",
   "execution_count": 129,
   "id": "c9030df9",
   "metadata": {},
   "outputs": [
    {
     "name": "stdout",
     "output_type": "stream",
     "text": [
      "8 8\n",
      "2 0 0 0 0 0 0 2\n",
      "2 0 0 0 0 0 0 2\n",
      "2 0 0 0 0 0 0 2\n",
      "2 0 0 0 0 0 0 2\n",
      "2 0 0 0 0 0 0 2\n",
      "0 0 0 0 0 0 0 0\n",
      "0 0 0 0 0 0 0 0\n",
      "0 0 0 0 0 0 0 0\n",
      "3\n"
     ]
    }
   ],
   "source": [
    "from collections import deque\n",
    "from itertools import combinations\n",
    "import copy\n",
    "import sys\n",
    "# input = sys.stdin.readline\n",
    "\n",
    "def bfs(try_one):  \n",
    "    this_map = copy.deepcopy(minimap)\n",
    "    for i in try_one:\n",
    "        this_map[i[0]][i[1]] = 1  # 벽 세우기\n",
    "    need_visit = deque()\n",
    "    visited = set()\n",
    "    need_visit.extend(virus)\n",
    "    count = 0\n",
    "    while need_visit:\n",
    "        now_r, now_c = need_visit.popleft() # (a, b)\n",
    "        for i in range(4):\n",
    "            next_r = now_r + dr[i]\n",
    "            next_c = now_c + dc[i]\n",
    "            if next_r < 0 or next_c < 0 or next_r > n - 1 or next_c > m - 1:\n",
    "                continue\n",
    "            if this_map[next_r][next_c] == 1 or this_map[next_r][next_c] == 2:\n",
    "                continue\n",
    "            if this_map[next_r][next_c] == 0 and (next_r, next_c) not in visited:\n",
    "                this_map[next_r][next_c] = 2\n",
    "                need_visit.append((next_r, next_c))\n",
    "                visited.add((next_r, next_c))\n",
    "                count += 1\n",
    "        \n",
    "    return num_zero - 3 - count\n",
    "\n",
    "n, m = map(int, input().split())\n",
    "minimap = [[] for _ in range(n)]\n",
    "for i in range(n):\n",
    "    t1 = list(map(int, input().split()))\n",
    "    minimap[i] = t1\n",
    "virus = list()\n",
    "nice_try = list()\n",
    "for i in range(n):\n",
    "    for j in range(m):\n",
    "        t2 = minimap[i][j]\n",
    "        if t2 == 2:\n",
    "            virus.append((i, j))\n",
    "        if t2 == 0:\n",
    "            nice_try.append((i, j))\n",
    "num_zero = len(nice_try)\n",
    "com_try = list(combinations(nice_try, 3))\n",
    "dr = [-1, 1, 0, 0]\n",
    "dc = [0, 0, -1, 1]\n",
    "\n",
    "answer = 0\n",
    "for try_1 in com_try:\n",
    "    new_min = bfs(try_1)\n",
    "    answer = max(new_min, answer)\n",
    "\n",
    "print(answer)"
   ]
  },
  {
   "cell_type": "markdown",
   "id": "0dbf708a",
   "metadata": {},
   "source": [
    "## 배운점1\n",
    "- 깊은 복사와 얕은 복사\n",
    "    - 얕은 복사(`.copy()`)\n",
    "        - mutable한 객체는 얕은 복사를 하면 새로운 주소값을 할당 받는다.\n",
    "        - 하지만 2차원 이상의 mutable 객체에서 안에 들어있는 각각의 객체들은, \n",
    "            - 겉에 있는 객체(복사한 새로운 객체)가 새로운 주소값을 할당받는다 해도 그 안에 있는 각각의 mutable한 객체는 기존 객체의 안에 있는 각각의 mutable한 객체를 가리키고 있기 때문에 \n",
    "            - 복사한 새로운 객체의 값을 바꾸면 기존 객체의 요소들도 변경된다\n",
    "    - 이를 보완한 것이 깊은복사\n",
    "        - `import copy`\n",
    "        - `new_obj = copy.deepcopy(기존 객체)`\n"
   ]
  },
  {
   "cell_type": "markdown",
   "id": "09d805c5",
   "metadata": {},
   "source": [
    "## 배운점2\n",
    "- 2차원 리스트에서 \n",
    "- 깊은 복사할 때 `deep_copy`를 사용하는 것보다(5332ms)\n",
    "- `[i[:] for i in minimap]` 하는 것이 더 빠름(3900ms)"
   ]
  },
  {
   "cell_type": "code",
   "execution_count": null,
   "id": "49449021",
   "metadata": {},
   "outputs": [],
   "source": [
    "from collections import deque\n",
    "from itertools import combinations\n",
    "#import copy\n",
    "import sys\n",
    "input = sys.stdin.readline\n",
    "\n",
    "def bfs(try_one):  \n",
    "    this_map = [i[:] for i in minimap]\n",
    "    for i in try_one:\n",
    "        this_map[i[0]][i[1]] = 1  # 벽 세우기\n",
    "    need_visit = deque()\n",
    "    visited = set()\n",
    "    need_visit.extend(virus)\n",
    "    count = 0\n",
    "    while need_visit:\n",
    "        now_r, now_c = need_visit.popleft() # (a, b)\n",
    "        for i in range(4):\n",
    "            next_r = now_r + dr[i]\n",
    "            next_c = now_c + dc[i]\n",
    "            if next_r < 0 or next_c < 0 or next_r > n - 1 or next_c > m - 1:\n",
    "                continue\n",
    "            if this_map[next_r][next_c] == 1 or this_map[next_r][next_c] == 2:\n",
    "                continue\n",
    "            if this_map[next_r][next_c] == 0 and (next_r, next_c) not in visited:\n",
    "                this_map[next_r][next_c] = 2\n",
    "                need_visit.append((next_r, next_c))\n",
    "                visited.add((next_r, next_c))\n",
    "                count += 1\n",
    "        \n",
    "    return num_zero - 3 - count\n",
    "\n",
    "n, m = map(int, input().split())\n",
    "minimap = [[] for _ in range(n)]\n",
    "for i in range(n):\n",
    "    t1 = list(map(int, input().split()))\n",
    "    minimap[i] = t1\n",
    "virus = list()\n",
    "nice_try = list()\n",
    "for i in range(n):\n",
    "    for j in range(m):\n",
    "        t2 = minimap[i][j]\n",
    "        if t2 == 2:\n",
    "            virus.append((i, j))\n",
    "        if t2 == 0:\n",
    "            nice_try.append((i, j))\n",
    "num_zero = len(nice_try)\n",
    "com_try = list(combinations(nice_try, 3))\n",
    "dr = [-1, 1, 0, 0]\n",
    "dc = [0, 0, -1, 1]\n",
    "\n",
    "answer = 0\n",
    "for try_1 in com_try:\n",
    "    new_min = bfs(try_1)\n",
    "    answer = max(new_min, answer)\n",
    "\n",
    "print(answer)"
   ]
  },
  {
   "cell_type": "code",
   "execution_count": null,
   "id": "a27fbda4",
   "metadata": {},
   "outputs": [],
   "source": []
  }
 ],
 "metadata": {
  "kernelspec": {
   "display_name": "Python 3",
   "language": "python",
   "name": "python3"
  },
  "language_info": {
   "codemirror_mode": {
    "name": "ipython",
    "version": 3
   },
   "file_extension": ".py",
   "mimetype": "text/x-python",
   "name": "python",
   "nbconvert_exporter": "python",
   "pygments_lexer": "ipython3",
   "version": "3.8.8"
  },
  "toc": {
   "base_numbering": 1,
   "nav_menu": {},
   "number_sections": true,
   "sideBar": true,
   "skip_h1_title": false,
   "title_cell": "Table of Contents",
   "title_sidebar": "Contents",
   "toc_cell": false,
   "toc_position": {},
   "toc_section_display": true,
   "toc_window_display": false
  }
 },
 "nbformat": 4,
 "nbformat_minor": 5
}
