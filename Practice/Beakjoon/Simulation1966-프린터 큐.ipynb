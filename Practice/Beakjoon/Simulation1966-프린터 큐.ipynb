{
 "cells": [
  {
   "cell_type": "markdown",
   "id": "07b6ff19",
   "metadata": {},
   "source": [
    "- 문제\n",
    "    - 테스트 케이스의 수\n",
    "        - 문서개수, 궁굼한 문서가 현재 몇 번째에 있는지\n",
    "        - n개 문서의 중요도가 차례대로 주어짐"
   ]
  },
  {
   "cell_type": "code",
   "execution_count": 27,
   "id": "e3d7a222",
   "metadata": {},
   "outputs": [
    {
     "name": "stdout",
     "output_type": "stream",
     "text": [
      "3\n",
      "1 0\n",
      "5\n",
      "4 2\n",
      "1 2 3 4\n",
      "6 0\n",
      "1 1 9 1 1 1\n"
     ]
    },
    {
     "data": {
      "text/plain": [
       "[1, 2, 5]"
      ]
     },
     "execution_count": 27,
     "metadata": {},
     "output_type": "execute_result"
    }
   ],
   "source": [
    "def printer():\n",
    "    doc_num, where = map(int, input().split())\n",
    "    importance = list(map(int, input().split()))\n",
    "    \n",
    "    if doc_num == 1:\n",
    "        return 1\n",
    "    \n",
    "    count = 0\n",
    "    shadow = [0 for _ in range(doc_num)]\n",
    "    shadow[where] = 1\n",
    "    while 1 in shadow:\n",
    "        if max(importance) != importance[0]:\n",
    "            temp = importance.pop(0)\n",
    "            temp_shadow = shadow.pop(0)\n",
    "            importance.append(temp)\n",
    "            shadow.append(temp_shadow)\n",
    "        else:\n",
    "            importance.pop(0)\n",
    "            shadow.pop(0)\n",
    "            count += 1\n",
    "            \n",
    "    return count\n",
    "\n",
    "n = int(input())\n",
    "answer = [printer() for _ in range(n)]\n",
    "for i in answer:\n",
    "    print(i)"
   ]
  },
  {
   "cell_type": "code",
   "execution_count": null,
   "id": "3d3216a8",
   "metadata": {},
   "outputs": [],
   "source": []
  }
 ],
 "metadata": {
  "kernelspec": {
   "display_name": "Python 3",
   "language": "python",
   "name": "python3"
  },
  "language_info": {
   "codemirror_mode": {
    "name": "ipython",
    "version": 3
   },
   "file_extension": ".py",
   "mimetype": "text/x-python",
   "name": "python",
   "nbconvert_exporter": "python",
   "pygments_lexer": "ipython3",
   "version": "3.8.8"
  },
  "toc": {
   "base_numbering": 1,
   "nav_menu": {},
   "number_sections": true,
   "sideBar": true,
   "skip_h1_title": false,
   "title_cell": "Table of Contents",
   "title_sidebar": "Contents",
   "toc_cell": false,
   "toc_position": {},
   "toc_section_display": true,
   "toc_window_display": false
  }
 },
 "nbformat": 4,
 "nbformat_minor": 5
}
