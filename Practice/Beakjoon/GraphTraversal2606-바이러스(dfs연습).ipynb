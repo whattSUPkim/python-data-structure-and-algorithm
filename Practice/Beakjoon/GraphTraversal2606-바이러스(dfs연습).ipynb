{
 "cells": [
  {
   "cell_type": "markdown",
   "id": "44711447",
   "metadata": {},
   "source": [
    "https://www.acmicpc.net/problem/2606"
   ]
  },
  {
   "cell_type": "markdown",
   "id": "18b7b47e",
   "metadata": {},
   "source": [
    "- dfs 재귀를 한번 연습해보자."
   ]
  },
  {
   "cell_type": "code",
   "execution_count": 9,
   "id": "d5032517",
   "metadata": {},
   "outputs": [
    {
     "name": "stdout",
     "output_type": "stream",
     "text": [
      "7\n",
      "6\n",
      "1 2\n",
      "2 3\n",
      "1 5\n",
      "5 2\n",
      "5 6\n",
      "4 7\n",
      "5\n"
     ]
    }
   ],
   "source": [
    "import sys\n",
    "# input = sys.stdin.readline\n",
    "\n",
    "computer = int(input())\n",
    "connected = int(input())\n",
    "visited = [0 for _ in range(computer + 1)]\n",
    "graph = [[] for _ in range(computer + 1)]\n",
    "for i in range(connected):\n",
    "    a, b = list(map(int, input().split()))\n",
    "    graph[a].append(b)\n",
    "    graph[b].append(a)\n",
    "\n",
    "t = 1\n",
    "def dfs(graph, t, connected):\n",
    "    visited[t] = 1\n",
    "    for i in graph[t]:\n",
    "        if visited[i] == 0:\n",
    "            dfs(graph, i, connected)\n",
    "    \n",
    "    return \n",
    "dfs(graph, t, connected)\n",
    "print(sum(visited) - 1)"
   ]
  },
  {
   "cell_type": "markdown",
   "id": "592af24b",
   "metadata": {},
   "source": []
  }
 ],
 "metadata": {
  "kernelspec": {
   "display_name": "Python 3",
   "language": "python",
   "name": "python3"
  },
  "language_info": {
   "codemirror_mode": {
    "name": "ipython",
    "version": 3
   },
   "file_extension": ".py",
   "mimetype": "text/x-python",
   "name": "python",
   "nbconvert_exporter": "python",
   "pygments_lexer": "ipython3",
   "version": "3.8.8"
  },
  "toc": {
   "base_numbering": 1,
   "nav_menu": {},
   "number_sections": true,
   "sideBar": true,
   "skip_h1_title": false,
   "title_cell": "Table of Contents",
   "title_sidebar": "Contents",
   "toc_cell": false,
   "toc_position": {},
   "toc_section_display": true,
   "toc_window_display": false
  }
 },
 "nbformat": 4,
 "nbformat_minor": 5
}
