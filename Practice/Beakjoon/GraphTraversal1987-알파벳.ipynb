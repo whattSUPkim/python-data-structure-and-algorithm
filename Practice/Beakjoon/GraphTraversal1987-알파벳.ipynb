{
 "cells": [
  {
   "cell_type": "markdown",
   "id": "812ae856",
   "metadata": {},
   "source": [
    "https://www.acmicpc.net/problem/1987"
   ]
  },
  {
   "cell_type": "code",
   "execution_count": 12,
   "id": "f6cc8a18",
   "metadata": {},
   "outputs": [
    {
     "name": "stdout",
     "output_type": "stream",
     "text": [
      "5 5\n",
      "IEFCJ\n",
      " FHFKC\n",
      " FFALF\n",
      " HFGCF \n",
      "HMCHH\n",
      "10\n"
     ]
    }
   ],
   "source": [
    "## python3 -> 시간초과\n",
    "## pypy로 겨우 통과.....\n",
    "## 시간을 더 줄일 방법이 생각 안 나네요\n",
    "\n",
    "import sys\n",
    "\n",
    "def dfs(move, visited, start_point = (0, 0)):\n",
    "    global max_move\n",
    "    move += 1\n",
    "    max_move = max(max_move, move)\n",
    "    now_r, now_c = start_point\n",
    "    for i in range(4):\n",
    "        next_r, next_c = now_r + dr[i], now_c + dc[i]\n",
    "        if next_r < 0 or next_c < 0 or next_r > R - 1 or next_c > C -1:\n",
    "            continue\n",
    "        if minimap[next_r][next_c] in visited:\n",
    "            continue\n",
    "        visited.add(minimap[next_r][next_c])\n",
    "        dfs(move, visited, (next_r, next_c))\n",
    "        visited.discard(minimap[next_r][next_c])\n",
    "        \n",
    "#input = sys.stdin.readline\n",
    "R, C = map(int, input().split())\n",
    "minimap = list()\n",
    "for i in range(R):\n",
    "    minimap.append(list(input().strip()))\n",
    "\n",
    "max_move = 1\n",
    "move = 0\n",
    "visited = set()\n",
    "visited.add(minimap[0][0])\n",
    "dr, dc = [-1, 1, 0, 0], [0, 0, -1, 1]  # 상, 하, 좌, 우\n",
    "dfs(move, visited)\n",
    "\n",
    "print(max_move)"
   ]
  },
  {
   "cell_type": "code",
   "execution_count": null,
   "id": "9824f5c5",
   "metadata": {},
   "outputs": [],
   "source": []
  }
 ],
 "metadata": {
  "kernelspec": {
   "display_name": "Python 3",
   "language": "python",
   "name": "python3"
  },
  "language_info": {
   "codemirror_mode": {
    "name": "ipython",
    "version": 3
   },
   "file_extension": ".py",
   "mimetype": "text/x-python",
   "name": "python",
   "nbconvert_exporter": "python",
   "pygments_lexer": "ipython3",
   "version": "3.8.8"
  },
  "toc": {
   "base_numbering": 1,
   "nav_menu": {},
   "number_sections": true,
   "sideBar": true,
   "skip_h1_title": false,
   "title_cell": "Table of Contents",
   "title_sidebar": "Contents",
   "toc_cell": false,
   "toc_position": {},
   "toc_section_display": true,
   "toc_window_display": false
  }
 },
 "nbformat": 4,
 "nbformat_minor": 5
}
