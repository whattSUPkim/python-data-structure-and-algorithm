{
 "cells": [
  {
   "cell_type": "markdown",
   "id": "db0e4fb2",
   "metadata": {},
   "source": [
    "https://programmers.co.kr/learn/courses/30/lessons/42840"
   ]
  },
  {
   "cell_type": "code",
   "execution_count": 1,
   "id": "1b8200e1",
   "metadata": {},
   "outputs": [],
   "source": [
    "def solution(answers):\n",
    "    l = len(answers)\n",
    "    one = [1, 2, 3, 4, 5] * (l // 5 + 1)\n",
    "    two = [2, 1, 2, 3, 2, 4, 2, 5] * (l // 8 + 1)\n",
    "    three = [3, 3, 1, 1, 2, 2, 4, 4, 5, 5]  * (l // 10 + 1)\n",
    "    \n",
    "    count = [0, 0, 0] \n",
    "    for i in range(l):\n",
    "        if one[i] == answers[i]:\n",
    "            count[0] += 1\n",
    "        if two[i] == answers[i]:\n",
    "            count[1] += 1\n",
    "        if three[i] == answers[i]:\n",
    "            count[2] += 1\n",
    "    \n",
    "    answer = list()\n",
    "    temp = max(count)\n",
    "    for i in range(3):\n",
    "        if count[i] == temp:\n",
    "            answer.append(i + 1)\n",
    "\n",
    "    return answer"
   ]
  },
  {
   "cell_type": "code",
   "execution_count": null,
   "id": "20c3b385",
   "metadata": {},
   "outputs": [],
   "source": []
  }
 ],
 "metadata": {
  "kernelspec": {
   "display_name": "Python 3",
   "language": "python",
   "name": "python3"
  },
  "language_info": {
   "codemirror_mode": {
    "name": "ipython",
    "version": 3
   },
   "file_extension": ".py",
   "mimetype": "text/x-python",
   "name": "python",
   "nbconvert_exporter": "python",
   "pygments_lexer": "ipython3",
   "version": "3.8.8"
  },
  "toc": {
   "base_numbering": 1,
   "nav_menu": {},
   "number_sections": true,
   "sideBar": true,
   "skip_h1_title": false,
   "title_cell": "Table of Contents",
   "title_sidebar": "Contents",
   "toc_cell": false,
   "toc_position": {},
   "toc_section_display": true,
   "toc_window_display": false
  }
 },
 "nbformat": 4,
 "nbformat_minor": 5
}
