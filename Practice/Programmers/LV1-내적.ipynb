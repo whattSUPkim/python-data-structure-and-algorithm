{
 "cells": [
  {
   "cell_type": "markdown",
   "id": "1c09997f",
   "metadata": {},
   "source": [
    "https://programmers.co.kr/learn/courses/30/lessons/70128"
   ]
  },
  {
   "cell_type": "code",
   "execution_count": 7,
   "id": "820bcf60",
   "metadata": {},
   "outputs": [],
   "source": [
    "# 넘파이 한 번 사용해봄(엄청 느림)\n",
    "def solution(a, b):\n",
    "    import numpy as np\n",
    "    answer = np.inner(np.array(a), np.array(b))\n",
    "    \n",
    "    return int(answer)"
   ]
  },
  {
   "cell_type": "code",
   "execution_count": null,
   "id": "90f6ec55",
   "metadata": {},
   "outputs": [],
   "source": [
    "# 그냥 풀이\n",
    "def solution(a, b):\n",
    "    answer = 0\n",
    "    for i in range(len(a)):\n",
    "        answer += a[i] * b[i]\n",
    "\n",
    "    return answer"
   ]
  }
 ],
 "metadata": {
  "kernelspec": {
   "display_name": "Python 3",
   "language": "python",
   "name": "python3"
  },
  "language_info": {
   "codemirror_mode": {
    "name": "ipython",
    "version": 3
   },
   "file_extension": ".py",
   "mimetype": "text/x-python",
   "name": "python",
   "nbconvert_exporter": "python",
   "pygments_lexer": "ipython3",
   "version": "3.8.8"
  },
  "toc": {
   "base_numbering": 1,
   "nav_menu": {},
   "number_sections": true,
   "sideBar": true,
   "skip_h1_title": false,
   "title_cell": "Table of Contents",
   "title_sidebar": "Contents",
   "toc_cell": false,
   "toc_position": {},
   "toc_section_display": true,
   "toc_window_display": false
  }
 },
 "nbformat": 4,
 "nbformat_minor": 5
}
