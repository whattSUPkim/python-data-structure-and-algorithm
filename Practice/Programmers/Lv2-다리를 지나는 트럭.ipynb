{
 "cells": [
  {
   "cell_type": "markdown",
   "id": "ed53b147",
   "metadata": {},
   "source": [
    "https://programmers.co.kr/learn/courses/30/lessons/42583"
   ]
  },
  {
   "cell_type": "code",
   "execution_count": 1,
   "id": "b42ce78c",
   "metadata": {},
   "outputs": [],
   "source": [
    "from collections import deque\n",
    "\n",
    "def solution(bridge_length, weight, truck_weights):\n",
    "    answer = 0\n",
    "    in_bridge = deque([0 for _ in range(bridge_length)])\n",
    "    truck_weights = deque(truck_weights)\n",
    "    s = 0\n",
    "    while truck_weights:\n",
    "        s -= in_bridge.popleft()\n",
    "        answer += 1\n",
    "        if truck_weights:\n",
    "            hold = truck_weights[0]\n",
    "        if s + hold > weight:\n",
    "            in_bridge.append(0)\n",
    "        else:\n",
    "            temp = truck_weights.popleft()\n",
    "            s += temp\n",
    "            in_bridge.append(temp)\n",
    "            \n",
    "        if not truck_weights:\n",
    "            answer += bridge_length\n",
    "            \n",
    "    return answer\n"
   ]
  },
  {
   "cell_type": "code",
   "execution_count": null,
   "id": "4a40e4de",
   "metadata": {},
   "outputs": [],
   "source": []
  }
 ],
 "metadata": {
  "kernelspec": {
   "display_name": "Python 3",
   "language": "python",
   "name": "python3"
  },
  "language_info": {
   "codemirror_mode": {
    "name": "ipython",
    "version": 3
   },
   "file_extension": ".py",
   "mimetype": "text/x-python",
   "name": "python",
   "nbconvert_exporter": "python",
   "pygments_lexer": "ipython3",
   "version": "3.8.8"
  },
  "toc": {
   "base_numbering": 1,
   "nav_menu": {},
   "number_sections": true,
   "sideBar": true,
   "skip_h1_title": false,
   "title_cell": "Table of Contents",
   "title_sidebar": "Contents",
   "toc_cell": false,
   "toc_position": {},
   "toc_section_display": true,
   "toc_window_display": false
  }
 },
 "nbformat": 4,
 "nbformat_minor": 5
}
