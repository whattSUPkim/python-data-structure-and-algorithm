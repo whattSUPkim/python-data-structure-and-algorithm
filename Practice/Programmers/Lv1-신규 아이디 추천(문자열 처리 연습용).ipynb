{
 "cells": [
  {
   "cell_type": "markdown",
   "id": "852f55a9",
   "metadata": {},
   "source": [
    "문자열 처리 연습이 필요해 보인다."
   ]
  },
  {
   "cell_type": "code",
   "execution_count": 71,
   "id": "cecedfd9",
   "metadata": {},
   "outputs": [],
   "source": [
    "def solution(new_id):\n",
    "    nope = list()\n",
    "    for s in '~!@#$%^&*()=+[{]}:?,<>/':\n",
    "        nope.append(s)\n",
    "    # 1\n",
    "    id = new_id.lower()\n",
    "    # 2\n",
    "    for i in nope:\n",
    "        if i in id:\n",
    "            id = id.replace(i, '')\n",
    "    # 3\n",
    "    temp = list()\n",
    "    id = list(id)\n",
    "    temp2 = 0\n",
    "    if len(id) > 1:\n",
    "        for i in range(len(id) - 1):\n",
    "            if id[i] == '.' and id[i + 1] == '.':\n",
    "                temp.append(i)\n",
    "    if temp:\n",
    "        for i in range(len(temp)):\n",
    "            del id[temp[i] + temp2]\n",
    "            temp2 -= 1\n",
    "    # 4\n",
    "    if len(id) > 0:\n",
    "        if id[0] == '.':\n",
    "            del id[0]\n",
    "    if len(id) > 0:\n",
    "        if id[-1] == '.':\n",
    "            del id[-1]\n",
    "    #5\n",
    "    if not id:\n",
    "        id.append('a')\n",
    "    #6\n",
    "    if len(id) >= 16:\n",
    "        id = id[:15]\n",
    "        if id[-1] == '.':\n",
    "            del id[-1]\n",
    "    #7\n",
    "    while len(id) <= 2:\n",
    "        id.append(id[-1])\n",
    "    ##\n",
    "    answer = ''\n",
    "    \n",
    "    for i in id:\n",
    "        answer += i\n",
    "    return answer"
   ]
  },
  {
   "cell_type": "code",
   "execution_count": 65,
   "id": "111c8c42",
   "metadata": {},
   "outputs": [
    {
     "data": {
      "text/plain": [
       "'abcdefkdmfjdof'"
      ]
     },
     "execution_count": 65,
     "metadata": {},
     "output_type": "execute_result"
    }
   ],
   "source": [
    "a[:14]"
   ]
  },
  {
   "cell_type": "code",
   "execution_count": null,
   "id": "733004c8",
   "metadata": {},
   "outputs": [],
   "source": []
  }
 ],
 "metadata": {
  "kernelspec": {
   "display_name": "Python 3",
   "language": "python",
   "name": "python3"
  },
  "language_info": {
   "codemirror_mode": {
    "name": "ipython",
    "version": 3
   },
   "file_extension": ".py",
   "mimetype": "text/x-python",
   "name": "python",
   "nbconvert_exporter": "python",
   "pygments_lexer": "ipython3",
   "version": "3.8.8"
  },
  "toc": {
   "base_numbering": 1,
   "nav_menu": {},
   "number_sections": true,
   "sideBar": true,
   "skip_h1_title": false,
   "title_cell": "Table of Contents",
   "title_sidebar": "Contents",
   "toc_cell": false,
   "toc_position": {},
   "toc_section_display": true,
   "toc_window_display": false
  }
 },
 "nbformat": 4,
 "nbformat_minor": 5
}
