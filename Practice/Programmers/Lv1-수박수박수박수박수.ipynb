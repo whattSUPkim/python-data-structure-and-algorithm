{
 "cells": [
  {
   "cell_type": "markdown",
   "id": "d0bfe601",
   "metadata": {},
   "source": [
    "https://programmers.co.kr/learn/courses/30/lessons/12922"
   ]
  },
  {
   "cell_type": "code",
   "execution_count": 4,
   "id": "ccb6b2d8",
   "metadata": {},
   "outputs": [],
   "source": [
    "def solution(n):\n",
    "    answer = '수박' * (n // 2)\n",
    "    if n == 0:\n",
    "        return\n",
    "    if n == 1:\n",
    "        return '수'\n",
    "    if n % 2 == 0:\n",
    "        return answer\n",
    "    else:\n",
    "        return answer + '수'"
   ]
  },
  {
   "cell_type": "code",
   "execution_count": 6,
   "id": "75a806d0",
   "metadata": {},
   "outputs": [],
   "source": [
    "# 슬라이싱\n",
    "def water_melon(n):\n",
    "    s = \"수박\" * n\n",
    "    return s[:n]"
   ]
  },
  {
   "cell_type": "code",
   "execution_count": 1,
   "id": "a4717a11",
   "metadata": {},
   "outputs": [],
   "source": [
    "# %를 이용하여 0, 1일 때까지 커버\n",
    "def water_melon(n):\n",
    "    return \"수박\"*(n//2) + \"수\"*(n%2)"
   ]
  },
  {
   "cell_type": "code",
   "execution_count": null,
   "id": "766a0072",
   "metadata": {},
   "outputs": [],
   "source": []
  }
 ],
 "metadata": {
  "kernelspec": {
   "display_name": "Python 3",
   "language": "python",
   "name": "python3"
  },
  "language_info": {
   "codemirror_mode": {
    "name": "ipython",
    "version": 3
   },
   "file_extension": ".py",
   "mimetype": "text/x-python",
   "name": "python",
   "nbconvert_exporter": "python",
   "pygments_lexer": "ipython3",
   "version": "3.8.8"
  },
  "toc": {
   "base_numbering": 1,
   "nav_menu": {},
   "number_sections": true,
   "sideBar": true,
   "skip_h1_title": false,
   "title_cell": "Table of Contents",
   "title_sidebar": "Contents",
   "toc_cell": false,
   "toc_position": {},
   "toc_section_display": true,
   "toc_window_display": false
  }
 },
 "nbformat": 4,
 "nbformat_minor": 5
}
