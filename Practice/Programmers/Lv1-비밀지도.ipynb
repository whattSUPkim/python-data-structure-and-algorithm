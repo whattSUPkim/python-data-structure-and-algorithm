{
 "cells": [
  {
   "cell_type": "markdown",
   "id": "a4d3c4f0",
   "metadata": {},
   "source": [
    "https://programmers.co.kr/learn/courses/30/lessons/17681"
   ]
  },
  {
   "cell_type": "code",
   "execution_count": 5,
   "id": "cfaf383e",
   "metadata": {},
   "outputs": [],
   "source": [
    "def solution(n, arr1, arr2):\n",
    "    answer = [[' ' for _ in range(n)] for __ in range(n)]\n",
    "    def binary(num) :  # 이진수 변환함수\n",
    "        s = ''\n",
    "        while num:\n",
    "            s += str(num % 2)\n",
    "            num = num // 2\n",
    "        s = s[::-1]\n",
    "        zero = ''\n",
    "        if n - len(s):\n",
    "            zero = '0' * (n - len(s))\n",
    "        return zero + s\n",
    "    \n",
    "    for i in range(n):\n",
    "        t1, t2 = binary(arr1[i]), binary(arr2[i])\n",
    "        for j in range(n):\n",
    "            if t1[j] == '1' or t2[j] == '1':\n",
    "                answer[i][j] = '#'\n",
    "        answer[i] = ''.join(answer[i])\n",
    "            \n",
    "    return answer"
   ]
  },
  {
   "cell_type": "code",
   "execution_count": null,
   "id": "472b2723",
   "metadata": {},
   "outputs": [],
   "source": []
  }
 ],
 "metadata": {
  "kernelspec": {
   "display_name": "Python 3",
   "language": "python",
   "name": "python3"
  },
  "language_info": {
   "codemirror_mode": {
    "name": "ipython",
    "version": 3
   },
   "file_extension": ".py",
   "mimetype": "text/x-python",
   "name": "python",
   "nbconvert_exporter": "python",
   "pygments_lexer": "ipython3",
   "version": "3.8.8"
  },
  "toc": {
   "base_numbering": 1,
   "nav_menu": {},
   "number_sections": true,
   "sideBar": true,
   "skip_h1_title": false,
   "title_cell": "Table of Contents",
   "title_sidebar": "Contents",
   "toc_cell": false,
   "toc_position": {},
   "toc_section_display": true,
   "toc_window_display": false
  }
 },
 "nbformat": 4,
 "nbformat_minor": 5
}
