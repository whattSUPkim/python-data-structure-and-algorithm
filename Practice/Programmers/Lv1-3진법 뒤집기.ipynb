{
 "cells": [
  {
   "cell_type": "markdown",
   "id": "c3463e96",
   "metadata": {},
   "source": [
    "https://programmers.co.kr/learn/courses/30/lessons/68935"
   ]
  },
  {
   "cell_type": "code",
   "execution_count": 13,
   "id": "cace85ae",
   "metadata": {},
   "outputs": [],
   "source": [
    "def solution(n):\n",
    "    weight = [1]\n",
    "    len_ = 0\n",
    "    while True:\n",
    "        len_ += 1\n",
    "        temp = 3 ** len_ \n",
    "        if n - temp < 0:  \n",
    "            break\n",
    "        weight.append(temp) \n",
    "    weight.reverse() \n",
    "    \n",
    "    three = [0 for _ in range(len(weight))]\n",
    "    for i in range(len(weight)):\n",
    "        a = n // weight[i]\n",
    "        b = n % weight[i]\n",
    "        three[i] = a\n",
    "        n = b\n",
    "    three.reverse()\n",
    "    \n",
    "    answer = 0\n",
    "    for i in range(len(three)):\n",
    "        if three[i] != 0:\n",
    "            answer += three[i] * weight[i]\n",
    "    \n",
    "    return answer"
   ]
  },
  {
   "cell_type": "markdown",
   "id": "15bcf158",
   "metadata": {},
   "source": [
    "- 진수 변환법에 대해 배웠다"
   ]
  },
  {
   "cell_type": "code",
   "execution_count": 52,
   "id": "e2ee4f1c",
   "metadata": {},
   "outputs": [
    {
     "data": {
      "text/plain": [
       "'0021'"
      ]
     },
     "execution_count": 52,
     "metadata": {},
     "output_type": "execute_result"
    }
   ],
   "source": [
    "# 자연수를 3진수로 변환(거꾸로 !)\n",
    "n = 45\n",
    "tmp = ''\n",
    "while n:\n",
    "    tmp += str(n % 3)  # 3진수\n",
    "    n = n // 3  # 3진수\n",
    "    \n",
    "print(tmp)  # 거꾸로 3진수\n",
    "print(tmp[::-1])  # 진짜 3진수"
   ]
  },
  {
   "cell_type": "code",
   "execution_count": 28,
   "id": "65307f71",
   "metadata": {},
   "outputs": [
    {
     "data": {
      "text/plain": [
       "7"
      ]
     },
     "execution_count": 28,
     "metadata": {},
     "output_type": "execute_result"
    }
   ],
   "source": [
    "# n진수를 10진수로 변환\n",
    "int(tmp[::-1], 3)  # 3진수 -> 10진수"
   ]
  },
  {
   "cell_type": "code",
   "execution_count": null,
   "id": "bf4f67e8",
   "metadata": {},
   "outputs": [],
   "source": []
  }
 ],
 "metadata": {
  "kernelspec": {
   "display_name": "Python 3",
   "language": "python",
   "name": "python3"
  },
  "language_info": {
   "codemirror_mode": {
    "name": "ipython",
    "version": 3
   },
   "file_extension": ".py",
   "mimetype": "text/x-python",
   "name": "python",
   "nbconvert_exporter": "python",
   "pygments_lexer": "ipython3",
   "version": "3.8.8"
  },
  "toc": {
   "base_numbering": 1,
   "nav_menu": {},
   "number_sections": true,
   "sideBar": true,
   "skip_h1_title": false,
   "title_cell": "Table of Contents",
   "title_sidebar": "Contents",
   "toc_cell": false,
   "toc_position": {},
   "toc_section_display": true,
   "toc_window_display": false
  }
 },
 "nbformat": 4,
 "nbformat_minor": 5
}
