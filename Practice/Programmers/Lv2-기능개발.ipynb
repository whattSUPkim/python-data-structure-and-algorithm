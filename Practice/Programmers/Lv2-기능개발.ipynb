{
 "cells": [
  {
   "cell_type": "markdown",
   "id": "dacbe665",
   "metadata": {},
   "source": [
    "https://programmers.co.kr/learn/courses/30/lessons/42586"
   ]
  },
  {
   "cell_type": "code",
   "execution_count": 3,
   "id": "3c2f6d6a",
   "metadata": {},
   "outputs": [],
   "source": [
    "def solution(progresses, speeds):\n",
    "    answer = []\n",
    "    days = [100 - i for i in progresses]\n",
    "    for i in range(len(days)):\n",
    "        temp = days[i] // speeds[i]\n",
    "        e = days[i] % speeds[i]\n",
    "        days[i] = temp\n",
    "        if e != 0:\n",
    "            days[i] += 1\n",
    "    \n",
    "    visited = set()\n",
    "    for i in range(len(days)):\n",
    "        if i in visited:\n",
    "            continue\n",
    "        pivot = days[i]\n",
    "        num = 1\n",
    "        for j in range(i + 1, len(days)):\n",
    "            if pivot >= days[j]:\n",
    "                visited.add(j)\n",
    "                num += 1\n",
    "            if pivot < days[j]:\n",
    "                break\n",
    "        answer.append(num)\n",
    "        \n",
    "    return answer"
   ]
  },
  {
   "cell_type": "markdown",
   "id": "2260e61d",
   "metadata": {},
   "source": [
    "- math.ceil() : 실수 올림\n",
    "- math.floor() : 실수 내림"
   ]
  },
  {
   "cell_type": "markdown",
   "id": "14c126eb",
   "metadata": {},
   "source": [
    "- 다른사람 코드\n",
    "    - 예외처리를 통해 마지막 사람을 추가시켜줌\n",
    "    - 비슷한 코드마다 난 조건문을 추가로 넣어서(마지막 인덱스 조건) 마지막 사람을 추가시켰는데, 예외처리도 고려해볼만 함"
   ]
  },
  {
   "cell_type": "code",
   "execution_count": null,
   "id": "67f6626d",
   "metadata": {},
   "outputs": [],
   "source": [
    "from math import ceil\n",
    "\n",
    "def solution(progresses, speeds):\n",
    "    daysLeft = list(map(lambda x: (ceil((100 - progresses[x]) / speeds[x])), range(len(progresses))))\n",
    "    count = 1\n",
    "    retList = []\n",
    "\n",
    "    for i in range(len(daysLeft)):\n",
    "        try:\n",
    "            if daysLeft[i] < daysLeft[i + 1]:\n",
    "                retList.append(count)\n",
    "                count = 1\n",
    "            else:\n",
    "                daysLeft[i + 1] = daysLeft[i]\n",
    "                count += 1\n",
    "        except IndexError:\n",
    "            retList.append(count)\n",
    "\n",
    "    return retList"
   ]
  }
 ],
 "metadata": {
  "kernelspec": {
   "display_name": "Python 3",
   "language": "python",
   "name": "python3"
  },
  "language_info": {
   "codemirror_mode": {
    "name": "ipython",
    "version": 3
   },
   "file_extension": ".py",
   "mimetype": "text/x-python",
   "name": "python",
   "nbconvert_exporter": "python",
   "pygments_lexer": "ipython3",
   "version": "3.8.8"
  },
  "toc": {
   "base_numbering": 1,
   "nav_menu": {},
   "number_sections": true,
   "sideBar": true,
   "skip_h1_title": false,
   "title_cell": "Table of Contents",
   "title_sidebar": "Contents",
   "toc_cell": false,
   "toc_position": {},
   "toc_section_display": true,
   "toc_window_display": false
  }
 },
 "nbformat": 4,
 "nbformat_minor": 5
}
