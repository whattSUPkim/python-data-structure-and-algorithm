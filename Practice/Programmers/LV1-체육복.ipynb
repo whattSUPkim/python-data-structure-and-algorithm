{
 "cells": [
  {
   "cell_type": "markdown",
   "id": "0c830a29",
   "metadata": {},
   "source": [
    "https://programmers.co.kr/learn/courses/30/lessons/42862"
   ]
  },
  {
   "cell_type": "code",
   "execution_count": 7,
   "id": "b52d9d29",
   "metadata": {},
   "outputs": [],
   "source": [
    "def solution(n, lost, reserve):\n",
    "    answer = n\n",
    "    students = [1 for _ in range(n)]\n",
    "    for i in lost:\n",
    "        students[i - 1] -= 1\n",
    "    for i in reserve:\n",
    "        students[i - 1] += 1\n",
    "    \n",
    "    for i in range(n):\n",
    "        if 1 <=i <= n-2:\n",
    "            if students[i] == 2:\n",
    "                if students[i-1] == 0 : \n",
    "                    students[i] -= 1\n",
    "                    students[i-1] += 1\n",
    "                elif students[i+1] == 0:\n",
    "                    students[i] -= 1\n",
    "                    students[i+1] += 1\n",
    "        if i == 0 and students[i] == 2:\n",
    "            if students[i+1] == 0:\n",
    "                    students[i] -= 1\n",
    "                    students[i+1] += 1\n",
    "        if i == n-1 and students[i] == 2:\n",
    "            if students[i-1] == 0:\n",
    "                    students[i] -= 1\n",
    "                    students[i-1] += 1\n",
    "            \n",
    "    for i in students:\n",
    "        if i == 0:\n",
    "            answer -= 1\n",
    "                \n",
    "    return answer"
   ]
  },
  {
   "cell_type": "markdown",
   "id": "ca33b2ac",
   "metadata": {},
   "source": [
    "- 다른사람 코드"
   ]
  },
  {
   "cell_type": "code",
   "execution_count": null,
   "id": "ddac6bde",
   "metadata": {},
   "outputs": [],
   "source": [
    "def solution(n, lost, reserve):\n",
    "    _reserve = [r for r in reserve if r not in lost]\n",
    "    _lost = [l for l in lost if l not in reserve]\n",
    "    for r in _reserve:\n",
    "        f = r - 1\n",
    "        b = r + 1\n",
    "        if f in _lost:\n",
    "            _lost.remove(f)\n",
    "        elif b in _lost:\n",
    "            _lost.remove(b)\n",
    "    return n - len(_lost)"
   ]
  },
  {
   "cell_type": "code",
   "execution_count": null,
   "id": "6cb3754c",
   "metadata": {},
   "outputs": [],
   "source": []
  }
 ],
 "metadata": {
  "kernelspec": {
   "display_name": "Python 3",
   "language": "python",
   "name": "python3"
  },
  "language_info": {
   "codemirror_mode": {
    "name": "ipython",
    "version": 3
   },
   "file_extension": ".py",
   "mimetype": "text/x-python",
   "name": "python",
   "nbconvert_exporter": "python",
   "pygments_lexer": "ipython3",
   "version": "3.8.8"
  },
  "toc": {
   "base_numbering": 1,
   "nav_menu": {},
   "number_sections": true,
   "sideBar": true,
   "skip_h1_title": false,
   "title_cell": "Table of Contents",
   "title_sidebar": "Contents",
   "toc_cell": false,
   "toc_position": {},
   "toc_section_display": true,
   "toc_window_display": false
  }
 },
 "nbformat": 4,
 "nbformat_minor": 5
}
