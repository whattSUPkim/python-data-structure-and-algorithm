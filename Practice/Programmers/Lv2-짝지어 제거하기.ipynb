{
 "cells": [
  {
   "cell_type": "markdown",
   "id": "d4ad9c74",
   "metadata": {},
   "source": [
    "https://programmers.co.kr/learn/courses/30/lessons/12973"
   ]
  },
  {
   "cell_type": "code",
   "execution_count": null,
   "id": "5f78cbce",
   "metadata": {},
   "outputs": [],
   "source": [
    "from collections import deque\n",
    "\n",
    "def solution(s):\n",
    "    s = deque(s)\n",
    "    new_s = list()\n",
    "    while s:\n",
    "        new_s.append(s.popleft())\n",
    "        if new_s[-1:] == new_s[-2:-1]:\n",
    "            new_s.pop()\n",
    "            new_s.pop()\n",
    "    if new_s:\n",
    "        return 0\n",
    "    else:\n",
    "        return 1"
   ]
  },
  {
   "cell_type": "markdown",
   "id": "9232613d",
   "metadata": {},
   "source": [
    "- `new_s[-1]`과 `new_s[-1:]`은 다르다는 것을 기억하자\n",
    "    - 타입이 다름"
   ]
  },
  {
   "cell_type": "code",
   "execution_count": null,
   "id": "5e4758f2",
   "metadata": {},
   "outputs": [],
   "source": []
  }
 ],
 "metadata": {
  "kernelspec": {
   "display_name": "Python 3",
   "language": "python",
   "name": "python3"
  },
  "language_info": {
   "codemirror_mode": {
    "name": "ipython",
    "version": 3
   },
   "file_extension": ".py",
   "mimetype": "text/x-python",
   "name": "python",
   "nbconvert_exporter": "python",
   "pygments_lexer": "ipython3",
   "version": "3.8.8"
  },
  "toc": {
   "base_numbering": 1,
   "nav_menu": {},
   "number_sections": true,
   "sideBar": true,
   "skip_h1_title": false,
   "title_cell": "Table of Contents",
   "title_sidebar": "Contents",
   "toc_cell": false,
   "toc_position": {},
   "toc_section_display": true,
   "toc_window_display": false
  }
 },
 "nbformat": 4,
 "nbformat_minor": 5
}
