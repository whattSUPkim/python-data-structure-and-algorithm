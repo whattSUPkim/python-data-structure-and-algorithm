{
 "cells": [
  {
   "cell_type": "markdown",
   "id": "831632f4",
   "metadata": {},
   "source": [
    "https://programmers.co.kr/learn/courses/30/lessons/86052"
   ]
  },
  {
   "cell_type": "markdown",
   "id": "66d1f606",
   "metadata": {},
   "source": [
    "- 첫 코드"
   ]
  },
  {
   "cell_type": "code",
   "execution_count": 78,
   "id": "bdf72621",
   "metadata": {},
   "outputs": [
    {
     "data": {
      "text/plain": [
       "[[0, range(0, 2)], [1, range(0, 2)], [2, range(0, 2)]]"
      ]
     },
     "execution_count": 78,
     "metadata": {},
     "output_type": "execute_result"
    }
   ],
   "source": [
    "# 테스트케이스 4~8 시간초과\n",
    "from collections import deque\n",
    "\n",
    "def solution(grid):\n",
    "    # minimap, minimap_num\n",
    "    r = len(grid)\n",
    "    c = len(grid[0])\n",
    "    minimap = list()\n",
    "    for i in range(r):\n",
    "        minimap.append(list(grid[i]))\n",
    "    minimap_num = [i[:] for i in minimap]\n",
    "    starts = deque()\n",
    "    n = 0\n",
    "    for i in range(len(minimap_num)):\n",
    "        for j in range(len(minimap_num[i])):\n",
    "            minimap_num[i][j] = n\n",
    "            n += 1\n",
    "            starts.append([i, j])\n",
    "    \n",
    "    # 상, 우, 하, 좌\n",
    "    dr = [-1, 0, 1, 0]\n",
    "    dc = [0, 1, 0, -1]\n",
    "    all_road = set()  # 모든 경로\n",
    "    while starts:\n",
    "        now = starts.popleft()\n",
    "        for i in range(4):\n",
    "            d = i  # 첫 방향\n",
    "            if minimap[0][0] == 'L':\n",
    "                d -= 1\n",
    "            elif minimap[0][0] == 'R':\n",
    "                d += 1\n",
    "            road = set()  # 경로\n",
    "            while True:\n",
    "                now_num = minimap_num[now[0]][now[1]]\n",
    "                nr = now[0] + dr[d % 4]\n",
    "                nc = now[1] + dc[d % 4]\n",
    "                # 범위 밖으로 넘어가면 처음 or 마지막으로 (1, 0)\n",
    "                if nr < 0 :\n",
    "                    nr = r - 1\n",
    "                elif nr > r - 1 :\n",
    "                    nr = 0\n",
    "                if nc < 0 :\n",
    "                    nc = c - 1\n",
    "                elif nc > c - 1 :\n",
    "                    nc = 0\n",
    "                road_now = (now_num, minimap_num[nr][nc], (d % 4 + 1) * 1000)  # 방금 경로, 방향(경로와 겹치지 않게 (+ 1)* 1000)\n",
    "                if road_now in road:  # 방금경로 및 방향이 경로에 있다면 반복문 탈출\n",
    "                    break\n",
    "                road.add(road_now)  # 방금경로와 방향 기록\n",
    "                now = [nr, nc]  # 현재위치 변경\n",
    "                if minimap[now[0]][now[1]] == 'L':\n",
    "                    d -= 1\n",
    "                if minimap[now[0]][now[1]] == 'R':\n",
    "                    d += 1\n",
    "            road = sorted(road, key = lambda x : (x[0], x[1], x[2]))\n",
    "            all_road.add(tuple(road))\n",
    "    \n",
    "    answer = list()\n",
    "    for i in all_road:\n",
    "        answer.append(len(i))\n",
    "    \n",
    "    return sorted(answer)"
   ]
  },
  {
   "cell_type": "markdown",
   "id": "7a2a20e6",
   "metadata": {},
   "source": [
    "- 시간 절약한 코드"
   ]
  },
  {
   "cell_type": "code",
   "execution_count": 83,
   "id": "b0a6ec37",
   "metadata": {},
   "outputs": [],
   "source": [
    "from collections import deque\n",
    "\n",
    "def solution(grid):\n",
    "    # minimap, minimap_num, starts\n",
    "    r = len(grid)\n",
    "    c = len(grid[0])\n",
    "    minimap = list()\n",
    "    for i in range(r):\n",
    "        minimap.append(list(grid[i]))\n",
    "    minimap_num = [i[:] for i in minimap]\n",
    "    starts = deque()\n",
    "    n = 0\n",
    "    for i in range(len(minimap_num)):\n",
    "        for j in range(len(minimap_num[i])):\n",
    "            minimap_num[i][j] = n\n",
    "            n += 1\n",
    "            starts.append([i, j])\n",
    "    \n",
    "    # 상, 우, 하, 좌\n",
    "    dr = [-1, 0, 1, 0]\n",
    "    dc = [0, 1, 0, -1]\n",
    "    all_road = set()  # 모든 경로\n",
    "    early_stop = set()  # 같은 (경로, 방향)이라면 이전에 가봤던 경로면 break\n",
    "    while starts:\n",
    "        now = starts.popleft()\n",
    "        for i in range(4):\n",
    "            d = i  # 첫 방향\n",
    "            if minimap[0][0] == 'L':\n",
    "                d -= 1\n",
    "            elif minimap[0][0] == 'R':\n",
    "                d += 1\n",
    "            road = set()  # 경로\n",
    "            early_stop_btn = False \n",
    "            while True:\n",
    "                now_num = minimap_num[now[0]][now[1]]\n",
    "                nr = now[0] + dr[d % 4]\n",
    "                nc = now[1] + dc[d % 4]\n",
    "                # 범위 밖으로 넘어가면 처음 or 마지막으로 \n",
    "                if nr < 0: nr = r - 1\n",
    "                elif nr > r - 1: nr = 0\n",
    "                if nc < 0: nc = c - 1\n",
    "                elif nc > c - 1: nc = 0\n",
    "                    \n",
    "                road_now = (now_num, minimap_num[nr][nc], (d % 4 + 1) * 1000)  # 방금 경로, 방향(경로와 겹치지 않게 (+ 1)* 1000)\n",
    "                if road_now in road:  # 방금경로 및 방향이 경로에 있다면 반복문 탈출\n",
    "                    break\n",
    "                if road_now in early_stop: \n",
    "                    early_stop_btn = True\n",
    "                    break\n",
    "                road.add(road_now)  # 방금경로와 방향 기록\n",
    "                early_stop.add(road_now)\n",
    "                now = [nr, nc]  # 현재위치 변경\n",
    "                if minimap[now[0]][now[1]] == 'L':\n",
    "                    d -= 1\n",
    "                if minimap[now[0]][now[1]] == 'R':\n",
    "                    d += 1\n",
    "            road = sorted(road, key = lambda x : (x[0], x[1], x[2]))\n",
    "            if early_stop_btn:  # 이전에 가봤던 경로일 경우 all_road에 추가 안 함\n",
    "                continue\n",
    "            all_road.add(tuple(road))\n",
    "            \n",
    "    \n",
    "    answer = list()\n",
    "    for i in all_road:\n",
    "        answer.append(len(i))\n",
    "\n",
    "    return sorted(answer)"
   ]
  },
  {
   "cell_type": "code",
   "execution_count": 84,
   "id": "3cc9a393",
   "metadata": {},
   "outputs": [
    {
     "data": {
      "text/plain": [
       "[1, 1, 1, 1]"
      ]
     },
     "execution_count": 84,
     "metadata": {},
     "output_type": "execute_result"
    }
   ],
   "source": [
    "solution(['S'])"
   ]
  },
  {
   "cell_type": "code",
   "execution_count": null,
   "id": "91ce2557",
   "metadata": {},
   "outputs": [],
   "source": []
  }
 ],
 "metadata": {
  "kernelspec": {
   "display_name": "Python 3",
   "language": "python",
   "name": "python3"
  },
  "language_info": {
   "codemirror_mode": {
    "name": "ipython",
    "version": 3
   },
   "file_extension": ".py",
   "mimetype": "text/x-python",
   "name": "python",
   "nbconvert_exporter": "python",
   "pygments_lexer": "ipython3",
   "version": "3.8.8"
  },
  "toc": {
   "base_numbering": 1,
   "nav_menu": {},
   "number_sections": true,
   "sideBar": true,
   "skip_h1_title": false,
   "title_cell": "Table of Contents",
   "title_sidebar": "Contents",
   "toc_cell": false,
   "toc_position": {},
   "toc_section_display": true,
   "toc_window_display": false
  }
 },
 "nbformat": 4,
 "nbformat_minor": 5
}
