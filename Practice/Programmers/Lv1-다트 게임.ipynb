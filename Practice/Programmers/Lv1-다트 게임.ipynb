{
 "cells": [
  {
   "cell_type": "markdown",
   "id": "fd329660",
   "metadata": {},
   "source": [
    "https://programmers.co.kr/learn/courses/30/lessons/17682"
   ]
  },
  {
   "cell_type": "code",
   "execution_count": 39,
   "id": "61f52105",
   "metadata": {},
   "outputs": [
    {
     "name": "stdout",
     "output_type": "stream",
     "text": [
      "Wall time: 429 ms\n"
     ]
    },
    {
     "data": {
      "text/plain": [
       "9000"
      ]
     },
     "execution_count": 39,
     "metadata": {},
     "output_type": "execute_result"
    }
   ],
   "source": [
    "%%time\n",
    "# 시간 비효율,,\n",
    "def solution(dartResult):\n",
    "    score = list()\n",
    "    hold = ''\n",
    "    for i in range(len(dartResult)):\n",
    "        if dartResult[i] == '#' or dartResult[i] == '*':\n",
    "            score.append(dartResult[i])\n",
    "            continue\n",
    "        if dartResult[i] == 'S':\n",
    "            score.append(eval(hold + '**1'))\n",
    "            hold = ''\n",
    "            continue\n",
    "        if dartResult[i] == 'D':\n",
    "            score.append(eval(hold + '**2'))\n",
    "            hold = ''\n",
    "            continue\n",
    "        if dartResult[i] == 'T':\n",
    "            score.append(eval(hold + '**3'))\n",
    "            hold = ''\n",
    "            continue\n",
    "        hold += dartResult[i]\n",
    "\n",
    "    finish = 1\n",
    "    while finish:\n",
    "        for i in range(1, len(score)):\n",
    "            if score[i] == '*':\n",
    "                if i - 1 == 0:\n",
    "                    score[i - 1] = score[i - 1] * 2\n",
    "                    del score[i]\n",
    "                    break\n",
    "                else:\n",
    "                    score[i - 1] = score[i - 1] * 2\n",
    "                    score[i - 2] = score[i - 2] * 2\n",
    "                    del score[i]\n",
    "                    break\n",
    "            elif score[i] == '#':\n",
    "                score[i - 1] = score[i - 1] * (-1)\n",
    "                del score[i]\n",
    "                break                            \n",
    "            if i == len(score) - 1:\n",
    "                finish = 0\n",
    "                \n",
    "    return sum(score)\n",
    "solution('1D2S#10S' * 1000)"
   ]
  },
  {
   "cell_type": "code",
   "execution_count": 41,
   "id": "1ff2f83a",
   "metadata": {},
   "outputs": [
    {
     "name": "stdout",
     "output_type": "stream",
     "text": [
      "Wall time: 322 ms\n"
     ]
    },
    {
     "data": {
      "text/plain": [
       "900000"
      ]
     },
     "execution_count": 41,
     "metadata": {},
     "output_type": "execute_result"
    }
   ],
   "source": [
    "%%time\n",
    "# 훨씬 효율적인 코드\n",
    "def solution(dartResult):\n",
    "    point = []\n",
    "    answer = []\n",
    "    dartResult = dartResult.replace('10','k')\n",
    "    point = ['10' if i == 'k' else i for i in dartResult]\n",
    "\n",
    "    i = -1\n",
    "    sdt = ['S', 'D', 'T']\n",
    "    for j in point:\n",
    "        if j in sdt :\n",
    "            answer[i] = answer[i] ** (sdt.index(j)+1)\n",
    "        elif j == '*':\n",
    "            answer[i] = answer[i] * 2\n",
    "            if i != 0 :\n",
    "                answer[i - 1] = answer[i - 1] * 2\n",
    "        elif j == '#':\n",
    "            answer[i] = answer[i] * (-1)\n",
    "        else:\n",
    "            answer.append(int(j))\n",
    "            i += 1\n",
    "    return sum(answer)\n",
    "solution('1D2S#10S' * 100000)"
   ]
  },
  {
   "cell_type": "code",
   "execution_count": null,
   "id": "51f12051",
   "metadata": {},
   "outputs": [],
   "source": []
  }
 ],
 "metadata": {
  "kernelspec": {
   "display_name": "Python 3",
   "language": "python",
   "name": "python3"
  },
  "language_info": {
   "codemirror_mode": {
    "name": "ipython",
    "version": 3
   },
   "file_extension": ".py",
   "mimetype": "text/x-python",
   "name": "python",
   "nbconvert_exporter": "python",
   "pygments_lexer": "ipython3",
   "version": "3.8.8"
  },
  "toc": {
   "base_numbering": 1,
   "nav_menu": {},
   "number_sections": true,
   "sideBar": true,
   "skip_h1_title": false,
   "title_cell": "Table of Contents",
   "title_sidebar": "Contents",
   "toc_cell": false,
   "toc_position": {},
   "toc_section_display": true,
   "toc_window_display": false
  }
 },
 "nbformat": 4,
 "nbformat_minor": 5
}
