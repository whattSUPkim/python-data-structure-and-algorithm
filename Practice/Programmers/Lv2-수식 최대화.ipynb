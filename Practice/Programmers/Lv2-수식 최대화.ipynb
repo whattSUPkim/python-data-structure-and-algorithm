{
 "cells": [
  {
   "cell_type": "markdown",
   "id": "70bd9568",
   "metadata": {},
   "source": [
    "https://programmers.co.kr/learn/courses/30/lessons/67257"
   ]
  },
  {
   "cell_type": "code",
   "execution_count": 6,
   "id": "52253430",
   "metadata": {},
   "outputs": [],
   "source": [
    "from itertools import permutations\n",
    "\n",
    "def solution(expression):\n",
    "    _all = list(permutations(['+', '-', '*'], 3))\n",
    "    answer = []\n",
    "    for i in _all:\n",
    "        e = expression\n",
    "        temp = []\n",
    "        first = e.split(i[0])\n",
    "        back2 = []\n",
    "        for j in range(len(first)):  # first[[100-200], [300 - 500 + 20]]\n",
    "            second = first[j].split(i[1])\n",
    "            back1 = []\n",
    "            for k in range(len(second)): # second1[100][200] / second2[300][500 + 20]\n",
    "                back1.append(str(eval(str(second[k]))))\n",
    "                if k < len(second) - 1:\n",
    "                    back1.append(i[1])\n",
    "            back2.append(str(eval(''.join(back1))))\n",
    "            if j < len(first) - 1:\n",
    "                back2.append(i[0])\n",
    "        answer.append(abs(eval(''.join(back2))))\n",
    "\n",
    "    return max(answer)\n",
    "\n"
   ]
  },
  {
   "cell_type": "code",
   "execution_count": 7,
   "id": "c69085d8",
   "metadata": {},
   "outputs": [
    {
     "data": {
      "text/plain": [
       "60420"
      ]
     },
     "execution_count": 7,
     "metadata": {},
     "output_type": "execute_result"
    }
   ],
   "source": [
    "solution(\"100-200*300-500+20\")"
   ]
  },
  {
   "cell_type": "markdown",
   "id": "92981062",
   "metadata": {},
   "source": [
    "#### 다른사람 코드와 비교하며 배운점\n",
    "- f-string(python 3.6~) : 새로운 파이썬 포맷팅\n",
    "    - 정수끼리 산술연산도 지원\n",
    "    - 속도면에서도 가장 빠름"
   ]
  },
  {
   "cell_type": "code",
   "execution_count": 16,
   "id": "1f3c7327",
   "metadata": {},
   "outputs": [
    {
     "name": "stdout",
     "output_type": "stream",
     "text": [
      "Hello bob\n"
     ]
    }
   ],
   "source": [
    "name = 'bob'\n",
    "test = f'Hello {name}'  # f ~~\n",
    "print(test)"
   ]
  },
  {
   "cell_type": "code",
   "execution_count": 17,
   "id": "0ec278fe",
   "metadata": {},
   "outputs": [
    {
     "name": "stdout",
     "output_type": "stream",
     "text": [
      "합: 5\n"
     ]
    }
   ],
   "source": [
    "a, b = 2, 3\n",
    "test = f'합: {a + b}'  # f ~~\n",
    "print(test)"
   ]
  },
  {
   "cell_type": "code",
   "execution_count": 18,
   "id": "c11730b6",
   "metadata": {},
   "outputs": [
    {
     "name": "stdout",
     "output_type": "stream",
     "text": [
      "합: 5\n"
     ]
    }
   ],
   "source": [
    "# f-string 선언을 먼저 해도 됨\n",
    "test = f'합: {a + b}'  # f ~~\n",
    "a, b = 2, 3\n",
    "print(test)"
   ]
  },
  {
   "cell_type": "code",
   "execution_count": null,
   "id": "de55d6e3",
   "metadata": {},
   "outputs": [],
   "source": []
  }
 ],
 "metadata": {
  "kernelspec": {
   "display_name": "Python 3",
   "language": "python",
   "name": "python3"
  },
  "language_info": {
   "codemirror_mode": {
    "name": "ipython",
    "version": 3
   },
   "file_extension": ".py",
   "mimetype": "text/x-python",
   "name": "python",
   "nbconvert_exporter": "python",
   "pygments_lexer": "ipython3",
   "version": "3.8.8"
  },
  "toc": {
   "base_numbering": 1,
   "nav_menu": {},
   "number_sections": true,
   "sideBar": true,
   "skip_h1_title": false,
   "title_cell": "Table of Contents",
   "title_sidebar": "Contents",
   "toc_cell": false,
   "toc_position": {},
   "toc_section_display": true,
   "toc_window_display": false
  }
 },
 "nbformat": 4,
 "nbformat_minor": 5
}
