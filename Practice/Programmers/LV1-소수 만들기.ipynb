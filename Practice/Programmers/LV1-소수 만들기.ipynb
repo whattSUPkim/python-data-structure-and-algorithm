{
 "cells": [
  {
   "cell_type": "markdown",
   "id": "60fb8e2d",
   "metadata": {},
   "source": [
    "https://programmers.co.kr/learn/courses/30/lessons/12977"
   ]
  },
  {
   "cell_type": "code",
   "execution_count": null,
   "id": "870db0d7",
   "metadata": {},
   "outputs": [],
   "source": [
    "# combinations\n",
    "\n",
    "from itertools import combinations\n",
    "\n",
    "def solution(nums):\n",
    "    def sosu(n):\n",
    "        n = sum(n)\n",
    "        for i in range(2, n):\n",
    "            if n % i == 0:\n",
    "                return False\n",
    "        return True\n",
    "        \n",
    "    counts = 0\n",
    "    for i in combinations(nums, 3):\n",
    "        if sosu(i):\n",
    "            counts += 1\n",
    "            \n",
    "    return counts"
   ]
  }
 ],
 "metadata": {
  "kernelspec": {
   "display_name": "Python 3",
   "language": "python",
   "name": "python3"
  },
  "language_info": {
   "codemirror_mode": {
    "name": "ipython",
    "version": 3
   },
   "file_extension": ".py",
   "mimetype": "text/x-python",
   "name": "python",
   "nbconvert_exporter": "python",
   "pygments_lexer": "ipython3",
   "version": "3.8.8"
  },
  "toc": {
   "base_numbering": 1,
   "nav_menu": {},
   "number_sections": true,
   "sideBar": true,
   "skip_h1_title": false,
   "title_cell": "Table of Contents",
   "title_sidebar": "Contents",
   "toc_cell": false,
   "toc_position": {},
   "toc_section_display": true,
   "toc_window_display": false
  }
 },
 "nbformat": 4,
 "nbformat_minor": 5
}
