{
 "cells": [
  {
   "cell_type": "markdown",
   "id": "7f74caac",
   "metadata": {},
   "source": [
    "https://programmers.co.kr/learn/courses/30/lessons/60058"
   ]
  },
  {
   "cell_type": "code",
   "execution_count": 17,
   "id": "cea3c26e",
   "metadata": {},
   "outputs": [],
   "source": [
    "def check(s):\n",
    "    sum = 0\n",
    "    for i in s:\n",
    "        if i == '(':\n",
    "            sum += 1\n",
    "        if i == ')':\n",
    "            sum -= 1\n",
    "        if sum < 0:\n",
    "            return False\n",
    "    return True\n",
    "\n",
    "def split_uv(s): # s[:2]  s[2:]\n",
    "    sum = 0\n",
    "    u, v = '', ''\n",
    "    sub = 2\n",
    "    for i in range(len(s)): # 2, 4, 6 \n",
    "        u = s[:sub]\n",
    "        v = s[sub:]\n",
    "        if list(u).count('(') == list(u).count(')'):\n",
    "            break\n",
    "        sub += 2\n",
    "    return u, v\n",
    "\n",
    "def solution(p):\n",
    "    if p == '':\n",
    "        return ''\n",
    "    \n",
    "    if check(p):\n",
    "        return p\n",
    "    \n",
    "    u, v = split_uv(p)\n",
    "    print(u + '  ' + v)\n",
    "    if check(u):\n",
    "        return u + solution(v)\n",
    "    else:\n",
    "        temp = '('\n",
    "        temp += solution(v)\n",
    "        temp += ')'\n",
    "        temp_u = u[1:-1]\n",
    "        final_u = list()\n",
    "        for i in temp_u:\n",
    "            if i == '(':\n",
    "                final_u.append(')')\n",
    "            else:\n",
    "                final_u.append('(')\n",
    "        _final = temp + ''.join(final_u)\n",
    "        \n",
    "        return _final"
   ]
  },
  {
   "cell_type": "code",
   "execution_count": null,
   "id": "f8d868a1",
   "metadata": {},
   "outputs": [],
   "source": []
  }
 ],
 "metadata": {
  "kernelspec": {
   "display_name": "Python 3",
   "language": "python",
   "name": "python3"
  },
  "language_info": {
   "codemirror_mode": {
    "name": "ipython",
    "version": 3
   },
   "file_extension": ".py",
   "mimetype": "text/x-python",
   "name": "python",
   "nbconvert_exporter": "python",
   "pygments_lexer": "ipython3",
   "version": "3.8.8"
  },
  "toc": {
   "base_numbering": 1,
   "nav_menu": {},
   "number_sections": true,
   "sideBar": true,
   "skip_h1_title": false,
   "title_cell": "Table of Contents",
   "title_sidebar": "Contents",
   "toc_cell": false,
   "toc_position": {},
   "toc_section_display": true,
   "toc_window_display": false
  }
 },
 "nbformat": 4,
 "nbformat_minor": 5
}
