{
 "cells": [
  {
   "cell_type": "markdown",
   "id": "909cd93f",
   "metadata": {},
   "source": [
    "https://programmers.co.kr/learn/courses/30/lessons/77885"
   ]
  },
  {
   "cell_type": "code",
   "execution_count": 1,
   "id": "baa06247",
   "metadata": {},
   "outputs": [],
   "source": [
    "def binary(num):\n",
    "    n = ''\n",
    "    while num:\n",
    "        n += str(num % 2)\n",
    "        num //= 2\n",
    "    \n",
    "    return n[::-1]\n",
    "\n",
    "def search(num):\n",
    "    if num == 0:\n",
    "        return 1        \n",
    "    b = list(binary(num))\n",
    "    \n",
    "    for i in range(len(b) - 1, -1, -1):\n",
    "        if b[i] == '0':\n",
    "            b[i] = '1'\n",
    "            if i + 1 < len(b):\n",
    "                b[i + 1] = '0'\n",
    "            return int(''.join(b), 2)\n",
    "    \n",
    "    b[0] = '0'\n",
    "    return int(''.join(['1'] + b), 2)\n",
    "\n",
    "def solution(numbers):        \n",
    "    return [search(int(i)) for i in numbers]"
   ]
  },
  {
   "cell_type": "code",
   "execution_count": null,
   "id": "443b1988",
   "metadata": {},
   "outputs": [],
   "source": []
  }
 ],
 "metadata": {
  "kernelspec": {
   "display_name": "Python 3",
   "language": "python",
   "name": "python3"
  },
  "language_info": {
   "codemirror_mode": {
    "name": "ipython",
    "version": 3
   },
   "file_extension": ".py",
   "mimetype": "text/x-python",
   "name": "python",
   "nbconvert_exporter": "python",
   "pygments_lexer": "ipython3",
   "version": "3.8.8"
  },
  "toc": {
   "base_numbering": 1,
   "nav_menu": {},
   "number_sections": true,
   "sideBar": true,
   "skip_h1_title": false,
   "title_cell": "Table of Contents",
   "title_sidebar": "Contents",
   "toc_cell": false,
   "toc_position": {},
   "toc_section_display": true,
   "toc_window_display": false
  }
 },
 "nbformat": 4,
 "nbformat_minor": 5
}
