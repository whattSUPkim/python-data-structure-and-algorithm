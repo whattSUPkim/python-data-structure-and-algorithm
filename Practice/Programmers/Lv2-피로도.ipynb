{
 "cells": [
  {
   "cell_type": "markdown",
   "id": "30659019",
   "metadata": {},
   "source": [
    "https://programmers.co.kr/learn/courses/30/lessons/87946"
   ]
  },
  {
   "cell_type": "markdown",
   "id": "65799003",
   "metadata": {},
   "source": [
    "- 최대 던전 수가 8이라서 모든 경우의 수를 조사함"
   ]
  },
  {
   "cell_type": "code",
   "execution_count": 1,
   "id": "c7924766",
   "metadata": {},
   "outputs": [],
   "source": [
    "from itertools import permutations\n",
    "\n",
    "def solution(k, dungeons):\n",
    "    answer = 0\n",
    "    l = [i for i in range(len(dungeons))]\n",
    "    for i in range(len(dungeons), 0, -1):\n",
    "        p = list(permutations(l, i))\n",
    "        for j in p:\n",
    "            kk = int(k)\n",
    "            hm = 0\n",
    "            for m in j:\n",
    "                if kk < dungeons[m][0] or kk < dungeons[m][1]:\n",
    "                    continue\n",
    "                kk -= dungeons[m][1]\n",
    "                hm += 1\n",
    "            answer = max(answer, hm)\n",
    "            \n",
    "    return answer"
   ]
  },
  {
   "cell_type": "code",
   "execution_count": 10,
   "id": "ea00dd21",
   "metadata": {},
   "outputs": [
    {
     "name": "stdout",
     "output_type": "stream",
     "text": [
      "(0, 1, 2)\n",
      "(0, 2, 1)\n",
      "(1, 0, 2)\n",
      "(1, 2, 0)\n",
      "(2, 0, 1)\n",
      "(2, 1, 0)\n"
     ]
    }
   ],
   "source": [
    "for i in permutations(range(3)):\n",
    "    print(i)"
   ]
  },
  {
   "cell_type": "code",
   "execution_count": null,
   "id": "bda79817",
   "metadata": {},
   "outputs": [],
   "source": []
  }
 ],
 "metadata": {
  "kernelspec": {
   "display_name": "Python 3",
   "language": "python",
   "name": "python3"
  },
  "language_info": {
   "codemirror_mode": {
    "name": "ipython",
    "version": 3
   },
   "file_extension": ".py",
   "mimetype": "text/x-python",
   "name": "python",
   "nbconvert_exporter": "python",
   "pygments_lexer": "ipython3",
   "version": "3.8.8"
  },
  "toc": {
   "base_numbering": 1,
   "nav_menu": {},
   "number_sections": true,
   "sideBar": true,
   "skip_h1_title": false,
   "title_cell": "Table of Contents",
   "title_sidebar": "Contents",
   "toc_cell": false,
   "toc_position": {},
   "toc_section_display": true,
   "toc_window_display": false
  }
 },
 "nbformat": 4,
 "nbformat_minor": 5
}
