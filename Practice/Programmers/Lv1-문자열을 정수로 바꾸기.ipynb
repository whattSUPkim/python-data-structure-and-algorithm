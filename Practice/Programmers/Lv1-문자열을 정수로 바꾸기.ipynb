{
 "cells": [
  {
   "cell_type": "markdown",
   "id": "fe2eacce",
   "metadata": {},
   "source": [
    "https://programmers.co.kr/learn/courses/30/lessons/12925"
   ]
  },
  {
   "cell_type": "code",
   "execution_count": 8,
   "id": "e0cd50e2",
   "metadata": {},
   "outputs": [],
   "source": [
    "def solution(s, n):\n",
    "    abc = [chr(i) for i in range(ord('a'), ord('z') + 1, 1)]  \n",
    "    ABC = [chr(i) for i in range(ord('A'), ord('Z') + 1, 1)]  \n",
    "    l = len(abc)\n",
    "    answer = ''\n",
    "    for i in s:\n",
    "        if i == ' ':\n",
    "            answer += ' '\n",
    "            continue\n",
    "        idx = ABC.index(i.upper())\n",
    "        if i.isupper():\n",
    "            answer += ABC[(idx + n) % l]\n",
    "        else:\n",
    "            answer += abc[(idx + n) % l]\n",
    "    \n",
    "    return answer\n",
    "    \n"
   ]
  },
  {
   "cell_type": "code",
   "execution_count": null,
   "id": "732448b2",
   "metadata": {},
   "outputs": [],
   "source": []
  }
 ],
 "metadata": {
  "kernelspec": {
   "display_name": "Python 3",
   "language": "python",
   "name": "python3"
  },
  "language_info": {
   "codemirror_mode": {
    "name": "ipython",
    "version": 3
   },
   "file_extension": ".py",
   "mimetype": "text/x-python",
   "name": "python",
   "nbconvert_exporter": "python",
   "pygments_lexer": "ipython3",
   "version": "3.8.8"
  },
  "toc": {
   "base_numbering": 1,
   "nav_menu": {},
   "number_sections": true,
   "sideBar": true,
   "skip_h1_title": false,
   "title_cell": "Table of Contents",
   "title_sidebar": "Contents",
   "toc_cell": false,
   "toc_position": {},
   "toc_section_display": true,
   "toc_window_display": false
  }
 },
 "nbformat": 4,
 "nbformat_minor": 5
}
