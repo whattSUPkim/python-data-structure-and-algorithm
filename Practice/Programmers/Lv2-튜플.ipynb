{
 "cells": [
  {
   "cell_type": "markdown",
   "id": "d2d68803",
   "metadata": {},
   "source": [
    "https://programmers.co.kr/learn/courses/30/lessons/64065"
   ]
  },
  {
   "cell_type": "code",
   "execution_count": 9,
   "id": "f4dfc817",
   "metadata": {},
   "outputs": [],
   "source": [
    "# answer 를 set()로 하면 오류가 떠서 그냥 time_saver라는 set를 만들어서 사용\n",
    "def solution(s):\n",
    "    s = s.split('},{')\n",
    "    for i in range(len(s)):\n",
    "        temp = s[i].replace('{', '')\n",
    "        temp = temp.replace('}', '')\n",
    "        temp = temp.split(',')\n",
    "        s[i] = list(map(int, temp))\n",
    "        \n",
    "    sorted_s = sorted(s, key = lambda x : len(x))  \n",
    "    answer = list()\n",
    "    time_saver = set()\n",
    "    for i in sorted_s:\n",
    "        for j in i:\n",
    "            if j in time_saver:\n",
    "                continue\n",
    "            answer.append(j)\n",
    "            time_saver.add(j)\n",
    "    \n",
    "    return answer"
   ]
  },
  {
   "cell_type": "markdown",
   "id": "bf0ffcbe",
   "metadata": {},
   "source": [
    "- 주피터에서는 되지만 프로그래머스에서는 오류 뜨는 코드\n",
    "    - object of type set is not json serializable\n",
    "- 왜? -> 프로그래머스에 질문"
   ]
  },
  {
   "cell_type": "code",
   "execution_count": 21,
   "id": "61a60169",
   "metadata": {},
   "outputs": [],
   "source": [
    "def solution(s):\n",
    "    s = s.split('},{')\n",
    "    for i in range(len(s)):\n",
    "        temp = s[i].replace('{', '')\n",
    "        temp = temp.replace('}', '')\n",
    "        temp = temp.split(',')\n",
    "        s[i] = list(map(int, temp))\n",
    "    \n",
    "    sorted_s = sorted(s, key = lambda x : len(x))\n",
    "    answer = set()\n",
    "    for i in sorted_s:\n",
    "        for j in i:\n",
    "            if j in answer:\n",
    "                continue\n",
    "            answer.add(j)\n",
    "\n",
    "    return"
   ]
  },
  {
   "cell_type": "code",
   "execution_count": null,
   "id": "7b7edff2",
   "metadata": {},
   "outputs": [],
   "source": []
  }
 ],
 "metadata": {
  "kernelspec": {
   "display_name": "Python 3",
   "language": "python",
   "name": "python3"
  },
  "language_info": {
   "codemirror_mode": {
    "name": "ipython",
    "version": 3
   },
   "file_extension": ".py",
   "mimetype": "text/x-python",
   "name": "python",
   "nbconvert_exporter": "python",
   "pygments_lexer": "ipython3",
   "version": "3.8.8"
  },
  "toc": {
   "base_numbering": 1,
   "nav_menu": {},
   "number_sections": true,
   "sideBar": true,
   "skip_h1_title": false,
   "title_cell": "Table of Contents",
   "title_sidebar": "Contents",
   "toc_cell": false,
   "toc_position": {},
   "toc_section_display": true,
   "toc_window_display": false
  }
 },
 "nbformat": 4,
 "nbformat_minor": 5
}
