{
 "cells": [
  {
   "cell_type": "markdown",
   "id": "48c29c62",
   "metadata": {},
   "source": [
    "https://programmers.co.kr/learn/courses/30/lessons/77485"
   ]
  },
  {
   "cell_type": "code",
   "execution_count": 29,
   "id": "c083d3ff",
   "metadata": {},
   "outputs": [],
   "source": [
    "def solution(rows, columns, queries):\n",
    "    answer = []\n",
    "    minimap = [[0 for _ in range(columns)] for __ in range(rows)]\n",
    "    n = 1\n",
    "    for i in range(rows):\n",
    "        for j in range(columns):\n",
    "            minimap[i][j] = n\n",
    "            n += 1\n",
    "    \n",
    "    def rotate(query):\n",
    "        a, b, c, d = query  # 1, 1, 100, 97\n",
    "        r1, c1, r2, c2 = a-1, b-1, c-1, d-1  # 0, 0, 99, 96\n",
    "        pivot = minimap[r1][c1]\n",
    "        small = pivot\n",
    "        for i in range(r1, r2):\n",
    "            minimap[i][c1] = minimap[i + 1][c1]\n",
    "            small = min(small, minimap[i + 1][c1])\n",
    "        for i in range(c1, c2):\n",
    "            minimap[r2][i] = minimap[r2][i + 1]\n",
    "            small = min(small, minimap[r2][i + 1])\n",
    "        for i in range(r2, r1, -1):\n",
    "            minimap[i][c2] = minimap[i - 1][c2]\n",
    "            small = min(small, minimap[i - 1][c2])\n",
    "        for i in range(c2, c1, -1):\n",
    "            minimap[r1][i] = minimap[r1][i - 1]\n",
    "            small = min(small, minimap[r1][i - 1])\n",
    "        minimap[r1][c1 + 1] = pivot\n",
    "        return small\n",
    "    \n",
    "    for q in queries:\n",
    "        answer.append(rotate(q))\n",
    "        \n",
    "    return answer"
   ]
  },
  {
   "cell_type": "code",
   "execution_count": null,
   "id": "10db591e",
   "metadata": {},
   "outputs": [],
   "source": []
  }
 ],
 "metadata": {
  "kernelspec": {
   "display_name": "Python 3",
   "language": "python",
   "name": "python3"
  },
  "language_info": {
   "codemirror_mode": {
    "name": "ipython",
    "version": 3
   },
   "file_extension": ".py",
   "mimetype": "text/x-python",
   "name": "python",
   "nbconvert_exporter": "python",
   "pygments_lexer": "ipython3",
   "version": "3.8.8"
  },
  "toc": {
   "base_numbering": 1,
   "nav_menu": {},
   "number_sections": true,
   "sideBar": true,
   "skip_h1_title": false,
   "title_cell": "Table of Contents",
   "title_sidebar": "Contents",
   "toc_cell": false,
   "toc_position": {},
   "toc_section_display": true,
   "toc_window_display": false
  }
 },
 "nbformat": 4,
 "nbformat_minor": 5
}
