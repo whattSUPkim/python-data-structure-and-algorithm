{
 "cells": [
  {
   "cell_type": "markdown",
   "id": "3f8a2c9a",
   "metadata": {},
   "source": [
    "https://programmers.co.kr/learn/courses/30/lessons/67256"
   ]
  },
  {
   "cell_type": "code",
   "execution_count": null,
   "id": "9d8a7c6a",
   "metadata": {},
   "outputs": [],
   "source": [
    "def solution(numbers, hand):\n",
    "    if hand == 'left':\n",
    "        hand = 'L'\n",
    "    else:\n",
    "        hand = 'R'\n",
    "    dic = {1:[0, 0], 2:[0, 1], 3:[0, 2],\n",
    "           4:[1, 0], 5:[1, 1], 6:[1, 2],\n",
    "           7:[2, 0], 8:[2, 1], 9:[2, 2],\n",
    "           10:[3, 0], 0:[3, 1], 11:[3, 2]}    \n",
    "    left_now = dic[10]\n",
    "    right_now = dic[11]\n",
    "    answer = ''\n",
    "    for i in numbers:\n",
    "        if i == 1 or i == 4 or i == 7:\n",
    "            answer += 'L'\n",
    "            left_now = dic[i]\n",
    "        elif i == 3 or i == 6 or i == 9:\n",
    "            answer += 'R'\n",
    "            right_now = dic[i]\n",
    "        else:\n",
    "            left_distance = abs(dic[i][0] - left_now[0]) + abs(dic[i][1] - left_now[1])\n",
    "            right_distance = abs(dic[i][0] - right_now[0]) + abs(dic[i][1] - right_now[1])\n",
    "            if left_distance == right_distance:\n",
    "                answer += hand\n",
    "                if hand == 'L':\n",
    "                    left_now = dic[i]\n",
    "                elif hand == 'R':\n",
    "                    right_now = dic[i]\n",
    "            elif left_distance > right_distance:\n",
    "                answer += 'R'\n",
    "                right_now = dic[i]\n",
    "            else:\n",
    "                answer += 'L'\n",
    "                left_now = dic[i]\n",
    "\n",
    "    return answer\n"
   ]
  }
 ],
 "metadata": {
  "kernelspec": {
   "display_name": "Python 3",
   "language": "python",
   "name": "python3"
  },
  "language_info": {
   "codemirror_mode": {
    "name": "ipython",
    "version": 3
   },
   "file_extension": ".py",
   "mimetype": "text/x-python",
   "name": "python",
   "nbconvert_exporter": "python",
   "pygments_lexer": "ipython3",
   "version": "3.8.8"
  },
  "toc": {
   "base_numbering": 1,
   "nav_menu": {},
   "number_sections": true,
   "sideBar": true,
   "skip_h1_title": false,
   "title_cell": "Table of Contents",
   "title_sidebar": "Contents",
   "toc_cell": false,
   "toc_position": {},
   "toc_section_display": true,
   "toc_window_display": false
  }
 },
 "nbformat": 4,
 "nbformat_minor": 5
}
