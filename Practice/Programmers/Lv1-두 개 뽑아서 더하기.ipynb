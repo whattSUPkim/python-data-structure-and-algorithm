{
 "cells": [
  {
   "cell_type": "markdown",
   "id": "01e5639c",
   "metadata": {},
   "source": [
    "https://programmers.co.kr/learn/courses/30/lessons/68644"
   ]
  },
  {
   "cell_type": "code",
   "execution_count": 75,
   "id": "1e812315",
   "metadata": {},
   "outputs": [],
   "source": [
    "#1 : 4, 5번에서 계속 에러\n",
    "from itertools import combinations\n",
    "def solution(numbers):\n",
    "    lst = list(combinations(numbers, 2))\n",
    "    answer = []\n",
    "    for i in lst:\n",
    "        answer.append(sum(i))\n",
    "    answer = list(set(answer))\n",
    "    \n",
    "    return answer"
   ]
  },
  {
   "cell_type": "code",
   "execution_count": 76,
   "id": "42adef23",
   "metadata": {},
   "outputs": [],
   "source": [
    "#2 : 통과\n",
    "from itertools import combinations\n",
    "def solution(numbers):\n",
    "    lst = list(combinations(numbers, 2))\n",
    "    answer = []\n",
    "    for i in lst:\n",
    "        answer.append(sum(i))\n",
    "    answer = sorted((set(answer)))  # sorted 추가\n",
    "    \n",
    "    return answer"
   ]
  },
  {
   "cell_type": "markdown",
   "id": "350b6bd2",
   "metadata": {},
   "source": [
    "- set를 사용했을 때, 형태가 정렬되어 보이지만, 이를 다시 list로 바꾸면 정렬이 깨져버림\n",
    "- set를 활용한 중복 제거는 정렬됨을 보장하지 않음(해시셋이기 때문)"
   ]
  },
  {
   "cell_type": "code",
   "execution_count": 118,
   "id": "c3e70fee",
   "metadata": {},
   "outputs": [
    {
     "data": {
      "text/plain": [
       "{109,\n",
       " 111,\n",
       " 214,\n",
       " 249,\n",
       " 269,\n",
       " 316,\n",
       " 331,\n",
       " 404,\n",
       " 407,\n",
       " 444,\n",
       " 610,\n",
       " 623,\n",
       " 644,\n",
       " 649,\n",
       " 717,\n",
       " 755,\n",
       " 834,\n",
       " 835,\n",
       " 871,\n",
       " 931}"
      ]
     },
     "execution_count": 118,
     "metadata": {},
     "output_type": "execute_result"
    }
   ],
   "source": [
    "import random\n",
    "n = (random.choices(range(1000), k=20))\n",
    "set(n)  # 이거에 속으면 안 됨"
   ]
  },
  {
   "cell_type": "code",
   "execution_count": 119,
   "id": "df96e9ff",
   "metadata": {},
   "outputs": [
    {
     "name": "stdout",
     "output_type": "stream",
     "text": [
      "{644, 649, 269, 404, 407, 931, 316, 444, 834, 835, 331, 717, 214, 610, 871, 109, 111, 623, 755, 249}\n"
     ]
    }
   ],
   "source": [
    "print(set(n))  # 실제로는 정렬이 안 되어 있음"
   ]
  },
  {
   "cell_type": "markdown",
   "id": "5617634f",
   "metadata": {},
   "source": [
    "- 컴프리핸션을 이용한 다른 사람 코드"
   ]
  },
  {
   "cell_type": "code",
   "execution_count": 120,
   "id": "b833f304",
   "metadata": {},
   "outputs": [],
   "source": [
    "from itertools import combinations\n",
    "def solution(numbers):\n",
    "    return sorted(set(sum(i) for i in list(combinations(numbers, 2))))\n"
   ]
  },
  {
   "cell_type": "code",
   "execution_count": null,
   "id": "74be9ea0",
   "metadata": {},
   "outputs": [],
   "source": []
  }
 ],
 "metadata": {
  "kernelspec": {
   "display_name": "Python 3",
   "language": "python",
   "name": "python3"
  },
  "language_info": {
   "codemirror_mode": {
    "name": "ipython",
    "version": 3
   },
   "file_extension": ".py",
   "mimetype": "text/x-python",
   "name": "python",
   "nbconvert_exporter": "python",
   "pygments_lexer": "ipython3",
   "version": "3.8.8"
  },
  "toc": {
   "base_numbering": 1,
   "nav_menu": {},
   "number_sections": true,
   "sideBar": true,
   "skip_h1_title": false,
   "title_cell": "Table of Contents",
   "title_sidebar": "Contents",
   "toc_cell": false,
   "toc_position": {},
   "toc_section_display": true,
   "toc_window_display": false
  }
 },
 "nbformat": 4,
 "nbformat_minor": 5
}
