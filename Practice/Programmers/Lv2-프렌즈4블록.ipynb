{
 "cells": [
  {
   "cell_type": "markdown",
   "id": "932fb79f",
   "metadata": {},
   "source": [
    "https://programmers.co.kr/learn/courses/30/lessons/17679"
   ]
  },
  {
   "cell_type": "markdown",
   "id": "ba76beb3",
   "metadata": {},
   "source": [
    "- 내리기 구현하는 곳에서 시간이 너무 오래걸림\n",
    "    - 구현한 내리기 방법\n",
    "        -  역 row 순으로 검사\n",
    "            1. 해당 위치가 0이면\n",
    "            2. 위에 0이 아닌 곳까지 몇개의 0이 있는지 확인 : times\n",
    "            3. times 만큼 모든 줄을 한 칸씩 내림\n",
    "    - 다른사람 구현\n",
    "        - 1\n",
    "            1. 역순 검사\n",
    "            2. 해당 위치가 0이면\n",
    "            3. 그 위에 0이 아닌 값을 찾아서 현재 위치랑 바꿈\n",
    "        - 2\n",
    "            1. row의 0의 개수만큼 * [0] 을 만듦\n",
    "            2. 위에 만든 0이랑 0이 아닌 row 를 더함(리스트 더하기)\n",
    "        ```python\n",
    "        for i, row in enumerate(b):\n",
    "            empty = ['_'] * row.count(0)\n",
    "            b[i] = empty + [block for block in row if block != 0]\n",
    "        ```"
   ]
  },
  {
   "cell_type": "code",
   "execution_count": 11,
   "id": "397ffae1",
   "metadata": {},
   "outputs": [],
   "source": [
    "def solution(m, n, board):\n",
    "    answer = 0\n",
    "    minimap = list()\n",
    "    for i in range(m):\n",
    "        minimap.append(list(board[i]))\n",
    "\n",
    "    while True:\n",
    "        # 바꾸기\n",
    "        dr = [0, 1, 1]\n",
    "        dc = [1, 0, 1]\n",
    "        record = list()\n",
    "        for i in range(m): \n",
    "            for j in range(n):\n",
    "                pivot = minimap[i][j]\n",
    "                if pivot == 0:\n",
    "                    continue\n",
    "                diff = 3\n",
    "                where = [(i, j)]\n",
    "                for k in range(3):\n",
    "                    nr, nc = i + dr[k], j + dc[k]\n",
    "                    where.append((nr, nc))\n",
    "                    if nr >= m or nc >= n:\n",
    "                        break\n",
    "                    if minimap[nr][nc] == pivot:\n",
    "                        diff -= 1\n",
    "                if not diff:\n",
    "                    record.extend(where)           \n",
    "        for i in record:\n",
    "            minimap[i[0]][i[1]] = 0\n",
    "        answer += len(set(record))\n",
    "        # 확인하기    \n",
    "        if not record:\n",
    "            return answer\n",
    "        # 내리기\n",
    "        for i in range(m - 1, 0, -1): \n",
    "            for j in range(n):\n",
    "                if minimap[i][j] == 0:\n",
    "                    times = 0\n",
    "                    for k in range(i, 0, -1):\n",
    "                        if minimap[k][j] != 0:\n",
    "                            break\n",
    "                        times += 1\n",
    "                    for k in range(times):\n",
    "                        for temp in range(i, 0, -1):\n",
    "                            minimap[temp][j] = minimap[temp - 1][j]\n",
    "                            minimap[temp - 1][j] = 0"
   ]
  },
  {
   "cell_type": "code",
   "execution_count": null,
   "id": "713b0e36",
   "metadata": {},
   "outputs": [],
   "source": []
  }
 ],
 "metadata": {
  "kernelspec": {
   "display_name": "Python 3",
   "language": "python",
   "name": "python3"
  },
  "language_info": {
   "codemirror_mode": {
    "name": "ipython",
    "version": 3
   },
   "file_extension": ".py",
   "mimetype": "text/x-python",
   "name": "python",
   "nbconvert_exporter": "python",
   "pygments_lexer": "ipython3",
   "version": "3.8.8"
  },
  "toc": {
   "base_numbering": 1,
   "nav_menu": {},
   "number_sections": true,
   "sideBar": true,
   "skip_h1_title": false,
   "title_cell": "Table of Contents",
   "title_sidebar": "Contents",
   "toc_cell": false,
   "toc_position": {},
   "toc_section_display": true,
   "toc_window_display": false
  }
 },
 "nbformat": 4,
 "nbformat_minor": 5
}
