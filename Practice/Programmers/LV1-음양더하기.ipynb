{
 "cells": [
  {
   "cell_type": "markdown",
   "id": "a98150e8",
   "metadata": {},
   "source": [
    "https://programmers.co.kr/learn/courses/30/lessons/76501"
   ]
  },
  {
   "cell_type": "code",
   "execution_count": null,
   "id": "577bdef8",
   "metadata": {},
   "outputs": [],
   "source": [
    "def solution(absolutes, signs):\n",
    "    answer = ''\n",
    "    for i in range(len(absolutes)):\n",
    "        if signs[i]:\n",
    "            answer += ('+' + str(absolutes[i]))\n",
    "        else:\n",
    "            answer += ('-' + str(absolutes[i]))\n",
    "    return eval(answer)"
   ]
  },
  {
   "cell_type": "code",
   "execution_count": null,
   "id": "473cf25c",
   "metadata": {},
   "outputs": [],
   "source": []
  },
  {
   "cell_type": "markdown",
   "id": "c3cea8ae",
   "metadata": {},
   "source": [
    "다른사람들 풀이 : zip()함수 이용"
   ]
  },
  {
   "cell_type": "code",
   "execution_count": null,
   "id": "d99ba4c2",
   "metadata": {},
   "outputs": [],
   "source": [
    "def solution(absolutes, signs):\n",
    "    answer=0\n",
    "    for absolute,sign in zip(absolutes,signs):\n",
    "        if sign:\n",
    "            answer+=absolute\n",
    "        else:\n",
    "            answer-=absolute\n",
    "    return answer"
   ]
  },
  {
   "cell_type": "code",
   "execution_count": null,
   "id": "e27077d6",
   "metadata": {},
   "outputs": [],
   "source": []
  }
 ],
 "metadata": {
  "kernelspec": {
   "display_name": "Python 3",
   "language": "python",
   "name": "python3"
  },
  "language_info": {
   "codemirror_mode": {
    "name": "ipython",
    "version": 3
   },
   "file_extension": ".py",
   "mimetype": "text/x-python",
   "name": "python",
   "nbconvert_exporter": "python",
   "pygments_lexer": "ipython3",
   "version": "3.8.8"
  },
  "toc": {
   "base_numbering": 1,
   "nav_menu": {},
   "number_sections": true,
   "sideBar": true,
   "skip_h1_title": false,
   "title_cell": "Table of Contents",
   "title_sidebar": "Contents",
   "toc_cell": false,
   "toc_position": {},
   "toc_section_display": true,
   "toc_window_display": false
  }
 },
 "nbformat": 4,
 "nbformat_minor": 5
}
