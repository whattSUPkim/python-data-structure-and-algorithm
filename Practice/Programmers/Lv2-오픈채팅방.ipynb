{
 "cells": [
  {
   "cell_type": "markdown",
   "id": "773cca22",
   "metadata": {},
   "source": [
    "https://programmers.co.kr/learn/courses/30/lessons/42888"
   ]
  },
  {
   "cell_type": "code",
   "execution_count": 31,
   "id": "fb69bf56",
   "metadata": {},
   "outputs": [],
   "source": [
    "def solution(record):\n",
    "    answer = []\n",
    "    id = {}\n",
    "    for i in range(len(record)):\n",
    "        temp = record[i].split()\n",
    "        order = temp[0]\n",
    "        if order == 'Enter':\n",
    "            id[temp[1]] = temp[2]\n",
    "            answer.append(temp[1]+'님이 들어왔습니다.')\n",
    "        if order == 'Leave':\n",
    "            answer.append(temp[1]+'님이 나갔습니다.')\n",
    "        if order == 'Change':\n",
    "            id[temp[1]] = temp[2]\n",
    "        \n",
    "    for i in range(len(answer)):\n",
    "        user = answer[i][:answer[i].find('님이')]\n",
    "        etc = answer[i][answer[i].find('님이'):]\n",
    "        answer[i] = id[user] + etc\n",
    "        \n",
    "    return answer"
   ]
  },
  {
   "cell_type": "code",
   "execution_count": null,
   "id": "779c6311",
   "metadata": {},
   "outputs": [],
   "source": []
  }
 ],
 "metadata": {
  "kernelspec": {
   "display_name": "Python 3",
   "language": "python",
   "name": "python3"
  },
  "language_info": {
   "codemirror_mode": {
    "name": "ipython",
    "version": 3
   },
   "file_extension": ".py",
   "mimetype": "text/x-python",
   "name": "python",
   "nbconvert_exporter": "python",
   "pygments_lexer": "ipython3",
   "version": "3.8.8"
  },
  "toc": {
   "base_numbering": 1,
   "nav_menu": {},
   "number_sections": true,
   "sideBar": true,
   "skip_h1_title": false,
   "title_cell": "Table of Contents",
   "title_sidebar": "Contents",
   "toc_cell": false,
   "toc_position": {},
   "toc_section_display": true,
   "toc_window_display": false
  }
 },
 "nbformat": 4,
 "nbformat_minor": 5
}
