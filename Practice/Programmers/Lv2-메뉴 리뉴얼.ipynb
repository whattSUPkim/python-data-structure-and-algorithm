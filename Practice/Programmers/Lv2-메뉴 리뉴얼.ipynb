{
 "cells": [
  {
   "cell_type": "markdown",
   "id": "3352cfbe",
   "metadata": {},
   "source": [
    "https://programmers.co.kr/learn/courses/30/lessons/72411"
   ]
  },
  {
   "cell_type": "code",
   "execution_count": 10,
   "id": "3a7b26b0",
   "metadata": {},
   "outputs": [],
   "source": [
    "from itertools import combinations\n",
    "from collections import Counter\n",
    "\n",
    "def solution(orders, course):\n",
    "    answer = []\n",
    "    \n",
    "    all_counts = list()\n",
    "    for i in course:\n",
    "        temp = list()\n",
    "        for j in orders:\n",
    "            if len(j) < i:\n",
    "                continue\n",
    "            t = list(combinations(j, i))\n",
    "            for k in t:\n",
    "                k = sorted(list(k))\n",
    "                temp.append(''.join(k))\n",
    "        if temp:\n",
    "            all_counts.append(temp)\n",
    "    \n",
    "    for i in all_counts:\n",
    "        counts = dict(Counter(i))\n",
    "        m = max(counts, key = counts.get)    \n",
    "        for key, value in counts.items():\n",
    "            if value == counts[m] and value >= 2:\n",
    "                answer.append(key)\n",
    "        \n",
    "    return sorted(answer)"
   ]
  },
  {
   "cell_type": "code",
   "execution_count": null,
   "id": "87680721",
   "metadata": {},
   "outputs": [],
   "source": []
  }
 ],
 "metadata": {
  "kernelspec": {
   "display_name": "Python 3",
   "language": "python",
   "name": "python3"
  },
  "language_info": {
   "codemirror_mode": {
    "name": "ipython",
    "version": 3
   },
   "file_extension": ".py",
   "mimetype": "text/x-python",
   "name": "python",
   "nbconvert_exporter": "python",
   "pygments_lexer": "ipython3",
   "version": "3.8.8"
  },
  "toc": {
   "base_numbering": 1,
   "nav_menu": {},
   "number_sections": true,
   "sideBar": true,
   "skip_h1_title": false,
   "title_cell": "Table of Contents",
   "title_sidebar": "Contents",
   "toc_cell": false,
   "toc_position": {},
   "toc_section_display": true,
   "toc_window_display": false
  }
 },
 "nbformat": 4,
 "nbformat_minor": 5
}
