{
 "cells": [
  {
   "cell_type": "markdown",
   "id": "21beb5eb",
   "metadata": {},
   "source": [
    "https://programmers.co.kr/learn/courses/30/lessons/43165"
   ]
  },
  {
   "cell_type": "markdown",
   "id": "f83c7164",
   "metadata": {},
   "source": [
    "- 맞췄지만, 테스트1, 2에서 시간이 좀 걸림"
   ]
  },
  {
   "cell_type": "code",
   "execution_count": 12,
   "id": "dd119d8e",
   "metadata": {},
   "outputs": [],
   "source": [
    "from itertools import combinations\n",
    "\n",
    "def solution(numbers, target):\n",
    "    answer = 0\n",
    "    if sum(numbers) == target:\n",
    "        answer += 1\n",
    "    \n",
    "    idx_numbers = [i for i in range(len(numbers))]\n",
    "    for i in range(1, len(numbers) + 1):\n",
    "        idx = list(combinations(idx_numbers, i))\n",
    "        for j in range(len(idx)):\n",
    "            temp = [-1 * numbers[l] if l in idx[j] else numbers[l] for l in range(len(numbers))]\n",
    "            if sum(temp) == target:\n",
    "                answer += 1\n",
    "        \n",
    "    return answer"
   ]
  },
  {
   "cell_type": "markdown",
   "id": "d72d9f54",
   "metadata": {},
   "source": [
    "- 다른사람 코드 !\n",
    "    - x와 -x의 모든 조합을 product로 구현"
   ]
  },
  {
   "cell_type": "code",
   "execution_count": 20,
   "id": "f13c2392",
   "metadata": {},
   "outputs": [
    {
     "data": {
      "text/plain": [
       "5"
      ]
     },
     "execution_count": 20,
     "metadata": {},
     "output_type": "execute_result"
    }
   ],
   "source": [
    "from itertools import product\n",
    "\n",
    "def solution(numbers, target):\n",
    "    l = [(x, -x) for x in numbers]\n",
    "    s = list(map(sum, product(*l)))\n",
    "    return s.count(target)\n",
    "\n",
    "solution([1,1,1,1,1], 3)"
   ]
  }
 ],
 "metadata": {
  "kernelspec": {
   "display_name": "Python 3",
   "language": "python",
   "name": "python3"
  },
  "language_info": {
   "codemirror_mode": {
    "name": "ipython",
    "version": 3
   },
   "file_extension": ".py",
   "mimetype": "text/x-python",
   "name": "python",
   "nbconvert_exporter": "python",
   "pygments_lexer": "ipython3",
   "version": "3.8.8"
  },
  "toc": {
   "base_numbering": 1,
   "nav_menu": {},
   "number_sections": true,
   "sideBar": true,
   "skip_h1_title": false,
   "title_cell": "Table of Contents",
   "title_sidebar": "Contents",
   "toc_cell": false,
   "toc_position": {},
   "toc_section_display": true,
   "toc_window_display": false
  }
 },
 "nbformat": 4,
 "nbformat_minor": 5
}
