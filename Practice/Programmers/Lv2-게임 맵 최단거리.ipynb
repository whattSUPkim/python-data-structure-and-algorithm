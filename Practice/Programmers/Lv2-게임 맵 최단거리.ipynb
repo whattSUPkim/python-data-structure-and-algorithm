{
 "cells": [
  {
   "cell_type": "markdown",
   "metadata": {},
   "source": [
    "https://programmers.co.kr/learn/courses/30/lessons/1844"
   ]
  },
  {
   "cell_type": "code",
   "execution_count": 5,
   "metadata": {},
   "outputs": [],
   "source": [
    "from collections import deque\n",
    "\n",
    "def solution(maps):\n",
    "    dr, dc = [-1, 1, 0, 0], [0, 0, -1, 1]\n",
    "    need_visit = deque()\n",
    "    need_visit.append((0, 0))\n",
    "    visited = {(0, 0)}\n",
    "    while need_visit:\n",
    "        r, c = need_visit.popleft()\n",
    "        for i in range(4):\n",
    "            nr, nc = r + dr[i], c + dc[i]\n",
    "            if nr < 0 or nc < 0 or nr > len(maps) - 1 or nc > len(maps[0]) - 1:\n",
    "                continue\n",
    "            if (nr, nc) in visited:\n",
    "                continue\n",
    "            if maps[nr][nc] == 1:\n",
    "                maps[nr][nc] = maps[r][c] + 1\n",
    "                need_visit.append((nr, nc))\n",
    "                visited.add((nr, nc))\n",
    "                \n",
    "    if maps[len(maps) - 1][len(maps[0]) - 1] == 1:\n",
    "        return -1\n",
    "    else:\n",
    "        return maps[len(maps) - 1][len(maps[0]) - 1]\n",
    "            "
   ]
  },
  {
   "cell_type": "code",
   "execution_count": null,
   "metadata": {},
   "outputs": [],
   "source": []
  }
 ],
 "metadata": {
  "kernelspec": {
   "display_name": "Python 3",
   "language": "python",
   "name": "python3"
  },
  "language_info": {
   "codemirror_mode": {
    "name": "ipython",
    "version": 3
   },
   "file_extension": ".py",
   "mimetype": "text/x-python",
   "name": "python",
   "nbconvert_exporter": "python",
   "pygments_lexer": "ipython3",
   "version": "3.8.5"
  },
  "toc": {
   "base_numbering": 1,
   "nav_menu": {},
   "number_sections": true,
   "sideBar": true,
   "skip_h1_title": false,
   "title_cell": "Table of Contents",
   "title_sidebar": "Contents",
   "toc_cell": false,
   "toc_position": {},
   "toc_section_display": true,
   "toc_window_display": false
  }
 },
 "nbformat": 4,
 "nbformat_minor": 4
}
