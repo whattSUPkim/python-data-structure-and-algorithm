{
 "cells": [
  {
   "cell_type": "markdown",
   "id": "eb6d5d78",
   "metadata": {},
   "source": [
    "https://programmers.co.kr/learn/courses/30/lessons/42746"
   ]
  },
  {
   "cell_type": "markdown",
   "id": "f15626f4",
   "metadata": {},
   "source": [
    "- 접근\n",
    "    - 원소가 1000 이하이므로 각 문자열의 개수를 1000 이상으로 만듦 (*4)\n",
    "        - 6 -> 6666, 36 -> 36363636 등\n",
    "    - 0번째 -> 4번째 index 순으로 비교(내림차순)\n",
    "        "
   ]
  },
  {
   "cell_type": "code",
   "execution_count": null,
   "id": "2bd3f3f0",
   "metadata": {},
   "outputs": [],
   "source": [
    "def solution(numbers):\n",
    "    numbers = list(map(str, numbers))\n",
    "    answer = sorted(numbers, key = lambda x : ((x*4)[0], (x*4)[1], (x*4)[2], (x*4)[3]), reverse = True)\n",
    "    \n",
    "    return str(int(''.join(answer)))"
   ]
  }
 ],
 "metadata": {
  "kernelspec": {
   "display_name": "Python 3",
   "language": "python",
   "name": "python3"
  },
  "language_info": {
   "codemirror_mode": {
    "name": "ipython",
    "version": 3
   },
   "file_extension": ".py",
   "mimetype": "text/x-python",
   "name": "python",
   "nbconvert_exporter": "python",
   "pygments_lexer": "ipython3",
   "version": "3.8.8"
  },
  "toc": {
   "base_numbering": 1,
   "nav_menu": {},
   "number_sections": true,
   "sideBar": true,
   "skip_h1_title": false,
   "title_cell": "Table of Contents",
   "title_sidebar": "Contents",
   "toc_cell": false,
   "toc_position": {},
   "toc_section_display": true,
   "toc_window_display": false
  }
 },
 "nbformat": 4,
 "nbformat_minor": 5
}
