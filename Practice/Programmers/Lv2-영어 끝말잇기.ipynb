{
 "cells": [
  {
   "cell_type": "markdown",
   "id": "f2d6802d",
   "metadata": {},
   "source": [
    "https://programmers.co.kr/learn/courses/30/lessons/12981"
   ]
  },
  {
   "cell_type": "code",
   "execution_count": 1,
   "id": "e44fb394",
   "metadata": {},
   "outputs": [],
   "source": [
    "def solution(n, words):\n",
    "    mans = {i : list() for i in range(n)}\n",
    "    set_word = set()\n",
    "    last_word = ''\n",
    "    answer = []\n",
    "    for i in range(len(words)):\n",
    "        m = i % n\n",
    "        mans[m].append(words[i])\n",
    "        if words[i] in set_word or (i != 0 and last_word[-1] != words[i][0]):\n",
    "            answer.append(m + 1)\n",
    "            answer.append(len(mans[m]))\n",
    "            break\n",
    "        set_word.add(words[i])\n",
    "        last_word = words[i]\n",
    "    \n",
    "    if answer:\n",
    "        return answer\n",
    "    else:\n",
    "        return [0, 0]"
   ]
  },
  {
   "cell_type": "code",
   "execution_count": null,
   "id": "e6296015",
   "metadata": {},
   "outputs": [],
   "source": []
  }
 ],
 "metadata": {
  "kernelspec": {
   "display_name": "Python 3",
   "language": "python",
   "name": "python3"
  },
  "language_info": {
   "codemirror_mode": {
    "name": "ipython",
    "version": 3
   },
   "file_extension": ".py",
   "mimetype": "text/x-python",
   "name": "python",
   "nbconvert_exporter": "python",
   "pygments_lexer": "ipython3",
   "version": "3.8.8"
  },
  "toc": {
   "base_numbering": 1,
   "nav_menu": {},
   "number_sections": true,
   "sideBar": true,
   "skip_h1_title": false,
   "title_cell": "Table of Contents",
   "title_sidebar": "Contents",
   "toc_cell": false,
   "toc_position": {},
   "toc_section_display": true,
   "toc_window_display": false
  }
 },
 "nbformat": 4,
 "nbformat_minor": 5
}
