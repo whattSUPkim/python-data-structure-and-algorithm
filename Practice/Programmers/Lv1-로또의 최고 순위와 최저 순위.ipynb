{
 "cells": [
  {
   "cell_type": "code",
   "execution_count": null,
   "id": "c50ce60b",
   "metadata": {},
   "outputs": [],
   "source": [
    "def solution(lottos, win_nums):\n",
    "    change= {6 : 1, 5 : 2, 4 : 3, 3 : 4, 2 : 5, 1 : 6, 0 : 6}\n",
    "    for i in range(6):\n",
    "        if 0 in lottos:\n",
    "            lottos.remove(0)\n",
    "\n",
    "    result = [0, 0]  \n",
    "    for i in lottos:\n",
    "        if i in win_nums:\n",
    "            result[0] += 1\n",
    "            result[1] += 1\n",
    "            win_nums.remove(i)\n",
    "    result[0] += 6 - len(lottos)\n",
    "\n",
    "    return [change[result[0]], change[result[1]]]"
   ]
  },
  {
   "cell_type": "markdown",
   "id": "7c0b3c44",
   "metadata": {},
   "source": [
    "다른사람 풀이"
   ]
  },
  {
   "cell_type": "code",
   "execution_count": null,
   "id": "c7a3cbfe",
   "metadata": {},
   "outputs": [],
   "source": [
    "def solution(lottos, win_nums):\n",
    "\n",
    "    rank=[6,6,5,4,3,2,1]\n",
    "\n",
    "    cnt_0 = lottos.count(0)\n",
    "    ans = 0\n",
    "    for x in win_nums:\n",
    "        if x in lottos:\n",
    "            ans += 1\n",
    "    return rank[cnt_0 + ans],rank[ans]"
   ]
  }
 ],
 "metadata": {
  "kernelspec": {
   "display_name": "Python 3",
   "language": "python",
   "name": "python3"
  },
  "language_info": {
   "codemirror_mode": {
    "name": "ipython",
    "version": 3
   },
   "file_extension": ".py",
   "mimetype": "text/x-python",
   "name": "python",
   "nbconvert_exporter": "python",
   "pygments_lexer": "ipython3",
   "version": "3.8.8"
  },
  "toc": {
   "base_numbering": 1,
   "nav_menu": {},
   "number_sections": true,
   "sideBar": true,
   "skip_h1_title": false,
   "title_cell": "Table of Contents",
   "title_sidebar": "Contents",
   "toc_cell": false,
   "toc_position": {},
   "toc_section_display": true,
   "toc_window_display": false
  }
 },
 "nbformat": 4,
 "nbformat_minor": 5
}
