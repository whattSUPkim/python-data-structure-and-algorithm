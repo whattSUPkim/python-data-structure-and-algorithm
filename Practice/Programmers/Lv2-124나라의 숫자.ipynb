{
 "cells": [
  {
   "cell_type": "markdown",
   "id": "fc59e5b2",
   "metadata": {},
   "source": [
    "https://programmers.co.kr/learn/courses/30/lessons/12899"
   ]
  },
  {
   "cell_type": "markdown",
   "id": "e96b06ee",
   "metadata": {},
   "source": [
    "18:10"
   ]
  },
  {
   "cell_type": "markdown",
   "id": "5e3cba7f",
   "metadata": {},
   "source": [
    "- 내 코드 : 테스트는 통과했으나, 효율성에서 실패\n",
    "    - 모든 경우의 수를 다 탐색"
   ]
  },
  {
   "cell_type": "code",
   "execution_count": null,
   "id": "1c0c1afb",
   "metadata": {},
   "outputs": [],
   "source": [
    "from itertools import product\n",
    "\n",
    "def solution(n):\n",
    "    answer = ''\n",
    "    rule = [1, 2, 4]    \n",
    "    iters = 1\n",
    "    cache = [0]\n",
    "    while True:\n",
    "        temp = list(product(rule, repeat = iters))\n",
    "        cache.extend(temp)\n",
    "        iters += 1\n",
    "        if len(cache) > n:\n",
    "            break\n",
    "    \n",
    "    for i in cache[n]:\n",
    "        answer += str(i)\n",
    "        \n",
    "    return answer"
   ]
  },
  {
   "cell_type": "markdown",
   "id": "c4955492",
   "metadata": {},
   "source": [
    "- 3진수 변환\n",
    "    - 기존 3진수는 0, 1, 2\n",
    "    - 124나라에서는 0이 없음 -> 한 칸씩 밀림\n",
    "        - index가 한 칸씩 밀려야 함 -> n -= 1"
   ]
  },
  {
   "cell_type": "code",
   "execution_count": 12,
   "id": "1ed53ab1",
   "metadata": {},
   "outputs": [
    {
     "data": {
      "text/plain": [
       "2744"
      ]
     },
     "execution_count": 12,
     "metadata": {},
     "output_type": "execute_result"
    }
   ],
   "source": [
    "def solution(n):\n",
    "    num = ['1','2','4']\n",
    "    answer = \"\"\n",
    "    while n > 0:\n",
    "        n -= 1\n",
    "        answer = num[n % 3] + answer\n",
    "        n //= 3\n",
    "\n",
    "    return answer"
   ]
  },
  {
   "cell_type": "code",
   "execution_count": null,
   "id": "69eb7181",
   "metadata": {},
   "outputs": [],
   "source": []
  }
 ],
 "metadata": {
  "kernelspec": {
   "display_name": "Python 3",
   "language": "python",
   "name": "python3"
  },
  "language_info": {
   "codemirror_mode": {
    "name": "ipython",
    "version": 3
   },
   "file_extension": ".py",
   "mimetype": "text/x-python",
   "name": "python",
   "nbconvert_exporter": "python",
   "pygments_lexer": "ipython3",
   "version": "3.8.8"
  },
  "toc": {
   "base_numbering": 1,
   "nav_menu": {},
   "number_sections": true,
   "sideBar": true,
   "skip_h1_title": false,
   "title_cell": "Table of Contents",
   "title_sidebar": "Contents",
   "toc_cell": false,
   "toc_position": {},
   "toc_section_display": true,
   "toc_window_display": false
  }
 },
 "nbformat": 4,
 "nbformat_minor": 5
}
