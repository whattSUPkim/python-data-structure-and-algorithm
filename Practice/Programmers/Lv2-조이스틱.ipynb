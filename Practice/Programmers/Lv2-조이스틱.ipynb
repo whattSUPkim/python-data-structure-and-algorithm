{
 "cells": [
  {
   "cell_type": "markdown",
   "metadata": {},
   "source": [
    "https://programmers.co.kr/learn/courses/30/lessons/42860"
   ]
  },
  {
   "cell_type": "code",
   "execution_count": 23,
   "metadata": {},
   "outputs": [],
   "source": [
    "def find_chr(c, f):      \n",
    "    if c == f:\n",
    "        return 0\n",
    "    if ord(f) - ord(c) > ord('Z') - ord(f) + 1:\n",
    "        return ord('Z') - ord(f) + 1\n",
    "    else:\n",
    "        return ord(f) - ord(c)\n",
    "                \n",
    "def solution(name):\n",
    "    name = list(name)\n",
    "    l = len(name)\n",
    "    name_now = ['A'] * l\n",
    "    answer = 0\n",
    "    now = 0\n",
    "    visited = set()\n",
    "    for i in range(len(name)):\n",
    "        if name[i] == 'A':\n",
    "            visited.add(i)          \n",
    "    while name_now != name: \n",
    "        if now not in visited:\n",
    "            answer += find_chr(name_now[now], name[now])\n",
    "            name_now[now] = name[now]\n",
    "            visited.add(now)\n",
    "        n = 0\n",
    "        now_r, now_l = now + 1, now - 1\n",
    "        while True:\n",
    "            if len(visited) >= l:\n",
    "                break\n",
    "            if now_r > l - 1 : \n",
    "                now_r = 0\n",
    "            if now_l < 0 : \n",
    "                now_l = l - 1  \n",
    "            n += 1       \n",
    "            if now_r not in visited:\n",
    "                now = now_r\n",
    "                answer += n\n",
    "                break\n",
    "            if now_l not in visited:\n",
    "                now = now_l\n",
    "                answer += n\n",
    "                break\n",
    "            now_r += 1\n",
    "            now_l -= 1\n",
    "                     \n",
    "    return answer"
   ]
  }
 ],
 "metadata": {
  "kernelspec": {
   "display_name": "Python 3",
   "language": "python",
   "name": "python3"
  },
  "language_info": {
   "codemirror_mode": {
    "name": "ipython",
    "version": 3
   },
   "file_extension": ".py",
   "mimetype": "text/x-python",
   "name": "python",
   "nbconvert_exporter": "python",
   "pygments_lexer": "ipython3",
   "version": "3.8.5"
  },
  "toc": {
   "base_numbering": 1,
   "nav_menu": {},
   "number_sections": true,
   "sideBar": true,
   "skip_h1_title": false,
   "title_cell": "Table of Contents",
   "title_sidebar": "Contents",
   "toc_cell": false,
   "toc_position": {},
   "toc_section_display": true,
   "toc_window_display": false
  }
 },
 "nbformat": 4,
 "nbformat_minor": 4
}
