{
 "cells": [
  {
   "cell_type": "markdown",
   "id": "4f9fadb9",
   "metadata": {},
   "source": [
    "https://programmers.co.kr/learn/courses/30/lessons/42883"
   ]
  },
  {
   "cell_type": "markdown",
   "id": "edbc95a0",
   "metadata": {},
   "source": [
    "- 첫 번째 : (1, 2번 빼고 다)시간초과"
   ]
  },
  {
   "cell_type": "code",
   "execution_count": 23,
   "id": "5e936837",
   "metadata": {},
   "outputs": [],
   "source": [
    "from itertools import combinations\n",
    "\n",
    "def solution(number, k):\n",
    "    c = list(combinations(number, len(number) - k))\n",
    "    answer = ''.join(max(c, key = lambda x : ''.join(x)))\n",
    "    \n",
    "    return answer"
   ]
  },
  {
   "cell_type": "markdown",
   "id": "2b44ca9e",
   "metadata": {},
   "source": [
    "- 두 번째 : (10번)시간초과\n",
    "    - 시간을 더 줄일 방법이 생각나지 않음"
   ]
  },
  {
   "cell_type": "code",
   "execution_count": null,
   "id": "17934a5a",
   "metadata": {},
   "outputs": [],
   "source": [
    "def solution(number, k):\n",
    "    number = list(map(int, number))\n",
    "    n = len(number) - k\n",
    "    checkpoint = 0\n",
    "    for i in range(k):\n",
    "        for j in range(checkpoint, len(number) - 1):\n",
    "            if number[j] == 9:\n",
    "                checkpoint = j\n",
    "            if number[j] < number[j + 1]:\n",
    "                del number[j]  # 시간이 많이 걸리는 부분\n",
    "                break\n",
    "    \n",
    "    if len(number) != n:\n",
    "        return ''.join(map(str, number[:-1]))\n",
    "        \n",
    "    return ''.join(map(str, number))"
   ]
  },
  {
   "cell_type": "markdown",
   "id": "94417250",
   "metadata": {},
   "source": [
    "- 세 번째 : 통과\n",
    "    - 질문에서 힌트 얻어서 스택 활용"
   ]
  },
  {
   "cell_type": "code",
   "execution_count": 17,
   "id": "782f9575",
   "metadata": {},
   "outputs": [],
   "source": [
    "# 10, 1\n",
    "def solution(number, k):\n",
    "    r_number = list(map(int, number))\n",
    "    l_number = list()\n",
    "    n = len(number) - k\n",
    "    \n",
    "    for i in r_number:\n",
    "        if not l_number:\n",
    "            l_number.append(i)\n",
    "            continue\n",
    "        if k <= 0:\n",
    "            l_number.append(i)\n",
    "            continue      \n",
    "        while l_number[-1] < i:\n",
    "            l_number.pop()\n",
    "            k -= 1\n",
    "            if not l_number or k <= 0:\n",
    "                break\n",
    "        l_number.append(i)\n",
    "    \n",
    "    if len(l_number) != n:  # 뒤 숫자가 계속 작거나 같으면 아무 처리도 안 함 -> 차이만큼 pop()\n",
    "        for i in range(len(l_number) - n):\n",
    "            l_number.pop()\n",
    "        \n",
    "    return ''.join(map(str, l_number))"
   ]
  },
  {
   "cell_type": "code",
   "execution_count": null,
   "id": "d67f7524",
   "metadata": {},
   "outputs": [],
   "source": []
  }
 ],
 "metadata": {
  "kernelspec": {
   "display_name": "Python 3",
   "language": "python",
   "name": "python3"
  },
  "language_info": {
   "codemirror_mode": {
    "name": "ipython",
    "version": 3
   },
   "file_extension": ".py",
   "mimetype": "text/x-python",
   "name": "python",
   "nbconvert_exporter": "python",
   "pygments_lexer": "ipython3",
   "version": "3.8.8"
  },
  "toc": {
   "base_numbering": 1,
   "nav_menu": {},
   "number_sections": true,
   "sideBar": true,
   "skip_h1_title": false,
   "title_cell": "Table of Contents",
   "title_sidebar": "Contents",
   "toc_cell": false,
   "toc_position": {},
   "toc_section_display": true,
   "toc_window_display": false
  }
 },
 "nbformat": 4,
 "nbformat_minor": 5
}
