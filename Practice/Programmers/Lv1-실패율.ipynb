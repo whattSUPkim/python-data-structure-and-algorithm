{
 "cells": [
  {
   "cell_type": "markdown",
   "id": "4d969f23",
   "metadata": {},
   "source": [
    "https://programmers.co.kr/learn/courses/30/lessons/42889"
   ]
  },
  {
   "cell_type": "code",
   "execution_count": null,
   "id": "7cf83f5b",
   "metadata": {},
   "outputs": [],
   "source": [
    "from collections import Counter\n",
    "def solution(N, stages):    \n",
    "    count = dict(Counter(sorted(stages)))\n",
    "    fail = {i : 0 for i in range(1, N + 1)}\n",
    "    sub = 0\n",
    "    n = len(stages)\n",
    "    filters = {i for i in range(1, N + 1)}\n",
    "    for i, j in count.items():\n",
    "        if i not in filters:\n",
    "            continue\n",
    "        n -= sub\n",
    "        fail[i] = count[i] / n\n",
    "        sub = count[i]\n",
    "        \n",
    "    answer = []\n",
    "    for i in range(len(fail)):\n",
    "        k = max(fail, key = fail.get)\n",
    "        answer.append(k)\n",
    "        fail.pop(k)\n",
    "        \n",
    "    return answer"
   ]
  },
  {
   "cell_type": "markdown",
   "id": "aa5f15bd",
   "metadata": {},
   "source": [
    "- 검색으로 배운점\n",
    "    - 딕셔너리의 value가 max(or min)인 key 찾기\n",
    "    - 딕셔너리.pop(key)"
   ]
  },
  {
   "cell_type": "code",
   "execution_count": null,
   "id": "afce9951",
   "metadata": {},
   "outputs": [],
   "source": []
  }
 ],
 "metadata": {
  "kernelspec": {
   "display_name": "Python 3",
   "language": "python",
   "name": "python3"
  },
  "language_info": {
   "codemirror_mode": {
    "name": "ipython",
    "version": 3
   },
   "file_extension": ".py",
   "mimetype": "text/x-python",
   "name": "python",
   "nbconvert_exporter": "python",
   "pygments_lexer": "ipython3",
   "version": "3.8.8"
  },
  "toc": {
   "base_numbering": 1,
   "nav_menu": {},
   "number_sections": true,
   "sideBar": true,
   "skip_h1_title": false,
   "title_cell": "Table of Contents",
   "title_sidebar": "Contents",
   "toc_cell": false,
   "toc_position": {},
   "toc_section_display": true,
   "toc_window_display": false
  }
 },
 "nbformat": 4,
 "nbformat_minor": 5
}
