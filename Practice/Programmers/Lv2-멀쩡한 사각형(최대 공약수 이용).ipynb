{
 "cells": [
  {
   "cell_type": "markdown",
   "id": "0c09425b",
   "metadata": {},
   "source": [
    "https://programmers.co.kr/learn/courses/30/lessons/62048"
   ]
  },
  {
   "cell_type": "code",
   "execution_count": 17,
   "id": "4d2724cd",
   "metadata": {},
   "outputs": [],
   "source": [
    "'''\n",
    "'32' : 4, '52' : 6, '72' : 8, '92' : 10, '43' : 6, '53' : 7, '73' : 9,\n",
    "'83':10, '103':12} --> 더이상 못 나눌 때 : a+b-1\n",
    "\n",
    "8 / 12 -> 1, 2, 4, 8 / 1, 2, 3, 4, 6, 12 -> 4(2, 3)\n",
    "4 / 6 -> 1, 2, 4 / 1, 2, 3, 6 -> 2(2, 3)\n",
    "2 / 3 -> 1, 2 / 1, 3 -> 2 + 3 - 1\n",
    "2 / 4 -> 1, 2 / 1, 2, 4 -> 2(1, 2)\n",
    "가장 처음 만날 때까지(최대공약수) -> 큰 사각형의 작은 버전\n",
    "\n",
    "'''\n",
    "import math\n",
    "\n",
    "def solution(w,h):\n",
    "    original = w * h\n",
    "    if w == h:  # 정사각형\n",
    "        return original - w\n",
    "    else:  # 직사각형\n",
    "        gcd = math.gcd(w, h)\n",
    "        w, h = w // gcd, h // gcd\n",
    "        cant_use = (w + h - 1) * gcd\n",
    "        answer = original - cant_use\n",
    "    \n",
    "        return answer"
   ]
  },
  {
   "cell_type": "markdown",
   "id": "74b14433",
   "metadata": {},
   "source": [
    "- 정사각형 따로 안 만들어도 됨"
   ]
  },
  {
   "cell_type": "code",
   "execution_count": null,
   "id": "a10f1a20",
   "metadata": {},
   "outputs": [],
   "source": []
  }
 ],
 "metadata": {
  "kernelspec": {
   "display_name": "Python 3",
   "language": "python",
   "name": "python3"
  },
  "language_info": {
   "codemirror_mode": {
    "name": "ipython",
    "version": 3
   },
   "file_extension": ".py",
   "mimetype": "text/x-python",
   "name": "python",
   "nbconvert_exporter": "python",
   "pygments_lexer": "ipython3",
   "version": "3.8.8"
  },
  "toc": {
   "base_numbering": 1,
   "nav_menu": {},
   "number_sections": true,
   "sideBar": true,
   "skip_h1_title": false,
   "title_cell": "Table of Contents",
   "title_sidebar": "Contents",
   "toc_cell": false,
   "toc_position": {},
   "toc_section_display": true,
   "toc_window_display": false
  }
 },
 "nbformat": 4,
 "nbformat_minor": 5
}
