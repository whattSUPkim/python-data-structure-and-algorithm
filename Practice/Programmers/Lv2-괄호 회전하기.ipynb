{
 "cells": [
  {
   "cell_type": "markdown",
   "id": "d2f36f41",
   "metadata": {},
   "source": [
    "https://programmers.co.kr/learn/courses/30/lessons/76502"
   ]
  },
  {
   "cell_type": "code",
   "execution_count": 1,
   "id": "9b0c23ab",
   "metadata": {},
   "outputs": [],
   "source": [
    "from collections import deque\n",
    "\n",
    "def check(string):\n",
    "    stack = list()\n",
    "    for i in string:\n",
    "        if i == '(' or i == '[' or i == '{':\n",
    "            stack.append(i)\n",
    "        else:\n",
    "            if not stack:\n",
    "                return False\n",
    "            popped = stack.pop()\n",
    "            if i == ')' and popped != '(':\n",
    "                return False\n",
    "            if i == ']' and popped != '[':\n",
    "                return False\n",
    "            if i == '}' and popped != '{':\n",
    "                return False\n",
    "\n",
    "    if stack:\n",
    "        return False\n",
    "    \n",
    "    return True\n",
    "            \n",
    "def solution(s):\n",
    "    answer = 0\n",
    "    s = deque(s)\n",
    "    for i in range(len(s)):\n",
    "        if check(s):\n",
    "            answer += 1\n",
    "        s.append(s.popleft())\n",
    "    \n",
    "    return answer"
   ]
  },
  {
   "cell_type": "code",
   "execution_count": null,
   "id": "db72ceeb",
   "metadata": {},
   "outputs": [],
   "source": []
  }
 ],
 "metadata": {
  "kernelspec": {
   "display_name": "Python 3",
   "language": "python",
   "name": "python3"
  },
  "language_info": {
   "codemirror_mode": {
    "name": "ipython",
    "version": 3
   },
   "file_extension": ".py",
   "mimetype": "text/x-python",
   "name": "python",
   "nbconvert_exporter": "python",
   "pygments_lexer": "ipython3",
   "version": "3.8.8"
  },
  "toc": {
   "base_numbering": 1,
   "nav_menu": {},
   "number_sections": true,
   "sideBar": true,
   "skip_h1_title": false,
   "title_cell": "Table of Contents",
   "title_sidebar": "Contents",
   "toc_cell": false,
   "toc_position": {},
   "toc_section_display": true,
   "toc_window_display": false
  }
 },
 "nbformat": 4,
 "nbformat_minor": 5
}
