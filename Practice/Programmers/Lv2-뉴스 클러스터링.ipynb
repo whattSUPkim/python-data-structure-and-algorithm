{
 "cells": [
  {
   "cell_type": "markdown",
   "id": "a69c5e56",
   "metadata": {},
   "source": [
    "https://programmers.co.kr/learn/courses/30/lessons/17677"
   ]
  },
  {
   "cell_type": "markdown",
   "id": "93220b0f",
   "metadata": {},
   "source": [
    "- 동일한 원소가 아닐 경우 aub에 그 원소의 counter만큼 넣어야 되는 것을 지나쳐서 좀 헤매었음"
   ]
  },
  {
   "cell_type": "code",
   "execution_count": 1,
   "id": "2e26796d",
   "metadata": {},
   "outputs": [],
   "source": [
    "from collections import Counter\n",
    "import math\n",
    "\n",
    "def solution(str1, str2):\n",
    "    str1 = str1.lower()\n",
    "    str2 = str2.lower()\n",
    "    s1, s2 = list(), list()\n",
    "    strs = set('abcdefghijklmnopqrstuvwxyz')\n",
    "    for i in range(0, len(str1) - 1):\n",
    "        t = str1[i : i+2]\n",
    "        if (t[0] not in strs) or (t[1] not in strs):\n",
    "            continue\n",
    "        s1.append(t)\n",
    "    for i in range(0, len(str2) - 1):\n",
    "        t = str2[i : i+2]\n",
    "        if (t[0] not in strs) or (t[1] not in strs):\n",
    "            continue\n",
    "        s2.append(t)\n",
    "    if not s1 and not s2:\n",
    "        return 65536\n",
    "        \n",
    "    s1_dic = dict(Counter(s1))\n",
    "    s2_dic = dict(Counter(s2))\n",
    "    anb = list()\n",
    "    aub = list()\n",
    "    aub_sub = set()\n",
    "    # anb\n",
    "    for i in s1_dic:\n",
    "        if i in s2_dic:\n",
    "            aub_sub.add(i)\n",
    "            t1 = min(s1_dic.get(i), s2_dic.get(i))\n",
    "            t2 = max(s1_dic.get(i), s2_dic.get(i))\n",
    "            for j in range(t1):\n",
    "                anb.append(0)\n",
    "            for k in range(t2):  # aub\n",
    "                aub.append(0)\n",
    "        else:\n",
    "            for j in range(s1_dic.get(i)):\n",
    "                aub.append(0)\n",
    "    #aub\n",
    "    for i in s2_dic:\n",
    "        if i not in aub_sub:\n",
    "            for j in range(s2_dic.get(i)):\n",
    "                aub.append(0)\n",
    "            \n",
    "    anb, aub = len(anb), len(aub)\n",
    "    answer = math.floor((anb / aub) * 65536)\n",
    "            \n",
    "    return answer"
   ]
  },
  {
   "cell_type": "code",
   "execution_count": null,
   "id": "0e9509f5",
   "metadata": {},
   "outputs": [],
   "source": []
  }
 ],
 "metadata": {
  "kernelspec": {
   "display_name": "Python 3",
   "language": "python",
   "name": "python3"
  },
  "language_info": {
   "codemirror_mode": {
    "name": "ipython",
    "version": 3
   },
   "file_extension": ".py",
   "mimetype": "text/x-python",
   "name": "python",
   "nbconvert_exporter": "python",
   "pygments_lexer": "ipython3",
   "version": "3.8.8"
  },
  "toc": {
   "base_numbering": 1,
   "nav_menu": {},
   "number_sections": true,
   "sideBar": true,
   "skip_h1_title": false,
   "title_cell": "Table of Contents",
   "title_sidebar": "Contents",
   "toc_cell": false,
   "toc_position": {},
   "toc_section_display": true,
   "toc_window_display": false
  }
 },
 "nbformat": 4,
 "nbformat_minor": 5
}
