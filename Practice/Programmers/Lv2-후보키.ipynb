{
 "cells": [
  {
   "cell_type": "markdown",
   "id": "fe82d133",
   "metadata": {},
   "source": [
    "https://programmers.co.kr/learn/courses/30/lessons/42890"
   ]
  },
  {
   "cell_type": "code",
   "execution_count": 43,
   "id": "ecf54360",
   "metadata": {},
   "outputs": [],
   "source": [
    "from collections import Counter\n",
    "from itertools import combinations, permutations\n",
    "\n",
    "def solution(relation):\n",
    "    answer = 0\n",
    "    lrow = len(relation)\n",
    "    lcol = len(relation[0])\n",
    "    \n",
    "    transposed = {i : [] for i in range(lcol)}\n",
    "    for i in range(lrow):\n",
    "        for j in range(lcol):\n",
    "            transposed[j].append(relation[i][j])\n",
    "    \n",
    "    unique = set()\n",
    "    for i in range(1, len(transposed) + 1):\n",
    "        key = [_ for _ in transposed.keys()]\n",
    "        c = list(combinations(key, i))\n",
    "        for j in c: # 0, 1, 2\n",
    "            skip = False\n",
    "            tt = ''.join(map(str,list(j)))\n",
    "            for k in unique:\n",
    "                tt_temp = permutations(tt, len(tt))\n",
    "                for l in tt_temp:\n",
    "                    if k in ''.join(l):\n",
    "                        skip = True\n",
    "            if skip:\n",
    "                continue\n",
    "            temp_list = ['' for __ in range(lrow)]\n",
    "            for k in j:\n",
    "                for l in range(len(temp_list)):\n",
    "                    temp_list[l] += str(transposed[k][l])\n",
    "            if len(Counter(temp_list)) == lrow:\n",
    "                unique.add(tt)\n",
    "                answer += 1\n",
    "    \n",
    "    return answer"
   ]
  },
  {
   "cell_type": "code",
   "execution_count": null,
   "id": "0c0f69bb",
   "metadata": {},
   "outputs": [],
   "source": []
  }
 ],
 "metadata": {
  "kernelspec": {
   "display_name": "Python 3",
   "language": "python",
   "name": "python3"
  },
  "language_info": {
   "codemirror_mode": {
    "name": "ipython",
    "version": 3
   },
   "file_extension": ".py",
   "mimetype": "text/x-python",
   "name": "python",
   "nbconvert_exporter": "python",
   "pygments_lexer": "ipython3",
   "version": "3.8.8"
  },
  "toc": {
   "base_numbering": 1,
   "nav_menu": {},
   "number_sections": true,
   "sideBar": true,
   "skip_h1_title": false,
   "title_cell": "Table of Contents",
   "title_sidebar": "Contents",
   "toc_cell": false,
   "toc_position": {},
   "toc_section_display": true,
   "toc_window_display": false
  }
 },
 "nbformat": 4,
 "nbformat_minor": 5
}
