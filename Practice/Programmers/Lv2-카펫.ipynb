{
 "cells": [
  {
   "cell_type": "markdown",
   "id": "54d0f55f",
   "metadata": {},
   "source": [
    "https://programmers.co.kr/learn/courses/30/lessons/42842"
   ]
  },
  {
   "cell_type": "code",
   "execution_count": 1,
   "id": "98663f79",
   "metadata": {},
   "outputs": [],
   "source": [
    "# 1, 2, 3, 4, 6, 8, 12, 16, 24, 48 : 4, 5\n",
    "def solution(brown, yellow):\n",
    "    total_size = brown + yellow\n",
    "    nums = list()\n",
    "    len_nums = 0\n",
    "    for i in range(1, total_size + 1):  # 약수\n",
    "        if total_size % i == 0:\n",
    "            nums.append(i)\n",
    "            len_nums += 1\n",
    "    \n",
    "    if len_nums % 2 == 0:\n",
    "        a, b = len_nums // 2, len_nums // 2 - 1\n",
    "    else:\n",
    "        a, b = len_nums // 2, len_nums // 2\n",
    "    \n",
    "    while True:\n",
    "        if (nums[a] - 2) * (nums[b] - 2) == yellow:\n",
    "            return[nums[a], nums[b]]\n",
    "        a += 1\n",
    "        b -= 1\n",
    "    \n",
    "        "
   ]
  },
  {
   "cell_type": "code",
   "execution_count": null,
   "id": "f6be023e",
   "metadata": {},
   "outputs": [],
   "source": []
  }
 ],
 "metadata": {
  "kernelspec": {
   "display_name": "Python 3",
   "language": "python",
   "name": "python3"
  },
  "language_info": {
   "codemirror_mode": {
    "name": "ipython",
    "version": 3
   },
   "file_extension": ".py",
   "mimetype": "text/x-python",
   "name": "python",
   "nbconvert_exporter": "python",
   "pygments_lexer": "ipython3",
   "version": "3.8.8"
  },
  "toc": {
   "base_numbering": 1,
   "nav_menu": {},
   "number_sections": true,
   "sideBar": true,
   "skip_h1_title": false,
   "title_cell": "Table of Contents",
   "title_sidebar": "Contents",
   "toc_cell": false,
   "toc_position": {},
   "toc_section_display": true,
   "toc_window_display": false
  }
 },
 "nbformat": 4,
 "nbformat_minor": 5
}
