{
 "cells": [
  {
   "cell_type": "markdown",
   "id": "53596bdd",
   "metadata": {},
   "source": [
    "https://programmers.co.kr/learn/courses/30/lessons/12933"
   ]
  },
  {
   "cell_type": "code",
   "execution_count": null,
   "id": "f2372984",
   "metadata": {},
   "outputs": [],
   "source": [
    "import math\n",
    "\n",
    "def solution(n):\n",
    "    a = str(math.sqrt(n))\n",
    "    idx = a.find('.') + 1\n",
    "    if int(a[idx:]) == 0:\n",
    "        return (math.sqrt(n) + 1) ** 2\n",
    "    \n",
    "    return -1\n",
    "\n"
   ]
  },
  {
   "cell_type": "code",
   "execution_count": null,
   "id": "240f101c",
   "metadata": {},
   "outputs": [],
   "source": [
    "# 소수점 구하는 더 쉬운 방법\n",
    "import math\n",
    "\n",
    "def solution(n):\n",
    "    a = math.sqrt(n)\n",
    "    if a % 1 == 0:\n",
    "        return (a + 1) ** 2\n",
    "    \n",
    "    return -1\n",
    "\n"
   ]
  }
 ],
 "metadata": {
  "kernelspec": {
   "display_name": "Python 3",
   "language": "python",
   "name": "python3"
  },
  "language_info": {
   "codemirror_mode": {
    "name": "ipython",
    "version": 3
   },
   "file_extension": ".py",
   "mimetype": "text/x-python",
   "name": "python",
   "nbconvert_exporter": "python",
   "pygments_lexer": "ipython3",
   "version": "3.8.8"
  },
  "toc": {
   "base_numbering": 1,
   "nav_menu": {},
   "number_sections": true,
   "sideBar": true,
   "skip_h1_title": false,
   "title_cell": "Table of Contents",
   "title_sidebar": "Contents",
   "toc_cell": false,
   "toc_position": {},
   "toc_section_display": true,
   "toc_window_display": false
  }
 },
 "nbformat": 4,
 "nbformat_minor": 5
}
