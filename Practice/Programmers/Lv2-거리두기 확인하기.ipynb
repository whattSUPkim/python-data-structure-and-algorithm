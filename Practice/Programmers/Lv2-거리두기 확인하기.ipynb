{
 "cells": [
  {
   "cell_type": "markdown",
   "id": "15568f61",
   "metadata": {},
   "source": [
    "https://programmers.co.kr/learn/courses/30/lessons/81302"
   ]
  },
  {
   "cell_type": "code",
   "execution_count": 78,
   "id": "7a3584ff",
   "metadata": {},
   "outputs": [],
   "source": [
    "'''\n",
    "- 상하좌우 확인(p가 없을 경우 넘어감)\n",
    "    - p가 있으면 중단(0 반환)\n",
    "    - 상하좌우에 o가 있을 경우\n",
    "        - 상하좌우(두 칸) 확인 -> p가 있으면 중단\n",
    "        - 상 : 왼, 오 확인\n",
    "        - 하 : 왼, 오 확인\n",
    "        - 좌 : 위, 아 확인\n",
    "        - 우 : 위, 아 확인\n",
    "'''\n",
    "def check(r, c, place):  # in place\n",
    "    dr = [-1, 1, 0, 0]\n",
    "    dc = [0, 0, -1, 1]\n",
    "    for i in range(4):\n",
    "        nr, nc = r + dr[i], c + dc[i]\n",
    "        d_nr, d_nc = r + (dr[i] * 2), c + (dc[i] * 2)\n",
    "        if 4 < nr or nr < 0 or 4 < nc or nc < 0: continue\n",
    "        if place[nr][nc] == 'P':\n",
    "            return 0\n",
    "        if place[nr][nc] == 'O':\n",
    "            if (0 <= d_nr and d_nr <= 4) and (0 <= d_nc and d_nc <= 4) and place[d_nr][d_nc] == 'P':\n",
    "                return 0\n",
    "            if i == 0 or i == 1:\n",
    "                if(0 <= nc - 1 and nc - 1 <= 4) and place[nr][nc - 1] == 'P': \n",
    "                    return 0\n",
    "                if (0 <= nc + 1 and nc + 1 <= 4) and place[nr][nc + 1] == 'P':\n",
    "                    return 0\n",
    "            if i == 2 or i == 3:\n",
    "                if (0 <= nr - 1 and nr - 1 <= 4) and place[nr - 1][nc] == 'P':\n",
    "                    return 0\n",
    "                if (0 <= nr + 1 and nr + 1 <= 4) and place[nr + 1][nc] == 'P':\n",
    "                    return 0\n",
    "    return 1\n",
    "\n",
    "def solution(places):\n",
    "    lists = [[] for _ in range(5)]\n",
    "    for i in range(5):\n",
    "        for j in range(5):\n",
    "            lists[i].append(list(places[i][j]))\n",
    "    \n",
    "    answer = list()\n",
    "    for _place in lists:\n",
    "        tf = True\n",
    "        for j in range(5):\n",
    "            for k in range(5):\n",
    "                if _place[j][k] == 'P' and check(j, k, _place) == 0:\n",
    "                    answer.append(0)\n",
    "                    tf = False\n",
    "                    break\n",
    "            if not tf: break\n",
    "        if tf:\n",
    "            answer.append(1)\n",
    "                    \n",
    "    return answer"
   ]
  },
  {
   "cell_type": "code",
   "execution_count": 79,
   "id": "f0767689",
   "metadata": {},
   "outputs": [
    {
     "data": {
      "text/plain": [
       "[1, 0, 1, 1, 1]"
      ]
     },
     "execution_count": 79,
     "metadata": {},
     "output_type": "execute_result"
    }
   ],
   "source": [
    "solution([[\"POOOP\", \"OXXOX\", \"OPXPX\", \"OOXOX\", \"POXXP\"], [\"POOPX\", \"OXPXP\", \"PXXXO\", \"OXXXO\", \"OOOPP\"], [\"PXOPX\", \"OXOXP\", \"OXPOX\", \"OXXOP\", \"PXPOX\"], [\"OOOXX\", \"XOOOX\", \"OOOXX\", \"OXOOX\", \"OOOOO\"], [\"PXPXP\", \"XPXPX\", \"PXPXP\", \"XPXPX\", \"PXPXP\"]])"
   ]
  },
  {
   "cell_type": "code",
   "execution_count": 1,
   "id": "0b8f04d9",
   "metadata": {},
   "outputs": [],
   "source": [
    "_range = set(i for i in range(5))"
   ]
  },
  {
   "cell_type": "code",
   "execution_count": 2,
   "id": "3b6f96af",
   "metadata": {},
   "outputs": [
    {
     "data": {
      "text/plain": [
       "{0, 1, 2, 3, 4}"
      ]
     },
     "execution_count": 2,
     "metadata": {},
     "output_type": "execute_result"
    }
   ],
   "source": [
    "_range"
   ]
  },
  {
   "cell_type": "code",
   "execution_count": null,
   "id": "3681db53",
   "metadata": {},
   "outputs": [],
   "source": []
  }
 ],
 "metadata": {
  "kernelspec": {
   "display_name": "Python 3",
   "language": "python",
   "name": "python3"
  },
  "language_info": {
   "codemirror_mode": {
    "name": "ipython",
    "version": 3
   },
   "file_extension": ".py",
   "mimetype": "text/x-python",
   "name": "python",
   "nbconvert_exporter": "python",
   "pygments_lexer": "ipython3",
   "version": "3.8.8"
  },
  "toc": {
   "base_numbering": 1,
   "nav_menu": {},
   "number_sections": true,
   "sideBar": true,
   "skip_h1_title": false,
   "title_cell": "Table of Contents",
   "title_sidebar": "Contents",
   "toc_cell": false,
   "toc_position": {},
   "toc_section_display": true,
   "toc_window_display": false
  }
 },
 "nbformat": 4,
 "nbformat_minor": 5
}
