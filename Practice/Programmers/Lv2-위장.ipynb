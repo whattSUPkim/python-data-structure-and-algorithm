{
 "cells": [
  {
   "cell_type": "markdown",
   "id": "bed7f69d",
   "metadata": {},
   "source": [
    "https://programmers.co.kr/learn/courses/30/lessons/42578"
   ]
  },
  {
   "cell_type": "markdown",
   "id": "cd5d49a2",
   "metadata": {},
   "source": [
    "- 첫 번째 시도 : 1번 케이스가 시간초과가 뜸"
   ]
  },
  {
   "cell_type": "code",
   "execution_count": null,
   "id": "8068fa21",
   "metadata": {},
   "outputs": [],
   "source": [
    "from itertools import combinations\n",
    "\n",
    "def solution(clothes):\n",
    "    answer = 0\n",
    "    closet = {}\n",
    "    for i in clothes:\n",
    "        closet[i[1]] = closet.get(i[1], []) + [i[0]]\n",
    "    \n",
    "    key = [i for i in closet.keys()]\n",
    "    c = list()\n",
    "    k = len(key)\n",
    "    for i in range(1, k + 1):\n",
    "        c.extend(list(combinations(key, i)))\n",
    "    \n",
    "    for i in c:\n",
    "        temp = 1\n",
    "        for j in i:\n",
    "            temp *= len(closet[j])\n",
    "        answer += temp\n",
    "    \n",
    "    return answer\n"
   ]
  },
  {
   "cell_type": "code",
   "execution_count": 1,
   "id": "432eac48",
   "metadata": {},
   "outputs": [],
   "source": [
    "def solution(clothes):\n",
    "    closet = {}\n",
    "    for i in clothes:\n",
    "        closet[i[1]] = closet.get(i[1], []) + [i[0]]\n",
    "    \n",
    "    n = 1\n",
    "    for i in closet.keys():\n",
    "        n *= (len(closet[i]) + 1)\n",
    "    \n",
    "    return n - 1"
   ]
  },
  {
   "cell_type": "code",
   "execution_count": null,
   "id": "df35ea5e",
   "metadata": {},
   "outputs": [],
   "source": []
  }
 ],
 "metadata": {
  "kernelspec": {
   "display_name": "Python 3",
   "language": "python",
   "name": "python3"
  },
  "language_info": {
   "codemirror_mode": {
    "name": "ipython",
    "version": 3
   },
   "file_extension": ".py",
   "mimetype": "text/x-python",
   "name": "python",
   "nbconvert_exporter": "python",
   "pygments_lexer": "ipython3",
   "version": "3.8.8"
  },
  "toc": {
   "base_numbering": 1,
   "nav_menu": {},
   "number_sections": true,
   "sideBar": true,
   "skip_h1_title": false,
   "title_cell": "Table of Contents",
   "title_sidebar": "Contents",
   "toc_cell": false,
   "toc_position": {},
   "toc_section_display": true,
   "toc_window_display": false
  }
 },
 "nbformat": 4,
 "nbformat_minor": 5
}
