{
 "cells": [
  {
   "cell_type": "markdown",
   "id": "6e2c9882",
   "metadata": {},
   "source": [
    "https://programmers.co.kr/learn/courses/30/lessons/42587"
   ]
  },
  {
   "cell_type": "code",
   "execution_count": 10,
   "id": "cf5d2ae3",
   "metadata": {},
   "outputs": [],
   "source": [
    "from collections import deque\n",
    "\n",
    "def solution(priorities, location):\n",
    "    twin = [0 for _ in range(len(priorities))]\n",
    "    twin[location] = 1\n",
    "\n",
    "    printer = deque(priorities)\n",
    "    p_twin = deque(twin)\n",
    "    answer = 0\n",
    "    while 1 in p_twin:\n",
    "        idx = printer.index(max(printer))\n",
    "        for i in range(idx):\n",
    "            printer.append(printer.popleft())\n",
    "            p_twin.append(p_twin.popleft())\n",
    "        printer.popleft()\n",
    "        p_twin.popleft()\n",
    "        answer += 1\n",
    "    \n",
    "    return answer"
   ]
  },
  {
   "cell_type": "code",
   "execution_count": null,
   "id": "e1ac88cc",
   "metadata": {},
   "outputs": [],
   "source": []
  }
 ],
 "metadata": {
  "kernelspec": {
   "display_name": "Python 3",
   "language": "python",
   "name": "python3"
  },
  "language_info": {
   "codemirror_mode": {
    "name": "ipython",
    "version": 3
   },
   "file_extension": ".py",
   "mimetype": "text/x-python",
   "name": "python",
   "nbconvert_exporter": "python",
   "pygments_lexer": "ipython3",
   "version": "3.8.8"
  },
  "toc": {
   "base_numbering": 1,
   "nav_menu": {},
   "number_sections": true,
   "sideBar": true,
   "skip_h1_title": false,
   "title_cell": "Table of Contents",
   "title_sidebar": "Contents",
   "toc_cell": false,
   "toc_position": {},
   "toc_section_display": true,
   "toc_window_display": false
  }
 },
 "nbformat": 4,
 "nbformat_minor": 5
}
