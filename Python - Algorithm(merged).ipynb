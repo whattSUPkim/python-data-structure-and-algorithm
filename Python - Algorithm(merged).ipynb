{
 "cells": [
  {
   "cell_type": "markdown",
   "id": "286750ea",
   "metadata": {},
   "source": [
    ">'잔재미코딩' 파이썬 자료를 공부한 내용입니다."
   ]
  },
  {
   "cell_type": "markdown",
   "id": "d6508c12",
   "metadata": {},
   "source": [
    "# 파이썬 기본 알고리즘"
   ]
  },
  {
   "cell_type": "markdown",
   "id": "bef90cf8",
   "metadata": {},
   "source": [
    "## 알고리즘 복잡도 표현 방법"
   ]
  },
  {
   "cell_type": "markdown",
   "id": "33430535",
   "metadata": {},
   "source": [
    "### 알고리즘 복잡도 표현 방법\n",
    "- 프로그래밍에서 시간 복잡도에 가장 영향을 많이 미치는 요소는 반복문"
   ]
  },
  {
   "cell_type": "markdown",
   "id": "96ee8101",
   "metadata": {},
   "source": [
    "- 알고리즘 성능 표기법\n",
    "    - **Big O 표기법: O(N)**\n",
    "        - 알고리즘 최악의 실행 시간을 표기\n",
    "        - 일반적으로 많이 사용\n",
    "        - 아무리 최악의 상황이라도, 이정도의 성능은 보장한다는 의미이기 떄문\n",
    "    - $\\Omega$ 표기법: $\\Omega$(N)\n",
    "        - 오메가 표기법은 알고리즘 최상의 실행 시간을 표기\n",
    "    - $\\Theta$ 표기법: $\\Theta$(N)\n",
    "        - 세타 표기법은 알고리즘 평균 실행 시간을 표기\n",
    "    > 시간 복잡도 계산은 반복문이 핷미 요소임을 인지하고, Big O 표기법 중심으로 익히면 됨"
   ]
  },
  {
   "cell_type": "markdown",
   "id": "2a5afb0f",
   "metadata": {},
   "source": [
    "-  대문자 O 표기법\n",
    "    - **빅 오 표기법**\n",
    "    - O(입력)\n",
    "        - 입력 n에 따라 결정되는 시간 복잡도 함수\n",
    "        - O(1), O(logn), O(n), O(nlogn), O(n<sup>2</sup>), O(2<sup>n</sup>), O(n!) 등으로 표기\n",
    "        - 입력 n의 크기에 따라 기하급수적으로 시간 복잡도가 늘어날 수 있음\n",
    "            - O(1) < O(logn) < O(n) < O(nlogn) < O(n<sup>2</sup>) < O(2<sup>n</sup>) < O(n!)\n",
    "    - 단순하게 입력 n에 따라, 몇번 실행이 되는지를 계산하면 됨\n",
    "        - n이 1이든 100이든, 1000이든, 10000이든 실행을\n",
    "            - 무조건 2회(상수회) 실행한다: O(1)\n",
    "            - n에 따라 n번, n + 10번, 3n + 10번 등 실행한다: O(n)\n",
    "            - n에 따라, n<sup>2</sup>번, n<sup>2</sup> + 1000번, 또는 100n<sup>2</sup> - 100번 등 실행한다: O(n<sup>2</sup>)\n",
    "    - 빅 오 입력값 표기 방법\n",
    "        ex)\n",
    "        - 만약 시간 복잡도 함수가 2n<sup>2</sup> + 3n 이라면\n",
    "            - 가장 높은 차수는 2n<sup>2</sup>\n",
    "            - 상수는 실제 큰 영향이 없음\n",
    "            - 결국 빅 오 표기법으론 O(n<sup>2</sup>)\n",
    "            ![그림](https://he-s3.s3.amazonaws.com/media/uploads/814bea8.gif)\n",
    "    - 일반적으로 자주 사용하는것들중 몇개를 적으면 반복문이 한번이면 O(n), 중첩 반복문이면 O(n^2), 이분 탐색의 시간복잡도는 O(logn), 언어에 있는 정렬을 사용하면 O(nlogn) 등입니다."
   ]
  },
  {
   "cell_type": "code",
   "execution_count": 3,
   "id": "5c8e0aff",
   "metadata": {},
   "outputs": [
    {
     "data": {
      "text/plain": [
       "55"
      ]
     },
     "execution_count": 3,
     "metadata": {},
     "output_type": "execute_result"
    }
   ],
   "source": [
    "# 1\n",
    "def func1(n):\n",
    "    count = 0\n",
    "    for num in range(1, n + 1):\n",
    "        count += num\n",
    "    return count\n",
    "\n",
    "func1(10)"
   ]
  },
  {
   "cell_type": "markdown",
   "id": "d547ff4a",
   "metadata": {},
   "source": [
    "- 1번 알고리즘\n",
    "    - 입력 n에 따라 덧셈을 n번 해야 함(반복문)\n",
    "    - 빅 오 표기법으로 시간 복잡도는 O(n)"
   ]
  },
  {
   "cell_type": "code",
   "execution_count": 5,
   "id": "d5f1f66a",
   "metadata": {},
   "outputs": [
    {
     "data": {
      "text/plain": [
       "55"
      ]
     },
     "execution_count": 5,
     "metadata": {},
     "output_type": "execute_result"
    }
   ],
   "source": [
    "# 2\n",
    "def func2(n):\n",
    "    return int(n * (n + 1) / 2)\n",
    "func2(10)    "
   ]
  },
  {
   "cell_type": "markdown",
   "id": "3c99f676",
   "metadata": {},
   "source": [
    "- 2번 알고리즘\n",
    "    - 입력 n이 어떻든 간에, 곱셈, 덧셈, 나눗셈 하면 됨(반복문x)\n",
    "    - 빅 오 표기법으로 시간복잡도는 O(1)\n"
   ]
  },
  {
   "cell_type": "markdown",
   "id": "94721533",
   "metadata": {},
   "source": [
    "- 알고리즘 연습 방법\n",
    "1. 연습장과 펜\n",
    "2. 알고리즘 문제 읽고 분석\n",
    "3. 간단하게 테스트용으로 매우 간단한 경우부터 복잡한 경우 순서대로 생각해보면서, 연습장과 펜을 이용해 알고리즘 생각\n",
    "4. 가능한 알고리즘이 보이면, 구현할 알고리즘을 세부 항목으로 나누고, 문장으로 세부 항목을 나누어서 적어봄\n",
    "5. 코드화하기 위해 데이터 구조 또는 사용할 변수 정리\n",
    "6. 각 문장을 코드 레벨로 적기\n",
    "7. 데이터 구조 또는 사용할 변수가 코드에 따라 어떻게 변하는지를 손으로 적으면서, 임의 데이터로 코드가 정상 동작하는지를 연습장과 펜으로 검증\n"
   ]
  },
  {
   "cell_type": "markdown",
   "id": "503c326f",
   "metadata": {},
   "source": [
    "## 버블 정렬(bubble sort)"
   ]
  },
  {
   "cell_type": "markdown",
   "id": "3eed3149",
   "metadata": {},
   "source": [
    "### 버블 정렬(bubble sort)이란?\n",
    "- 두 인접한 데이터를 비교해서, 앞에있는 데이터가 뒤에 있는 데이터보다 크면, 자리를 바꾸는 정렬 알고리즘\n",
    "![그림](https://upload.wikimedia.org/wikipedia/commons/c/c8/Bubble-sort-example-300px.gif)"
   ]
  },
  {
   "cell_type": "markdown",
   "id": "0a4b585f",
   "metadata": {},
   "source": [
    "### 프로그래밍 연습\n",
    "- 데이터가 네 개일 때\n",
    "- ex) data  = [1, 6, 3, 2]\n",
    "- 첫 번째 로직\n",
    "    - 1과 6 비교, [1, 6, 3, 2]\n",
    "    - 6과 3 비교, [1. 3. 6. 2]\n",
    "    - 6과 2 비교, [1, 3, 2, 6]\n",
    "- 두 번째 로직\n",
    "    - 1과 3 비교, [1, 3, 2, 6]\n",
    "    - 3과 2 비교, [1, 2, 3, 6]\n",
    "    - 3과 6 비교, [1, 2, 3, 6]\n",
    "- 세 번쨰 로직\n",
    "    - 1과 2 비교, [1, 2, 3, 6]\n",
    "    - 2과 3 비교, [1, 2, 3, 6]\n",
    "    - 3과 6 비교, [1, 2, 3, 6]"
   ]
  },
  {
   "cell_type": "markdown",
   "id": "9e5ad57d",
   "metadata": {},
   "source": [
    "- 특이점 찾기\n",
    "    - n개의 리스트가 있는 경우 최대 n-1번의 로직을 적용\n",
    "    - 로직을 1번 적용할 때마다 가장 큰 숫자가 뒤에서부터 1개씩 결정됨\n",
    "    - 로직이 경우에 따라 일찍 끝날 수 있다. 따라서 로직을 적용할 때 할 번도 데이터가 교환된적이 없다면 이미 정렬된 상태이므로 반복 적용할 필요가 없음"
   ]
  },
  {
   "cell_type": "markdown",
   "id": "fcad9264",
   "metadata": {},
   "source": [
    "1. for num in range(len(data_list)) 반복 \n",
    "2. swap = 0 (교환이 되었는지 확인하는 변수)\n",
    "3. 반목문 안에서 for index in range(len(data_list) - num - 1)  # n-1번 반복해야 함\n",
    "4. 반복문 안의 반복문 안에서 if data_list[index] > data_list[index + 1]이면\n",
    "    - data_list[index], data_list[index + 1] = data_list[index+1], data_list[index]\n",
    "    - swap += 1\n",
    "5. 반목문 안에서 if swap == 0이면, break"
   ]
  },
  {
   "cell_type": "markdown",
   "id": "6e6c399d",
   "metadata": {},
   "source": [
    "### 알고리즘 구현"
   ]
  },
  {
   "cell_type": "code",
   "execution_count": 17,
   "id": "8f3dd604",
   "metadata": {},
   "outputs": [],
   "source": [
    "def bubble_sort(data):\n",
    "    for index in range(len(data)-1): \n",
    "        swap = 0\n",
    "        for index2 in range(len(data) - 1 -index): \n",
    "            if data[index2] > data[index2 + 1]:\n",
    "                data[index2], data[index2 + 1] = data[index2 + 1], data[index2]\n",
    "                swap += 1\n",
    "        if swap == 0:\n",
    "            break;\n",
    "            \n",
    "    return data"
   ]
  },
  {
   "cell_type": "code",
   "execution_count": 21,
   "id": "92c894bb",
   "metadata": {},
   "outputs": [
    {
     "data": {
      "text/plain": [
       "[1, 1, 2, 2, 3, 3, 3, 3, 5, 6, 10, 13, 14, 15, 18, 22, 42, 48, 60]"
      ]
     },
     "execution_count": 21,
     "metadata": {},
     "output_type": "execute_result"
    }
   ],
   "source": [
    "bubble_sort([1, 6, 3, 2, 5, 3, 2, 10, 14, 15, 13, 3, 18, 60, 3, 48, 22, 42, 1])"
   ]
  },
  {
   "cell_type": "markdown",
   "id": "60261aba",
   "metadata": {},
   "source": [
    "- 반목문이 두 개 O(n<sup>2</sup>)\n",
    "    - 최악의 경우, $\\frac{n * (n - 1)}{2}$\n",
    "- 완전 정렬이 되어 있는 상태라면 최선은 O(n)"
   ]
  },
  {
   "cell_type": "markdown",
   "id": "c2688813",
   "metadata": {},
   "source": [
    "## 삽입 정렬(insertion sort)"
   ]
  },
  {
   "cell_type": "markdown",
   "id": "35062185",
   "metadata": {},
   "source": [
    "### 삽입 정렬이란?\n",
    "- 삽입 정렬은 두 번째 인덱스부터 시작\n",
    "- 해당 인덱스(key) 앞에 있는 데이터(B)부터 비교해서 key 값이 더 작으면, B값을 뒤 인덱스로 복사\n",
    "- 이를 key 값이 더 큰 데이터를 만날 때까지 반복, 그리고 큰 데이터를 만난 위치 바로 뒤에 key 값을 이동\n",
    "![그림](https://upload.wikimedia.org/wikipedia/commons/9/9c/Insertion-sort-example.gif)"
   ]
  },
  {
   "cell_type": "markdown",
   "id": "0af32c74",
   "metadata": {},
   "source": [
    "### 프로그래밍 연습"
   ]
  },
  {
   "cell_type": "markdown",
   "id": "c6854703",
   "metadata": {},
   "source": [
    "- 데이터가 네 개일 때\n",
    "- ex) data = [9, 3, 2, 5]\n",
    "    - 처음 실행하면, key는 9, 인덱스(0-)1은 0보다 작으므로 종료[9, 3, 2, 5]\n",
    "    - 두 번째 실행하면, key는 3, 9보다 3이 작으므로 자리 바꾸고 종료[3, 9, 2, 5]\n",
    "    - 세 번째 실행하면, key는 2, 9보다 2가 작으므로 자리 바꾸고, 3보다 작으므로 다시 자리 바꾸고 종료[2, 3, 9, 5]\n",
    "    - 네 번쨰 실행하면, key는 5, 9보다 작으므로 자리 바꾸고, 3보단 크므로 종료[2, 3, 5, 9]"
   ]
  },
  {
   "cell_type": "markdown",
   "id": "7a68ba78",
   "metadata": {},
   "source": [
    "1. for i in range(len(data))로 반복\n",
    "2. key = data[i]\n",
    "3. for num in range(i, 0, -1) 반복\n",
    "    - 내부 반복문 안에서 data[i] < data[num - 1] 이면,\n",
    "        - data[num-1], data[num] = data[num], data[num-1]"
   ]
  },
  {
   "cell_type": "markdown",
   "id": "47b55334",
   "metadata": {},
   "source": [
    "### 알고리즘 구현"
   ]
  },
  {
   "cell_type": "code",
   "execution_count": 22,
   "id": "609ace3b",
   "metadata": {},
   "outputs": [],
   "source": [
    "def insertion_sort(data):\n",
    "    for i in range(len(data)):\n",
    "        key = data[i]\n",
    "        for num in range(i, 0, -1):\n",
    "            if key < data[num - 1]:\n",
    "                data[num-1], data[num] = data[num], data[num-1]\n",
    "            else:\n",
    "                break\n",
    "    return data"
   ]
  },
  {
   "cell_type": "code",
   "execution_count": 26,
   "id": "0e1e5a57",
   "metadata": {
    "scrolled": true
   },
   "outputs": [
    {
     "data": {
      "text/plain": [
       "[5, 8, 10, 21, 27, 33, 77, 80, 86, 94]"
      ]
     },
     "execution_count": 26,
     "metadata": {},
     "output_type": "execute_result"
    }
   ],
   "source": [
    "from random import *\n",
    "\n",
    "r_data = list()\n",
    "for n in range(10):\n",
    "    r_data.append(randint(1, 100))\n",
    "    \n",
    "insertion_sort(r_data)"
   ]
  },
  {
   "cell_type": "markdown",
   "id": "ca9ff9d5",
   "metadata": {},
   "source": [
    "- 반목문이 두 개 O(n<sup>2</sup>)\n",
    "    - 최악의 경우, $\\frac{n * (n - 1)}{2}$\n",
    "- 완전 정렬이 되어 있는 상태라면 최선은 O(n)"
   ]
  },
  {
   "cell_type": "markdown",
   "id": "a62821ff",
   "metadata": {},
   "source": [
    "## 선택 정렬(selection sort)"
   ]
  },
  {
   "cell_type": "markdown",
   "id": "b67f464b",
   "metadata": {},
   "source": [
    "### 선택 정렬이란?\n",
    "- 다음과 같은 순서를 반복하며 정렬하는 알고리즘\n",
    "    1. 주어진 데이터 중, 최소값을 찾음\n",
    "    2. 해당 최소값을 데이터 맨 앞에 위치한 값과 교체\n",
    "    3. 맨 앞의 위치를 뺸 데이터를 동일한 방법으로 반복\n",
    "    ![그림](https://upload.wikimedia.org/wikipedia/commons/9/94/Selection-Sort-Animation.gif)"
   ]
  },
  {
   "cell_type": "markdown",
   "id": "aced2f71",
   "metadata": {},
   "source": [
    "### 프로그래밍 연습"
   ]
  },
  {
   "cell_type": "markdown",
   "id": "e66e7dc8",
   "metadata": {},
   "source": [
    "- 데이터가 두 개 일때\n",
    "    - ex) data = [4, 1]\n",
    "    - [1]이 [0]보다 작으므로 두 값을 교환\n",
    "- 데이터가 세 개 일때\n",
    "    - ex) data = [4, 1, 3]\n",
    "    - 처음 한번 실행하면 1, 4, 3\n",
    "    - 두 번째 실행하면 1, 3, 4\n",
    "- 데이터가 네 개일떄\n",
    "    - ex) data = [9, 3, 2, 1]\n",
    "    - 처음 한번 실행하면, 1, 3, 2, 9\n",
    "    - 두 번째 실행하면 1, 2, 3, 9\n",
    "    - 세 번쨰 실행하면 변화 없음"
   ]
  },
  {
   "cell_type": "code",
   "execution_count": 32,
   "id": "df8eb823",
   "metadata": {},
   "outputs": [],
   "source": [
    "def sort3(data):\n",
    "    for i in range(len(data) - 1):\n",
    "        print(i)\n",
    "        lowest = i\n",
    "        for num in range(i, len(data)):\n",
    "            if data[lowest] > data[num]:\n",
    "                lowest = num\n",
    "        data[i], data[lowest] = data[lowest], data[i]\n",
    "        print(data)\n",
    "    return data"
   ]
  },
  {
   "cell_type": "code",
   "execution_count": 33,
   "id": "b77e7e2b",
   "metadata": {},
   "outputs": [
    {
     "name": "stdout",
     "output_type": "stream",
     "text": [
      "0\n",
      "[7, 44, 95, 22, 98, 88, 74, 46, 23, 51]\n",
      "1\n",
      "[7, 22, 95, 44, 98, 88, 74, 46, 23, 51]\n",
      "2\n",
      "[7, 22, 23, 44, 98, 88, 74, 46, 95, 51]\n",
      "3\n",
      "[7, 22, 23, 44, 98, 88, 74, 46, 95, 51]\n",
      "4\n",
      "[7, 22, 23, 44, 46, 88, 74, 98, 95, 51]\n",
      "5\n",
      "[7, 22, 23, 44, 46, 51, 74, 98, 95, 88]\n",
      "6\n",
      "[7, 22, 23, 44, 46, 51, 74, 98, 95, 88]\n",
      "7\n",
      "[7, 22, 23, 44, 46, 51, 74, 88, 95, 98]\n",
      "8\n",
      "[7, 22, 23, 44, 46, 51, 74, 88, 95, 98]\n"
     ]
    },
    {
     "data": {
      "text/plain": [
       "[7, 22, 23, 44, 46, 51, 74, 88, 95, 98]"
      ]
     },
     "execution_count": 33,
     "metadata": {},
     "output_type": "execute_result"
    }
   ],
   "source": [
    "import random\n",
    "\n",
    "data_list = random.sample(range(100), 10)\n",
    "sort3(data_list)"
   ]
  },
  {
   "cell_type": "markdown",
   "id": "5fcbec29",
   "metadata": {},
   "source": [
    "- 반목문이 두 개 O(n<sup>2</sup>)\n",
    "    - 실제로 상세하게 계산하면, $\\frac{n * (n - 1)}{2}$"
   ]
  },
  {
   "cell_type": "markdown",
   "id": "1215d4ad",
   "metadata": {},
   "source": [
    "## 재귀 용법(recursive call, 재귀 호출)\n",
    "> 고급 정렬 알고리즘을 위한 재귀 용법"
   ]
  },
  {
   "cell_type": "markdown",
   "id": "905e1e92",
   "metadata": {},
   "source": [
    "### 재귀 용법\n",
    "- 함수 안에서 동일한 함수를 호출하는 형태"
   ]
  },
  {
   "cell_type": "markdown",
   "id": "7610d906",
   "metadata": {},
   "source": [
    "### 재귀 용법 예 - 펙토리얼"
   ]
  },
  {
   "cell_type": "code",
   "execution_count": 39,
   "id": "e457d5d7",
   "metadata": {},
   "outputs": [
    {
     "data": {
      "text/plain": [
       "120"
      ]
     },
     "execution_count": 39,
     "metadata": {},
     "output_type": "execute_result"
    }
   ],
   "source": [
    "def factorial(n):\n",
    "    if n > 1:\n",
    "        return n * factorial(n-1)\n",
    "    else:\n",
    "        return n\n",
    "    \n",
    "factorial(5)"
   ]
  },
  {
   "cell_type": "markdown",
   "id": "0d66bb25",
   "metadata": {},
   "source": [
    "- factorial(n)은 n-1 번의 factorial() 함수를 호출해서, 곱셈을 함\n",
    "    - 일종의 n-1번 반목문을 호출할 것과 동일\n",
    "    - fatorial() 함수를 호출알 때마다, 지역변수 n이 생성됨\n",
    "- 시간 복잡도/공간 복잡도는 O(n-1)이므로 결국 둘 다 O(n)"
   ]
  },
  {
   "cell_type": "markdown",
   "id": "86358f65",
   "metadata": {},
   "source": [
    "- 재귀 호출은 스택의 전형적인 예\n",
    "    ![그림](https://blog.kakaocdn.net/dn/AQHqY/btq8HGFOVrK/ydLbrgJXi4ynqvHwtQVchK/img.png)"
   ]
  },
  {
   "cell_type": "code",
   "execution_count": 44,
   "id": "9b0352bf",
   "metadata": {},
   "outputs": [
    {
     "data": {
      "text/plain": [
       "120"
      ]
     },
     "execution_count": 44,
     "metadata": {},
     "output_type": "execute_result"
    }
   ],
   "source": [
    "# 프로그래밍 연습\n",
    "# 재귀 함수를 활용하여 1부터 num까지의 곱이 출력되게 만드시오.\n",
    "\n",
    "def mulNum(n):\n",
    "    if n > 1:\n",
    "        return n * mulNum(n-1)        \n",
    "    else:\n",
    "        return n\n",
    "\n",
    "mulNum(5)"
   ]
  },
  {
   "cell_type": "code",
   "execution_count": 63,
   "id": "4f706434",
   "metadata": {},
   "outputs": [
    {
     "data": {
      "text/plain": [
       "16"
      ]
     },
     "execution_count": 63,
     "metadata": {},
     "output_type": "execute_result"
    }
   ],
   "source": [
    "# 프로그래밍 연습\n",
    "# 숫자가 들어있는 리스트가 주어졌을 떄, 리스트의 합을 리턴하는 함수를 만드시오(재귀함수 활용)\n",
    "def list_sum(data):\n",
    "    if len(data) > 1:\n",
    "        pop = data.pop()\n",
    "        return pop + list_sum(data)\n",
    "    else:\n",
    "        return data[0]\n",
    "\n",
    "list_sum([1, 3, 5, 7])"
   ]
  },
  {
   "cell_type": "code",
   "execution_count": 57,
   "id": "cdc321da",
   "metadata": {},
   "outputs": [
    {
     "data": {
      "text/plain": [
       "int"
      ]
     },
     "execution_count": 57,
     "metadata": {},
     "output_type": "execute_result"
    }
   ],
   "source": [
    "a = [1, 2, 3]\n",
    "type(a.pop())"
   ]
  },
  {
   "cell_type": "markdown",
   "id": "8d3ac780",
   "metadata": {},
   "source": [
    "## 동적 계획법과 분할 정복"
   ]
  },
  {
   "cell_type": "markdown",
   "id": "15320494",
   "metadata": {},
   "source": [
    "### 동적 계획법(Dynamic Programming)과 분할 정복(Divide and Conquer)\n",
    "1. 정의\n",
    "    - 동적 계획법(DP)\n",
    "        - 입력 크기가 작은 부분 문제들을 해결한 후, 해당 부분 문제의 해를 활용해서, 보다 큰 크기의 부분문제를 해결, 최종적으로 전체 문제를 해결하는 알고리즘\n",
    "        - 상향식 접근법으로, 가장 최하단 해답을 구한 후, 이를 저장하고, 해당 결과값을 이용해서 상위 문제를 풀어가는 방식\n",
    "        - Memoization 기법을 사용함\n",
    "            - Memoization(메모이제이션): 프로그램 실행 시 이전에 계산한 값을 저장하여, 다시 계산하지 않도록 하여 전체 실행 속도를 빠르게 하는 기술\n",
    "        - 문제를 잘게 쪼갤 때, 부분 문제는 중복되어, 재활용 됨\n",
    "            - ex) 피보나치 수열\n",
    "    - 분할 정복\n",
    "        - 문제를 나눌 수 없을 때까지 나누어서 각각을 풀면서 다시 합병하여 문제의 답을 얻는 알고리즘\n",
    "        - 하향식 접근법으로, 상위의 해답을 구하기 위해, 아래로 내려가면서 하위의 해답을 구하는 방식\n",
    "            - 일반적으로 재귀 함수로 구현\n",
    "        - 문제를 잘게 쪼갤 때, 부분 문제는 서로 중복되지 않음\n",
    "            - ex) 병합 정렬, 퀵 정렬 등\n"
   ]
  },
  {
   "cell_type": "markdown",
   "id": "5050f764",
   "metadata": {},
   "source": [
    "2. 공통점과 차이점\n",
    "    - 공통점\n",
    "        - 문제를 잘게 쪼개서, 가장 작은 단위로 분할\n",
    "    - 차이점\n",
    "        - 동적 계획법\n",
    "            - 부분 문제는 중복되어, 상위 문제 해결 시 재활용 됨\n",
    "            - Memoization 기법 사용\n",
    "        - 분할 정복\n",
    "            - 부분 문제는 서로 중복되지 않음\n",
    "            - Memoization 기법 사용 안 함\n"
   ]
  },
  {
   "cell_type": "markdown",
   "id": "35c6847e",
   "metadata": {},
   "source": [
    "### 동적 계획법 알고리즘 이해"
   ]
  },
  {
   "cell_type": "markdown",
   "id": "afcf68b4",
   "metadata": {},
   "source": [
    "- 피보나치 수열이란?\n",
    "![그림](https://shoark7.github.io/assets/img/algorithm/fibonacci-example.png)"
   ]
  },
  {
   "cell_type": "markdown",
   "id": "3105205d",
   "metadata": {},
   "source": [
    "- fibo함수를 정의해보면\n",
    "![그림](https://t1.daumcdn.net/cfile/tistory/991C634C5BFAB36335)"
   ]
  },
  {
   "cell_type": "markdown",
   "id": "c735d0a2",
   "metadata": {},
   "source": [
    "- 재귀 용법의 비효율성\n",
    "![그림](https://shoark7.github.io/assets/img/algorithm/fibbonacci-recurisive.png)"
   ]
  },
  {
   "cell_type": "code",
   "execution_count": 7,
   "id": "130a1c80",
   "metadata": {},
   "outputs": [
    {
     "data": {
      "text/plain": [
       "0.3341217041015625"
      ]
     },
     "execution_count": 7,
     "metadata": {},
     "output_type": "execute_result"
    }
   ],
   "source": [
    "# 재귀 호출 활용\n",
    "import time\n",
    "\n",
    "def fibo(num):\n",
    "    if num <= 1:\n",
    "        return num\n",
    "    return fibo(num - 1) + fibo(num - 2)\n",
    "\n",
    "s = time.time()\n",
    "fibo(30)\n",
    "f = time.time()\n",
    "f - s\n"
   ]
  },
  {
   "cell_type": "code",
   "execution_count": 8,
   "id": "c3ebb480",
   "metadata": {},
   "outputs": [
    {
     "data": {
      "text/plain": [
       "0.00099945068359375"
      ]
     },
     "execution_count": 8,
     "metadata": {},
     "output_type": "execute_result"
    }
   ],
   "source": [
    "def fibo_dp(num):\n",
    "    cache = [0 for i in range(num + 1)]\n",
    "    cache[0] = 0\n",
    "    cache[1] = 1\n",
    "    \n",
    "    for index in range(2, num + 1):\n",
    "        cache[index] = cache[index - 1] + cache[index - 2]\n",
    "    return cache[num]\n",
    "\n",
    "s = time.time()\n",
    "fibo_dp(30)\n",
    "f = time.time()\n",
    "f - s"
   ]
  },
  {
   "cell_type": "markdown",
   "id": "1322dbdb",
   "metadata": {},
   "source": [
    "## 병합 정렬(merge sort)"
   ]
  },
  {
   "cell_type": "markdown",
   "id": "1f8730f6",
   "metadata": {},
   "source": [
    "### 병합 정렬(merge sort)\n",
    "- 재귀 용법을 활용한 정렬 알고리즘\n",
    "    1. 리스트를 절반으로 잘라 비슷한 크기의 두 부분 리스트로 나눔\n",
    "    2. 각 부분 리스트를 재귀적으로 합병 정렬을 이용해 정렬\n",
    "    3. 두 부분 리스트를 다시 하나의 정렬된 리스트로 합병\n",
    "![그림](https://upload.wikimedia.org/wikipedia/commons/c/cc/Merge-sort-example-300px.gif)"
   ]
  },
  {
   "cell_type": "markdown",
   "id": "5fa4863f",
   "metadata": {},
   "source": [
    "### 알고리즘 이해\n",
    "- 데이터가 네 개 일때\n",
    "    - ex) data_list = [1, 9, 3, 2]\n",
    "    - 먼저 [1, 9], [3, 2]로 나누고\n",
    "    - 다시 앞부분을 [1], [9]로 나누고\n",
    "    - 다시 정렬해서 합침 [1, 9]\n",
    "    - [3, 2]는 [3], [2]로 나누고\n",
    "    - 다시 정렬해서 합침[2, 3]\n",
    "    - 이제 [1, 9]와 [2, 3]을 합침\n",
    "        - 1 < 2 니까 [1]\n",
    "        - 9 > 2 니까 [1, 2]\n",
    "        - 9 > 3 니까 [1, 2, 3]\n",
    "        - 나머지 [1, 2, 3, 9]"
   ]
  },
  {
   "cell_type": "markdown",
   "id": "f2bf4979",
   "metadata": {},
   "source": [
    "### 알고리즘 구현\n",
    "- mergesplit 함수\n",
    "    - 만약 리스트 갯수가 한 개이면 해당 값 리턴\n",
    "    - 그렇지 않으면 리스트르 앞뒤 두 개로 나눔\n",
    "    - left = mergesplit(앞)\n",
    "    - right = mergesplit(뒤)\n",
    "    - merge(left, right)\n",
    "- merge 함수\n",
    "    - 리스트 변수 하나 만들기 (sorted)\n",
    "    - left_index, right_index = 0\n",
    "    - while left_index < len(left) or right_index < len(right)\n",
    "        - 만약 left_index나 right_index가 이미 left 또는 right를 순회했다면, 그 반대쪽 데이터를 그대로 넣고, 해당 인덱스 1 증가\n",
    "        - if left[left_index] < right[right_index]:\n",
    "            - sorted.append(left[left_index])\n",
    "            - left_index += 1\n",
    "        - else:\n",
    "            - sorted.append(right[right_index])\n",
    "            - right_index += 1"
   ]
  },
  {
   "cell_type": "code",
   "execution_count": 22,
   "id": "4a0c4959",
   "metadata": {},
   "outputs": [],
   "source": [
    "def mergesplit(data):\n",
    "    if len(data) <= 1:\n",
    "        return data\n",
    "    medium = int(len(data) // 2)\n",
    "    left = mergesplit(data[:medium])\n",
    "    right = mergesplit(data[medium:])\n",
    "    return merge(left, right)"
   ]
  },
  {
   "cell_type": "code",
   "execution_count": 27,
   "id": "eb186da2",
   "metadata": {},
   "outputs": [],
   "source": [
    "def merge(left, right):\n",
    "    merged = list()\n",
    "    left_point, right_point = 0, 0\n",
    "    \n",
    "    # 가장 작은 단위로 split 됐기 때문에 위치만 조건을 붙이면 됨\n",
    "    \n",
    "    # left/right 둘 다 있을 때\n",
    "    while len(left) > left_point and len(right) > right_point: # left, right의 길이가 left_point보다 클 때만 반복\n",
    "        if left[left_point] > right[right_point]: # 레프트 포인트 인덱스 값이 라이트 값보다 크면\n",
    "            merged.append(right[right_point]) # 라이트 값을 추가, right 포인트 옮김\n",
    "            right_point += 1\n",
    "        else:\n",
    "            merged.append(left[left_point]) # \n",
    "            left_point += 1\n",
    "            \n",
    "    # left 데이터가 없을 때\n",
    "    while len(left) > left_point:\n",
    "        merged.append(left[left_point])\n",
    "        left_point += 1\n",
    "    \n",
    "    # right 데이터가 없을 때\n",
    "    while len(right) > right_point:\n",
    "        merged.append(right[right_point])\n",
    "        right_point += 1\n",
    "    \n",
    "    return merged"
   ]
  },
  {
   "cell_type": "code",
   "execution_count": 28,
   "id": "09c08ac5",
   "metadata": {},
   "outputs": [
    {
     "data": {
      "text/plain": [
       "[0, 17, 28, 30, 35, 48, 50, 54, 62, 70]"
      ]
     },
     "execution_count": 28,
     "metadata": {},
     "output_type": "execute_result"
    }
   ],
   "source": [
    "import random\n",
    "\n",
    "data_list = random.sample(range(100), 10)\n",
    "mergesplit(data_list)"
   ]
  },
  {
   "cell_type": "markdown",
   "id": "85872a19",
   "metadata": {},
   "source": [
    "## **@퀵 정렬(quick sort)(정렬 알고리즘의 꽃)**"
   ]
  },
  {
   "cell_type": "markdown",
   "id": "273a27b5",
   "metadata": {},
   "source": [
    "### 퀵 정렬이란?\n",
    "- **정렬 알고리즘의 꽃**\n",
    "- 기준점(pivot)을 정해서, 기준점보다 작은 데이터는 왼쪽(left), 큰 데이터는 오른쪽(right)으로 모으는 함수를 작성함\n",
    "- 각 왼쪽(left), 오른쪽(right)은 재귀용법을 사용해서 다시 동일 함수를 호출하여 위 작업을 반복\n",
    "- 함수는 왼쪽(left) + 기준점(pivot) + 오른쪽(right)을 리턴"
   ]
  },
  {
   "cell_type": "markdown",
   "id": "cfb4126b",
   "metadata": {},
   "source": [
    "### 프로그래밍 연습"
   ]
  },
  {
   "cell_type": "code",
   "execution_count": 34,
   "id": "891f3047",
   "metadata": {},
   "outputs": [
    {
     "name": "stdout",
     "output_type": "stream",
     "text": [
      "[30, 65, 37, 23, 14, 22, 32, 21, 49, 80]\n",
      "[23, 14, 22, 21]\n",
      "30\n",
      "[65, 37, 32, 49, 80]\n"
     ]
    }
   ],
   "source": [
    "# 임의 길이인 list의 맨 앞 데이터를 기준으로 작은 데이터는 left 변수에, 그렇지 않은 데이터는 right 변수에 넣기\n",
    "import random\n",
    "data_list = random.sample(range(100), 10)\n",
    "\n",
    "left = list()\n",
    "right = list()\n",
    "pivot = data_list[0]\n",
    "\n",
    "for i in range(1, len(data_list)):\n",
    "    if pivot > data_list[i]:\n",
    "        left.append(data_list[i])\n",
    "    else:\n",
    "        right.append(data_list[i])\n",
    "print(data_list)\n",
    "print(left)\n",
    "print(pivot)\n",
    "print(right)"
   ]
  },
  {
   "cell_type": "markdown",
   "id": "daa5c388",
   "metadata": {},
   "source": [
    "### 알고리즘 구현\n",
    "- quicksort 함수\n",
    "    - 만약 리스트 갯수가 한개면 해당 리스트 리턴\n",
    "    - 그렇지 않으면, 리스트 맨 앞 데이터를 기준점(pivot)으로 놓기\n",
    "    - left, right 변수\n",
    "    - 맨 앞의 데이터를 뺸 나머지 데이터를 기준점과 비교\n",
    "        - 기준점보다 작으면 left\n",
    "        - 크면 right\n",
    "    - return quicksort(left) + pivot + quicksort(right)"
   ]
  },
  {
   "cell_type": "code",
   "execution_count": 72,
   "id": "66f533af",
   "metadata": {},
   "outputs": [],
   "source": [
    "def quicksort(data_list):    \n",
    "    if len(data_list) <= 1:\n",
    "        return data_list\n",
    "    else:\n",
    "        left = list()\n",
    "        right = list()\n",
    "        pivot = data_list[0]\n",
    "\n",
    "        for i in range(1, len(data_list)):\n",
    "            if pivot > data_list[i]:\n",
    "                left.append(data_list[i])\n",
    "            else:\n",
    "                right.append(data_list[i])\n",
    "        return quicksort(left) + [pivot] + quicksort(right) # left, right에 재귀"
   ]
  },
  {
   "cell_type": "code",
   "execution_count": 73,
   "id": "ba4fa6a9",
   "metadata": {},
   "outputs": [
    {
     "data": {
      "text/plain": [
       "[14, 21, 22, 23, 30, 32, 37, 49, 65, 80]"
      ]
     },
     "execution_count": 73,
     "metadata": {},
     "output_type": "execute_result"
    }
   ],
   "source": [
    "quicksort(data_list)"
   ]
  },
  {
   "cell_type": "code",
   "execution_count": 64,
   "id": "15931142",
   "metadata": {},
   "outputs": [],
   "source": [
    "# 위 코드를 list comprehension을 사용하여 표현\n",
    "def quicksort2(data_list):\n",
    "    if len(data_list) <= 1:\n",
    "        return data_list\n",
    "    pivot = data_list[0]\n",
    "    left, right = list(), list()\n",
    "    \n",
    "    left = [i for i in data_list[1:] if i <= pivot]\n",
    "    right = [i for i in data_list[1:] if i > pivot]\n",
    "    return quicksort2(left) + [pivot] + quicksort2(right)"
   ]
  },
  {
   "cell_type": "code",
   "execution_count": 65,
   "id": "c149c71f",
   "metadata": {},
   "outputs": [
    {
     "data": {
      "text/plain": [
       "[14, 21, 22, 23, 30, 32, 37, 49, 65, 80]"
      ]
     },
     "execution_count": 65,
     "metadata": {},
     "output_type": "execute_result"
    }
   ],
   "source": [
    "quicksort2(data_list)"
   ]
  },
  {
   "cell_type": "markdown",
   "id": "4b28b32e",
   "metadata": {},
   "source": [
    "### 알고리즘 분석\n",
    "- 병합정렬과 유사, 시간복잡도는 O(n log n)\n",
    "    - 단 최악의 경우\n",
    "        - 맨 처음 pivot이 가장 크거나, 가장 작으면\n",
    "        - 모든 데이터를 비교하는 상황이 나옴\n",
    "        - $O(n^2)$"
   ]
  },
  {
   "cell_type": "markdown",
   "id": "ecb0d620",
   "metadata": {},
   "source": [
    "-----"
   ]
  },
  {
   "cell_type": "markdown",
   "id": "29a96339",
   "metadata": {},
   "source": [
    "## 순차탐색(Sequential Search)"
   ]
  },
  {
   "cell_type": "markdown",
   "id": "e417e4ab",
   "metadata": {},
   "source": [
    "### 순차 탐색이란?\n",
    "- 탐색은 여러 데이터 중 원하는 데이터를 찾아내는 것을 의미\n",
    "- 데이터가 담겨있는 리스트를 앞에서부터 하나씩 비교해서 데이터를 찾는 방법"
   ]
  },
  {
   "cell_type": "code",
   "execution_count": 80,
   "id": "2900932d",
   "metadata": {},
   "outputs": [],
   "source": [
    "from random import*\n",
    "\n",
    "data_list = list()\n",
    "for i in range(10):\n",
    "    data_list.append(randint(1, 100))"
   ]
  },
  {
   "cell_type": "code",
   "execution_count": 85,
   "id": "cdca934e",
   "metadata": {},
   "outputs": [
    {
     "data": {
      "text/plain": [
       "[79, 36, 55, 19, 61, 52, 98, 90, 85, 52]"
      ]
     },
     "execution_count": 85,
     "metadata": {},
     "output_type": "execute_result"
    }
   ],
   "source": [
    "data_list"
   ]
  },
  {
   "cell_type": "code",
   "execution_count": 82,
   "id": "b38d262a",
   "metadata": {},
   "outputs": [],
   "source": [
    "def s_search(data_list, search):\n",
    "    for i in range(len(data_list)):\n",
    "        if data_list[i] == search:\n",
    "            return i\n",
    "    \n",
    "    return -1"
   ]
  },
  {
   "cell_type": "code",
   "execution_count": 86,
   "id": "975a07ea",
   "metadata": {},
   "outputs": [
    {
     "name": "stdout",
     "output_type": "stream",
     "text": [
      "-1\n",
      "3\n"
     ]
    }
   ],
   "source": [
    "print(s_search(data_list, 5))\n",
    "print(s_search(data_list, 19))"
   ]
  },
  {
   "cell_type": "markdown",
   "id": "4f46e22d",
   "metadata": {},
   "source": [
    "### 알고리즘 분석\n",
    "- 최악의 경우 리스트 길이가 n일 때 n번 비교해야 함\n",
    "    - O(n)"
   ]
  },
  {
   "cell_type": "markdown",
   "id": "a1a4fc77",
   "metadata": {},
   "source": [
    "## 이진 탐색(Binary Search)"
   ]
  },
  {
   "cell_type": "markdown",
   "id": "a1235667",
   "metadata": {},
   "source": [
    "### 이진 탐색이란?\n",
    "- 탐색할 자료를 둘로 나누어 해당 데이터가 있을만한 곳을 탐색하는 방법"
   ]
  },
  {
   "cell_type": "markdown",
   "id": "9886e0bb",
   "metadata": {},
   "source": [
    "- 다음 문제를 먼저 생각해보자\n",
    "    - 전화번호부 책에서 '심영래네 집 번호'를 찾으시오.\n",
    "    - 조건:\n",
    "        - 가장 적게 책을 펼쳐야 함.\n",
    "- 이진 탐색과 순차 탐색 비교\n",
    "![](https://blog.kakaocdn.net/dn/bJ5z1v/btqB1dv87yk/ZCi4TPFZ8KlmTTneI0FAs0/img.gif)"
   ]
  },
  {
   "cell_type": "markdown",
   "id": "0aa4c2fe",
   "metadata": {},
   "source": [
    "### 분할 정복 알고리즘과 이진 탐색\n",
    "- 분할 정복 알고리즘(Divide and Conquer)\n",
    "    - Divide: 문제를 하나 또는 둘 이상으로 나눔\n",
    "    - Conquer: 나눠진 문제가 충분히 작고, 해결이 가능하면 해결하고, 그렇지 않다면 다시 나눔\n",
    "- 이진 탐색\n",
    "    - Divide: 리스트를 두 개의 서브 리스트로 나눔\n",
    "    - Conquer\n",
    "        - 검색할 숫자(search) > 중간값 이면, 뒷 부분의 서브 리스트에서 검색할 숫자를 찾음.\n",
    "        - 검색할 숫자(search) < 중간값 이면, 앞 부분의 서브 리스트에서 검색할 숫자를 찾음."
   ]
  },
  {
   "cell_type": "markdown",
   "id": "18709049",
   "metadata": {},
   "source": [
    "### 어떻게 코드로 만들까?\n",
    "- 이진 탐색은 데이터가 정렬되어 있는 상태에서 진행\n",
    "- ex)데이터가 [20, 30, 8, 12, 20]일 때\n",
    "    - b_search(data_list, search) 함수 생성\n",
    "        - data_list는 리스트, search는 숫자\n",
    "        - data_list의 중간값을 search와 비교\n",
    "            - search < data_list이면 -> 맨 앞부터 중간까지 다시 검색(재귀)\n",
    "            - search > data_list이면 -> 중간부터 맨 뒤까지 다시 검색(재귀)\n",
    "            - 둘 다 아니라면 data_list의 중간값이 search인 경우임"
   ]
  },
  {
   "cell_type": "markdown",
   "id": "8bc6dfe3",
   "metadata": {},
   "source": [
    "### 알고리즘 구현"
   ]
  },
  {
   "cell_type": "code",
   "execution_count": 99,
   "id": "486ac767",
   "metadata": {},
   "outputs": [],
   "source": [
    "def b_search(data, search):\n",
    "    print(data)\n",
    "    if len(data) == 1:\n",
    "        if data[0] == search:\n",
    "            return True\n",
    "        else: return False\n",
    "    \n",
    "    if len(data) == 0:\n",
    "        return False\n",
    "    \n",
    "    medium = len(data) // 2\n",
    "    if search == data[medium]:\n",
    "        return True\n",
    "    if search > data[medium]:\n",
    "        return b_search(data[medium:], search)\n",
    "    else:\n",
    "        return b_search(data[:medium], search)"
   ]
  },
  {
   "cell_type": "code",
   "execution_count": 102,
   "id": "9337ef37",
   "metadata": {},
   "outputs": [],
   "source": [
    "data_list.sort()"
   ]
  },
  {
   "cell_type": "code",
   "execution_count": 103,
   "id": "b97bae23",
   "metadata": {},
   "outputs": [
    {
     "data": {
      "text/plain": [
       "[19, 36, 52, 52, 55, 61, 79, 85, 90, 98]"
      ]
     },
     "execution_count": 103,
     "metadata": {},
     "output_type": "execute_result"
    }
   ],
   "source": [
    "data_list"
   ]
  },
  {
   "cell_type": "code",
   "execution_count": 105,
   "id": "46870f16",
   "metadata": {},
   "outputs": [
    {
     "name": "stdout",
     "output_type": "stream",
     "text": [
      "[19, 36, 52, 52, 55, 61, 79, 85, 90, 98]\n",
      "[61, 79, 85, 90, 98]\n"
     ]
    },
    {
     "data": {
      "text/plain": [
       "True"
      ]
     },
     "execution_count": 105,
     "metadata": {},
     "output_type": "execute_result"
    }
   ],
   "source": [
    "b_search(data_list, 85)"
   ]
  },
  {
   "cell_type": "markdown",
   "id": "c962a13b",
   "metadata": {},
   "source": [
    "### 알고리즘 분석"
   ]
  },
  {
   "cell_type": "markdown",
   "id": "386fcab8",
   "metadata": {},
   "source": [
    "- n개의 리스트로 매번 2번 나누어 1이 될 때까지 비교 연산을 k회 진행\n",
    "    - $n * \\frac{1^k}{2} = 1$\n",
    "    - $n = 2^k = log_2n = log_22^k$\n",
    "    - $log_2n = k$\n",
    "    - 빅 오 표기법으로는 k + 1이 결국 최종 시간 복잡도임(1이 되었을 때도, 비교연산을 한 번 수행)\n",
    "        - 결국 $O(log_2n + 1)$이고, 2와 1, 상수는 삭제되므로, $O(logn)$"
   ]
  },
  {
   "cell_type": "markdown",
   "id": "5a67e3a9",
   "metadata": {},
   "source": [
    "## 이진 트리 탐색(Binary Tree Search)"
   ]
  },
  {
   "cell_type": "markdown",
   "id": "332d6f9a",
   "metadata": {},
   "source": [
    "### 트리 구조\n",
    "- 트리: Node와 Branch를 이용해서 사이클을 이루지 않도록 구성한 데이터 구조\n",
    "- 실제로 어디에 많이 사용되나?\n",
    "    - 트리 중 이진 트리(Binary Tree)형태의 구조로, 탐색(검색) 아고리즘 구현을 위해 많이 사용됨"
   ]
  },
  {
   "cell_type": "markdown",
   "id": "4647e5af",
   "metadata": {},
   "source": [
    "### 알아둘 용어\n",
    "- Node: 트리에서 데이터를 저장하는 기본 요소(데이터와 다른 연결된 노드에 대한 Branch 정보 포함)\n",
    "- Root Node: 트리 맨 위에 있는 노드\n",
    "- Level: 최상위 노드를 Level 0으로 하였을 때, 하위 Branch로 연결된 노드의 깊이를 나타냄\n",
    "- Parent Node: 어떤 노드의 다음 레벨에 연결된 노드\n",
    "- Child Node: 어떤 노드의 상위 레벨에 연결된 노드\n",
    "- Leaf Node(Terminal Node): Chile Node가 하나도 없는 노드\n",
    "- Sibling(Brother Node): 동일한 Parent Node를 가진 노드\n",
    "- Depth: 트리에서 Node가 가질 수 있는 최대 Level\n",
    "![그림](https://img1.daumcdn.net/thumb/R1280x0/?scode=mtistory2&fname=https%3A%2F%2Fblog.kakaocdn.net%2Fdn%2FdFGjNw%2Fbtrat1CPn7S%2F1RZDWszc1RfF9FE09V4a7K%2Fimg.png)"
   ]
  },
  {
   "cell_type": "markdown",
   "id": "02c9b5db",
   "metadata": {},
   "source": [
    "### 이진 트리와 이진 탐색 트리(Binary Search Tree)\n",
    "- 이진 트리: 노드의 최대 Branch가 2인 트리\n",
    "- 이진 탐색 트리(BST): 이진 트리에 다음과 같은 추가적인 조건이 있는 트리\n",
    "    - 왼쪽 노드는 해당 노드보다 작은 값, 오른쪽 노드는 해당 노드보다 큰 값을 가지고 있음\n",
    "    ![그림](https://blog.penjee.com/wp-content/uploads/2015/11/binary-search-tree-insertion-animation.gif)"
   ]
  },
  {
   "cell_type": "markdown",
   "id": "3b3102a5",
   "metadata": {},
   "source": [
    "### 자료구조 이진 탐색 트리의 장점과 주요 용도\n",
    "- 장점: 탐색 속도를 개선할 수 있음\n",
    "- 주요 용도: 데이터 검색(탐색)  \n",
    "- 이진트리 vs 배열(sorted)\n",
    "![그림](https://blog.penjee.com/wp-content/uploads/2015/11/binary-search-tree-sorted-array-animation.gif)"
   ]
  },
  {
   "cell_type": "markdown",
   "id": "24c918fb",
   "metadata": {},
   "source": [
    "### 파이썬 트리 구현"
   ]
  },
  {
   "cell_type": "code",
   "execution_count": 107,
   "id": "77d38a37",
   "metadata": {},
   "outputs": [],
   "source": [
    "# 노드 클래스\n",
    "class Node:\n",
    "    def __init__(self, value):\n",
    "        self.value = value\n",
    "        self.left, self.right = None, None\n"
   ]
  },
  {
   "cell_type": "code",
   "execution_count": 108,
   "id": "74af94d8",
   "metadata": {},
   "outputs": [],
   "source": [
    "# 이진 탐색 트리에 데이터 넣기\n",
    "class NodeMgmt:\n",
    "    def __init__(self, head):\n",
    "        self.head = head # head 노드를 인수로 받아 저장\n",
    "    \n",
    "    def insert(self, value):\n",
    "        self.current_node = self.head # Root 부터 시작\n",
    "        while True:\n",
    "            # 입력된 value가 현재 value보다 클 떄(오른쪽 노드로 갈 때)\n",
    "            if value < self.current_node.value: \n",
    "                # 현재 left가 있으면, 해당 노드로 이동\n",
    "                # 없으면, left에 새로운 노드 생성(인수로 받음 value가 들어간.)\n",
    "                if self.current_node.left != None: \n",
    "                    self.current_node = self.current_node.left\n",
    "                else:\n",
    "                    self.current_node.left = Node(value)\n",
    "                    break\n",
    "            # 왼쪽을 갈 때\n",
    "            else:\n",
    "                if self.current_node.right != None:\n",
    "                    self.current_node = self.current_node.right\n",
    "                else:\n",
    "                    self.current_node.right = Node(value)\n",
    "                    break"
   ]
  },
  {
   "cell_type": "code",
   "execution_count": 109,
   "id": "97d741a4",
   "metadata": {},
   "outputs": [],
   "source": [
    "# 노드 만들고\n",
    "head = Node(1)\n",
    "binary_tree = NodeMgmt(head)"
   ]
  },
  {
   "cell_type": "code",
   "execution_count": 110,
   "id": "431bf8ad",
   "metadata": {},
   "outputs": [],
   "source": [
    "# 데이터 넣자\n",
    "binary_tree.insert(2)"
   ]
  },
  {
   "cell_type": "code",
   "execution_count": 111,
   "id": "ba0c9b64",
   "metadata": {},
   "outputs": [],
   "source": [
    "# 이진 탐색 트리 탐색하기\n",
    "# 이진 탐색 트리에 데이터 넣기\n",
    "class NodeMgmt:\n",
    "    def __init__(self, head):\n",
    "        self.head = head # head 노드를 인수로 받아 저장\n",
    "    \n",
    "    def insert(self, value):\n",
    "        self.current_node = self.head # Root 부터 시작\n",
    "        while True:\n",
    "            # 입력된 value가 현재 value보다 클 떄(오른쪽 노드로 갈 때)\n",
    "            if value < self.current_node.value: \n",
    "                # 현재 left가 있으면, 해당 노드로 이동\n",
    "                # 없으면, left에 새로운 노드 생성(인수로 받음 value가 들어간.)\n",
    "                if self.current_node.left != None: \n",
    "                    self.current_node = self.current_node.left\n",
    "                else:\n",
    "                    self.current_node.left = Node(value)\n",
    "                    break\n",
    "            # 왼쪽을 갈 때\n",
    "            else:\n",
    "                if self.current_node.right != None:\n",
    "                    self.current_node = self.current_node.right\n",
    "                else:\n",
    "                    self.current_node.right = Node(value)\n",
    "                    break\n",
    "                    \n",
    "    def search(self, value):\n",
    "        self.current_node = self.head # Root부터 시작\n",
    "        while self.current_node:\n",
    "            # 현재 value가 입력된 value면 True 리턴\n",
    "            # 현재 value가 더 크면 오른쪽 노드로 이동\n",
    "            # 현재 value가 더 작으면 왼쪽 노드로 이동\n",
    "            if self.current_node.value == value:\n",
    "                return True\n",
    "            elif value < self.current_node.value:\n",
    "                self.current_node = self.current_node.left\n",
    "            else:\n",
    "                self.current_node = self.current_node.right\n",
    "        return False # 없으면 False 리턴"
   ]
  },
  {
   "cell_type": "code",
   "execution_count": 112,
   "id": "cca89884",
   "metadata": {},
   "outputs": [],
   "source": [
    "# 노드 만들고\n",
    "head = Node(1)\n",
    "binary_tree = NodeMgmt(head)\n",
    "# 데이터 넣자\n",
    "binary_tree.insert(2)\n",
    "binary_tree.insert(1)\n",
    "binary_tree.insert(5)\n",
    "binary_tree.insert(-3)\n",
    "binary_tree.insert(9)"
   ]
  },
  {
   "cell_type": "code",
   "execution_count": 113,
   "id": "227113fa",
   "metadata": {},
   "outputs": [
    {
     "data": {
      "text/plain": [
       "True"
      ]
     },
     "execution_count": 113,
     "metadata": {},
     "output_type": "execute_result"
    }
   ],
   "source": [
    "binary_tree.search(-3)"
   ]
  },
  {
   "cell_type": "markdown",
   "id": "b8f70939",
   "metadata": {},
   "source": [
    "#### 이진 탐색 트리 삭제\n",
    "- 매우 복잡함. 경우를 나눠서 이해해보자"
   ]
  },
  {
   "cell_type": "markdown",
   "id": "9251a96a",
   "metadata": {},
   "source": [
    "1. Leaf Node 삭제\n",
    "- Leaf Node: Child Node가 없는 Node\n",
    "- 삭제할 Node의 Parent Node가 삭제할 Node를 가르키지 않도록 한다.\n",
    "![그림](https://img1.daumcdn.net/thumb/R1280x0/?scode=mtistory2&fname=https%3A%2F%2Fblog.kakaocdn.net%2Fdn%2FcC69ao%2FbtraCkHC3Ax%2FoYkoakpROzmRDutK9e9MTK%2Fimg.png)"
   ]
  },
  {
   "cell_type": "markdown",
   "id": "f5af0263",
   "metadata": {},
   "source": [
    "2. Chile Node가 하나인 Node 삭제\n",
    "- 삭제할 Node의 Parent Node가 삭제할 Node의 Child Node를 가리키도록 한다.\n",
    "![그림](https://img1.daumcdn.net/thumb/R1280x0/?scode=mtistory2&fname=https%3A%2F%2Fblog.kakaocdn.net%2Fdn%2F2Mg7N%2Fbtrax8g5FvJ%2FdHUltRUr28qJoZALoVkvbk%2Fimg.png)"
   ]
  },
  {
   "cell_type": "markdown",
   "id": "dc1b3b1e",
   "metadata": {},
   "source": [
    "3. Chile Node가 두 개인 Node 삭제\n",
    "    1. 삭제할 Node의 오른쪽 자식 중, 가장 작은 값을 삭제할 Node의 Parent Node가 가리키도록 한다.\n",
    "    2. 삭제할 Node의 왼쪽 자식 중, 가장 큰 값을 삭제할 Node의 Parent Node가 가리키도록 한다.\n",
    "    ![그림](https://img1.daumcdn.net/thumb/R1280x0/?scode=mtistory2&fname=https%3A%2F%2Fblog.kakaocdn.net%2Fdn%2Fef7U05%2Fbtq9kRgo73D%2FkofVkv1BketHB79L73I7BK%2Fimg.png)"
   ]
  },
  {
   "cell_type": "markdown",
   "id": "899cc466",
   "metadata": {},
   "source": [
    "#### 파이썬 트리 삭제 구현"
   ]
  },
  {
   "cell_type": "code",
   "execution_count": 183,
   "id": "38cbce4c",
   "metadata": {},
   "outputs": [],
   "source": [
    "# NodeMgmt\n",
    "# 참고만\n",
    "class NodeMgmt:\n",
    "    def __init__(self, head):\n",
    "        self.head = head # head 노드를 인수로 받아 저장\n",
    "    \n",
    "    def insert(self, value):\n",
    "        self.current_node = self.head # Root 부터 시작\n",
    "        while True:\n",
    "            # 입력된 value가 현재 value보다 클 떄(오른쪽 노드로 갈 때)\n",
    "            if value < self.current_node.value: \n",
    "                # 현재 left가 있으면, 해당 노드로 이동\n",
    "                # 없으면, left에 새로운 노드 생성(인수로 받음 value가 들어간.)\n",
    "                if self.current_node.left != None: \n",
    "                    self.current_node = self.current_node.left\n",
    "                else:\n",
    "                    self.current_node.left = Node(value)\n",
    "                    break\n",
    "            # 왼쪽을 갈 때\n",
    "            else:\n",
    "                if self.current_node.right != None:\n",
    "                    self.current_node = self.current_node.right\n",
    "                else:\n",
    "                    self.current_node.right = Node(value)\n",
    "                    break\n",
    "                    \n",
    "    def search(self, value):\n",
    "        self.current_node = self.head # Root부터 시작\n",
    "        while self.current_node:\n",
    "            # 현재 value가 입력된 value면 True 리턴\n",
    "            # 현재 value가 더 크면 오른쪽 노드로 이동\n",
    "            # 현재 value가 더 작으면 왼쪽 노드로 이동\n",
    "            if self.current_node.value == value:\n",
    "                return True\n",
    "            elif value < self.current_node.value:\n",
    "                self.current_node = self.current_node.left\n",
    "            else:\n",
    "                self.current_node = self.current_node.right\n",
    "        return False # 없으면 False 리턴\n",
    "    \n",
    "    \n",
    "    def delete(self, value):\n",
    "        # 0. 삭제할 Node가 없는 경우 False를 리턴 후 함수 종료\n",
    "        searched = False\n",
    "        self.current_node, self.parent = self.head, self.head\n",
    "\n",
    "        while self.current_node:\n",
    "            if self.current_node.value == value:\n",
    "                searched = True\n",
    "                break\n",
    "            elif value < self.current_node.value:\n",
    "                self.parent = self.current_node\n",
    "                self.current_node = self.current_node.left # 왼쪽 노드로 이동\n",
    "            else:\n",
    "                self.parent = self.current_node\n",
    "                self.current_node = self.current_node.right # 오른쪽 노드로 이동\n",
    "        \n",
    "        if searched == False:\n",
    "            return False\n",
    "        \n",
    "        # case1. 삭제할 Node가 Leaf Node인 경우\n",
    "        if self.current_node.left == None & self.current_node.right == None:\n",
    "            # 현재 value가 parent 노드의 value보다 작으면 parent 노드의 left 를 삭제\n",
    "            if value < self.parent.value:\n",
    "                self.parent.left = None\n",
    "            else:\n",
    "                self.parent.right = None\n",
    "                \n",
    "        # case2. 삭제할 Node가 Child Node를 한 개 가지고 있을 경우\n",
    "        # left\n",
    "        elif self.current_node.left != None & self.current_node.right == None:\n",
    "            if value < self.parent.value:\n",
    "                self.parent.left = self.cuurent_node.left\n",
    "            else: \n",
    "                self.parent.right = self.cuurent_node.left\n",
    "        # right\n",
    "        elif self.current_node.left == None & self.current_node.right != None:\n",
    "            if value < self.parent.value:\n",
    "                self.parent.left = self.cuurent_node.right\n",
    "            else: \n",
    "                self.parent.right = self.cuurent_node.right\n",
    "                \n",
    "        # case3. 삭제할 Node가 Child Node를 두 개 가지고 있을 경우\n",
    "        elif self.current_node.left != None & self.current_node.right != None:\n",
    "        \n",
    "        # case3.1: 삭제할 Node의 오른쪽 자식 중 가장 작은 값을 삭제할 Node의 Parent Node가 가리키도록 한다\n",
    "            if value < self.parent.value: \n",
    "                self.change_node = self.current_node.right \n",
    "                self.change_node_parent = self.current_node.right \n",
    "                while self.change_node.left != None:\n",
    "                    self.change_node_parent = self.change_node \n",
    "                    self.change_node = self.change_node.left \n",
    "                if self.change_node.right != None:\n",
    "                    self.change_node_parent.left = self.change_node.right \n",
    "                else:\n",
    "                    self.change_node_parent.left = None\n",
    "                self.parent.left = self.change_node\n",
    "                self.change_node.right = self.current_node.right\n",
    "                self.change_node.left = self.change_node.left\n",
    "        \n",
    "        # case3.2: 삭제할 Node의 왼쪽 자식 중, 가장 큰 값을 삭제할 Node의 Parent Node가 가리키도록 한다.\n",
    "            else: \n",
    "                self.change_node = self.current_node.right \n",
    "                self.change_node_parent = self.current_node.right \n",
    "                while self.change_node.left != None:\n",
    "                    self.change_node_parent = self.change_node \n",
    "                    self.change_node = self.change_node.left \n",
    "                if self.change_node.right != None:\n",
    "                    self.change_node_parent.left = self.change_node.right\n",
    "                else:\n",
    "                    self.change_node_parent.left = None\n",
    "                    self.parent.right = self.change_node \n",
    "                    self.change_node.right = self.current_node.right \n",
    "                    self.change_node.left = self.current_node.left \n",
    "                    \n",
    "        return True            "
   ]
  },
  {
   "cell_type": "markdown",
   "id": "9fa8b2f5",
   "metadata": {},
   "source": [
    "### 이진 탐색 트리의 시간복잡도와 단점"
   ]
  },
  {
   "cell_type": "markdown",
   "id": "1bb93768",
   "metadata": {},
   "source": [
    "1. 시간복잡도(탐색시)\n",
    "- depth를 h라고 표기한다면, O(h)\n",
    "- n개의 노드를 가진다면 h = log<sub>2</sub>n에 개까우므로, 시간 복잡도는 O(logn)\n",
    "    - 참고: 빅오 표기법에서 logn에서의 log 밑은 10이 아니라 2임 -> 한번 실행시 50%의 실행할 수도 있는 명령을 제거한다는 의미(50%의 실행시간을 단축)"
   ]
  },
  {
   "cell_type": "markdown",
   "id": "cb309e2f",
   "metadata": {},
   "source": [
    "2. 단점\n",
    "- 평균 시간 복잡도는 O(logn) 이지만 ,\n",
    "- 이는 트리가 균형잡혀 있을 때의 평균 시간 복잡도이며, \n",
    "- 다음 사진과 같이 구성되어 있을 경우, 최악의 경우 링크드 리스트 등과 동일한 성능을 보여줌(O(n))  \n",
    "![그림](https://img1.daumcdn.net/thumb/R1280x0/?scode=mtistory2&fname=https%3A%2F%2Fblog.kakaocdn.net%2Fdn%2FHLi3D%2FbtraEfeW7PE%2FQmpZJ0WvDxluonwKwqvbR0%2Fimg.png)"
   ]
  },
  {
   "cell_type": "code",
   "execution_count": null,
   "id": "c400af77",
   "metadata": {},
   "outputs": [],
   "source": []
  },
  {
   "cell_type": "markdown",
   "id": "647d794b",
   "metadata": {},
   "source": [
    "-----------\n",
    "-----------"
   ]
  },
  {
   "cell_type": "markdown",
   "id": "567765ea",
   "metadata": {},
   "source": [
    ">'잔재미코딩' 파이썬 자료를 공부한 내용입니다."
   ]
  },
  {
   "cell_type": "markdown",
   "id": "e0635fd2",
   "metadata": {},
   "source": [
    "# 파이썬 고급 알고리즘"
   ]
  },
  {
   "cell_type": "markdown",
   "id": "be5e87d4",
   "metadata": {},
   "source": [
    "## 그래프 이해"
   ]
  },
  {
   "cell_type": "markdown",
   "id": "7e04de08",
   "metadata": {},
   "source": [
    "### 그래프(Graph)란?\n",
    "- 그래프는 실제 세계의 현상이나 사물을 정점(Vertex) 또는 노드(Node)와 간선(Edge)로 표현하기 위해 사용\n",
    "- 예)  \n",
    "<img src=\"https://www.fun-coding.org/00_Images/graph.png\" width=\"300\" height=\"200\"/>"
   ]
  },
  {
   "cell_type": "markdown",
   "id": "9403f988",
   "metadata": {},
   "source": [
    "### 그래프 관련 용어\n",
    "- 노드(Node) : 위치를 말함. 정점(Vertex)라고도 함\n",
    "- 간선(Edge) : 위치 간 관계를 표시한 선으로 노드를 역녈한 선으로 보면 됨(link 또는 branch 라고도 함)\n",
    "- 인접 정점(Adjacent Vertex) : 간선으로 직접 연결된 정점(또는 노드)\n",
    "- 참고 용어\n",
    "    - 정점의 차수(Degree) : 무방향 그래프에서 하나의 정점에 인접한 정점의 수\n",
    "    - 진입 차수(In-Degree) : 방향 그래프에서 외부에서 오는 간선의 수\n",
    "    - 진출 차수(Out-Degree) : 방향 그래프에서 외부로 향하는 간선의 수\n",
    "    - 경로 길이(Path Length) : 경로를 구성하기 위해 사용된 간선의 수\n",
    "    - 단순 경로(Simple Path) : 처음 정점과 끝 정점을 제외하고 중복된 정점이 없는 경로\n",
    "        - A - B - C\n",
    "    - 사이클(Cycle) : 단순 경로의 시작 정점과 종료 정점이 동일한 경우"
   ]
  },
  {
   "cell_type": "markdown",
   "id": "5dee6a6a",
   "metadata": {},
   "source": [
    "### 그래프 종류"
   ]
  },
  {
   "cell_type": "markdown",
   "id": "63e78d48",
   "metadata": {},
   "source": [
    "- 무방향 그래프(Undirected G)\n",
    "    - 방향이 없는 그래프\n",
    "    - 간선을 통해, 노드는 양방향으로 갈 수 있음\n",
    "    - 보통 노드 A, B가 연결되어 있을 경우, (A, B) 또는 (B, A)로 표기\n",
    "    <img src=\"https://www.fun-coding.org/00_Images/undirectedgraph.png\" width=\"300\" height=\"200\"/>"
   ]
  },
  {
   "cell_type": "markdown",
   "id": "0c9009e1",
   "metadata": {},
   "source": [
    "- 방향 그래프(Directed G)\n",
    "    - 간선에 방향이 있는 그래프\n",
    "    - 보통 노드 A, B가 A->B로 가는 간선으로 연결되어 있을 경우, <A, B> 로 표기(<B, A>와는 다름)\n",
    "    <img src=\"https://www.fun-coding.org/00_Images/directedgraph.png\" width=\"300\" height=\"200\"/>"
   ]
  },
  {
   "cell_type": "markdown",
   "id": "34d0d369",
   "metadata": {},
   "source": [
    "- 가중치 그래프(Weighted G)\n",
    "    - 간선에 비용 또는 가중치가 할당된 그래프\n",
    "<img src=\"https://www.fun-coding.org/00_Images/weightedgraph.png\" width=\"300\" height=\"200\"/>"
   ]
  },
  {
   "cell_type": "markdown",
   "id": "56df530e",
   "metadata": {},
   "source": [
    "- 연결 그래프(Connected G)와 비연결 그래프(Disconnected G)\n",
    "    - 연결 그래프 : 무방향 그래프에 있는 모든 노드에 대해 항상 경로가 존재하는 경우\n",
    "    - 비연결 그래프 : 무방향 그래프에서 특정 노드에 대한 경로가 존재하지 않을 경우\n",
    "        - 비연결 그래프 : <img src=\"https://www.fun-coding.org/00_Images/disconnectedgraph.png\" width=\"300\" height=\"200\"/>"
   ]
  },
  {
   "cell_type": "markdown",
   "id": "e4a3b312",
   "metadata": {},
   "source": [
    "- 사이클(Cycle)과 비순환 그래프(Acyclic G)\n",
    "    - 사이클 : 단순 경로의 시작 노드와 종료 노드가 동일한 경우\n",
    "    - 비순환 사이클 : 사이클이 없는 그래프\n",
    "        - 비순환 사이클 : <img src=\"https://www.fun-coding.org/00_Images/acyclicgraph.png\" width=\"300\" height=\"200\"/>"
   ]
  },
  {
   "cell_type": "markdown",
   "id": "b076ce7e",
   "metadata": {},
   "source": [
    "- 완전 그래프(Complete G)\n",
    "    - 그래프의 모든 노드가 서로 연결되어 있는 그래프\n",
    "        - 완전 그래프 : <img src=\"https://www.fun-coding.org/00_Images/completegraph.png\" width=\"200\" height=\"100\"/>"
   ]
  },
  {
   "cell_type": "markdown",
   "id": "3d0594f6",
   "metadata": {},
   "source": [
    "### 그래프와 트리의 차이\n",
    "- 트리는 그래프 중에 속한 특별한 종류라고 볼 수 있음  \n",
    "|-|그래프|트리|\n",
    "|:--:|:--|:--|\n",
    "|정의|노드와 노드를 연결하는 간선으로 표현되는 자료구조|그래프의 한 종류, 방향성이 있는 비순환 그래프|\n",
    "|방향성|방향 그래프, 무방향 그래프 둘 다 존재|방향 그래프만 존재|\n",
    "|사이클|사이클 가능, 순환 및 비순환 그래프 모두 존재|비순환 그래프로 사이클이 존재하지 않음|\n",
    "|루트 노드|루트 노드는 존재하지 않음|루트 노드 존재함|\n",
    "|부모/자식 관계|부모 자식 개념이 존재하지 않음|부모 자식 관계가 존재함|"
   ]
  },
  {
   "cell_type": "markdown",
   "id": "39e9b61c",
   "metadata": {},
   "source": [
    "## 깊이 우선 탐색(DFS)"
   ]
  },
  {
   "cell_type": "markdown",
   "id": "f1e43feb",
   "metadata": {},
   "source": [
    "### BFS 와 DFS 란?\n",
    "- 대표적인 그래프 **탐색** 알고리즘\n",
    "    - 너비 우선 탐색(Breadth First Search) : 정점들과 같은 레벨에 있는 노드들(형제 노드들)을 먼저 탐색하는 방식\n",
    "    - 깊이 우선 탐색(Depth First Search) : 정점들의 자식들을 먼저 탐색하는 방식\n",
    "- 예시\n",
    "    - BFS : A - B - C - D - G - H - I - E - F- J\n",
    "        - 한 단계씩 내려가면서, 해당 노드와 같은 레벨에 있는 노드들을 먼저 순회\n",
    "    - DFS : A - B - D - E - F - C - G - H - I - J\n",
    "        - 한 노드의 자식을 타고 끝까지 순회한 후, 다시 돌아와서 다른 형제들의 자식을 타고 내려가며 순회\n",
    "        <img src=\"https://www.fun-coding.org/00_Images/BFSDFS.png\" width=\"400\" height=\"300\"/>"
   ]
  },
  {
   "cell_type": "markdown",
   "id": "19469d6e",
   "metadata": {},
   "source": [
    "### 파이썬으로 그래프를 표현하는 방법\n",
    "- 파이썬에서 제공하는 딕셔너리와 리스트 자료 구조를 활용하여 그래프를 표현할 수 있음  \n",
    "<img src = 'https://www.fun-coding.org/00_Images/dfsgraph.png' width = \"400\" height = \"300\"/>"
   ]
  },
  {
   "cell_type": "code",
   "execution_count": 27,
   "id": "6fae2859",
   "metadata": {},
   "outputs": [],
   "source": [
    "graph = {}\n",
    "\n",
    "graph['A'] = ['B', 'C']\n",
    "graph['B'] = ['A', 'D']\n",
    "graph['C'] = ['A', 'G', 'H', 'I']\n",
    "graph['D'] = ['B', 'E', 'F']\n",
    "graph['E'] = ['D']\n",
    "graph['F'] = ['D']\n",
    "graph['G'] = ['C']\n",
    "graph['H'] = ['C']\n",
    "graph['I'] = ['C', 'J']\n",
    "graph['J'] = ['I']"
   ]
  },
  {
   "cell_type": "code",
   "execution_count": 28,
   "id": "ed5392ed",
   "metadata": {},
   "outputs": [
    {
     "data": {
      "text/plain": [
       "{'A': ['B', 'C'],\n",
       " 'B': ['A', 'D'],\n",
       " 'C': ['A', 'G', 'H', 'I'],\n",
       " 'D': ['B', 'E', 'F'],\n",
       " 'E': ['D'],\n",
       " 'F': ['D'],\n",
       " 'G': ['C'],\n",
       " 'H': ['C'],\n",
       " 'I': ['C', 'J'],\n",
       " 'J': ['I']}"
      ]
     },
     "execution_count": 28,
     "metadata": {},
     "output_type": "execute_result"
    }
   ],
   "source": [
    "graph"
   ]
  },
  {
   "cell_type": "markdown",
   "id": "658b0d12",
   "metadata": {},
   "source": [
    "### DFS 알고리즘 구현\n",
    "- 자료구조 스텍과 큐를 활용\n",
    "    - need_visit 스택과 visited 큐, 두 개의 자료 구조를 생성\n",
    "    > **BFS자료구조는 두 개의 큐를 활용하는데 반해, DFS는 스택과 큐를 활용한다는 차이가 있음 !!**"
   ]
  },
  {
   "cell_type": "code",
   "execution_count": 29,
   "id": "1d8b1876",
   "metadata": {},
   "outputs": [],
   "source": [
    "def dfs(graph, start_node):\n",
    "    visited, need_visit = list(), list()\n",
    "    need_visit.append(start_node) \n",
    "    \n",
    "    while need_visit:\n",
    "        node = need_visit.pop() # 스택 \n",
    "        if node not in visited: \n",
    "            visited.append(node)  \n",
    "            need_visit.extend(graph[node])  # 스택\n",
    "                                            # extend는 iterable 객체만 올 수 있음. 각 요소를 분리하여 끝에 삽입.\n",
    "                                            # append였다면, 각 요소를 분리하지 않고 iterable 객체를 그대로 넣었음(2차원 형태)\n",
    "    return visited"
   ]
  },
  {
   "cell_type": "code",
   "execution_count": 30,
   "id": "dbc5e931",
   "metadata": {},
   "outputs": [
    {
     "data": {
      "text/plain": [
       "['A', 'C', 'I', 'J', 'H', 'G', 'B', 'D', 'F', 'E']"
      ]
     },
     "execution_count": 30,
     "metadata": {},
     "output_type": "execute_result"
    }
   ],
   "source": [
    "dfs(graph, 'A')"
   ]
  },
  {
   "cell_type": "markdown",
   "id": "7f46d470",
   "metadata": {},
   "source": [
    "### 시간 복잡도\n",
    "- 일반적인 DFS 시간 복잡도\n",
    "    - 노드수 : V\n",
    "    - 간선 수 : E\n",
    "        - 위 코드에서 반복문은 V+E 만큼 수행함\n",
    "    - 시간복잡도: O(V+E)"
   ]
  },
  {
   "cell_type": "markdown",
   "id": "6bb46d4d",
   "metadata": {},
   "source": [
    "## 너비 우선 탐색(BFS)"
   ]
  },
  {
   "cell_type": "markdown",
   "id": "b52226c6",
   "metadata": {},
   "source": [
    "### BFS 와 DFS 란?\n",
    "- 대표적인 그래프 **탐색** 알고리즘\n",
    "    - 너비 우선 탐색(Breadth First Search) : 정점들과 같은 레벨에 있는 노드들(형제 노드들)을 먼저 탐색하는 방식\n",
    "    - 깊이 우선 탐색(Depth First Search) : 정점들의 자식들을 먼저 탐색하는 방식\n",
    "- 예시\n",
    "    - BFS : A - B - C - D - G - H - I - E - F- J\n",
    "        - 한 단계씩 내려가면서, 해당 노드와 같은 레벨에 있는 노드들을 먼저 순회\n",
    "    - DFS : A - B - D - E - F - C - G - H - I - J\n",
    "        - 한 노드의 자식을 타고 끝까지 순회한 후, 다시 돌아와서 다른 형제들의 자식을 타고 내려가며 순회\n",
    "        <img src=\"https://www.fun-coding.org/00_Images/BFSDFS.png\" width=\"400\" height=\"300\"/>"
   ]
  },
  {
   "cell_type": "markdown",
   "id": "ee4ae2b1",
   "metadata": {},
   "source": [
    "### 파이썬으로 그래프를 표현하는 방법\n",
    "- 파이썬에서 제공하는 딕셔너리와 리스트 자료구조를 활용해서 그래프를 표현할 수 있음  \n",
    "<img src=\"https://www.fun-coding.org/00_Images/bfsgraph.png\" width = \"400\" height = \"300\"/>"
   ]
  },
  {
   "cell_type": "code",
   "execution_count": 31,
   "id": "e4d4704b",
   "metadata": {},
   "outputs": [
    {
     "data": {
      "text/plain": [
       "{'A': ['B', 'C'],\n",
       " 'B': ['A', 'D'],\n",
       " 'C': ['A', 'G', 'H', 'I'],\n",
       " 'D': ['B', 'E', 'F'],\n",
       " 'E': ['D'],\n",
       " 'F': ['D'],\n",
       " 'G': ['C'],\n",
       " 'H': ['C'],\n",
       " 'I': ['C', 'J'],\n",
       " 'J': ['I']}"
      ]
     },
     "execution_count": 31,
     "metadata": {},
     "output_type": "execute_result"
    }
   ],
   "source": [
    "graph = {}\n",
    "\n",
    "graph['A'] = ['B', 'C']\n",
    "graph['B'] = ['A', 'D']\n",
    "graph['C'] = ['A', 'G', 'H', 'I']\n",
    "graph['D'] = ['B', 'E', 'F']\n",
    "graph['E'] = ['D']\n",
    "graph['F'] = ['D']\n",
    "graph['G'] = ['C']\n",
    "graph['H'] = ['C']\n",
    "graph['I'] = ['C', 'J']\n",
    "graph['J'] = ['I']\n",
    "\n",
    "graph"
   ]
  },
  {
   "cell_type": "markdown",
   "id": "4d0dbd40",
   "metadata": {},
   "source": [
    "### BFS 알고리즘 구현\n",
    "- 자료구조 큐를 이용함\n",
    "    - need_visit 큐와 visited 큐, 두 개의 큐를 생성  \n",
    "    <img src= \"https://www.fun-coding.org/00_Images/bfsqueue.png\" width = 400 height = 300/>"
   ]
  },
  {
   "cell_type": "code",
   "execution_count": 32,
   "id": "a6ed193c",
   "metadata": {},
   "outputs": [],
   "source": [
    "def bfs(graph, start_node):\n",
    "    visited, need_visit = list(), list()\n",
    "    \n",
    "    need_visit.append(start_node)\n",
    "    \n",
    "    while need_visit:\n",
    "        node = need_visit.pop(0) # 큐.   IF 스택이면 DFS\n",
    "        if node not in visited:\n",
    "            visited.append(node)\n",
    "            need_visit.extend(graph[node])\n",
    "    \n",
    "    return visited"
   ]
  },
  {
   "cell_type": "code",
   "execution_count": 33,
   "id": "4da66186",
   "metadata": {},
   "outputs": [
    {
     "data": {
      "text/plain": [
       "['A', 'B', 'C', 'D', 'G', 'H', 'I', 'E', 'F', 'J']"
      ]
     },
     "execution_count": 33,
     "metadata": {},
     "output_type": "execute_result"
    }
   ],
   "source": [
    "bfs(graph, 'A')"
   ]
  },
  {
   "cell_type": "markdown",
   "id": "ed89b8c0",
   "metadata": {},
   "source": [
    "### 시간 복잡도\n",
    "- 일반적인 DFS 시간 복잡도\n",
    "    - 노드수 : V\n",
    "    - 간선 수 : E\n",
    "        - 위 코드에서 반복문은 V+E 만큼 수행함\n",
    "    - 시간복잡도: O(V+E)"
   ]
  },
  {
   "cell_type": "code",
   "execution_count": 35,
   "id": "80da7e20",
   "metadata": {},
   "outputs": [],
   "source": [
    "# 시간복잡도\n",
    "def bfs(graph, start_node):\n",
    "    visited, need_visit = list(), list()\n",
    "    \n",
    "    need_visit.append(start_node)\n",
    "    count = 0\n",
    "    while need_visit:\n",
    "        count += 1  # 카운트\n",
    "        node = need_visit.pop(0) \n",
    "        if node not in visited:\n",
    "            visited.append(node)\n",
    "            need_visit.extend(graph[node])\n",
    "    \n",
    "    print(count)\n",
    "    return visited"
   ]
  },
  {
   "cell_type": "code",
   "execution_count": 36,
   "id": "bcd5bc70",
   "metadata": {},
   "outputs": [
    {
     "name": "stdout",
     "output_type": "stream",
     "text": [
      "19\n"
     ]
    },
    {
     "data": {
      "text/plain": [
       "['A', 'B', 'C', 'D', 'G', 'H', 'I', 'E', 'F', 'J']"
      ]
     },
     "execution_count": 36,
     "metadata": {},
     "output_type": "execute_result"
    }
   ],
   "source": [
    "bfs(graph, 'A')"
   ]
  },
  {
   "cell_type": "markdown",
   "id": "b288fbaf",
   "metadata": {},
   "source": [
    "## 탐욕 알고리즘의 이해"
   ]
  },
  {
   "cell_type": "markdown",
   "id": "d1e4ec4a",
   "metadata": {},
   "source": [
    "### 탐욕 알고리즘이란?\n",
    "- Greedy algorithm\n",
    "- 최적의 해에 가까운 값을 구하기 ㅜ이해 사용됨\n",
    "- 여러 경우 중 하나를 결정해야 할 때마다, **매순간 최적이라고 생각되는 경우**를 선택하는 방식으로 진행"
   ]
  },
  {
   "cell_type": "markdown",
   "id": "3651fac3",
   "metadata": {},
   "source": [
    "### 탐욕 알고리즘 예"
   ]
  },
  {
   "cell_type": "markdown",
   "id": "e616659a",
   "metadata": {},
   "source": [
    "문제1 : 동전 문제\n",
    "- 지불해야 하는 값이 4720원 일 때 1원, 50원, 100원, 500원 동전으로 동전의 수가 가장 적게 지불하시오\n",
    "    - 가장 큰 동전부터 최대한 지불해야 하는 값을 채우는 방식으로 구현 가능\n",
    "    - 탐욕 알고리즘으로 매순간 최적이라고 생각되는 경우를 선택하면 됨"
   ]
  },
  {
   "cell_type": "code",
   "execution_count": 39,
   "id": "37aec9c2",
   "metadata": {},
   "outputs": [
    {
     "data": {
      "text/plain": [
       "[1, 50, 100, 500]"
      ]
     },
     "execution_count": 39,
     "metadata": {},
     "output_type": "execute_result"
    }
   ],
   "source": [
    "coin_list = [1, 50, 100, 500]\n",
    "coin_list"
   ]
  },
  {
   "cell_type": "code",
   "execution_count": 40,
   "id": "35ca1104",
   "metadata": {},
   "outputs": [
    {
     "data": {
      "text/plain": [
       "[500, 100, 50, 1]"
      ]
     },
     "execution_count": 40,
     "metadata": {},
     "output_type": "execute_result"
    }
   ],
   "source": [
    "coin_list.sort(reverse = True)\n",
    "coin_list"
   ]
  },
  {
   "cell_type": "code",
   "execution_count": 47,
   "id": "f78d4fec",
   "metadata": {},
   "outputs": [],
   "source": [
    "def min_coin_count(value, coun_list):\n",
    "    total_coin_count = 0\n",
    "    details = list()\n",
    "    coin_list.sort(reverse = True)\n",
    "    for coin in coin_list:\n",
    "        coin_num = value // coin\n",
    "        total_coin_count += coin_num\n",
    "        value -= coin_num * coin\n",
    "        details.append([coin, coin_num])\n",
    "    return total_coin_count, details"
   ]
  },
  {
   "cell_type": "code",
   "execution_count": 48,
   "id": "054464af",
   "metadata": {},
   "outputs": [
    {
     "data": {
      "text/plain": [
       "(31, [[500, 9], [100, 2], [50, 0], [1, 20]])"
      ]
     },
     "execution_count": 48,
     "metadata": {},
     "output_type": "execute_result"
    }
   ],
   "source": [
    "coin_list = [1, 50, 100, 500]\n",
    "min_coin_count(4720, coin_list)"
   ]
  },
  {
   "cell_type": "markdown",
   "id": "2688ae39",
   "metadata": {},
   "source": [
    "문제2 : 부분 배낭 문제\n",
    "- 무게 제한이 k인 배낭에 최대 가치를 가지도록 물건을 넣는 문제\n",
    "    - 각 물건은 무게(w)와 가치(v)로 표현될 수 있음\n",
    "    - 물건은 쪼갤 수 있으므로 물건의 일부분이 배낭에 넣어질 수 있음(Fractional Knapsack Problem)\n",
    "        - Fractional Knapsack Problem의 반대로 물건을 쪼개서 넣을 수 없는 배낭 문제도 존재함(0/1 Knapsack Problem으로 부름)\n",
    "    <img src = \"https://www.fun-coding.org/00_Images/knapsack.png\" width = '400' height = '300'/>\n",
    "        "
   ]
  },
  {
   "cell_type": "code",
   "execution_count": 152,
   "id": "d9117968",
   "metadata": {},
   "outputs": [],
   "source": [
    "data_list = [[10, 10], [15, 12], [20, 10], [25, 8], [30, 5]]"
   ]
  },
  {
   "cell_type": "markdown",
   "id": "f867623f",
   "metadata": {},
   "source": [
    "스스로 풀어보기"
   ]
  },
  {
   "cell_type": "code",
   "execution_count": 153,
   "id": "842136ac",
   "metadata": {},
   "outputs": [],
   "source": [
    "def knapsack(k, data_list):\n",
    "    \n",
    "    total = {'물건1':'0개','물건2':'0개','물건3':'0개','물건4':'0개','물건5':'0개'}\n",
    "    \n",
    "    for i in range(len(data_list)):\n",
    "        if k == 0:\n",
    "            return total\n",
    "        elif k < data_list[i][0]:\n",
    "            trash = k / data_list[i][0]\n",
    "            total['물건' + str(i + 1)] = str(trash) + '개'\n",
    "            k = 0\n",
    "        else:\n",
    "            total['물건' + str(i + 1)] = '1개'\n",
    "            k -= data_list[i][0]"
   ]
  },
  {
   "cell_type": "code",
   "execution_count": 154,
   "id": "d3626c91",
   "metadata": {},
   "outputs": [
    {
     "name": "stdout",
     "output_type": "stream",
     "text": [
      "{'물건1': '1개', '물건2': '1개', '물건3': '0.25개', '물건4': '0개', '물건5': '0개'}\n"
     ]
    }
   ],
   "source": [
    "print(knapsack(30, data_list))"
   ]
  },
  {
   "cell_type": "markdown",
   "id": "51cffe5b",
   "metadata": {},
   "source": [
    "잔재미 코딩's 답"
   ]
  },
  {
   "cell_type": "code",
   "execution_count": 161,
   "id": "880a3c4f",
   "metadata": {},
   "outputs": [],
   "source": [
    "def get_max_value(data_list, capacity):\n",
    "    data_list = sorted(data_list, key = lambda x : x[1] / x[0], reverse = True)  # 개당 가치가 높은 순으로 정렬\n",
    "    total_value = 0\n",
    "    details = list()\n",
    "    \n",
    "    for data in data_list:\n",
    "        if capacity - data[0] >= 0:  # capacity = data[0]은 k\n",
    "            capacity -= data[0]\n",
    "            total_value += data[1]\n",
    "            details.append([data[0], data[1], 1])\n",
    "        else:\n",
    "            fraction = capacity / data[0]\n",
    "            total_value += data[1] * fraction\n",
    "            details.append([data[0], data[1], fraction])\n",
    "            break\n",
    "    return total_value, details"
   ]
  },
  {
   "cell_type": "code",
   "execution_count": 162,
   "id": "ca8540dd",
   "metadata": {},
   "outputs": [
    {
     "data": {
      "text/plain": [
       "(24.5, [[10, 10, 1], [15, 12, 1], [20, 10, 0.25]])"
      ]
     },
     "execution_count": 162,
     "metadata": {},
     "output_type": "execute_result"
    }
   ],
   "source": [
    "get_max_value(data_list, 30)"
   ]
  },
  {
   "cell_type": "markdown",
   "id": "b801c419",
   "metadata": {},
   "source": [
    "### 탐욕 알고리즘의 한계\n",
    "- 그리디 알고리즘은 동적프로그래밍(다이나믹, DP)에서 지나치게 많은 연산과정을 거치는 것을 보완하기 위해 나온 개념이지만 반드시 최적에 해를 구할 수 있는 것은 아님\n",
    "    - 탐욕 알고리즘은 근사치 추정에 활용\n",
    "- 최적의 해에 가까운 값을 구하는 방법 중 하나임"
   ]
  },
  {
   "cell_type": "markdown",
   "id": "efda8e6b",
   "metadata": {},
   "source": [
    "- <img src = \"https://www.fun-coding.org/00_Images/greedy.png\" width = \"300\" height = \"200\"/>  \n",
    "- '시작' 노드에서 시작하여 가장 작은 값을 찾아 leaf node까지 가는 경로를 찾을 시에\n",
    "    - Greedy 알고리즘 적용시 시작 -> 7 -> 12를 선택하게 되므로 7 + 12 = 19가 됨\n",
    "    - 하지만 실제 가장 작은 값은 시작 -> 10 -> 5이며. 10+5 = 15가 답"
   ]
  },
  {
   "cell_type": "markdown",
   "id": "6077a84d",
   "metadata": {},
   "source": [
    "## 최단 경로 알고리즘의 이해"
   ]
  },
  {
   "cell_type": "markdown",
   "id": "849c0bfd",
   "metadata": {},
   "source": [
    "### 최단 경로 문제란?\n",
    "- 최단 경로 문제란 두 노드를 잇는 가장 짧은 경로를 찾는 무제임\n",
    "- 가중치 그래프(Weighted Graph)에서 간선(Edge)의 가중치 합이 최소가 되도록 하는 경로를 찾는 것이 목적\n"
   ]
  },
  {
   "cell_type": "markdown",
   "id": "8e4ddf3d",
   "metadata": {},
   "source": [
    "- 최단경로 문제 종류\n",
    "1. 단일 출발 및 단일 도착 최단 문제\n",
    "    - 그래프 내의 특정 노드 u에서 출발, 또 다른 특정 노드 v에 도착하는 가장 짧은 경로를 찾는 문제\n",
    "2. 단일 출발 최단 경로 문제\n",
    "    - 그래프 내의 특정 노드 u와 그래프 내 다른 모든 노드 각각의 가장 짧은 경로를 찾는 문제(u외 모든 각 노드와 u간 모든 경로를 구하여 가장 짧은 경로를 찾는 문제)\n",
    "3. 전체 쌍(all-pair) 최단경로: 그래프 내의 모든 노드 쌍(u, v)에 대한 최단 경로를 찾는 문제\n",
    "\n",
    "    "
   ]
  },
  {
   "cell_type": "markdown",
   "id": "2011d606",
   "metadata": {},
   "source": [
    "### 최단 경로 알고리즘 - 다익스트라 알고리즘\n",
    "- 다익스트라 알고리즘은 위의 최단 경로 문제 종류 중, 2번에 해당\n",
    "    - 하나의 정점에서 다른 모든 덩점 간 각각 가장 짧은 거리를 구하는 문제"
   ]
  },
  {
   "cell_type": "markdown",
   "id": "6f4a4ea4",
   "metadata": {},
   "source": [
    "다익스트라 알고리즘 로직\n",
    "- 첫 정점을 기준으로 연결되어 있는 정점들을 추가해가며, 최단 거리를 갱신하는 기법\n",
    "- 다익스트라 알고리즘은 너비우선탐색(BFS)와 유사\n",
    "    - 첫 정점부터 각 노드간의 거리를 저장하는 배열을 만든 후, 첫 정점의 인접 노드 간의 거리부터 먼저 계산하면서, 첫 정점부터 해당 노드 간의 가장짧은 거리를 해당 배열에 업데이트\n",
    "    > 다익스트라 알고리즘의 다양한 변형 로직이 있지만, 가장 개선된 우선순위 큐를 사용하는 방식에 집중해서 설명하기로 함\n",
    "- 우선순위 큐를 활용한 다익스트라 알고리즘\n",
    "    - 우선순위 큐는 MinHeap 방식을 활용해서 현재 가장 짧은 거리를 가진 노드 정보를 먼저 꺼내게 됨  \n",
    "    1. 첫 정점을 기준으로 배열을 선언하여 첫 정점에서 각 정점까지의 거리를 저장\n",
    "    - 초기에는 첫 정점의 거리는 0, 나머지는 무한대로 저장함(inf)\n",
    "    - 우선순위 큐에 (첫 정점, 거리 0)만 먼저 넣음  \n",
    "    2. 우선순위 큐에서 노드를 꺼냄\n",
    "    - 처음에는 첫 정점만 저장되어 있으므로, 첫 정점이 꺼내짐\n",
    "    - 첫 정점에서 인접한 노드들 각각에 대해, 첫 정점에서 각 노드로 가는 거리와 현재 배열에 저장되어 있는 첫 정점에서 각 정점까지의 거리를 비교\n",
    "    - 배열에 저장되어 있는 거리보다, 첫 정점에서 해당 노드로 가는 거리가 더 짧을 경우, 배열에 해당 노드의 거리를 업데이트\n",
    "    - 배열에 해당 노드의 거리가 업데이트된 경우, 우선순위 큐에 넣는다.\n",
    "        - 결과적으로 너비 우선 탐색 방식과 유사하게, 첫 정점에 인접한 노드들을 순차적으로 방문하게 됨\n",
    "        - 만약 배열에 기록된 현재까지 발견된 가장 짧은 거리보다, 더 긴 거리(루트)를 가진 경우에는 해당 노드와 인접한 노드간의 거리 계산을 하지 않음  \n",
    "    3. 2번의 과정을 우선순위 큐에 꺼낼 노드가 없을 때까지 반복"
   ]
  },
  {
   "cell_type": "markdown",
   "id": "4b46ca4d",
   "metadata": {},
   "source": [
    "### 예제로 이해하는 다익스트라 알고리즘(우선순위 큐 활용)\n",
    "<img src = 'https://www.fun-coding.org/00_Images/dijkstra.png' width = '300' height = '200'/>"
   ]
  },
  {
   "cell_type": "markdown",
   "id": "3fcf95ef",
   "metadata": {},
   "source": [
    "1단계 : 초기화\n",
    "- 첫 정점을 기준으로 배열을 선언하여 첫 정점에서 각 정점까지의 거리를 저장\n",
    "    - 초기에는 첫 정점의 거리는 0, 나무지는 무한대로 저장함(inf)\n",
    "    - 우선순위 큐에 (첫 정점, 거리0)만 먼저 넣음\n",
    "<img src='https://www.fun-coding.org/00_Images/dijkstra_initial.png' width = '800' height = '400'/>"
   ]
  },
  {
   "cell_type": "markdown",
   "id": "fe506c68",
   "metadata": {},
   "source": [
    "2단계 : 우선순위 큐에서 추출한(A, 0)[노드, 첫 노드와의 거리]를 기반으로 인접한 노드와의 거리 계산\n",
    "- 우선순위 큐에서 노드를 꺼냄\n",
    "    - 처음에는 첫 정점만 저장되어 있으므로, 첫 정점이 꺼내짐\n",
    "    - 첫 정점에서 인접한 노드들 각각에 대해, 첫 정점에서 각 노드로 가는 거리와 현재 배열에 저장되어 있는 첫 정점에서 각 정점까지의 거리를 비교\n",
    "    - 배열에 저장되어 있는 거리보다, 첫 정점에서 해당 노드로 가는 거리가 더 짧을 경우, 배열에 해당 노드의 거리를 업데이트\n",
    "    - 배열에 해당 노드의 거리가 업데이트된 경우, 우선순위 큐에 넣는다.\n",
    "        - 결과적으로 너비 우선 탐색 방식과 유사하게, 첫 정점에 인접한 노드들을 순차적으로 방문하게 됨\n",
    "        - 만약 배열에 기록된 현재까지 발견된 가장 짧은 거리보다, 더 긴 거리(루트)를 가진 경우에는 해당 노드와 인접한 노드간의 거리 계산을 하지 않음    \n",
    "> 첫 정점 이외에 모두 inf이므로, 첫 정점에 인접한 노드들은 모두 우선순위 큐에 들어가고, 첫 정점과 인접한 노드간 거리가 배열에 업데이트 됨  \n",
    "<img src='https://www.fun-coding.org/00_Images/dijkstra_1st.png' width = '600' height = '300'/>"
   ]
  },
  {
   "cell_type": "markdown",
   "id": "d23e9c0d",
   "metadata": {},
   "source": [
    "3단계 : 우선순위 큐에서 (C,1)[노드, 첫 노드와의 거리]를 기반으로 인접한 노드와의 거리 계산\n",
    "- 우선순위 큐가 MinHeap(최소 힙) 방식이므로, 위 표에서 넣어진 (C,1), (D,2), (B,8)중 (C,1)이 먼저 추출됨(pop)\n",
    "- 위 표에서 보듯이 1단계까지의 A-B 최단 거리는 8인 상황임\n",
    "    - A-C 까지의 거리는 1, C에 인접한 B, D에서 C - B는 5, 즉 A - C - B는 1 + 5 = 6이므로, A-B 최단 거리 8보다 더 작은 거리를 발견, 이를 배열에 업데이트\n",
    "        - 배열에 업데이트 했으므로 B, 6(즉 A에서 B까지의 현재까지 발견한 최단 거리)값이 우선순위 큐에 넣어짐\n",
    "    - C-D의 거리는 2, 즉 A - C - D는 1 + 2 = 3이므로, A - D의 현재 최단 거리인 2보다 긴 거리, 그래서 D의 거리는 업데이트 되지 않음\n",
    "<img src = 'https://www.fun-coding.org/00_Images/dijkstra_2nd.png' width = '600' height = '300'/>"
   ]
  },
  {
   "cell_type": "markdown",
   "id": "9d553bc2",
   "metadata": {},
   "source": [
    "4단계 : 우선순위 큐에서 (D, 2)[노드, 첫 노드와의 거리]를 기반으로 인접한 노드와의 거리 계산\n",
    "- 지금까지 접근하지 못했던 E와 F 거리가 계산됨\n",
    "    - A - D까지의 거리인 2에 D - E가 3이므로 이를 더해서 E, 5\n",
    "    - A - D까지의 거리인 2에 D - F가 5이므로 이를 더해서 F, 7\n",
    "<img src='https://www.fun-coding.org/00_Images/dijkstra_3rd.png' width = '600' height = '300'/>"
   ]
  },
  {
   "cell_type": "markdown",
   "id": "5bafc09a",
   "metadata": {},
   "source": [
    "5단계 : 우선순위 큐에서 (E, 5)[노드, 첫 노드와의 거리]를 기반으로 인접한 노드와의 거리 계산\n",
    "- A - E거리가 5인 상태에서 E에 인접한 F를 가는 거리는 1, 즉 A-E-F는 5 + 1 = 6, 현재 배열에 A - F최단거리가 7로 기록되어 있으므로, F, 6으로 업데이트\n",
    "    - 우선순위 큐에 F, 6 추가\n",
    "<img src='https://www.fun-coding.org/00_Images/dijkstra_3-2th.png' width = '600' height = '300'/>"
   ]
  },
  {
   "cell_type": "markdown",
   "id": "117d8b8f",
   "metadata": {},
   "source": [
    "6단계 : 우선순위 큐에서 (B, 6), (F, 6)를 순차적으로 추출해 각 노드 기반으로 인접한 노드와의 거리 계산\n",
    "- 예제의 방향 그래프에서 B 노드는 다른 노드로 가는 루트가 없음\n",
    "- F노드는 A노드로 가는 루트가 있으나, 현재 A-A가 0인 반면에 A-F-A는 6 + 5 = 11, 즉 더 긴 거리이므로 업데이트 되지 않음\n",
    "<img src='https://www.fun-coding.org/00_Images/dijkstra_4th.png' width = '600' height = '300'/>"
   ]
  },
  {
   "cell_type": "markdown",
   "id": "734f0a7d",
   "metadata": {},
   "source": [
    "6단계 : 우선순위 큐에서 (F, 7), (B, 8)를 순차적으로 추출해 각 노드 기반으로 인접한 노드와의 거리 계산\n",
    "- A-F로 가는 하나의 루트와 거리가 7인 상황이나, 배열에서 이미 A-F로 가는 현재의 최단 거리가 6인 루트의 값이 있는 상황이므로, 더 긴 거리인 F, 7 루트 기반 인접 노드까지의 거리는 계산할 필요가 없음. 그래서 계산없이 스킵함\n",
    "    - 계산하더라도 A-F거리가 6인 루트보다 무조건 더 긴 거리가 나올 수 밖에 없음\n",
    "- B, 8도 현재 A-B 거리가 6이므로, 인접 노드 거리 계산이 필요 없음\n",
    "> 우선순위 큐를 사용하면 불필요한 계산 과정을 줄일 수 있음  \n",
    "<img src='https://www.fun-coding.org/00_Images/dijkstra_5th.png' width = '600' height = '300'/>"
   ]
  },
  {
   "cell_type": "markdown",
   "id": "76777ed6",
   "metadata": {},
   "source": [
    "우선순위 큐 사용 장점\n",
    "- 지금까지 발견된 가장 짧은 거리의 노드에 대해서 먼저 계산\n",
    "- 더 긴 거리로 계산된 루트에 대해서는 계산을 스킵할 수 있음"
   ]
  },
  {
   "cell_type": "markdown",
   "id": "790cee72",
   "metadata": {},
   "source": [
    "### 다익스트라 알고리즘 파이썬 구현(우선순위 큐 활용까지)\n",
    "- 참고: heapq 라이브러리 활용을 통해 우선순위 큐 사용하기\n",
    "    - 데이터가 리스트 형태일 경우, 0번 인덱스를 pop할수도, 우선순위가 낮은 순서대로 pop할 수도 있음"
   ]
  },
  {
   "cell_type": "markdown",
   "id": "49703a1c",
   "metadata": {},
   "source": [
    "heapq 라이브러리"
   ]
  },
  {
   "cell_type": "code",
   "execution_count": 165,
   "id": "c08c4aa4",
   "metadata": {},
   "outputs": [
    {
     "name": "stdout",
     "output_type": "stream",
     "text": [
      "[[1, 'C'], [5, 'B'], [2, 'A'], [7, 'D']]\n",
      "[1, 'C']\n",
      "[2, 'A']\n",
      "[5, 'B']\n",
      "[7, 'D']\n"
     ]
    }
   ],
   "source": [
    "import heapq\n",
    "\n",
    "queue = []\n",
    "\n",
    "heapq.heappush(queue, [2, 'A'])\n",
    "heapq.heappush(queue, [5, 'B'])\n",
    "heapq.heappush(queue, [1, 'C'])\n",
    "heapq.heappush(queue, [7, 'D'])\n",
    "print(queue)\n",
    "for i in range(len(queue)):\n",
    "    print(heapq.heappop(queue))"
   ]
  },
  {
   "cell_type": "markdown",
   "id": "32c41f26",
   "metadata": {},
   "source": [
    "다익스트라 알고리즘"
   ]
  },
  {
   "cell_type": "code",
   "execution_count": 1,
   "id": "cd810107",
   "metadata": {},
   "outputs": [
    {
     "data": {
      "text/plain": [
       "{'A': {'B': 8, 'C': 1, 'D': 2},\n",
       " 'B': {},\n",
       " 'C': {'B': 5, 'D': 2},\n",
       " 'D': {'E': 3, 'F': 5},\n",
       " 'E': {'F': 1},\n",
       " 'F': {'A': 5}}"
      ]
     },
     "execution_count": 1,
     "metadata": {},
     "output_type": "execute_result"
    }
   ],
   "source": [
    "mygraph = {\n",
    "    'A' : {'B' : 8, 'C' : 1, 'D' : 2},\n",
    "    'B' : {},\n",
    "    'C' : {'B' : 5, 'D' : 2},\n",
    "    'D' : {'E' : 3, 'F' : 5},\n",
    "    'E' : {'F' : 1},\n",
    "    'F' : {'A' : 5}\n",
    "}\n",
    "mygraph"
   ]
  },
  {
   "cell_type": "code",
   "execution_count": 7,
   "id": "0cdc1930",
   "metadata": {},
   "outputs": [],
   "source": [
    "import heapq\n",
    "\n",
    "def dijkstra(graph, start):\n",
    "    # 초기화()\n",
    "    distances = {node: float('inf') for node in graph}  # 배열\n",
    "    distances[start] = 0\n",
    "    queue = []\n",
    "    heapq.heappush(queue, [distances[start], start])  # 우선순위 큐\n",
    "    \n",
    "    while queue:\n",
    "        current_distance, current_node = heapq.heappop(queue) # 맨 처음엔 0, 'A'\n",
    "        \n",
    "        # 배열의 값보다 나온 값이 더 작을경우 스킵\n",
    "        if distances[current_node] < current_distance:\n",
    "            continue\n",
    "            \n",
    "        for adjacent, weight in graph[current_node].items():  # 현재 노드(힙큐에서 제일 작았던). 처음이 'A'면, {'B': 8, 'C': 1, 'D': 2}\n",
    "            distance = current_distance + weight  # 0 + A에서 거리(8) \n",
    "            \n",
    "            # 거리가 배열에 있는 'B'의 value보다 크면, (처음기준)\n",
    "            if distance < distances[adjacent]:\n",
    "                distances[adjacent] = distance  # 배열의 'B'에 거리를 넣음 (처음기준)\n",
    "                heapq.heappush(queue, [distance, adjacent])  # 힙큐에 ['8, B']이 추가됨 (처음기준)\n",
    "    \n",
    "    return distances"
   ]
  },
  {
   "cell_type": "code",
   "execution_count": 8,
   "id": "6e879fd6",
   "metadata": {},
   "outputs": [
    {
     "name": "stdout",
     "output_type": "stream",
     "text": [
      "[[0, 'A']]\n"
     ]
    },
    {
     "data": {
      "text/plain": [
       "{'A': 0, 'B': 6, 'C': 1, 'D': 2, 'E': 5, 'F': 6}"
      ]
     },
     "execution_count": 8,
     "metadata": {},
     "output_type": "execute_result"
    }
   ],
   "source": [
    "dijkstra(mygraph, 'A')"
   ]
  },
  {
   "cell_type": "markdown",
   "id": "be3e110f",
   "metadata": {},
   "source": [
    "  <img src='https://www.fun-coding.org/00_Images/dijkstra.png' width = '250' height = '250' />\n"
   ]
  },
  {
   "cell_type": "code",
   "execution_count": 176,
   "id": "9d827168",
   "metadata": {},
   "outputs": [
    {
     "data": {
      "text/plain": [
       "{'A': 0, 'B': 6, 'C': 1, 'D': 2, 'E': 5, 'F': 6}"
      ]
     },
     "execution_count": 176,
     "metadata": {},
     "output_type": "execute_result"
    }
   ],
   "source": [
    "dijkstra(mygraph, 'A')"
   ]
  },
  {
   "cell_type": "markdown",
   "id": "0cf5fd1e",
   "metadata": {},
   "source": [
    "### 시간 복잡도\n",
    "- 위 다익스트라 알고리즘은 크게 두 가지 과정을 거침\n",
    "    - 과정1: 각 노드마다 인접한 간선들을 모두 검사하는 과정\n",
    "    - 과정2: 우선순위 큐에 노드/거리 정보를 넣고 삭제(pop)하는 과정\n",
    "- 각 과정별 시간 복잡도\n",
    "    - 과정1: 각 노드는 최대 한 번씩 방문하므로, 그래프의 모든 간선은 최대 한 번씩 검사\n",
    "        - 즉, 각 노드마다 인접한 간선들을 모두 검사하는 과정은 O(E) 시간이 걸림(E = Edge)\n",
    "    - 과정2: 우선순위 큐에 가장 많은 노드, 거리 정보가 들어가는 경우, 우선순위 큐에 노드/거리 정보를 넣고, 삭제하는 과정이 최악의 시간이 걸림\n",
    "        - 우선순위 큐에 가장 많은 노드, 거리 정보가 들어가는 시나리오는 그래프의 모든 간선이 검사될 때마다, 배열의 최단 거리가 갱신되고, 우선순위 큐에 노드/거리가 추가되는 것임\n",
    "        -  이 때 추가는 각 간선마다 최대 한 번 일어날 수 있으므로, 최대 O(E)의 시간이 걸리고, O(E)개의 노드/거리 정보에 대해 우선순위 큐를 유지하는 작업은 O(ElogE)가 걸림  \n",
    "총 시간 복잡도 = $O(ElogE)$"
   ]
  },
  {
   "cell_type": "markdown",
   "id": "ed6f3f9e",
   "metadata": {},
   "source": [
    "- 참고: 힙 시간복잡도\n",
    "    - depth를 h라고 표기한다면,\n",
    "    - n개의 노드를 가지는 heap에 데이터 삽입 또는 삭제시, 최악의 경우 Root 노드에서 leaf 노드까지 비교해야 하므로 h = log<sub>2</sub>n에 가까움. 시간복잡도는 O(logn)\n",
    "         - 참고: 빅오 표기법에서 logn에서의 log 밑은 10이 아니라 2임 -> 한번 실행시 50%의 실행할 수도 있는 명령을 제거한다는 의미(50%의 실행시간을 단축)"
   ]
  },
  {
   "cell_type": "markdown",
   "id": "06f7649b",
   "metadata": {},
   "source": [
    "## 최소 신장 트리(Kruskal Algorithm)"
   ]
  },
  {
   "cell_type": "markdown",
   "id": "ade6e1e4",
   "metadata": {},
   "source": [
    "### 신장 트리란?\n",
    "- Spanning Tree\n",
    "- 원래의 그래프와 모든 노드가 연결되어 있으면서 트리의 속성을 만족하는 그래프\n",
    "- 신장 트리의 조건\n",
    "    - 본래의 그래프의 모든 노드를 포함해야 함.\n",
    "    - 모든 노드가 서로 연결\n",
    "    - 트리의 속성을 만족시킴(사이클이 존재하지 않음)  \n",
    "<img src = 'https://www.fun-coding.org/00_Images/spanningtree.png' width = '600' height = '250' />"
   ]
  },
  {
   "cell_type": "markdown",
   "id": "df535fa5",
   "metadata": {},
   "source": [
    "### 최소 신장 트리\n",
    "- Mininum Spanning Tree, MST\n",
    "- 가능한 Spanning Tree 중에서, 간선의 가중치 합이 최소인 Spanning Tree를 지칭\n",
    "<img src = 'https://www.fun-coding.org/00_Images/mst.png' width = '300' height = '300' />"
   ]
  },
  {
   "cell_type": "markdown",
   "id": "f10f7edf",
   "metadata": {},
   "source": [
    "### 최소 신장 트리 알고리즘\n",
    "- 그래프에서 최소 신장 트리를 찾을 수 있는 알고리즘이 존재함.\n",
    "- 대표적인 최소 신장 트리 알고리즘\n",
    "    - Kruskal's algorithm(크루스칼)\n",
    "    - Prim's algorithm(프림)"
   ]
  },
  {
   "cell_type": "markdown",
   "id": "cf2e600c",
   "metadata": {},
   "source": [
    "### 크루스칼 알고리즘(Kruskal's algorithm)\n",
    "1. 모든 정점을 독립적인 집합으로 만든다.\n",
    "2. 모든 간선을 비용을 기준으로 정렬하고, 비용이 작은 간선부터 양 끝의 두 정점을 비교한다.\n",
    "3. 두 정점의 최상위 정점을 확인하고, 서로 다를 경우 두 정점을 연결한다.(최소 신장 트리는 사이클이 없으므로, 사이클이 생기지 않도록 하는 것  \n",
    "> 탐욕 알고리즘을 기초로 하고 있음(당장 눈 앞의 최소비용을 선택해서, 결과적으로 최적의 솔루션을 찾음"
   ]
  },
  {
   "cell_type": "markdown",
   "id": "081a6bf6",
   "metadata": {},
   "source": [
    "<img src = 'https://www.fun-coding.org/00_Images/kruscal_internal1.png' width = '600' height = '250' />  \n",
    "<img src = 'https://www.fun-coding.org/00_Images/kruscal_internal2.png' width = '600' height = '250' />"
   ]
  },
  {
   "cell_type": "markdown",
   "id": "e86b1f87",
   "metadata": {},
   "source": [
    "#### Union-Find 알고리즘\n",
    "- Disjoint Set을 표현할 때 사용하는 알고리즘으로 트리 구조를 활용하는 알고리즘\n",
    "- 간단하게, 노드 중 연결된 노드를 찾거나, 노드들을 서로 연결할 때 사용\n",
    "- Disjoint Set이란\n",
    "    - 서로 중복되지 않는 부분 집합들로 나눠진 원소들에 대한 정보를 저장하고 조작하는 자료구조\n",
    "    - 공통 원소가 없는 상호 베타적인 부분집합들로 나눠진 원소들에 대한 자료구조를 의미함.\n",
    "    - = 서로소 집합 자료구조"
   ]
  },
  {
   "cell_type": "markdown",
   "id": "48a3f1c8",
   "metadata": {},
   "source": [
    "1. 초기화\n",
    "    - n개의 원소가 개별 집합으로 이뤄지도록 초기화\n",
    "    <img src = 'https://www.fun-coding.org/00_Images/initial_findunion.png' width = '450' height = '250' />"
   ]
  },
  {
   "cell_type": "markdown",
   "id": "df8119e2",
   "metadata": {},
   "source": [
    "2. Union\n",
    "    - 두 개별 집합을 하나의 집합으로 합침, 두 트리를 하나의 트리로 만듦\n",
    "    <img src = 'https://www.fun-coding.org/00_Images/union_findunion.png' width = '400' height = '250' />"
   ]
  },
  {
   "cell_type": "markdown",
   "id": "1d8be2bd",
   "metadata": {},
   "source": [
    "3. Find\n",
    "    - 여러 노드가 존재할 때, 두 개의 노드를 선택해서, 현재 두 노드가 서로 같은 그래프에 속하는지 판별하기 위해, 각 그룹의 최상단 원소(루트 노드)를 확인\n",
    "    <img src = 'https://www.fun-coding.org/00_Images/find_findunion.png' width = '400' height = '250' />"
   ]
  },
  {
   "cell_type": "markdown",
   "id": "7d0195b3",
   "metadata": {},
   "source": [
    "Union-Find 알고리즘의 고려할 점\n",
    "- Union 순서에 따라서, 최악의 경우 링크드 리스트와 같은 형태가 될 수 있음\n",
    "- 이 땐 Find/Union시 계산량이 O(N)이 될 수 있으므로, 해당 문제를 해결하기 위해 union-by-rank, path compression 기법을 사용함\n",
    "<img src = 'https://www.fun-coding.org/00_Images/worst_findunion.png' width = '200' height = '200' />"
   ]
  },
  {
   "cell_type": "markdown",
   "id": "63a6ebb4",
   "metadata": {},
   "source": [
    "- union-by-rank 기법\n",
    "    - 각 트리에 대해 높이(rank)를 기억해두고, \n",
    "    - union시 두 트리의 높이가 다르면, 높이가 작은 트리를 높이가 큰 트리에 붙임(즉, 높이가 큰 트리의 루트노드가 합친 집합의 루트노드가 되게 함)\n",
    "<img src = 'https://www.fun-coding.org/00_Images/unionbyrank_findunion.png' width = '500' height = '250' />\n",
    "    - 높이가 h-1인 두 개의 트리를 합칠 땐 한 쪽의 트리의 높이를 1 증가시켜주고, 다른 쪽의 트리를 해당 트리에 붙여줌\n",
    "<img src = 'https://www.fun-coding.org/00_Images/unionbyranksame_findunion.png' width = '500' height = '250' />\n",
    "    - 초기화시, 모든 원소는 높이(rank)가 0인 개별 집합인 상태에서, 하나씩 원소를 합칠 때, union-by-rank를 사용한다면,\n",
    "        - 높이가 h인 트리가 만들어지려면 높이가 h - 1인 두 개의 트리가 합쳐져야 함\n",
    "        - 높이가 h-1인 트리를 만들기 위해 최소 n개의 원소가 필요하다면, 높이가 h인 트리가 만들어지기 위해선 최소 2n개의 원소가 필요\n",
    "        - 따라서 union-by-rank 기법을 사용하면, union/find 연산의 시간복잡도는 O(N)이 아닌, O(logN)로 낮출 수 있음"
   ]
  },
  {
   "cell_type": "markdown",
   "id": "77266cc9",
   "metadata": {},
   "source": [
    "path compression\n",
    "- Find를 실행한 노드에서 거쳐간 노드를 루트에 다이렉트로 연결하는 기법\n",
    "- Find를 실행한 노드는 이후부터는 루트 노드를 한번에 알 수 있음\n",
    "<img src = 'https://www.fun-coding.org/00_Images/pathcompression_findunion.png' width = '400' height = '250' />"
   ]
  },
  {
   "cell_type": "markdown",
   "id": "7973e596",
   "metadata": {},
   "source": [
    "#### 시간 복잡도\n",
    "- 크루스컬 알고리즘의 시간 복잡도는 O(E log E)"
   ]
  },
  {
   "cell_type": "markdown",
   "id": "421d3c12",
   "metadata": {},
   "source": [
    "### 프림 알고리즘\n",
    "- 시작 정점을 선택한 후, 정점에 인접한 간선중 최소 간선으로 연결된 정점을 선택하고, 해당 정점에서 다시 최소 간선으로 연결된 정점을 선택하는 방식으로 최소 신장 트리를 확장해나가는 방식\n",
    "- 크루스칼 알고리즘과 프림 알고리즘 비교\n",
    "    - 둘 다, 탐욕 알고리즘을 기초로 하고 있음\n",
    "    - 크루스칼 알고리즘은 가장 가중치가 작은 간선부터 선택하면서 MST를 구함\n",
    "    - 프림 알고리즘은 특정 정점에서 시작, 해당 정점에 연결된 가장 가중치가 작은 간선을 선택, 간선으로 연결된 정점들에 연결된 간선 중에서 가장 가중치가 작은 간선을 택하는 방식으로 MST를 구함"
   ]
  },
  {
   "cell_type": "markdown",
   "id": "c866b9bc",
   "metadata": {},
   "source": [
    "1. 임의의 정점을 선택, '연결된 노드 집합'에 삽입\n",
    "2. 선택된 정점에 연결된 간선들을 간선 리스트에 삽입 \n",
    "3. 간선 리스트에서 최소 가중치를 가지는 간선부터 추출해서, \n",
    "    - 해당 간선에 연결된 인접 정점이 '연결된 노드 집합'에 이미 들어 있다면, 스킵(사이클을 막기 위해)\n",
    "    - 해당 간선에 연결된 인접 정점이 '연결된 노드 집합'에 들어있지 않으면, 해당 간선을 선택하고, 해당 간선 정보를 '최소 신장 트리에 삽입'\n",
    "4. 추출한 간선은 간선 리스트에서 제거\n",
    "5. 간선 리스트에 더 이상의 간선이 없을 때까지 3~4반복\n",
    "<img src = 'https://www.fun-coding.org/00_Images/prim1.png' width = '500' height = '250' />  \n",
    "<img src = 'https://www.fun-coding.org/00_Images/prim2.png' width = '500' height = '250' />  \n",
    "<img src = 'https://www.fun-coding.org/00_Images/prim3.png' width = '500' height = '250' />  \n"
   ]
  },
  {
   "cell_type": "markdown",
   "id": "e353aee3",
   "metadata": {},
   "source": [
    "#### 시간 복잡도\n",
    "- O(ElogV)"
   ]
  },
  {
   "cell_type": "markdown",
   "id": "ef2ef15c",
   "metadata": {},
   "source": [
    "## 백 트래킹 기법의 이해"
   ]
  },
  {
   "cell_type": "markdown",
   "id": "71a1f9a2",
   "metadata": {},
   "source": [
    "### 백 트래킹(backtracking)\n",
    "- 백 트래킹 또는 퇴각 검색\n",
    "- 제약 조건 만족 문제에서 해를 찾기 위한 전략\n",
    "    - 해를 찾기 위해, 후보군에 제약 조건을 점진적으로 체크하다가, 해당 후보군이 제약 조건을 만족할 수 없다고 판단되는 즉시 backtrack(다시는 이 후보군을 체크하지 않을 것을 표기)하고, 바로 다른 후보군으로 넘어가며, 결국 최적의 해를 찾는 방법\n",
    "- 실제 구현시, 고려할 수 있는 모든 경우의 수(후보군)를 상태공간트리(State Space Tree)를 통해 표현\n",
    "    - 각 후보군을 DFS방식으로 확인\n",
    "    - 상태 공간 트리를 탐색하면서, 제약이 맞지 않으면 해의 후보가 될 만한 곳으로 바로 넘어가서 탐색\n",
    "        - Promising : 해당 루트가 조건에 맞는지를 검사하는 기법\n",
    "        - Prunung(가지치기) : 조건에 맞지 않으면 포기하고 다른 루트로 바로 돌아서서, 탐색의 시간을 절약하는 기법  \n",
    "        \n",
    "> 즉, 백트래킹은 트리 구조를 기반으로 DFS로 깊이 탐색을 진행하면서 각 루트에 대해 조건이 부합하는지 체크(promising), 만약 해당 트리에서 조건이 맞지않는 노드는 더이상 DFS로 깊이 탐색을 진행하지 않고, 가지를 쳐버림(pruning)"
   ]
  },
  {
   "cell_type": "markdown",
   "id": "2baa3f2d",
   "metadata": {},
   "source": [
    "상태 공간 트리\n",
    "- 문제 해결 과정의 중간 상태를 각각의 노드로 나타낸 트리\n",
    "<img src = 'https://www.fun-coding.org/00_Images/statespacetree.png' width = '300' height = '250' />"
   ]
  },
  {
   "cell_type": "markdown",
   "id": "454ebb56",
   "metadata": {},
   "source": [
    "N Queen 문제 이해\n",
    "- 대표적인 백트래킹 문제\n",
    "- N*N 크기의 체스판에 N개의 퀸을 서로 공격할 수 없도록 배치하는 무제\n",
    "- 퀸은 다음과 같이 이동할 수 있으므로, 배치된 퀸 간에 공격할 수 없는 위치로 배치해야 함\n",
    "<img src = 'https://www.fun-coding.org/00_Images/queen_move.png' width = '500' height = '250' />"
   ]
  },
  {
   "cell_type": "markdown",
   "id": "93444193",
   "metadata": {},
   "source": [
    "Pruning(가지치기) for N Queen 문제\n",
    "- 한 행에는 하나의 퀸 밖에 위치할 수 없음(퀸은 수평 이동이 가능하므로)\n",
    "- 맨 위에 있는 행부터 퀸을 배치하고, 다음 행에 해당 퀸이 이동할 수 없는 위치를 찾아 퀸을 배치\n",
    "- 만약 앞선 행에 배치한 퀸으로 인해, 다음 행에 해당 퀸들이 이동할 수 없는 위치가 없을 경우(둘 곳이 없을 경우)에는 더 이상 퀸을 배치하지 않고, 이전 행의 퀸의 배치를 바꿈\n",
    "    - 즉, 맨 위의 행부터 전체 행까지 퀸의 배치가 가능한 수를 상태 공간 트리 형태로 만든 후, 각 경우를 맨 위의 행부터 DFS 방식으로 접근, 해당 경우가 진행이 어려울 경우, 더 이상 진행하지 않고, 다른 경우를 체크하는 방식\n",
    "    <img src = 'https://www.fun-coding.org/00_Images/backtracking.png' width = '500' height = '250' />"
   ]
  },
  {
   "cell_type": "markdown",
   "id": "5bef597a",
   "metadata": {},
   "source": [
    "Promising for N Queen 문제\n",
    "- 해당 루트가 조건에 맞는지를 검사하는 기법을 활용하여, \n",
    "- 현재까지 앞선 행에서 배치한 퀸이 이동할 수 없는 위치가 있는지를 다음과 같은 조건으로 확인\n",
    "    - 한 행에 어차피 하나의 퀸만 배치 가능하므로 수평 체크는 별도로 필요하지 않음\n",
    "    <img src = 'https://www.fun-coding.org/00_Images/nqueen.png' width = '500' height = '250' />"
   ]
  },
  {
   "cell_type": "code",
   "execution_count": null,
   "id": "77920531",
   "metadata": {},
   "outputs": [],
   "source": []
  }
 ],
 "metadata": {
  "kernelspec": {
   "display_name": "Python 3",
   "language": "python",
   "name": "python3"
  },
  "language_info": {
   "codemirror_mode": {
    "name": "ipython",
    "version": 3
   },
   "file_extension": ".py",
   "mimetype": "text/x-python",
   "name": "python",
   "nbconvert_exporter": "python",
   "pygments_lexer": "ipython3",
   "version": "3.8.8"
  },
  "toc": {
   "base_numbering": 1,
   "nav_menu": {},
   "number_sections": true,
   "sideBar": true,
   "skip_h1_title": false,
   "title_cell": "Table of Contents",
   "title_sidebar": "Contents",
   "toc_cell": false,
   "toc_position": {},
   "toc_section_display": true,
   "toc_window_display": false
  }
 },
 "nbformat": 4,
 "nbformat_minor": 5
}
