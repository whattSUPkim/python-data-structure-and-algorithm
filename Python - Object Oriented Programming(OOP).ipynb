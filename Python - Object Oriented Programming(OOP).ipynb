{
 "cells": [
  {
   "cell_type": "markdown",
   "id": "517795bc",
   "metadata": {},
   "source": [
    ">'잔재미코딩' 파이썬 자료를 공부한 내용입니다.\n",
    "# 파이썬 객체지향 프로그래밍  \n",
    "\n"
   ]
  },
  {
   "cell_type": "markdown",
   "id": "bb066059",
   "metadata": {},
   "source": [
    "## 프로그래밍 언어론"
   ]
  },
  {
   "cell_type": "markdown",
   "id": "7b27014f",
   "metadata": {},
   "source": [
    "- 기계어 : 0과 1로 된 이진수 형태로 CPU가 이해할 수 있는 코드\n",
    "- CPU가 수행할 수 있는 명령\n",
    "    - instruction set : 더하기, 뺴기, 데이터 저장, 불러오기, if, return 등\n",
    "- 저급언어와 고급언어\n",
    "    - 저급언어: 기계어, 어셈블리어\n",
    "    - 고급언어: c언어, java, python 등\n",
    "- 컴파일러: 고급 언어로 작성된 코드를 한번에 기계어로 변환하는 프로그램\n",
    "- 인터프리터: 고급 언어로 작성된 코드를 한줄씩 기계어로 변환하는 프로그램"
   ]
  },
  {
   "cell_type": "markdown",
   "id": "5c314653",
   "metadata": {},
   "source": [
    "## 객체지향 프로그래밍"
   ]
  },
  {
   "cell_type": "markdown",
   "id": "d8564177",
   "metadata": {},
   "source": [
    "- 객체지향 프로그래밍: 객체 단위로 데이터와 기능을 하나로 묶어서 쓰는 언어\n",
    "    - 클래스: 속성과 동작을 갖는 데이터 타입\n",
    "    - 객체: 선언된 클래스를 기반으로 만들어진 실체(인스턴스)"
   ]
  },
  {
   "cell_type": "code",
   "execution_count": 13,
   "id": "5285f6bd",
   "metadata": {},
   "outputs": [],
   "source": [
    "class NewClass:\n",
    "    pass"
   ]
  },
  {
   "cell_type": "code",
   "execution_count": 14,
   "id": "2340ac90",
   "metadata": {},
   "outputs": [
    {
     "data": {
      "text/plain": [
       "['__class__',\n",
       " '__delattr__',\n",
       " '__dict__',\n",
       " '__dir__',\n",
       " '__doc__',\n",
       " '__eq__',\n",
       " '__format__',\n",
       " '__ge__',\n",
       " '__getattribute__',\n",
       " '__gt__',\n",
       " '__hash__',\n",
       " '__init__',\n",
       " '__init_subclass__',\n",
       " '__le__',\n",
       " '__lt__',\n",
       " '__module__',\n",
       " '__ne__',\n",
       " '__new__',\n",
       " '__reduce__',\n",
       " '__reduce_ex__',\n",
       " '__repr__',\n",
       " '__setattr__',\n",
       " '__sizeof__',\n",
       " '__str__',\n",
       " '__subclasshook__',\n",
       " '__weakref__']"
      ]
     },
     "execution_count": 14,
     "metadata": {},
     "output_type": "execute_result"
    }
   ],
   "source": [
    "dir(NewClass)"
   ]
  },
  {
   "cell_type": "code",
   "execution_count": 15,
   "id": "0434adac",
   "metadata": {},
   "outputs": [
    {
     "data": {
      "text/plain": [
       "(<__main__.NewClass at 0x1dfbcf7b8b0>,\n",
       " <__main__.NewClass at 0x1dfbce94070>,\n",
       " __main__.NewClass)"
      ]
     },
     "execution_count": 15,
     "metadata": {},
     "output_type": "execute_result"
    }
   ],
   "source": [
    "# 다른 주소값\n",
    "object_a = NewClass()\n",
    "object_b = NewClass()\n",
    "object_a, object_b, type(object_a)"
   ]
  },
  {
   "cell_type": "code",
   "execution_count": 16,
   "id": "9b883cdc",
   "metadata": {},
   "outputs": [],
   "source": [
    "class NewClass2():\n",
    "    name = 'Kim'"
   ]
  },
  {
   "cell_type": "code",
   "execution_count": 17,
   "id": "ec91a622",
   "metadata": {},
   "outputs": [
    {
     "data": {
      "text/plain": [
       "['__class__',\n",
       " '__delattr__',\n",
       " '__dict__',\n",
       " '__dir__',\n",
       " '__doc__',\n",
       " '__eq__',\n",
       " '__format__',\n",
       " '__ge__',\n",
       " '__getattribute__',\n",
       " '__gt__',\n",
       " '__hash__',\n",
       " '__init__',\n",
       " '__init_subclass__',\n",
       " '__le__',\n",
       " '__lt__',\n",
       " '__module__',\n",
       " '__ne__',\n",
       " '__new__',\n",
       " '__reduce__',\n",
       " '__reduce_ex__',\n",
       " '__repr__',\n",
       " '__setattr__',\n",
       " '__sizeof__',\n",
       " '__str__',\n",
       " '__subclasshook__',\n",
       " '__weakref__',\n",
       " 'name']"
      ]
     },
     "execution_count": 17,
     "metadata": {},
     "output_type": "execute_result"
    }
   ],
   "source": [
    "object_c = NewClass2()\n",
    "dir(object_c)"
   ]
  },
  {
   "cell_type": "code",
   "execution_count": 18,
   "id": "72c5cfec",
   "metadata": {},
   "outputs": [
    {
     "data": {
      "text/plain": [
       "'Kim'"
      ]
     },
     "execution_count": 18,
     "metadata": {},
     "output_type": "execute_result"
    }
   ],
   "source": [
    "object_c.name"
   ]
  },
  {
   "cell_type": "code",
   "execution_count": 19,
   "id": "850296d6",
   "metadata": {},
   "outputs": [
    {
     "data": {
      "text/plain": [
       "'Lee'"
      ]
     },
     "execution_count": 19,
     "metadata": {},
     "output_type": "execute_result"
    }
   ],
   "source": [
    "object_c.name = 'Lee'\n",
    "object_c.name"
   ]
  },
  {
   "cell_type": "code",
   "execution_count": 26,
   "id": "ca978836",
   "metadata": {},
   "outputs": [],
   "source": [
    "class NewClass3():\n",
    "    name = 'Kim'\n",
    "    \n",
    "    def say_hi(self):\n",
    "        print('Hello ' + self.name)"
   ]
  },
  {
   "cell_type": "code",
   "execution_count": 27,
   "id": "d59ec8fd",
   "metadata": {},
   "outputs": [
    {
     "name": "stdout",
     "output_type": "stream",
     "text": [
      "Hello Kim\n"
     ]
    }
   ],
   "source": [
    "object_d = NewClass3()\n",
    "object_d.say_hi()"
   ]
  },
  {
   "cell_type": "markdown",
   "id": "4e1b0861",
   "metadata": {},
   "source": [
    "## 생성자와 소멸자 메서드"
   ]
  },
  {
   "cell_type": "markdown",
   "id": "504a9b9e",
   "metadata": {},
   "source": [
    "- 생성자는 객체 생성시 자동 호출, 소멸자는 객체 소멸시 자동 호출    "
   ]
  },
  {
   "cell_type": "markdown",
   "id": "bb1d33ba",
   "metadata": {},
   "source": [
    "생성자 `__init__(self)`\n",
    "- 메소드 이므로 self로 설정\n",
    "- 생성자에서는 보통 해당 클래스가 다루는 데이터를 정의  "
   ]
  },
  {
   "cell_type": "markdown",
   "id": "c51116b3",
   "metadata": {},
   "source": [
    "다음과 같이 클래스에서 `self.attribute` 명을 사용할 수 없음(self는 객체를 나타냄)"
   ]
  },
  {
   "cell_type": "code",
   "execution_count": 30,
   "id": "bc18e6ca",
   "metadata": {},
   "outputs": [
    {
     "ename": "NameError",
     "evalue": "name 'self' is not defined",
     "output_type": "error",
     "traceback": [
      "\u001b[1;31m---------------------------------------------------------------------------\u001b[0m",
      "\u001b[1;31mNameError\u001b[0m                                 Traceback (most recent call last)",
      "\u001b[1;32m<ipython-input-30-d5bb5abfcb7c>\u001b[0m in \u001b[0;36m<module>\u001b[1;34m\u001b[0m\n\u001b[1;32m----> 1\u001b[1;33m \u001b[1;32mclass\u001b[0m \u001b[0mQuadrangel\u001b[0m\u001b[1;33m:\u001b[0m\u001b[1;33m\u001b[0m\u001b[1;33m\u001b[0m\u001b[0m\n\u001b[0m\u001b[0;32m      2\u001b[0m     \u001b[0mself\u001b[0m\u001b[1;33m.\u001b[0m\u001b[0mwidth\u001b[0m \u001b[1;33m=\u001b[0m \u001b[1;36m0\u001b[0m\u001b[1;33m\u001b[0m\u001b[1;33m\u001b[0m\u001b[0m\n\u001b[0;32m      3\u001b[0m     \u001b[0mself\u001b[0m\u001b[1;33m.\u001b[0m\u001b[0mheight\u001b[0m \u001b[1;33m=\u001b[0m \u001b[1;36m0\u001b[0m\u001b[1;33m\u001b[0m\u001b[1;33m\u001b[0m\u001b[0m\n\u001b[0;32m      4\u001b[0m     \u001b[0mself\u001b[0m\u001b[1;33m.\u001b[0m\u001b[0mcolor\u001b[0m \u001b[1;33m=\u001b[0m \u001b[1;34m'black'\u001b[0m\u001b[1;33m\u001b[0m\u001b[1;33m\u001b[0m\u001b[0m\n",
      "\u001b[1;32m<ipython-input-30-d5bb5abfcb7c>\u001b[0m in \u001b[0;36mQuadrangel\u001b[1;34m()\u001b[0m\n\u001b[0;32m      1\u001b[0m \u001b[1;32mclass\u001b[0m \u001b[0mQuadrangel\u001b[0m\u001b[1;33m:\u001b[0m\u001b[1;33m\u001b[0m\u001b[1;33m\u001b[0m\u001b[0m\n\u001b[1;32m----> 2\u001b[1;33m     \u001b[0mself\u001b[0m\u001b[1;33m.\u001b[0m\u001b[0mwidth\u001b[0m \u001b[1;33m=\u001b[0m \u001b[1;36m0\u001b[0m\u001b[1;33m\u001b[0m\u001b[1;33m\u001b[0m\u001b[0m\n\u001b[0m\u001b[0;32m      3\u001b[0m     \u001b[0mself\u001b[0m\u001b[1;33m.\u001b[0m\u001b[0mheight\u001b[0m \u001b[1;33m=\u001b[0m \u001b[1;36m0\u001b[0m\u001b[1;33m\u001b[0m\u001b[1;33m\u001b[0m\u001b[0m\n\u001b[0;32m      4\u001b[0m     \u001b[0mself\u001b[0m\u001b[1;33m.\u001b[0m\u001b[0mcolor\u001b[0m \u001b[1;33m=\u001b[0m \u001b[1;34m'black'\u001b[0m\u001b[1;33m\u001b[0m\u001b[1;33m\u001b[0m\u001b[0m\n",
      "\u001b[1;31mNameError\u001b[0m: name 'self' is not defined"
     ]
    }
   ],
   "source": [
    "class Quadrangel:\n",
    "    self.width = 0\n",
    "    self.height = 0\n",
    "    self.color = 'black'"
   ]
  },
  {
   "cell_type": "markdown",
   "id": "3820b55a",
   "metadata": {},
   "source": [
    "생성자를 통해 정의"
   ]
  },
  {
   "cell_type": "code",
   "execution_count": 33,
   "id": "8cb00683",
   "metadata": {},
   "outputs": [],
   "source": [
    "class Quadrangel:\n",
    "    def __init__(self, w, h, c):\n",
    "        self.width = w\n",
    "        self.height = h\n",
    "        self.color = c"
   ]
  },
  {
   "cell_type": "code",
   "execution_count": 36,
   "id": "5d617c6a",
   "metadata": {},
   "outputs": [
    {
     "data": {
      "text/plain": [
       "3"
      ]
     },
     "execution_count": 36,
     "metadata": {},
     "output_type": "execute_result"
    }
   ],
   "source": [
    "square = Quadrangel(3, 3, 'red')\n",
    "square.width"
   ]
  },
  {
   "cell_type": "markdown",
   "id": "265a14a5",
   "metadata": {},
   "source": [
    "소멸자 `__del__(self)`\n",
    "- 메소드 이므로 self로 설정\n",
    "- 클래스 소멸시 호출"
   ]
  },
  {
   "cell_type": "code",
   "execution_count": 43,
   "id": "024c13d6",
   "metadata": {},
   "outputs": [],
   "source": [
    "class Quadrangel:\n",
    "    def __init__(self, w, h, c):\n",
    "        self.width = w\n",
    "        self.height = h\n",
    "        self.color = c\n",
    "        print(\"object is created\")\n",
    "    \n",
    "    def __del__(self):\n",
    "        print(\"object is deleted\")"
   ]
  },
  {
   "cell_type": "code",
   "execution_count": 45,
   "id": "b68fd2e3",
   "metadata": {},
   "outputs": [
    {
     "name": "stdout",
     "output_type": "stream",
     "text": [
      "object is created\n",
      "\n",
      "object is deleted\n"
     ]
    }
   ],
   "source": [
    "square = Quadrangel(3, 3, 'red')        \n",
    "print()\n",
    "del square"
   ]
  },
  {
   "cell_type": "markdown",
   "id": "beca17f1",
   "metadata": {},
   "source": [
    "## public, private, protected"
   ]
  },
  {
   "cell_type": "markdown",
   "id": "3eed9482",
   "metadata": {},
   "source": [
    "public, private, protected\n",
    "- 정보 은닉 방식\n",
    "    - 클래스의 속성과 동작에 대해 접근을 제어할 수 있음\n",
    "- private --> protected --> public\n",
    "    - private : private로 선언된 속성, 메소드는 해당 클래스에서만 접근 가능\n",
    "    - protected: protected로 선언된 속성, 메소드는 해당 클래스 또는 해당 클래스를 상속받은 클래스에서만 접근 가능\n",
    "    - public: 어떤 클래스라도 접근 가능  \n",
    "- java, c++ 등의 객체지향 언어와는 달리 파이썬에서의 모든 속성과 메소드는 기본적으로 public\n",
    "    - protected: 해당 속성 앞에 `_`를 붙여서 표시 --> 실제 제약되지는 않고 경고 표시로 사용됨\n",
    "    - private: 파이썬에서는 속성 앞에 `__`를 붙이면 실제로 해당 이름으로 접근이 허용되지 않음(해당 이름이 `__classname__`해당 속성 또는 메소드 이름으로 변경되기 때문)"
   ]
  },
  {
   "cell_type": "code",
   "execution_count": 46,
   "id": "fdd40882",
   "metadata": {},
   "outputs": [],
   "source": [
    "class Quadrangel:\n",
    "    def __init__(self, w, h, c):\n",
    "        self.__width = w\n",
    "        self.__height = h\n",
    "        self.color = c"
   ]
  },
  {
   "cell_type": "code",
   "execution_count": 49,
   "id": "2257374d",
   "metadata": {},
   "outputs": [
    {
     "data": {
      "text/plain": [
       "['_Quadrangel__height',\n",
       " '_Quadrangel__width',\n",
       " '__class__',\n",
       " '__delattr__',\n",
       " '__dict__',\n",
       " '__dir__',\n",
       " '__doc__',\n",
       " '__eq__',\n",
       " '__format__',\n",
       " '__ge__',\n",
       " '__getattribute__',\n",
       " '__gt__',\n",
       " '__hash__',\n",
       " '__init__',\n",
       " '__init_subclass__',\n",
       " '__le__',\n",
       " '__lt__',\n",
       " '__module__',\n",
       " '__ne__',\n",
       " '__new__',\n",
       " '__reduce__',\n",
       " '__reduce_ex__',\n",
       " '__repr__',\n",
       " '__setattr__',\n",
       " '__sizeof__',\n",
       " '__str__',\n",
       " '__subclasshook__',\n",
       " '__weakref__',\n",
       " 'color']"
      ]
     },
     "execution_count": 49,
     "metadata": {},
     "output_type": "execute_result"
    }
   ],
   "source": [
    "square = Quadrangel(3, 3, 'red')\n",
    "dir(square)"
   ]
  },
  {
   "cell_type": "code",
   "execution_count": 51,
   "id": "7fccfcc8",
   "metadata": {},
   "outputs": [
    {
     "ename": "AttributeError",
     "evalue": "'Quadrangel' object has no attribute '__height'",
     "output_type": "error",
     "traceback": [
      "\u001b[1;31m---------------------------------------------------------------------------\u001b[0m",
      "\u001b[1;31mAttributeError\u001b[0m                            Traceback (most recent call last)",
      "\u001b[1;32m<ipython-input-51-53688c75bdd6>\u001b[0m in \u001b[0;36m<module>\u001b[1;34m\u001b[0m\n\u001b[1;32m----> 1\u001b[1;33m \u001b[0msquare\u001b[0m\u001b[1;33m.\u001b[0m\u001b[0m__height\u001b[0m\u001b[1;33m\u001b[0m\u001b[1;33m\u001b[0m\u001b[0m\n\u001b[0m",
      "\u001b[1;31mAttributeError\u001b[0m: 'Quadrangel' object has no attribute '__height'"
     ]
    }
   ],
   "source": [
    "square.__height"
   ]
  },
  {
   "cell_type": "code",
   "execution_count": 52,
   "id": "fa12e3b1",
   "metadata": {},
   "outputs": [
    {
     "data": {
      "text/plain": [
       "'red'"
      ]
     },
     "execution_count": 52,
     "metadata": {},
     "output_type": "execute_result"
    }
   ],
   "source": [
    "square.color"
   ]
  },
  {
   "cell_type": "markdown",
   "id": "0489b004",
   "metadata": {},
   "source": [
    "## 상속"
   ]
  },
  {
   "cell_type": "markdown",
   "id": "6bc76f88",
   "metadata": {},
   "source": [
    "### 상속"
   ]
  },
  {
   "cell_type": "markdown",
   "id": "7a26249d",
   "metadata": {},
   "source": [
    "- 추상화: 여러 클래스에 중복되는 속성, 메서드를 하나의 기본 클래스로 작성하는 것\n",
    "    - 추상 클래스는 객체로 만들 수 없음\n",
    "    - `@abstractmethod`\n",
    "- 상속: 추상화 클래스의 공통 기능을 물려받고, 다른 부분만 추가 또는 변경할 수 있음\n",
    "    - 코드 재사용이 가능, 공통 기능의 경우 기본 클래스 코드만 수정하면 된다는 장점"
   ]
  },
  {
   "cell_type": "code",
   "execution_count": 90,
   "id": "4be6daa0",
   "metadata": {},
   "outputs": [],
   "source": [
    "class Figure:\n",
    "    def __init__(self, width, height):\n",
    "        self.width = width\n",
    "        self.height = height"
   ]
  },
  {
   "cell_type": "code",
   "execution_count": 57,
   "id": "748ceed2",
   "metadata": {},
   "outputs": [],
   "source": [
    "class Quadrangel(Figure):\n",
    "    pass"
   ]
  },
  {
   "cell_type": "code",
   "execution_count": 58,
   "id": "2c6a5033",
   "metadata": {},
   "outputs": [
    {
     "data": {
      "text/plain": [
       "3"
      ]
     },
     "execution_count": 58,
     "metadata": {},
     "output_type": "execute_result"
    }
   ],
   "source": [
    "square = Quadrangel(3, 3)\n",
    "square.width"
   ]
  },
  {
   "cell_type": "markdown",
   "id": "a43e1c34",
   "metadata": {},
   "source": [
    "- 상속 관계인 클래스 확인하기\n",
    "    - 내장함수 `issubclass(자식 클래스, 부모 클래스)`\n",
    "- 클래스와 객체 간 관계 확인하기\n",
    "    - 내장함수 `isinstance(객체, 클래스)`"
   ]
  },
  {
   "cell_type": "code",
   "execution_count": 60,
   "id": "6b1fdbad",
   "metadata": {},
   "outputs": [
    {
     "data": {
      "text/plain": [
       "True"
      ]
     },
     "execution_count": 60,
     "metadata": {},
     "output_type": "execute_result"
    }
   ],
   "source": [
    "issubclass(Quadrangel, Figure)"
   ]
  },
  {
   "cell_type": "code",
   "execution_count": 61,
   "id": "81f886ef",
   "metadata": {},
   "outputs": [
    {
     "data": {
      "text/plain": [
       "True"
      ]
     },
     "execution_count": 61,
     "metadata": {},
     "output_type": "execute_result"
    }
   ],
   "source": [
    "isinstance(square, Quadrangel)"
   ]
  },
  {
   "cell_type": "markdown",
   "id": "5eff2669",
   "metadata": {},
   "source": [
    "### 메서드 오버라이드"
   ]
  },
  {
   "cell_type": "markdown",
   "id": "44871ed6",
   "metadata": {},
   "source": [
    "- 부모 클래스의 메서드를 자식 클래스에서 재정의(override)\n",
    "- Python에서는 자식 클래스에서 부모 클래서의 메서드와 이름만 동일하면 오버라이드가 가능"
   ]
  },
  {
   "cell_type": "code",
   "execution_count": 74,
   "id": "a8d3430d",
   "metadata": {},
   "outputs": [],
   "source": [
    "class Figure:\n",
    "    def __init__(self, width, height):\n",
    "        self.width = width\n",
    "        self.height = height\n",
    "    \n",
    "    def get_width(self):\n",
    "        print(self.width)"
   ]
  },
  {
   "cell_type": "code",
   "execution_count": 75,
   "id": "559be0f6",
   "metadata": {},
   "outputs": [],
   "source": [
    "class Quadrangel(Figure):\n",
    "    def get_width(self):\n",
    "        print(self.width + 3)"
   ]
  },
  {
   "cell_type": "code",
   "execution_count": 77,
   "id": "0c76e47b",
   "metadata": {},
   "outputs": [
    {
     "name": "stdout",
     "output_type": "stream",
     "text": [
      "3\n",
      "6\n"
     ]
    }
   ],
   "source": [
    "figure = Figure(3, 3)\n",
    "square = Quadrangel(3, 3)\n",
    "figure.get_width()\n",
    "square.get_width()"
   ]
  },
  {
   "cell_type": "markdown",
   "id": "bdc06ac1",
   "metadata": {},
   "source": [
    "### 자식 클래스에서 부모클래스 메서드 호출(super와 self)"
   ]
  },
  {
   "cell_type": "code",
   "execution_count": 81,
   "id": "4350c690",
   "metadata": {},
   "outputs": [],
   "source": [
    "#1\n",
    "class Person:\n",
    "    def work(self):\n",
    "        print('work hard')\n",
    "\n",
    "class Student(Person):\n",
    "    def work(self):\n",
    "        print('dont work')\n",
    "    def work2(self):\n",
    "        super().work()"
   ]
  },
  {
   "cell_type": "code",
   "execution_count": 82,
   "id": "5b8971de",
   "metadata": {},
   "outputs": [
    {
     "name": "stdout",
     "output_type": "stream",
     "text": [
      "dont work\n",
      "work hard\n"
     ]
    }
   ],
   "source": [
    "student = Student()\n",
    "student.work()\n",
    "student.work2()"
   ]
  },
  {
   "cell_type": "code",
   "execution_count": 88,
   "id": "f2c3d917",
   "metadata": {},
   "outputs": [],
   "source": [
    "#2\n",
    "class Person:\n",
    "    def work(self):\n",
    "        print('work hard2')\n",
    "\n",
    "class Student(Person):\n",
    "    def work(self):\n",
    "        print('dont work2')\n",
    "    def work2(self):\n",
    "        Person.work(self) # <-"
   ]
  },
  {
   "cell_type": "code",
   "execution_count": 89,
   "id": "5d2203c1",
   "metadata": {},
   "outputs": [
    {
     "name": "stdout",
     "output_type": "stream",
     "text": [
      "dont work2\n",
      "work hard2\n"
     ]
    }
   ],
   "source": [
    "student = Student()\n",
    "student.work()\n",
    "student.work2()"
   ]
  },
  {
   "cell_type": "markdown",
   "id": "101a6c73",
   "metadata": {},
   "source": [
    "## 클래스 속성과 메서드"
   ]
  },
  {
   "cell_type": "markdown",
   "id": "7c64dd00",
   "metadata": {},
   "source": [
    "- 속성을 클래스 변수와 인스턴스 변수로 구별할 수 있음\n",
    "    - 클래스 변수: 클래스 정의에서 메서드 밖에 존재하는 변수\n",
    "        - 해당 클래스를 사용하는 모두에게 공용으로 사용되는 변수\n",
    "        - 클래스 변수는 클래스 내외부에서 `클래스.변수명`으로 접근 가능\n",
    "    - 인스턴스 변수: 클래스 정의에서 메서드 안에서 사용되면서 `self.변수명`처럼 사용되는 변수\n",
    "        - 각 객체별로 서로 다른 값을 가짐\n",
    "        - 클래스 내부에서는 self.인스턴스변수명을 사용하여 접근\n",
    "        - 클래스 외부에서는 객체명.인스턴스변수명으로 접근"
   ]
  },
  {
   "cell_type": "code",
   "execution_count": 91,
   "id": "8cb7bc0c",
   "metadata": {},
   "outputs": [],
   "source": [
    "class Figure:\n",
    "    color = 'red' # 클래스 변수\n",
    "    def __init__(self, width, height):\n",
    "        self.width = width # 인스턴스 변수\n",
    "        self.height = height # 인스턴스 변수"
   ]
  },
  {
   "cell_type": "markdown",
   "id": "58453a93",
   "metadata": {},
   "source": [
    "- 정적 메서드(static method)\n",
    "    - self 파라미터를 갖고 있지 않음\n",
    "    - 객체 속성에 접근 불가(클래스 속성에만 접근 가능)\n",
    "    - 정적 메서드는 메서드 앞에 `@staticmethod`라는 데코레이터를 넣어야 함\n",
    "    - `클래스명.정적메서드명` 또는 `객체명.정적메서드명` 둘 다 호출 가능"
   ]
  },
  {
   "cell_type": "code",
   "execution_count": 92,
   "id": "9a84e1ea",
   "metadata": {},
   "outputs": [],
   "source": [
    "class Figure:\n",
    "    color = 'red' # 클래스 속성\n",
    "    \n",
    "    def __init__(self, width, height):\n",
    "        self.width = width # 객체 속성\n",
    "        self.height = height\n",
    "    \n",
    "    @staticmethod         # 정적 메서드\n",
    "    def get_width():\n",
    "        print(Figure.color)"
   ]
  },
  {
   "cell_type": "markdown",
   "id": "17f9ffee",
   "metadata": {},
   "source": [
    "- 클래스 메서드(class method): 해달 calss 안에서 호출(객체에서 호출되지 않고 직접 클래스 자체에서 호출)\n",
    "    - self 파라미터 대신 `cls` 파라미터를 가짐\n",
    "    - 클래스 변수 접근 가능하며 `cls.클래스변수명`으로 가능\n",
    "        - 객체 속성/메서드는 접근 불가\n",
    "    - 클래스 메서드는 메서드 앞에 `@classmethod`라는 데코레이터를 넣어야 함\n",
    "    - `클래스명.클래스메서드명` 또는 `객체명.클래스메서드명` 둘 다 호출 가능"
   ]
  },
  {
   "cell_type": "code",
   "execution_count": 93,
   "id": "0129b1eb",
   "metadata": {},
   "outputs": [],
   "source": [
    "class Figure:\n",
    "    color = 'red' # 클래스 속성\n",
    "    \n",
    "    def __init__(self, width, height):\n",
    "        self.width = width # 객체 속성\n",
    "        self.height = height\n",
    "    \n",
    "    @staticmethod         # 정적 메서드\n",
    "    def get_width():\n",
    "        print(Figure.color)\n",
    "        \n",
    "    @classmethod\n",
    "    def print_width(cls):\n",
    "        print(cls.color)"
   ]
  },
  {
   "cell_type": "markdown",
   "id": "2c7a0a77",
   "metadata": {},
   "source": [
    "## 다형성"
   ]
  },
  {
   "cell_type": "markdown",
   "id": "7e46c36c",
   "metadata": {},
   "source": [
    "- 같은 모양의 코드가 다른 동작을 하는 것\n",
    "    - ex) \n",
    "        - push(keyboard): 키보드를 누른다는 동일한 코드에 대해\n",
    "        - Enter, ESC, F1 등 실제 키에 따라 동작이 다른 것\n",
    "- 다형성은 코드의 양을 줄이고, 여러 객체 타입을 하나의 타입으로 관리가 가능하여 유지보수에 좋음\n",
    "- 메서드 오버라이드도 다형성의 한 예"
   ]
  },
  {
   "cell_type": "code",
   "execution_count": 98,
   "id": "3b6548f3",
   "metadata": {},
   "outputs": [
    {
     "name": "stdout",
     "output_type": "stream",
     "text": [
      "Kim study hard\n",
      "Lee study hard\n",
      "Park study hard\n",
      "Lim play hard\n",
      "Jang play hard\n",
      "Jung play hard\n"
     ]
    }
   ],
   "source": [
    "class Student1:\n",
    "    def __init__(self, name):\n",
    "        self.name = name\n",
    "    def study(self):\n",
    "        print(self.name, 'study hard')\n",
    "\n",
    "class Student2:\n",
    "    def __init__(self, name):\n",
    "        self.name = name\n",
    "    def study(self):\n",
    "        print(self.name, 'play hard')\n",
    "\n",
    "s1 = Student1('Kim')\n",
    "s2 = Student1('Lee')\n",
    "s3 = Student1('Park')\n",
    "s4 = Student2('Lim')\n",
    "s5 = Student2('Jang')\n",
    "s6 = Student2('Jung')\n",
    "\n",
    "s = [s1, s2, s3, s4, s5, s6]\n",
    "\n",
    "# 객체 타입에 따라 코드는 동일하지만 실제 호출되는 메서드는 다름\n",
    "for student in s:\n",
    "    student.study()\n"
   ]
  },
  {
   "cell_type": "markdown",
   "id": "38067263",
   "metadata": {},
   "source": [
    "## 연산자 중복 정의(Operator Overloading)"
   ]
  },
  {
   "cell_type": "markdown",
   "id": "309da660",
   "metadata": {},
   "source": [
    "- 객체에서 필요한 연산자를 재정의하는 것\n",
    "- 연산자 중복을 위해 미리 정의된 특별한 메서드 존재\n",
    "    - `__메서드__` 형태\n",
    "- 해당 메서드를 구현하면, 객체에 여러가지 파이썬 내장 함수나 연산자를 재정의하여 사용 가능"
   ]
  },
  {
   "cell_type": "code",
   "execution_count": 107,
   "id": "55b926f1",
   "metadata": {},
   "outputs": [],
   "source": [
    "class Figure:\n",
    "    def __init__(self, w, h):\n",
    "        self.width = w\n",
    "        self.height = h\n",
    "\n",
    "class Quadrangle:\n",
    "    def __init__(self, w, h):\n",
    "        self.width = w\n",
    "        self.height = h\n",
    "    \n",
    "    def __add__(self, second):\n",
    "        return Quadrangle(self.width + second.width, self.height + second.height)"
   ]
  },
  {
   "cell_type": "code",
   "execution_count": 111,
   "id": "51a98703",
   "metadata": {},
   "outputs": [
    {
     "data": {
      "text/plain": [
       "(6, 7)"
      ]
     },
     "execution_count": 111,
     "metadata": {},
     "output_type": "execute_result"
    }
   ],
   "source": [
    "re1 = Quadrangle(2, 3)\n",
    "fi1 = Figure(4, 4)\n",
    "re2 = re1 + fi1\n",
    "re2.width, re2.height"
   ]
  },
  {
   "cell_type": "markdown",
   "id": "f8baf7ce",
   "metadata": {},
   "source": [
    "## 다중 상속"
   ]
  },
  {
   "cell_type": "markdown",
   "id": "ac781f85",
   "metadata": {},
   "source": [
    "- 다중 상속: 2개 이상의 클래스를 상속하는 경우\n",
    "- 상속받은 모든 클래스의 속성과 메소드 사용 가능\n",
    "- 다중 상속된 클래스의 나열 순서가 자식 클래스의 속성 호출에 영향을 줌\n",
    "    - 상속된 클래스 중 앞에 나열된 클래스부터 속성을 찾음"
   ]
  },
  {
   "cell_type": "code",
   "execution_count": 116,
   "id": "24837d98",
   "metadata": {},
   "outputs": [],
   "source": [
    "class Student():\n",
    "    def study(self):\n",
    "        print('study hard')\n",
    "    \n",
    "    def play(self):\n",
    "        print('play with friends')\n",
    "\n",
    "class Worker():\n",
    "    def work(self):\n",
    "        print('work hard')\n",
    "    \n",
    "    def play(self):\n",
    "        print('drink alone')\n",
    "\n",
    "class PartTimer(Student, Worker):\n",
    "    pass\n",
    "\n",
    "class Saladent(Worker, Student):\n",
    "    pass"
   ]
  },
  {
   "cell_type": "code",
   "execution_count": 117,
   "id": "e77c36f3",
   "metadata": {},
   "outputs": [
    {
     "name": "stdout",
     "output_type": "stream",
     "text": [
      "study hard\n",
      "work hard\n",
      "play with friends\n",
      "play with friends\n",
      "drink alone\n"
     ]
    }
   ],
   "source": [
    "p = PartTimer()\n",
    "s = Saladent()\n",
    "p.study()\n",
    "p.work()\n",
    "p.play()\n",
    "p.play()\n",
    "s.play()"
   ]
  },
  {
   "cell_type": "markdown",
   "id": "845fdc77",
   "metadata": {},
   "source": [
    "## 포함(Composition)"
   ]
  },
  {
   "cell_type": "markdown",
   "id": "827b88e4",
   "metadata": {},
   "source": [
    "- 다른 클래스의 일부 기능을 그대로 이용하고 싶으나, 전체 기능 상속은 피하고 싶을 때 사용\n",
    "- composition 또는 aggregation 이라고 함\n",
    "- 컴포지션은 명시적 선언, 상속은 암시적 선언"
   ]
  },
  {
   "cell_type": "code",
   "execution_count": 129,
   "id": "c4fa14b5",
   "metadata": {},
   "outputs": [],
   "source": [
    "class Cal1:\n",
    "    def __init__(self, x, y):\n",
    "        self.x = x\n",
    "        self.y = y\n",
    "    \n",
    "    def add(self):\n",
    "        return self.x + self.y\n",
    "\n",
    "class Cal2:\n",
    "    def __init__(self, x, y):\n",
    "        self.x = x\n",
    "        self.y = y\n",
    "    \n",
    "    def sub(self):\n",
    "        return self.x - self.y"
   ]
  },
  {
   "cell_type": "markdown",
   "id": "1ae9ec47",
   "metadata": {},
   "source": [
    "cal2클래스에서 cal1의 add() 메서드를 활용하고 싶지만, 전체를 상속받고 싶지는 않을 때"
   ]
  },
  {
   "cell_type": "code",
   "execution_count": 136,
   "id": "c1028bf0",
   "metadata": {},
   "outputs": [],
   "source": [
    "class Cal2:\n",
    "    def __init__(self, x, y):\n",
    "        self.x = x\n",
    "        self.y = y\n",
    "        self.cal1 = Cal1(x, y) # 해당 클래스의 객체를 생성\n",
    "    \n",
    "    def sub(self):\n",
    "        return self.x - self.y\n",
    "    \n",
    "    def add(self):\n",
    "        return self.cal1.add() # 명시적으로 해당 클래스의 객체에 있는 메서드를 활용"
   ]
  },
  {
   "cell_type": "code",
   "execution_count": 137,
   "id": "d6cd027c",
   "metadata": {},
   "outputs": [
    {
     "data": {
      "text/plain": [
       "7"
      ]
     },
     "execution_count": 137,
     "metadata": {},
     "output_type": "execute_result"
    }
   ],
   "source": [
    "cal2 = Cal2(3, 4)\n",
    "cal2.add()"
   ]
  },
  {
   "cell_type": "markdown",
   "id": "c94b01e0",
   "metadata": {},
   "source": [
    "## [5가지 클래스 설계의 원칙 S.O.L.I.D](https://www.fun-coding.org/PL&OOP2-1.html)\n"
   ]
  },
  {
   "cell_type": "markdown",
   "id": "44881f2d",
   "metadata": {},
   "source": [
    "## [디자인 패턴](https://www.fun-coding.org/PL&OOP2-2.html)"
   ]
  },
  {
   "cell_type": "markdown",
   "id": "9d793fee",
   "metadata": {},
   "source": [
    "## 파이썬만의 특별한 클래스 작성 기법(namedtuple)"
   ]
  },
  {
   "cell_type": "markdown",
   "id": "ca3603ab",
   "metadata": {},
   "source": [
    "- collections.namedtuple\n",
    "    - 클래스 없이 객체를 생성할 수 있는 방법\n",
    "    - tuple 클래스를 활용\n",
    "    - 속성만 있는 클래스의 경우만 해당됨"
   ]
  },
  {
   "cell_type": "code",
   "execution_count": 138,
   "id": "e316bded",
   "metadata": {},
   "outputs": [],
   "source": [
    "import collections"
   ]
  },
  {
   "cell_type": "code",
   "execution_count": 143,
   "id": "eb2e65db",
   "metadata": {},
   "outputs": [],
   "source": [
    "Employee = collections.namedtuple('Person', ['name', 'id'])\n",
    "#or\n",
    "Employee = collections.namedtuple('Person', 'name, id')\n",
    "employee = Employee('Kim', '2222')"
   ]
  },
  {
   "cell_type": "code",
   "execution_count": 147,
   "id": "eb889ce8",
   "metadata": {},
   "outputs": [
    {
     "data": {
      "text/plain": [
       "(Person(name='Kim', id='2222'), 'Kim', '2222')"
      ]
     },
     "execution_count": 147,
     "metadata": {},
     "output_type": "execute_result"
    }
   ],
   "source": [
    "employee, employee.name, employee.id"
   ]
  },
  {
   "cell_type": "code",
   "execution_count": 148,
   "id": "fdc53477",
   "metadata": {},
   "outputs": [
    {
     "data": {
      "text/plain": [
       "__main__.Person"
      ]
     },
     "execution_count": 148,
     "metadata": {},
     "output_type": "execute_result"
    }
   ],
   "source": [
    "type(employee) # 인수 Person이 그 자체로 클래스가 됨"
   ]
  },
  {
   "cell_type": "code",
   "execution_count": 150,
   "id": "926e876f",
   "metadata": {},
   "outputs": [
    {
     "data": {
      "text/plain": [
       "Person(name='Kim', id='3333')"
      ]
     },
     "execution_count": 150,
     "metadata": {},
     "output_type": "execute_result"
    }
   ],
   "source": [
    "# 보통 다음과 같이 동일한 클래스 이름을 사용\n",
    "Person = collections.namedtuple('Person', ['name', 'id'])\n",
    "person = Person('Kim', '3333')\n",
    "person"
   ]
  }
 ],
 "metadata": {
  "kernelspec": {
   "display_name": "Python 3",
   "language": "python",
   "name": "python3"
  },
  "language_info": {
   "codemirror_mode": {
    "name": "ipython",
    "version": 3
   },
   "file_extension": ".py",
   "mimetype": "text/x-python",
   "name": "python",
   "nbconvert_exporter": "python",
   "pygments_lexer": "ipython3",
   "version": "3.8.8"
  },
  "toc": {
   "base_numbering": 1,
   "nav_menu": {},
   "number_sections": true,
   "sideBar": true,
   "skip_h1_title": false,
   "title_cell": "Table of Contents",
   "title_sidebar": "Contents",
   "toc_cell": false,
   "toc_position": {},
   "toc_section_display": true,
   "toc_window_display": true
  }
 },
 "nbformat": 4,
 "nbformat_minor": 5
}
